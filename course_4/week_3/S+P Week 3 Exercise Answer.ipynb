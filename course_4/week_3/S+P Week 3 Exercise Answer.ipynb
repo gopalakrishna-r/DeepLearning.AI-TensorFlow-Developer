{
  "cells": [
    {
      "cell_type": "code",
      "execution_count": 1,
      "source": [
        "#@title Licensed under the Apache License, Version 2.0 (the \"License\");\r\n",
        "# you may not use this file except in compliance with the License.\r\n",
        "# You may obtain a copy of the License at\r\n",
        "#\r\n",
        "# https://www.apache.org/licenses/LICENSE-2.0\r\n",
        "#\r\n",
        "# Unless required by applicable law or agreed to in writing, software\r\n",
        "# distributed under the License is distributed on an \"AS IS\" BASIS,\r\n",
        "# WITHOUT WARRANTIES OR CONDITIONS OF ANY KIND, either express or implied.\r\n",
        "# See the License for the specific language governing permissions and\r\n",
        "# limitations under the License."
      ],
      "outputs": [],
      "metadata": {
        "id": "zX4Kg8DUTKWO",
        "colab_type": "code",
        "colab": {}
      }
    },
    {
      "cell_type": "code",
      "execution_count": 2,
      "source": [
        "!pip install tf-nightly-2.0-preview\r\n"
      ],
      "outputs": [
        {
          "output_type": "stream",
          "name": "stderr",
          "text": [
            "ERROR: Could not find a version that satisfies the requirement tf-nightly-2.0-preview (from versions: none)\n",
            "ERROR: No matching distribution found for tf-nightly-2.0-preview\n",
            "WARNING: You are using pip version 20.2.3; however, version 21.2.2 is available.\n",
            "You should consider upgrading via the 'c:\\users\\goofy\\d2l\\scripts\\python.exe -m pip install --upgrade pip' command.\n"
          ]
        }
      ],
      "metadata": {
        "colab": {},
        "colab_type": "code",
        "id": "D1J15Vh_1Jih"
      }
    },
    {
      "cell_type": "code",
      "execution_count": 3,
      "source": [
        "import tensorflow as tf\r\n",
        "import numpy as np\r\n",
        "import matplotlib.pyplot as plt\r\n",
        "print(tf.__version__)"
      ],
      "outputs": [],
      "metadata": {
        "colab": {},
        "colab_type": "code",
        "id": "BOjujz601HcS"
      }
    },
    {
      "cell_type": "code",
      "execution_count": null,
      "source": [
        "def plot_series(time, series, format=\"-\", start=0, end=None):\r\n",
        "    plt.plot(time[start:end], series[start:end], format)\r\n",
        "    plt.xlabel(\"Time\")\r\n",
        "    plt.ylabel(\"Value\")\r\n",
        "    plt.grid(False)\r\n",
        "\r\n",
        "def trend(time, slope=0):\r\n",
        "    return slope * time\r\n",
        "\r\n",
        "def seasonal_pattern(season_time):\r\n",
        "    \"\"\"Just an arbitrary pattern, you can change it if you wish\"\"\"\r\n",
        "    return np.where(season_time < 0.1,\r\n",
        "                    np.cos(season_time * 6 * np.pi),\r\n",
        "                    2 / np.exp(9 * season_time))\r\n",
        "\r\n",
        "def seasonality(time, period, amplitude=1, phase=0):\r\n",
        "    \"\"\"Repeats the same pattern at each period\"\"\"\r\n",
        "    season_time = ((time + phase) % period) / period\r\n",
        "    return amplitude * seasonal_pattern(season_time)\r\n",
        "\r\n",
        "def noise(time, noise_level=1, seed=None):\r\n",
        "    rnd = np.random.RandomState(seed)\r\n",
        "    return rnd.randn(len(time)) * noise_level\r\n",
        "\r\n",
        "time = np.arange(10 * 365 + 1, dtype=\"float32\")\r\n",
        "baseline = 10\r\n",
        "series = trend(time, 0.1)  \r\n",
        "baseline = 10\r\n",
        "amplitude = 40\r\n",
        "slope = 0.005\r\n",
        "noise_level = 3\r\n",
        "\r\n",
        "# Create the series\r\n",
        "series = baseline + trend(time, slope) + seasonality(time, period=365, amplitude=amplitude)\r\n",
        "# Update with noise\r\n",
        "series += noise(time, noise_level, seed=51)\r\n",
        "\r\n",
        "split_time = 3000\r\n",
        "time_train = time[:split_time]\r\n",
        "x_train = series[:split_time]\r\n",
        "time_valid = time[split_time:]\r\n",
        "x_valid = series[split_time:]\r\n",
        "\r\n",
        "window_size = 20\r\n",
        "batch_size = 32\r\n",
        "shuffle_buffer_size = 1000\r\n",
        "\r\n",
        "plot_series(time, series)"
      ],
      "outputs": [],
      "metadata": {
        "colab": {},
        "colab_type": "code",
        "id": "Zswl7jRtGzkk"
      }
    },
    {
      "cell_type": "code",
      "execution_count": null,
      "source": [
        "def windowed_dataset(series, window_size, batch_size, shuffle_buffer):\r\n",
        "  dataset = tf.data.Dataset.from_tensor_slices(series)\r\n",
        "  dataset = dataset.window(window_size + 1, shift=1, drop_remainder=True)\r\n",
        "  dataset = dataset.flat_map(lambda window: window.batch(window_size + 1))\r\n",
        "  dataset = dataset.shuffle(shuffle_buffer).map(lambda window: (window[:-1], window[-1]))\r\n",
        "  dataset = dataset.batch(batch_size).prefetch(1)\r\n",
        "  return dataset"
      ],
      "outputs": [],
      "metadata": {
        "colab": {},
        "colab_type": "code",
        "id": "4sTTIOCbyShY"
      }
    },
    {
      "cell_type": "code",
      "execution_count": null,
      "source": [
        "tf.keras.backend.clear_session()\r\n",
        "tf.random.set_seed(51)\r\n",
        "np.random.seed(51)\r\n",
        "\r\n",
        "tf.keras.backend.clear_session()\r\n",
        "dataset = windowed_dataset(x_train, window_size, batch_size, shuffle_buffer_size)\r\n",
        "\r\n",
        "model = tf.keras.models.Sequential([\r\n",
        "  tf.keras.layers.Lambda(lambda x: tf.expand_dims(x, axis=-1),\r\n",
        "                      input_shape=[None]),\r\n",
        "  tf.keras.layers.Bidirectional(tf.keras.layers.LSTM(32, return_sequences=True)),\r\n",
        "  tf.keras.layers.Bidirectional(tf.keras.layers.LSTM(32)),\r\n",
        "  tf.keras.layers.Dense(1),\r\n",
        "  tf.keras.layers.Lambda(lambda x: x * 10.0)\r\n",
        "])\r\n",
        "\r\n",
        "lr_schedule = tf.keras.callbacks.LearningRateScheduler(\r\n",
        "    lambda epoch: 1e-8 * 10**(epoch / 20))\r\n",
        "optimizer = tf.keras.optimizers.SGD(lr=1e-8, momentum=0.9)\r\n",
        "model.compile(loss=tf.keras.losses.Huber(),\r\n",
        "              optimizer=optimizer,\r\n",
        "              metrics=[\"mae\"])\r\n",
        "history = model.fit(dataset, epochs=100, callbacks=[lr_schedule])"
      ],
      "outputs": [],
      "metadata": {
        "colab": {},
        "colab_type": "code",
        "id": "A1Hl39rklkLm"
      }
    },
    {
      "cell_type": "code",
      "execution_count": null,
      "source": [
        "plt.semilogx(history.history[\"lr\"], history.history[\"loss\"])\r\n",
        "plt.axis([1e-8, 1e-4, 0, 30])"
      ],
      "outputs": [],
      "metadata": {
        "colab": {},
        "colab_type": "code",
        "id": "AkBsrsXMzoWR"
      }
    },
    {
      "cell_type": "code",
      "execution_count": null,
      "source": [
        "tf.keras.backend.clear_session()\r\n",
        "tf.random.set_seed(51)\r\n",
        "np.random.seed(51)\r\n",
        "\r\n",
        "tf.keras.backend.clear_session()\r\n",
        "dataset = windowed_dataset(x_train, window_size, batch_size, shuffle_buffer_size)\r\n",
        "\r\n",
        "model = tf.keras.models.Sequential([\r\n",
        "  tf.keras.layers.Lambda(lambda x: tf.expand_dims(x, axis=-1),\r\n",
        "                      input_shape=[None]),\r\n",
        "   tf.keras.layers.Bidirectional(tf.keras.layers.LSTM(32, return_sequences=True)),\r\n",
        "  tf.keras.layers.Bidirectional(tf.keras.layers.LSTM(32)),\r\n",
        "  tf.keras.layers.Dense(1),\r\n",
        "  tf.keras.layers.Lambda(lambda x: x * 100.0)\r\n",
        "])\r\n",
        "\r\n",
        "\r\n",
        "model.compile(loss=\"mse\", optimizer=tf.keras.optimizers.SGD(lr=1e-5, momentum=0.9),metrics=[\"mae\"])\r\n",
        "history = model.fit(dataset,epochs=500,verbose=1)"
      ],
      "outputs": [],
      "metadata": {
        "colab": {},
        "colab_type": "code",
        "id": "4uh-97bpLZCA"
      }
    },
    {
      "cell_type": "code",
      "execution_count": null,
      "source": [
        "forecast = []\r\n",
        "results = []\r\n",
        "for time in range(len(series) - window_size):\r\n",
        "  forecast.append(model.predict(series[time:time + window_size][np.newaxis]))\r\n",
        "\r\n",
        "forecast = forecast[split_time-window_size:]\r\n",
        "results = np.array(forecast)[:, 0, 0]\r\n",
        "\r\n",
        "\r\n",
        "plt.figure(figsize=(10, 6))\r\n",
        "\r\n",
        "plot_series(time_valid, x_valid)\r\n",
        "plot_series(time_valid, results)"
      ],
      "outputs": [],
      "metadata": {
        "colab": {},
        "colab_type": "code",
        "id": "icGDaND7z0ne"
      }
    },
    {
      "cell_type": "code",
      "execution_count": null,
      "source": [
        "tf.keras.metrics.mean_absolute_error(x_valid, results).numpy()"
      ],
      "outputs": [],
      "metadata": {
        "colab": {},
        "colab_type": "code",
        "id": "KfPeqI7rz4LD"
      }
    },
    {
      "cell_type": "code",
      "execution_count": null,
      "source": [
        "import matplotlib.image  as mpimg\r\n",
        "import matplotlib.pyplot as plt\r\n",
        "\r\n",
        "#-----------------------------------------------------------\r\n",
        "# Retrieve a list of list results on training and test data\r\n",
        "# sets for each training epoch\r\n",
        "#-----------------------------------------------------------\r\n",
        "mae=history.history['mae']\r\n",
        "loss=history.history['loss']\r\n",
        "\r\n",
        "epochs=range(len(loss)) # Get number of epochs\r\n",
        "\r\n",
        "#------------------------------------------------\r\n",
        "# Plot MAE and Loss\r\n",
        "#------------------------------------------------\r\n",
        "plt.plot(epochs, mae, 'r')\r\n",
        "plt.plot(epochs, loss, 'b')\r\n",
        "plt.title('MAE and Loss')\r\n",
        "plt.xlabel(\"Epochs\")\r\n",
        "plt.ylabel(\"Accuracy\")\r\n",
        "plt.legend([\"MAE\", \"Loss\"])\r\n",
        "\r\n",
        "plt.figure()\r\n",
        "\r\n",
        "epochs_zoom = epochs[200:]\r\n",
        "mae_zoom = mae[200:]\r\n",
        "loss_zoom = loss[200:]\r\n",
        "\r\n",
        "#------------------------------------------------\r\n",
        "# Plot Zoomed MAE and Loss\r\n",
        "#------------------------------------------------\r\n",
        "plt.plot(epochs_zoom, mae_zoom, 'r')\r\n",
        "plt.plot(epochs_zoom, loss_zoom, 'b')\r\n",
        "plt.title('MAE and Loss')\r\n",
        "plt.xlabel(\"Epochs\")\r\n",
        "plt.ylabel(\"Accuracy\")\r\n",
        "plt.legend([\"MAE\", \"Loss\"])\r\n",
        "\r\n",
        "plt.figure()"
      ],
      "outputs": [],
      "metadata": {
        "colab": {},
        "colab_type": "code",
        "id": "JUsdZB_tzDLe"
      }
    }
  ],
  "metadata": {
    "accelerator": "GPU",
    "colab": {
      "collapsed_sections": [],
      "name": "S+P Week 3 Exercise Answer.ipynb",
      "provenance": [],
      "toc_visible": true,
      "version": "0.3.2"
    },
    "kernelspec": {
      "name": "python3",
      "display_name": "Python 3.7.9 64-bit"
    },
    "language_info": {
      "name": "python",
      "version": "3.7.9",
      "mimetype": "text/x-python",
      "codemirror_mode": {
        "name": "ipython",
        "version": 3
      },
      "pygments_lexer": "ipython3",
      "nbconvert_exporter": "python",
      "file_extension": ".py"
    },
    "interpreter": {
      "hash": "360eb45faca1e4dfefc4f13aa9499776008d91528b4d443d812d58097d713eb4"
    }
  },
  "nbformat": 4,
  "nbformat_minor": 2
}