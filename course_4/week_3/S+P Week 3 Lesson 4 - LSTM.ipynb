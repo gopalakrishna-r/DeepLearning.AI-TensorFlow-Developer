{
  "cells": [
    {
      "cell_type": "code",
      "execution_count": 1,
<<<<<<< HEAD
<<<<<<< HEAD
      "metadata": {
        "colab": {},
        "colab_type": "code",
        "id": "zX4Kg8DUTKWO"
      },
      "outputs": [],
      "source": [
        "#@title Licensed under the Apache License, Version 2.0 (the \"License\");\n",
        "# you may not use this file except in compliance with the License.\n",
        "# You may obtain a copy of the License at\n",
        "#\n",
        "# https://www.apache.org/licenses/LICENSE-2.0\n",
        "#\n",
        "# Unless required by applicable law or agreed to in writing, software\n",
        "# distributed under the License is distributed on an \"AS IS\" BASIS,\n",
        "# WITHOUT WARRANTIES OR CONDITIONS OF ANY KIND, either express or implied.\n",
        "# See the License for the specific language governing permissions and\n",
        "# limitations under the License."
      ]
=======
=======
>>>>>>> origin/main
      "source": [
        "#@title Licensed under the Apache License, Version 2.0 (the \"License\");\r\n",
        "# you may not use this file except in compliance with the License.\r\n",
        "# You may obtain a copy of the License at\r\n",
        "#\r\n",
        "# https://www.apache.org/licenses/LICENSE-2.0\r\n",
        "#\r\n",
        "# Unless required by applicable law or agreed to in writing, software\r\n",
        "# distributed under the License is distributed on an \"AS IS\" BASIS,\r\n",
        "# WITHOUT WARRANTIES OR CONDITIONS OF ANY KIND, either express or implied.\r\n",
        "# See the License for the specific language governing permissions and\r\n",
        "# limitations under the License."
      ],
      "outputs": [],
      "metadata": {
        "id": "zX4Kg8DUTKWO",
        "colab_type": "code",
        "colab": {}
      }
<<<<<<< HEAD
>>>>>>> 34e6b21abfc5b069204bb7f9f57f96b96d215fc6
=======
>>>>>>> origin/main
    },
    {
      "cell_type": "code",
      "execution_count": 2,
<<<<<<< HEAD
<<<<<<< HEAD
=======
=======
>>>>>>> origin/main
      "source": [
        "!pip install tf-nightly-2.0-preview\r\n"
      ],
      "outputs": [
        {
          "output_type": "stream",
          "name": "stderr",
          "text": [
            "ERROR: Could not find a version that satisfies the requirement tf-nightly-2.0-preview (from versions: none)\n",
            "ERROR: No matching distribution found for tf-nightly-2.0-preview\n",
            "WARNING: You are using pip version 20.2.3; however, version 21.2.2 is available.\n",
            "You should consider upgrading via the 'c:\\users\\goofy\\d2l\\scripts\\python.exe -m pip install --upgrade pip' command.\n"
          ]
        }
      ],
<<<<<<< HEAD
>>>>>>> 34e6b21abfc5b069204bb7f9f57f96b96d215fc6
=======
>>>>>>> origin/main
      "metadata": {
        "colab": {},
        "colab_type": "code",
        "id": "D1J15Vh_1Jih"
<<<<<<< HEAD
<<<<<<< HEAD
      },
      "outputs": [
        {
          "name": "stdout",
          "output_type": "stream",
          "text": [
            "Looking in indexes: https://pypi.org/simple, https://pypi.ngc.nvidia.com\n"
          ]
        },
        {
          "name": "stderr",
          "output_type": "stream",
          "text": [
            "WARNING: Ignoring invalid distribution -rotobuf (c:\\users\\goofy\\appdata\\local\\programs\\python\\python38\\lib\\site-packages)\n",
            "WARNING: Ignoring invalid distribution -rotobuf (c:\\users\\goofy\\appdata\\local\\programs\\python\\python38\\lib\\site-packages)\n",
            "ERROR: Could not find a version that satisfies the requirement tf-nightly-2.0-preview (from versions: none)\n",
            "ERROR: No matching distribution found for tf-nightly-2.0-preview\n",
            "WARNING: Ignoring invalid distribution -rotobuf (c:\\users\\goofy\\appdata\\local\\programs\\python\\python38\\lib\\site-packages)\n",
            "WARNING: Ignoring invalid distribution -rotobuf (c:\\users\\goofy\\appdata\\local\\programs\\python\\python38\\lib\\site-packages)\n",
            "WARNING: Ignoring invalid distribution -rotobuf (c:\\users\\goofy\\appdata\\local\\programs\\python\\python38\\lib\\site-packages)\n",
            "WARNING: You are using pip version 22.0.4; however, version 22.3.1 is available.\n",
            "You should consider upgrading via the 'c:\\users\\goofy\\appdata\\local\\programs\\python\\python38\\python.exe -m pip install --upgrade pip' command.\n"
          ]
        }
      ],
      "source": [
        "!pip install tf-nightly-2.0-preview\n"
      ]
=======
      }
>>>>>>> 34e6b21abfc5b069204bb7f9f57f96b96d215fc6
=======
      }
>>>>>>> origin/main
    },
    {
      "cell_type": "code",
      "execution_count": 3,
<<<<<<< HEAD
<<<<<<< HEAD
=======
=======
>>>>>>> origin/main
      "source": [
        "import tensorflow as tf\r\n",
        "import numpy as np\r\n",
        "import matplotlib.pyplot as plt\r\n",
        "print(tf.__version__)"
      ],
      "outputs": [
        {
          "output_type": "stream",
          "name": "stdout",
          "text": [
            "2.3.0\n"
          ]
        }
      ],
<<<<<<< HEAD
>>>>>>> 34e6b21abfc5b069204bb7f9f57f96b96d215fc6
=======
>>>>>>> origin/main
      "metadata": {
        "colab": {
          "base_uri": "https://localhost:8080/",
          "height": 35
        },
        "colab_type": "code",
        "id": "BOjujz601HcS",
        "outputId": "aa0651c4-b24e-4e1e-936c-e31004fa751b"
<<<<<<< HEAD
<<<<<<< HEAD
      },
      "outputs": [
        {
          "name": "stdout",
          "output_type": "stream",
          "text": [
            "2.7.4\n"
          ]
        }
      ],
      "source": [
        "import tensorflow as tf\n",
        "import numpy as np\n",
        "import matplotlib.pyplot as plt\n",
        "print(tf.__version__)"
      ]
=======
      }
>>>>>>> 34e6b21abfc5b069204bb7f9f57f96b96d215fc6
=======
      }
>>>>>>> origin/main
    },
    {
      "cell_type": "code",
      "execution_count": 4,
<<<<<<< HEAD
<<<<<<< HEAD
=======
=======
>>>>>>> origin/main
      "source": [
        "def plot_series(time, series, format=\"-\", start=0, end=None):\r\n",
        "    plt.plot(time[start:end], series[start:end], format)\r\n",
        "    plt.xlabel(\"Time\")\r\n",
        "    plt.ylabel(\"Value\")\r\n",
        "    plt.grid(True)\r\n",
        "\r\n",
        "def trend(time, slope=0):\r\n",
        "    return slope * time\r\n",
        "\r\n",
        "def seasonal_pattern(season_time):\r\n",
        "    \"\"\"Just an arbitrary pattern, you can change it if you wish\"\"\"\r\n",
        "    return np.where(season_time < 0.4,\r\n",
        "                    np.cos(season_time * 2 * np.pi),\r\n",
        "                    1 / np.exp(3 * season_time))\r\n",
        "\r\n",
        "def seasonality(time, period, amplitude=1, phase=0):\r\n",
        "    \"\"\"Repeats the same pattern at each period\"\"\"\r\n",
        "    season_time = ((time + phase) % period) / period\r\n",
        "    return amplitude * seasonal_pattern(season_time)\r\n",
        "\r\n",
        "def noise(time, noise_level=1, seed=None):\r\n",
        "    rnd = np.random.RandomState(seed)\r\n",
        "    return rnd.randn(len(time)) * noise_level\r\n",
        "\r\n",
        "time = np.arange(4 * 365 + 1, dtype=\"float32\")\r\n",
        "baseline = 10\r\n",
        "series = trend(time, 0.1)  \r\n",
        "baseline = 10\r\n",
        "amplitude = 40\r\n",
        "slope = 0.05\r\n",
        "noise_level = 5\r\n",
        "\r\n",
        "# Create the series\r\n",
        "series = baseline + trend(time, slope) + seasonality(time, period=365, amplitude=amplitude)\r\n",
        "# Update with noise\r\n",
        "series += noise(time, noise_level, seed=42)\r\n",
        "\r\n",
        "split_time = 1000\r\n",
        "time_train = time[:split_time]\r\n",
        "x_train = series[:split_time]\r\n",
        "time_valid = time[split_time:]\r\n",
        "x_valid = series[split_time:]\r\n",
        "\r\n",
        "window_size = 20\r\n",
        "batch_size = 32\r\n",
        "shuffle_buffer_size = 1000"
      ],
      "outputs": [],
<<<<<<< HEAD
>>>>>>> 34e6b21abfc5b069204bb7f9f57f96b96d215fc6
=======
>>>>>>> origin/main
      "metadata": {
        "colab": {},
        "colab_type": "code",
        "id": "Zswl7jRtGzkk"
<<<<<<< HEAD
<<<<<<< HEAD
      },
      "outputs": [],
      "source": [
        "def plot_series(time, series, format=\"-\", start=0, end=None):\n",
        "    plt.plot(time[start:end], series[start:end], format)\n",
        "    plt.xlabel(\"Time\")\n",
        "    plt.ylabel(\"Value\")\n",
        "    plt.grid(True)\n",
        "\n",
        "def trend(time, slope=0):\n",
        "    return slope * time\n",
        "\n",
        "def seasonal_pattern(season_time):\n",
        "    \"\"\"Just an arbitrary pattern, you can change it if you wish\"\"\"\n",
        "    return np.where(season_time < 0.4,\n",
        "                    np.cos(season_time * 2 * np.pi),\n",
        "                    1 / np.exp(3 * season_time))\n",
        "\n",
        "def seasonality(time, period, amplitude=1, phase=0):\n",
        "    \"\"\"Repeats the same pattern at each period\"\"\"\n",
        "    season_time = ((time + phase) % period) / period\n",
        "    return amplitude * seasonal_pattern(season_time)\n",
        "\n",
        "def noise(time, noise_level=1, seed=None):\n",
        "    rnd = np.random.RandomState(seed)\n",
        "    return rnd.randn(len(time)) * noise_level\n",
        "\n",
        "time = np.arange(4 * 365 + 1, dtype=\"float32\")\n",
        "baseline = 10\n",
        "series = trend(time, 0.1)  \n",
        "baseline = 10\n",
        "amplitude = 40\n",
        "slope = 0.05\n",
        "noise_level = 5\n",
        "\n",
        "# Create the series\n",
        "series = baseline + trend(time, slope) + seasonality(time, period=365, amplitude=amplitude)\n",
        "# Update with noise\n",
        "series += noise(time, noise_level, seed=42)\n",
        "\n",
        "split_time = 1000\n",
        "time_train = time[:split_time]\n",
        "x_train = series[:split_time]\n",
        "time_valid = time[split_time:]\n",
        "x_valid = series[split_time:]\n",
        "\n",
        "window_size = 20\n",
        "batch_size = 32\n",
        "shuffle_buffer_size = 1000"
      ]
=======
      }
>>>>>>> 34e6b21abfc5b069204bb7f9f57f96b96d215fc6
=======
      }
>>>>>>> origin/main
    },
    {
      "cell_type": "code",
      "execution_count": 5,
<<<<<<< HEAD
<<<<<<< HEAD
=======
=======
>>>>>>> origin/main
      "source": [
        "def windowed_dataset(series, window_size, batch_size, shuffle_buffer):\r\n",
        "  dataset = tf.data.Dataset.from_tensor_slices(series)\r\n",
        "  dataset = dataset.window(window_size + 1, shift=1, drop_remainder=True)\r\n",
        "  dataset = dataset.flat_map(lambda window: window.batch(window_size + 1))\r\n",
        "  dataset = dataset.shuffle(shuffle_buffer).map(lambda window: (window[:-1], window[-1]))\r\n",
        "  dataset = dataset.batch(batch_size).prefetch(1)\r\n",
        "  return dataset"
      ],
      "outputs": [],
<<<<<<< HEAD
>>>>>>> 34e6b21abfc5b069204bb7f9f57f96b96d215fc6
=======
>>>>>>> origin/main
      "metadata": {
        "colab": {},
        "colab_type": "code",
        "id": "4sTTIOCbyShY"
<<<<<<< HEAD
<<<<<<< HEAD
      },
      "outputs": [],
      "source": [
        "def windowed_dataset(series, window_size, batch_size, shuffle_buffer):\n",
        "  dataset = tf.data.Dataset.from_tensor_slices(series)\n",
        "  dataset = dataset.window(window_size + 1, shift=1, drop_remainder=True)\n",
        "  dataset = dataset.flat_map(lambda window: window.batch(window_size + 1))\n",
        "  dataset = dataset.shuffle(shuffle_buffer).map(lambda window: (window[:-1], window[-1]))\n",
        "  dataset = dataset.batch(batch_size).prefetch(1)\n",
        "  return dataset"
      ]
=======
      }
>>>>>>> 34e6b21abfc5b069204bb7f9f57f96b96d215fc6
=======
      }
>>>>>>> origin/main
    },
    {
      "cell_type": "code",
      "execution_count": 6,
<<<<<<< HEAD
<<<<<<< HEAD
=======
=======
>>>>>>> origin/main
      "source": [
        "tf.keras.backend.clear_session()\r\n",
        "tf.random.set_seed(51)\r\n",
        "np.random.seed(51)\r\n",
        "\r\n",
        "tf.keras.backend.clear_session()\r\n",
        "dataset = windowed_dataset(x_train, window_size, batch_size, shuffle_buffer_size)\r\n",
        "\r\n",
        "model = tf.keras.models.Sequential([\r\n",
        "  tf.keras.layers.Lambda(lambda x: tf.expand_dims(x, axis=-1),\r\n",
        "                      input_shape=[None]),\r\n",
        "    tf.keras.layers.Bidirectional(tf.keras.layers.LSTM(32, return_sequences=True)),\r\n",
        "  tf.keras.layers.Bidirectional(tf.keras.layers.LSTM(32)),\r\n",
        "  tf.keras.layers.Dense(1),\r\n",
        "  tf.keras.layers.Lambda(lambda x: x * 100.0)\r\n",
        "])\r\n",
        "\r\n",
        "lr_schedule = tf.keras.callbacks.LearningRateScheduler(\r\n",
        "    lambda epoch: 1e-8 * 10**(epoch / 20))\r\n",
        "optimizer = tf.keras.optimizers.SGD(lr=1e-8, momentum=0.9)\r\n",
        "model.compile(loss=tf.keras.losses.Huber(),\r\n",
        "              optimizer=optimizer,\r\n",
        "              metrics=[\"mae\"])\r\n",
        "history = model.fit(dataset, epochs=100, callbacks=[lr_schedule])"
      ],
      "outputs": [
        {
          "output_type": "stream",
          "name": "stdout",
          "text": [
            "Epoch 1/100\n",
            "31/31 [==============================] - 0s 8ms/step - loss: 21.5167 - mae: 22.0115\n",
            "Epoch 2/100\n",
            "31/31 [==============================] - 0s 6ms/step - loss: 21.1522 - mae: 21.6444\n",
            "Epoch 3/100\n",
            "31/31 [==============================] - 0s 6ms/step - loss: 20.7302 - mae: 21.2236\n",
            "Epoch 4/100\n",
            "31/31 [==============================] - 0s 6ms/step - loss: 20.2834 - mae: 20.7757\n",
            "Epoch 5/100\n",
            "31/31 [==============================] - 0s 6ms/step - loss: 19.7897 - mae: 20.2855\n",
            "Epoch 6/100\n",
            "31/31 [==============================] - 0s 6ms/step - loss: 19.1782 - mae: 19.6696\n",
            "Epoch 7/100\n",
            "31/31 [==============================] - 0s 6ms/step - loss: 18.2410 - mae: 18.7333\n",
            "Epoch 8/100\n",
            "31/31 [==============================] - 0s 6ms/step - loss: 17.4825 - mae: 17.9748\n",
            "Epoch 9/100\n",
            "31/31 [==============================] - 0s 6ms/step - loss: 17.1597 - mae: 17.6529\n",
            "Epoch 10/100\n",
            "31/31 [==============================] - 0s 6ms/step - loss: 16.8547 - mae: 17.3463\n",
            "Epoch 11/100\n",
            "31/31 [==============================] - 0s 6ms/step - loss: 16.5533 - mae: 17.0471\n",
            "Epoch 12/100\n",
            "31/31 [==============================] - 0s 6ms/step - loss: 16.2565 - mae: 16.7524\n",
            "Epoch 13/100\n",
            "31/31 [==============================] - 0s 6ms/step - loss: 15.9629 - mae: 16.4598\n",
            "Epoch 14/100\n",
            "31/31 [==============================] - 0s 6ms/step - loss: 15.6593 - mae: 16.1548\n",
            "Epoch 15/100\n",
            "31/31 [==============================] - 0s 6ms/step - loss: 15.3713 - mae: 15.8652\n",
            "Epoch 16/100\n",
            "31/31 [==============================] - 0s 5ms/step - loss: 15.0752 - mae: 15.5697\n",
            "Epoch 17/100\n",
            "31/31 [==============================] - 0s 5ms/step - loss: 14.7905 - mae: 15.2869\n",
            "Epoch 18/100\n",
            "31/31 [==============================] - 0s 5ms/step - loss: 14.5229 - mae: 15.0178\n",
            "Epoch 19/100\n",
            "31/31 [==============================] - 0s 5ms/step - loss: 14.2707 - mae: 14.7636\n",
            "Epoch 20/100\n",
            "31/31 [==============================] - 0s 5ms/step - loss: 14.0293 - mae: 14.5217\n",
            "Epoch 21/100\n",
            "31/31 [==============================] - 0s 5ms/step - loss: 13.8191 - mae: 14.3135\n",
            "Epoch 22/100\n",
            "31/31 [==============================] - 0s 6ms/step - loss: 13.6084 - mae: 14.1032\n",
            "Epoch 23/100\n",
            "31/31 [==============================] - 0s 5ms/step - loss: 13.4096 - mae: 13.9038\n",
            "Epoch 24/100\n",
            "31/31 [==============================] - 0s 5ms/step - loss: 13.1859 - mae: 13.6794\n",
            "Epoch 25/100\n",
            "31/31 [==============================] - 0s 6ms/step - loss: 12.9819 - mae: 13.4747\n",
            "Epoch 26/100\n",
            "31/31 [==============================] - 0s 6ms/step - loss: 12.7278 - mae: 13.2184\n",
            "Epoch 27/100\n",
            "31/31 [==============================] - 0s 5ms/step - loss: 12.4886 - mae: 12.9799\n",
            "Epoch 28/100\n",
            "31/31 [==============================] - 0s 6ms/step - loss: 12.3459 - mae: 12.8362\n",
            "Epoch 29/100\n",
            "31/31 [==============================] - 0s 6ms/step - loss: 11.9127 - mae: 12.4017\n",
            "Epoch 30/100\n",
            "31/31 [==============================] - 0s 6ms/step - loss: 11.5934 - mae: 12.0835\n",
            "Epoch 31/100\n",
            "31/31 [==============================] - 0s 6ms/step - loss: 11.2859 - mae: 11.7771\n",
            "Epoch 32/100\n",
            "31/31 [==============================] - 0s 6ms/step - loss: 11.3520 - mae: 11.8418\n",
            "Epoch 33/100\n",
            "31/31 [==============================] - 0s 6ms/step - loss: 10.5232 - mae: 11.0139\n",
            "Epoch 34/100\n",
            "31/31 [==============================] - 0s 6ms/step - loss: 10.5497 - mae: 11.0379\n",
            "Epoch 35/100\n",
            "31/31 [==============================] - 0s 6ms/step - loss: 10.0668 - mae: 10.5519\n",
            "Epoch 36/100\n",
            "31/31 [==============================] - 0s 6ms/step - loss: 10.6441 - mae: 11.1365\n",
            "Epoch 37/100\n",
            "31/31 [==============================] - 0s 6ms/step - loss: 10.2599 - mae: 10.7508\n",
            "Epoch 38/100\n",
            "31/31 [==============================] - 0s 6ms/step - loss: 9.6809 - mae: 10.1690\n",
            "Epoch 39/100\n",
            "31/31 [==============================] - 0s 6ms/step - loss: 9.1570 - mae: 9.6415\n",
            "Epoch 40/100\n",
            "31/31 [==============================] - 0s 6ms/step - loss: 8.7006 - mae: 9.1864\n",
            "Epoch 41/100\n",
            "31/31 [==============================] - 0s 6ms/step - loss: 8.2781 - mae: 8.7634\n",
            "Epoch 42/100\n",
            "31/31 [==============================] - 0s 6ms/step - loss: 7.9342 - mae: 8.4188\n",
            "Epoch 43/100\n",
            "31/31 [==============================] - 0s 6ms/step - loss: 7.6089 - mae: 8.0929\n",
            "Epoch 44/100\n",
            "31/31 [==============================] - 0s 6ms/step - loss: 7.3644 - mae: 7.8504\n",
            "Epoch 45/100\n",
            "31/31 [==============================] - 0s 6ms/step - loss: 7.2041 - mae: 7.6876\n",
            "Epoch 46/100\n",
            "31/31 [==============================] - 0s 5ms/step - loss: 6.8904 - mae: 7.3728\n",
            "Epoch 47/100\n",
            "31/31 [==============================] - 0s 5ms/step - loss: 6.6799 - mae: 7.1634\n",
            "Epoch 48/100\n",
            "31/31 [==============================] - 0s 6ms/step - loss: 6.5775 - mae: 7.0597\n",
            "Epoch 49/100\n",
            "31/31 [==============================] - 0s 5ms/step - loss: 6.2079 - mae: 6.6840\n",
            "Epoch 50/100\n",
            "31/31 [==============================] - 0s 6ms/step - loss: 6.0391 - mae: 6.5180\n",
            "Epoch 51/100\n",
            "31/31 [==============================] - 0s 6ms/step - loss: 5.9102 - mae: 6.3880\n",
            "Epoch 52/100\n",
            "31/31 [==============================] - 0s 5ms/step - loss: 5.7769 - mae: 6.2585\n",
            "Epoch 53/100\n",
            "31/31 [==============================] - 0s 6ms/step - loss: 5.6296 - mae: 6.1098\n",
            "Epoch 54/100\n",
            "31/31 [==============================] - 0s 6ms/step - loss: 5.5201 - mae: 5.9943\n",
            "Epoch 55/100\n",
            "31/31 [==============================] - 0s 6ms/step - loss: 5.3905 - mae: 5.8627\n",
            "Epoch 56/100\n",
            "31/31 [==============================] - 0s 6ms/step - loss: 5.5555 - mae: 6.0293\n",
            "Epoch 57/100\n",
            "31/31 [==============================] - 0s 6ms/step - loss: 5.2783 - mae: 5.7561\n",
            "Epoch 58/100\n",
            "31/31 [==============================] - 0s 6ms/step - loss: 5.2566 - mae: 5.7348\n",
            "Epoch 59/100\n",
            "19/31 [=================>............] - ETA: 0s - loss: 5.0148 - mae: 5.4943"
          ]
        },
        {
          "output_type": "error",
          "ename": "KeyboardInterrupt",
          "evalue": "",
          "traceback": [
            "\u001b[1;31m---------------------------------------------------------------------------\u001b[0m",
            "\u001b[1;31mKeyboardInterrupt\u001b[0m                         Traceback (most recent call last)",
            "\u001b[1;32m<ipython-input-6-3feb08ca99f9>\u001b[0m in \u001b[0;36m<module>\u001b[1;34m\u001b[0m\n\u001b[0;32m     21\u001b[0m               \u001b[0moptimizer\u001b[0m\u001b[1;33m=\u001b[0m\u001b[0moptimizer\u001b[0m\u001b[1;33m,\u001b[0m\u001b[1;33m\u001b[0m\u001b[1;33m\u001b[0m\u001b[0m\n\u001b[0;32m     22\u001b[0m               metrics=[\"mae\"])\n\u001b[1;32m---> 23\u001b[1;33m \u001b[0mhistory\u001b[0m \u001b[1;33m=\u001b[0m \u001b[0mmodel\u001b[0m\u001b[1;33m.\u001b[0m\u001b[0mfit\u001b[0m\u001b[1;33m(\u001b[0m\u001b[0mdataset\u001b[0m\u001b[1;33m,\u001b[0m \u001b[0mepochs\u001b[0m\u001b[1;33m=\u001b[0m\u001b[1;36m100\u001b[0m\u001b[1;33m,\u001b[0m \u001b[0mcallbacks\u001b[0m\u001b[1;33m=\u001b[0m\u001b[1;33m[\u001b[0m\u001b[0mlr_schedule\u001b[0m\u001b[1;33m]\u001b[0m\u001b[1;33m)\u001b[0m\u001b[1;33m\u001b[0m\u001b[1;33m\u001b[0m\u001b[0m\n\u001b[0m",
            "\u001b[1;32m~\\d2l\\lib\\site-packages\\tensorflow\\python\\keras\\engine\\training.py\u001b[0m in \u001b[0;36m_method_wrapper\u001b[1;34m(self, *args, **kwargs)\u001b[0m\n\u001b[0;32m    106\u001b[0m   \u001b[1;32mdef\u001b[0m \u001b[0m_method_wrapper\u001b[0m\u001b[1;33m(\u001b[0m\u001b[0mself\u001b[0m\u001b[1;33m,\u001b[0m \u001b[1;33m*\u001b[0m\u001b[0margs\u001b[0m\u001b[1;33m,\u001b[0m \u001b[1;33m**\u001b[0m\u001b[0mkwargs\u001b[0m\u001b[1;33m)\u001b[0m\u001b[1;33m:\u001b[0m\u001b[1;33m\u001b[0m\u001b[1;33m\u001b[0m\u001b[0m\n\u001b[0;32m    107\u001b[0m     \u001b[1;32mif\u001b[0m \u001b[1;32mnot\u001b[0m \u001b[0mself\u001b[0m\u001b[1;33m.\u001b[0m\u001b[0m_in_multi_worker_mode\u001b[0m\u001b[1;33m(\u001b[0m\u001b[1;33m)\u001b[0m\u001b[1;33m:\u001b[0m  \u001b[1;31m# pylint: disable=protected-access\u001b[0m\u001b[1;33m\u001b[0m\u001b[1;33m\u001b[0m\u001b[0m\n\u001b[1;32m--> 108\u001b[1;33m       \u001b[1;32mreturn\u001b[0m \u001b[0mmethod\u001b[0m\u001b[1;33m(\u001b[0m\u001b[0mself\u001b[0m\u001b[1;33m,\u001b[0m \u001b[1;33m*\u001b[0m\u001b[0margs\u001b[0m\u001b[1;33m,\u001b[0m \u001b[1;33m**\u001b[0m\u001b[0mkwargs\u001b[0m\u001b[1;33m)\u001b[0m\u001b[1;33m\u001b[0m\u001b[1;33m\u001b[0m\u001b[0m\n\u001b[0m\u001b[0;32m    109\u001b[0m \u001b[1;33m\u001b[0m\u001b[0m\n\u001b[0;32m    110\u001b[0m     \u001b[1;31m# Running inside `run_distribute_coordinator` already.\u001b[0m\u001b[1;33m\u001b[0m\u001b[1;33m\u001b[0m\u001b[1;33m\u001b[0m\u001b[0m\n",
            "\u001b[1;32m~\\d2l\\lib\\site-packages\\tensorflow\\python\\keras\\engine\\training.py\u001b[0m in \u001b[0;36mfit\u001b[1;34m(self, x, y, batch_size, epochs, verbose, callbacks, validation_split, validation_data, shuffle, class_weight, sample_weight, initial_epoch, steps_per_epoch, validation_steps, validation_batch_size, validation_freq, max_queue_size, workers, use_multiprocessing)\u001b[0m\n\u001b[0;32m   1096\u001b[0m                 batch_size=batch_size):\n\u001b[0;32m   1097\u001b[0m               \u001b[0mcallbacks\u001b[0m\u001b[1;33m.\u001b[0m\u001b[0mon_train_batch_begin\u001b[0m\u001b[1;33m(\u001b[0m\u001b[0mstep\u001b[0m\u001b[1;33m)\u001b[0m\u001b[1;33m\u001b[0m\u001b[1;33m\u001b[0m\u001b[0m\n\u001b[1;32m-> 1098\u001b[1;33m               \u001b[0mtmp_logs\u001b[0m \u001b[1;33m=\u001b[0m \u001b[0mtrain_function\u001b[0m\u001b[1;33m(\u001b[0m\u001b[0miterator\u001b[0m\u001b[1;33m)\u001b[0m\u001b[1;33m\u001b[0m\u001b[1;33m\u001b[0m\u001b[0m\n\u001b[0m\u001b[0;32m   1099\u001b[0m               \u001b[1;32mif\u001b[0m \u001b[0mdata_handler\u001b[0m\u001b[1;33m.\u001b[0m\u001b[0mshould_sync\u001b[0m\u001b[1;33m:\u001b[0m\u001b[1;33m\u001b[0m\u001b[1;33m\u001b[0m\u001b[0m\n\u001b[0;32m   1100\u001b[0m                 \u001b[0mcontext\u001b[0m\u001b[1;33m.\u001b[0m\u001b[0masync_wait\u001b[0m\u001b[1;33m(\u001b[0m\u001b[1;33m)\u001b[0m\u001b[1;33m\u001b[0m\u001b[1;33m\u001b[0m\u001b[0m\n",
            "\u001b[1;32m~\\d2l\\lib\\site-packages\\tensorflow\\python\\eager\\def_function.py\u001b[0m in \u001b[0;36m__call__\u001b[1;34m(self, *args, **kwds)\u001b[0m\n\u001b[0;32m    778\u001b[0m       \u001b[1;32melse\u001b[0m\u001b[1;33m:\u001b[0m\u001b[1;33m\u001b[0m\u001b[1;33m\u001b[0m\u001b[0m\n\u001b[0;32m    779\u001b[0m         \u001b[0mcompiler\u001b[0m \u001b[1;33m=\u001b[0m \u001b[1;34m\"nonXla\"\u001b[0m\u001b[1;33m\u001b[0m\u001b[1;33m\u001b[0m\u001b[0m\n\u001b[1;32m--> 780\u001b[1;33m         \u001b[0mresult\u001b[0m \u001b[1;33m=\u001b[0m \u001b[0mself\u001b[0m\u001b[1;33m.\u001b[0m\u001b[0m_call\u001b[0m\u001b[1;33m(\u001b[0m\u001b[1;33m*\u001b[0m\u001b[0margs\u001b[0m\u001b[1;33m,\u001b[0m \u001b[1;33m**\u001b[0m\u001b[0mkwds\u001b[0m\u001b[1;33m)\u001b[0m\u001b[1;33m\u001b[0m\u001b[1;33m\u001b[0m\u001b[0m\n\u001b[0m\u001b[0;32m    781\u001b[0m \u001b[1;33m\u001b[0m\u001b[0m\n\u001b[0;32m    782\u001b[0m       \u001b[0mnew_tracing_count\u001b[0m \u001b[1;33m=\u001b[0m \u001b[0mself\u001b[0m\u001b[1;33m.\u001b[0m\u001b[0m_get_tracing_count\u001b[0m\u001b[1;33m(\u001b[0m\u001b[1;33m)\u001b[0m\u001b[1;33m\u001b[0m\u001b[1;33m\u001b[0m\u001b[0m\n",
            "\u001b[1;32m~\\d2l\\lib\\site-packages\\tensorflow\\python\\eager\\def_function.py\u001b[0m in \u001b[0;36m_call\u001b[1;34m(self, *args, **kwds)\u001b[0m\n\u001b[0;32m    805\u001b[0m       \u001b[1;31m# In this case we have created variables on the first call, so we run the\u001b[0m\u001b[1;33m\u001b[0m\u001b[1;33m\u001b[0m\u001b[1;33m\u001b[0m\u001b[0m\n\u001b[0;32m    806\u001b[0m       \u001b[1;31m# defunned version which is guaranteed to never create variables.\u001b[0m\u001b[1;33m\u001b[0m\u001b[1;33m\u001b[0m\u001b[1;33m\u001b[0m\u001b[0m\n\u001b[1;32m--> 807\u001b[1;33m       \u001b[1;32mreturn\u001b[0m \u001b[0mself\u001b[0m\u001b[1;33m.\u001b[0m\u001b[0m_stateless_fn\u001b[0m\u001b[1;33m(\u001b[0m\u001b[1;33m*\u001b[0m\u001b[0margs\u001b[0m\u001b[1;33m,\u001b[0m \u001b[1;33m**\u001b[0m\u001b[0mkwds\u001b[0m\u001b[1;33m)\u001b[0m  \u001b[1;31m# pylint: disable=not-callable\u001b[0m\u001b[1;33m\u001b[0m\u001b[1;33m\u001b[0m\u001b[0m\n\u001b[0m\u001b[0;32m    808\u001b[0m     \u001b[1;32melif\u001b[0m \u001b[0mself\u001b[0m\u001b[1;33m.\u001b[0m\u001b[0m_stateful_fn\u001b[0m \u001b[1;32mis\u001b[0m \u001b[1;32mnot\u001b[0m \u001b[1;32mNone\u001b[0m\u001b[1;33m:\u001b[0m\u001b[1;33m\u001b[0m\u001b[1;33m\u001b[0m\u001b[0m\n\u001b[0;32m    809\u001b[0m       \u001b[1;31m# Release the lock early so that multiple threads can perform the call\u001b[0m\u001b[1;33m\u001b[0m\u001b[1;33m\u001b[0m\u001b[1;33m\u001b[0m\u001b[0m\n",
            "\u001b[1;32m~\\d2l\\lib\\site-packages\\tensorflow\\python\\eager\\function.py\u001b[0m in \u001b[0;36m__call__\u001b[1;34m(self, *args, **kwargs)\u001b[0m\n\u001b[0;32m   2827\u001b[0m     \u001b[1;32mwith\u001b[0m \u001b[0mself\u001b[0m\u001b[1;33m.\u001b[0m\u001b[0m_lock\u001b[0m\u001b[1;33m:\u001b[0m\u001b[1;33m\u001b[0m\u001b[1;33m\u001b[0m\u001b[0m\n\u001b[0;32m   2828\u001b[0m       \u001b[0mgraph_function\u001b[0m\u001b[1;33m,\u001b[0m \u001b[0margs\u001b[0m\u001b[1;33m,\u001b[0m \u001b[0mkwargs\u001b[0m \u001b[1;33m=\u001b[0m \u001b[0mself\u001b[0m\u001b[1;33m.\u001b[0m\u001b[0m_maybe_define_function\u001b[0m\u001b[1;33m(\u001b[0m\u001b[0margs\u001b[0m\u001b[1;33m,\u001b[0m \u001b[0mkwargs\u001b[0m\u001b[1;33m)\u001b[0m\u001b[1;33m\u001b[0m\u001b[1;33m\u001b[0m\u001b[0m\n\u001b[1;32m-> 2829\u001b[1;33m     \u001b[1;32mreturn\u001b[0m \u001b[0mgraph_function\u001b[0m\u001b[1;33m.\u001b[0m\u001b[0m_filtered_call\u001b[0m\u001b[1;33m(\u001b[0m\u001b[0margs\u001b[0m\u001b[1;33m,\u001b[0m \u001b[0mkwargs\u001b[0m\u001b[1;33m)\u001b[0m  \u001b[1;31m# pylint: disable=protected-access\u001b[0m\u001b[1;33m\u001b[0m\u001b[1;33m\u001b[0m\u001b[0m\n\u001b[0m\u001b[0;32m   2830\u001b[0m \u001b[1;33m\u001b[0m\u001b[0m\n\u001b[0;32m   2831\u001b[0m   \u001b[1;33m@\u001b[0m\u001b[0mproperty\u001b[0m\u001b[1;33m\u001b[0m\u001b[1;33m\u001b[0m\u001b[0m\n",
            "\u001b[1;32m~\\d2l\\lib\\site-packages\\tensorflow\\python\\eager\\function.py\u001b[0m in \u001b[0;36m_filtered_call\u001b[1;34m(self, args, kwargs, cancellation_manager)\u001b[0m\n\u001b[0;32m   1846\u001b[0m                            resource_variable_ops.BaseResourceVariable))],\n\u001b[0;32m   1847\u001b[0m         \u001b[0mcaptured_inputs\u001b[0m\u001b[1;33m=\u001b[0m\u001b[0mself\u001b[0m\u001b[1;33m.\u001b[0m\u001b[0mcaptured_inputs\u001b[0m\u001b[1;33m,\u001b[0m\u001b[1;33m\u001b[0m\u001b[1;33m\u001b[0m\u001b[0m\n\u001b[1;32m-> 1848\u001b[1;33m         cancellation_manager=cancellation_manager)\n\u001b[0m\u001b[0;32m   1849\u001b[0m \u001b[1;33m\u001b[0m\u001b[0m\n\u001b[0;32m   1850\u001b[0m   \u001b[1;32mdef\u001b[0m \u001b[0m_call_flat\u001b[0m\u001b[1;33m(\u001b[0m\u001b[0mself\u001b[0m\u001b[1;33m,\u001b[0m \u001b[0margs\u001b[0m\u001b[1;33m,\u001b[0m \u001b[0mcaptured_inputs\u001b[0m\u001b[1;33m,\u001b[0m \u001b[0mcancellation_manager\u001b[0m\u001b[1;33m=\u001b[0m\u001b[1;32mNone\u001b[0m\u001b[1;33m)\u001b[0m\u001b[1;33m:\u001b[0m\u001b[1;33m\u001b[0m\u001b[1;33m\u001b[0m\u001b[0m\n",
            "\u001b[1;32m~\\d2l\\lib\\site-packages\\tensorflow\\python\\eager\\function.py\u001b[0m in \u001b[0;36m_call_flat\u001b[1;34m(self, args, captured_inputs, cancellation_manager)\u001b[0m\n\u001b[0;32m   1922\u001b[0m       \u001b[1;31m# No tape is watching; skip to running the function.\u001b[0m\u001b[1;33m\u001b[0m\u001b[1;33m\u001b[0m\u001b[1;33m\u001b[0m\u001b[0m\n\u001b[0;32m   1923\u001b[0m       return self._build_call_outputs(self._inference_function.call(\n\u001b[1;32m-> 1924\u001b[1;33m           ctx, args, cancellation_manager=cancellation_manager))\n\u001b[0m\u001b[0;32m   1925\u001b[0m     forward_backward = self._select_forward_and_backward_functions(\n\u001b[0;32m   1926\u001b[0m         \u001b[0margs\u001b[0m\u001b[1;33m,\u001b[0m\u001b[1;33m\u001b[0m\u001b[1;33m\u001b[0m\u001b[0m\n",
            "\u001b[1;32m~\\d2l\\lib\\site-packages\\tensorflow\\python\\eager\\function.py\u001b[0m in \u001b[0;36mcall\u001b[1;34m(self, ctx, args, cancellation_manager)\u001b[0m\n\u001b[0;32m    548\u001b[0m               \u001b[0minputs\u001b[0m\u001b[1;33m=\u001b[0m\u001b[0margs\u001b[0m\u001b[1;33m,\u001b[0m\u001b[1;33m\u001b[0m\u001b[1;33m\u001b[0m\u001b[0m\n\u001b[0;32m    549\u001b[0m               \u001b[0mattrs\u001b[0m\u001b[1;33m=\u001b[0m\u001b[0mattrs\u001b[0m\u001b[1;33m,\u001b[0m\u001b[1;33m\u001b[0m\u001b[1;33m\u001b[0m\u001b[0m\n\u001b[1;32m--> 550\u001b[1;33m               ctx=ctx)\n\u001b[0m\u001b[0;32m    551\u001b[0m         \u001b[1;32melse\u001b[0m\u001b[1;33m:\u001b[0m\u001b[1;33m\u001b[0m\u001b[1;33m\u001b[0m\u001b[0m\n\u001b[0;32m    552\u001b[0m           outputs = execute.execute_with_cancellation(\n",
            "\u001b[1;32m~\\d2l\\lib\\site-packages\\tensorflow\\python\\eager\\execute.py\u001b[0m in \u001b[0;36mquick_execute\u001b[1;34m(op_name, num_outputs, inputs, attrs, ctx, name)\u001b[0m\n\u001b[0;32m     58\u001b[0m     \u001b[0mctx\u001b[0m\u001b[1;33m.\u001b[0m\u001b[0mensure_initialized\u001b[0m\u001b[1;33m(\u001b[0m\u001b[1;33m)\u001b[0m\u001b[1;33m\u001b[0m\u001b[1;33m\u001b[0m\u001b[0m\n\u001b[0;32m     59\u001b[0m     tensors = pywrap_tfe.TFE_Py_Execute(ctx._handle, device_name, op_name,\n\u001b[1;32m---> 60\u001b[1;33m                                         inputs, attrs, num_outputs)\n\u001b[0m\u001b[0;32m     61\u001b[0m   \u001b[1;32mexcept\u001b[0m \u001b[0mcore\u001b[0m\u001b[1;33m.\u001b[0m\u001b[0m_NotOkStatusException\u001b[0m \u001b[1;32mas\u001b[0m \u001b[0me\u001b[0m\u001b[1;33m:\u001b[0m\u001b[1;33m\u001b[0m\u001b[1;33m\u001b[0m\u001b[0m\n\u001b[0;32m     62\u001b[0m     \u001b[1;32mif\u001b[0m \u001b[0mname\u001b[0m \u001b[1;32mis\u001b[0m \u001b[1;32mnot\u001b[0m \u001b[1;32mNone\u001b[0m\u001b[1;33m:\u001b[0m\u001b[1;33m\u001b[0m\u001b[1;33m\u001b[0m\u001b[0m\n",
            "\u001b[1;31mKeyboardInterrupt\u001b[0m: "
          ]
        }
      ],
<<<<<<< HEAD
>>>>>>> 34e6b21abfc5b069204bb7f9f57f96b96d215fc6
=======
>>>>>>> origin/main
      "metadata": {
        "colab": {
          "base_uri": "https://localhost:8080/",
          "height": 1000
        },
        "colab_type": "code",
        "id": "A1Hl39rklkLm",
        "outputId": "75cbaf63-f635-4dd1-96fd-b4e1d6fd94bb"
<<<<<<< HEAD
<<<<<<< HEAD
      },
      "outputs": [
        {
          "name": "stderr",
          "output_type": "stream",
          "text": [
            "c:\\Users\\goofy\\AppData\\Local\\Programs\\Python\\Python38\\lib\\site-packages\\keras\\optimizer_v2\\gradient_descent.py:102: UserWarning: The `lr` argument is deprecated, use `learning_rate` instead.\n",
            "  super(SGD, self).__init__(name, **kwargs)\n"
          ]
        },
        {
          "name": "stdout",
          "output_type": "stream",
          "text": [
            "Epoch 1/100\n",
            "31/31 [==============================] - 7s 53ms/step - loss: 21.5167 - mae: 22.0115 - lr: 1.0000e-08\n",
            "Epoch 2/100\n",
            "31/31 [==============================] - 1s 27ms/step - loss: 21.1522 - mae: 21.6444 - lr: 1.1220e-08\n",
            "Epoch 3/100\n",
            "31/31 [==============================] - 1s 29ms/step - loss: 20.7302 - mae: 21.2236 - lr: 1.2589e-08\n",
            "Epoch 4/100\n",
            "31/31 [==============================] - 1s 25ms/step - loss: 20.2834 - mae: 20.7757 - lr: 1.4125e-08\n",
            "Epoch 5/100\n",
            "31/31 [==============================] - 1s 26ms/step - loss: 19.7897 - mae: 20.2855 - lr: 1.5849e-08\n",
            "Epoch 6/100\n",
            "31/31 [==============================] - 1s 30ms/step - loss: 19.1782 - mae: 19.6696 - lr: 1.7783e-08\n",
            "Epoch 7/100\n",
            "31/31 [==============================] - 1s 27ms/step - loss: 18.2410 - mae: 18.7333 - lr: 1.9953e-08\n",
            "Epoch 8/100\n",
            "31/31 [==============================] - 1s 22ms/step - loss: 17.4825 - mae: 17.9748 - lr: 2.2387e-08\n",
            "Epoch 9/100\n",
            "31/31 [==============================] - 1s 21ms/step - loss: 17.1597 - mae: 17.6529 - lr: 2.5119e-08\n",
            "Epoch 10/100\n",
            "31/31 [==============================] - 1s 21ms/step - loss: 16.8547 - mae: 17.3463 - lr: 2.8184e-08\n",
            "Epoch 11/100\n",
            "31/31 [==============================] - 1s 24ms/step - loss: 16.5533 - mae: 17.0471 - lr: 3.1623e-08\n",
            "Epoch 12/100\n",
            "31/31 [==============================] - 1s 24ms/step - loss: 16.2565 - mae: 16.7524 - lr: 3.5481e-08\n",
            "Epoch 13/100\n",
            "31/31 [==============================] - 1s 28ms/step - loss: 15.9629 - mae: 16.4598 - lr: 3.9811e-08\n",
            "Epoch 14/100\n",
            "31/31 [==============================] - 1s 24ms/step - loss: 15.6593 - mae: 16.1548 - lr: 4.4668e-08\n",
            "Epoch 15/100\n",
            "31/31 [==============================] - 1s 26ms/step - loss: 15.3713 - mae: 15.8652 - lr: 5.0119e-08\n",
            "Epoch 16/100\n",
            "31/31 [==============================] - 1s 25ms/step - loss: 15.0752 - mae: 15.5697 - lr: 5.6234e-08\n",
            "Epoch 17/100\n",
            "31/31 [==============================] - 1s 25ms/step - loss: 14.7905 - mae: 15.2869 - lr: 6.3096e-08\n",
            "Epoch 18/100\n",
            "31/31 [==============================] - 1s 22ms/step - loss: 14.5229 - mae: 15.0178 - lr: 7.0795e-08\n",
            "Epoch 19/100\n",
            "31/31 [==============================] - 1s 22ms/step - loss: 14.2707 - mae: 14.7636 - lr: 7.9433e-08\n",
            "Epoch 20/100\n",
            "31/31 [==============================] - 1s 21ms/step - loss: 14.0293 - mae: 14.5217 - lr: 8.9125e-08\n",
            "Epoch 21/100\n",
            "31/31 [==============================] - 1s 19ms/step - loss: 13.8191 - mae: 14.3135 - lr: 1.0000e-07\n",
            "Epoch 22/100\n",
            "31/31 [==============================] - 1s 28ms/step - loss: 13.6084 - mae: 14.1032 - lr: 1.1220e-07\n",
            "Epoch 23/100\n",
            "31/31 [==============================] - 1s 27ms/step - loss: 13.4096 - mae: 13.9038 - lr: 1.2589e-07\n",
            "Epoch 24/100\n",
            "31/31 [==============================] - 1s 23ms/step - loss: 13.1859 - mae: 13.6794 - lr: 1.4125e-07\n",
            "Epoch 25/100\n",
            "31/31 [==============================] - 1s 19ms/step - loss: 12.9819 - mae: 13.4747 - lr: 1.5849e-07\n",
            "Epoch 26/100\n",
            "31/31 [==============================] - 1s 27ms/step - loss: 12.7278 - mae: 13.2184 - lr: 1.7783e-07\n",
            "Epoch 27/100\n",
            "31/31 [==============================] - 1s 25ms/step - loss: 12.4886 - mae: 12.9799 - lr: 1.9953e-07\n",
            "Epoch 28/100\n",
            "31/31 [==============================] - 1s 23ms/step - loss: 12.3459 - mae: 12.8362 - lr: 2.2387e-07\n",
            "Epoch 29/100\n",
            "31/31 [==============================] - 1s 23ms/step - loss: 11.9127 - mae: 12.4017 - lr: 2.5119e-07\n",
            "Epoch 30/100\n",
            "31/31 [==============================] - 1s 23ms/step - loss: 11.5934 - mae: 12.0835 - lr: 2.8184e-07\n",
            "Epoch 31/100\n",
            "31/31 [==============================] - 1s 23ms/step - loss: 11.2859 - mae: 11.7771 - lr: 3.1623e-07\n",
            "Epoch 32/100\n",
            "31/31 [==============================] - 1s 28ms/step - loss: 11.3520 - mae: 11.8418 - lr: 3.5481e-07\n",
            "Epoch 33/100\n",
            "31/31 [==============================] - 1s 26ms/step - loss: 10.5232 - mae: 11.0139 - lr: 3.9811e-07\n",
            "Epoch 34/100\n",
            "31/31 [==============================] - 1s 28ms/step - loss: 10.5505 - mae: 11.0387 - lr: 4.4668e-07\n",
            "Epoch 35/100\n",
            "31/31 [==============================] - 1s 26ms/step - loss: 10.0703 - mae: 10.5554 - lr: 5.0119e-07\n",
            "Epoch 36/100\n",
            "31/31 [==============================] - 1s 27ms/step - loss: 10.6316 - mae: 11.1242 - lr: 5.6234e-07\n",
            "Epoch 37/100\n",
            "31/31 [==============================] - 1s 23ms/step - loss: 10.2110 - mae: 10.7012 - lr: 6.3096e-07\n",
            "Epoch 38/100\n",
            "31/31 [==============================] - 1s 24ms/step - loss: 9.6566 - mae: 10.1446 - lr: 7.0795e-07\n",
            "Epoch 39/100\n",
            "31/31 [==============================] - 1s 27ms/step - loss: 9.1469 - mae: 9.6315 - lr: 7.9433e-07\n",
            "Epoch 40/100\n",
            "31/31 [==============================] - 1s 26ms/step - loss: 8.6967 - mae: 9.1826 - lr: 8.9125e-07\n",
            "Epoch 41/100\n",
            "31/31 [==============================] - 1s 25ms/step - loss: 8.2772 - mae: 8.7623 - lr: 1.0000e-06\n",
            "Epoch 42/100\n",
            "31/31 [==============================] - 1s 24ms/step - loss: 7.9342 - mae: 8.4188 - lr: 1.1220e-06\n",
            "Epoch 43/100\n",
            "31/31 [==============================] - 1s 26ms/step - loss: 7.6093 - mae: 8.0931 - lr: 1.2589e-06\n",
            "Epoch 44/100\n",
            "31/31 [==============================] - 1s 25ms/step - loss: 7.3651 - mae: 7.8511 - lr: 1.4125e-06\n",
            "Epoch 45/100\n",
            "31/31 [==============================] - 1s 26ms/step - loss: 7.2054 - mae: 7.6890 - lr: 1.5849e-06\n",
            "Epoch 46/100\n",
            "31/31 [==============================] - 1s 23ms/step - loss: 6.8937 - mae: 7.3762 - lr: 1.7783e-06\n",
            "Epoch 47/100\n",
            "31/31 [==============================] - 1s 25ms/step - loss: 6.6815 - mae: 7.1651 - lr: 1.9953e-06\n",
            "Epoch 48/100\n",
            "31/31 [==============================] - 1s 24ms/step - loss: 6.5771 - mae: 7.0594 - lr: 2.2387e-06\n",
            "Epoch 49/100\n",
            "31/31 [==============================] - 1s 28ms/step - loss: 6.2083 - mae: 6.6844 - lr: 2.5119e-06\n",
            "Epoch 50/100\n",
            "31/31 [==============================] - 1s 24ms/step - loss: 6.0392 - mae: 6.5182 - lr: 2.8184e-06\n",
            "Epoch 51/100\n",
            "31/31 [==============================] - 1s 23ms/step - loss: 5.9101 - mae: 6.3878 - lr: 3.1623e-06\n",
            "Epoch 52/100\n",
            "31/31 [==============================] - 1s 25ms/step - loss: 5.7766 - mae: 6.2582 - lr: 3.5481e-06\n",
            "Epoch 53/100\n",
            "31/31 [==============================] - 1s 25ms/step - loss: 5.6292 - mae: 6.1093 - lr: 3.9811e-06\n",
            "Epoch 54/100\n",
            "31/31 [==============================] - 1s 23ms/step - loss: 5.5200 - mae: 5.9940 - lr: 4.4668e-06\n",
            "Epoch 55/100\n",
            "31/31 [==============================] - 1s 27ms/step - loss: 5.3902 - mae: 5.8624 - lr: 5.0119e-06\n",
            "Epoch 56/100\n",
            "31/31 [==============================] - 1s 23ms/step - loss: 5.5559 - mae: 6.0299 - lr: 5.6234e-06\n",
            "Epoch 57/100\n",
            "31/31 [==============================] - 1s 25ms/step - loss: 5.2776 - mae: 5.7553 - lr: 6.3096e-06\n",
            "Epoch 58/100\n",
            "31/31 [==============================] - 1s 28ms/step - loss: 5.2556 - mae: 5.7337 - lr: 7.0795e-06\n",
            "Epoch 59/100\n",
            "31/31 [==============================] - 1s 21ms/step - loss: 5.1169 - mae: 5.5955 - lr: 7.9433e-06\n",
            "Epoch 60/100\n",
            "31/31 [==============================] - 1s 23ms/step - loss: 5.0495 - mae: 5.5239 - lr: 8.9125e-06\n",
            "Epoch 61/100\n",
            "31/31 [==============================] - 1s 24ms/step - loss: 5.3108 - mae: 5.7899 - lr: 1.0000e-05\n",
            "Epoch 62/100\n",
            "31/31 [==============================] - 1s 24ms/step - loss: 5.2189 - mae: 5.6986 - lr: 1.1220e-05\n",
            "Epoch 63/100\n",
            "31/31 [==============================] - 1s 24ms/step - loss: 5.0212 - mae: 5.4956 - lr: 1.2589e-05\n",
            "Epoch 64/100\n",
            "31/31 [==============================] - 1s 19ms/step - loss: 4.8334 - mae: 5.3071 - lr: 1.4125e-05\n",
            "Epoch 65/100\n",
            "31/31 [==============================] - 1s 22ms/step - loss: 5.2764 - mae: 5.7556 - lr: 1.5849e-05\n",
            "Epoch 66/100\n",
            "31/31 [==============================] - 1s 27ms/step - loss: 5.3623 - mae: 5.8457 - lr: 1.7783e-05\n",
            "Epoch 67/100\n",
            "31/31 [==============================] - 1s 28ms/step - loss: 6.1405 - mae: 6.6241 - lr: 1.9953e-05\n",
            "Epoch 68/100\n",
            "31/31 [==============================] - 1s 26ms/step - loss: 5.2144 - mae: 5.6990 - lr: 2.2387e-05\n",
            "Epoch 69/100\n",
            "31/31 [==============================] - 1s 26ms/step - loss: 5.6243 - mae: 6.1054 - lr: 2.5119e-05\n",
            "Epoch 70/100\n",
            "31/31 [==============================] - 1s 24ms/step - loss: 5.3043 - mae: 5.7864 - lr: 2.8184e-05\n",
            "Epoch 71/100\n",
            "31/31 [==============================] - 1s 27ms/step - loss: 5.5680 - mae: 6.0450 - lr: 3.1623e-05\n",
            "Epoch 72/100\n",
            "31/31 [==============================] - 1s 29ms/step - loss: 5.3428 - mae: 5.8202 - lr: 3.5481e-05\n",
            "Epoch 73/100\n",
            "31/31 [==============================] - 1s 26ms/step - loss: 6.6357 - mae: 7.1208 - lr: 3.9811e-05\n",
            "Epoch 74/100\n",
            "31/31 [==============================] - 1s 23ms/step - loss: 5.1904 - mae: 5.6718 - lr: 4.4668e-05\n",
            "Epoch 75/100\n",
            "31/31 [==============================] - 1s 26ms/step - loss: 5.4823 - mae: 5.9648 - lr: 5.0119e-05\n",
            "Epoch 76/100\n",
            "31/31 [==============================] - 1s 24ms/step - loss: 5.5425 - mae: 6.0251 - lr: 5.6234e-05\n",
            "Epoch 77/100\n",
            "31/31 [==============================] - 1s 23ms/step - loss: 6.6852 - mae: 7.1698 - lr: 6.3096e-05\n",
            "Epoch 78/100\n",
            "31/31 [==============================] - 1s 25ms/step - loss: 5.3756 - mae: 5.8543 - lr: 7.0795e-05\n",
            "Epoch 79/100\n",
            "31/31 [==============================] - 1s 22ms/step - loss: 6.2251 - mae: 6.7104 - lr: 7.9433e-05\n",
            "Epoch 80/100\n",
            "31/31 [==============================] - 1s 27ms/step - loss: 7.6357 - mae: 8.1218 - lr: 8.9125e-05\n",
            "Epoch 81/100\n",
            "31/31 [==============================] - 1s 24ms/step - loss: 5.6808 - mae: 6.1614 - lr: 1.0000e-04\n",
            "Epoch 82/100\n",
            "31/31 [==============================] - 1s 20ms/step - loss: 5.4136 - mae: 5.8947 - lr: 1.1220e-04\n",
            "Epoch 83/100\n",
            "31/31 [==============================] - 1s 15ms/step - loss: 11.0328 - mae: 11.5225 - lr: 1.2589e-04\n",
            "Epoch 84/100\n",
            "31/31 [==============================] - 1s 21ms/step - loss: 7.9421 - mae: 8.4307 - lr: 1.4125e-04\n",
            "Epoch 85/100\n",
            "31/31 [==============================] - 1s 15ms/step - loss: 6.2484 - mae: 6.7318 - lr: 1.5849e-04\n",
            "Epoch 86/100\n",
            "31/31 [==============================] - 1s 21ms/step - loss: 6.4192 - mae: 6.9019 - lr: 1.7783e-04\n",
            "Epoch 87/100\n",
            "31/31 [==============================] - 1s 22ms/step - loss: 7.0565 - mae: 7.5429 - lr: 1.9953e-04\n",
            "Epoch 88/100\n",
            "31/31 [==============================] - 1s 25ms/step - loss: 7.2034 - mae: 7.6888 - lr: 2.2387e-04\n",
            "Epoch 89/100\n",
            "31/31 [==============================] - 1s 27ms/step - loss: 6.3457 - mae: 6.8315 - lr: 2.5119e-04\n",
            "Epoch 90/100\n",
            "31/31 [==============================] - 1s 28ms/step - loss: 8.8378 - mae: 9.3293 - lr: 2.8184e-04\n",
            "Epoch 91/100\n",
            "31/31 [==============================] - 1s 26ms/step - loss: 8.4865 - mae: 8.9754 - lr: 3.1623e-04\n",
            "Epoch 92/100\n",
            "31/31 [==============================] - 1s 26ms/step - loss: 6.4681 - mae: 6.9510 - lr: 3.5481e-04\n",
            "Epoch 93/100\n",
            "31/31 [==============================] - 1s 25ms/step - loss: 10.8103 - mae: 11.2994 - lr: 3.9811e-04\n",
            "Epoch 94/100\n",
            "31/31 [==============================] - 1s 27ms/step - loss: 9.4033 - mae: 9.8932 - lr: 4.4668e-04\n",
            "Epoch 95/100\n",
            "31/31 [==============================] - 1s 20ms/step - loss: 8.2749 - mae: 8.7644 - lr: 5.0119e-04\n",
            "Epoch 96/100\n",
            "31/31 [==============================] - 1s 26ms/step - loss: 10.2930 - mae: 10.7798 - lr: 5.6234e-04\n",
            "Epoch 97/100\n",
            "31/31 [==============================] - 1s 27ms/step - loss: 12.5069 - mae: 12.9979 - lr: 6.3096e-04\n",
            "Epoch 98/100\n",
            "31/31 [==============================] - 1s 23ms/step - loss: 11.5290 - mae: 12.0194 - lr: 7.0795e-04\n",
            "Epoch 99/100\n",
            "31/31 [==============================] - 1s 21ms/step - loss: 14.1698 - mae: 14.6613 - lr: 7.9433e-04\n",
            "Epoch 100/100\n",
            "31/31 [==============================] - 1s 24ms/step - loss: 12.4914 - mae: 12.9814 - lr: 8.9125e-04\n"
          ]
        }
      ],
      "source": [
        "tf.keras.backend.clear_session()\n",
        "tf.random.set_seed(51)\n",
        "np.random.seed(51)\n",
        "\n",
        "tf.keras.backend.clear_session()\n",
        "dataset = windowed_dataset(x_train, window_size, batch_size, shuffle_buffer_size)\n",
        "\n",
        "model = tf.keras.models.Sequential([\n",
        "  tf.keras.layers.Lambda(lambda x: tf.expand_dims(x, axis=-1),\n",
        "                      input_shape=[None]),\n",
        "    tf.keras.layers.Bidirectional(tf.keras.layers.LSTM(32, return_sequences=True)),\n",
        "  tf.keras.layers.Bidirectional(tf.keras.layers.LSTM(32)),\n",
        "  tf.keras.layers.Dense(1),\n",
        "  tf.keras.layers.Lambda(lambda x: x * 100.0)\n",
        "])\n",
        "\n",
        "lr_schedule = tf.keras.callbacks.LearningRateScheduler(\n",
        "    lambda epoch: 1e-8 * 10**(epoch / 20))\n",
        "optimizer = tf.keras.optimizers.SGD(lr=1e-8, momentum=0.9)\n",
        "model.compile(loss=tf.keras.losses.Huber(),\n",
        "              optimizer=optimizer,\n",
        "              metrics=[\"mae\"])\n",
        "history = model.fit(dataset, epochs=100, callbacks=[lr_schedule])"
      ]
    },
    {
      "cell_type": "code",
      "execution_count": 7,
=======
=======
>>>>>>> origin/main
      }
    },
    {
      "cell_type": "code",
      "execution_count": null,
      "source": [
        "plt.semilogx(history.history[\"lr\"], history.history[\"loss\"])\r\n",
        "plt.axis([1e-8, 1e-4, 0, 30])"
      ],
      "outputs": [
        {
          "output_type": "execute_result",
          "data": {
            "text/plain": [
              "[1e-08, 0.0001, 0, 30]"
            ]
          },
          "metadata": {
            "tags": []
          },
          "execution_count": 9
        },
        {
          "output_type": "display_data",
          "data": {
            "text/plain": [
              "<Figure size 432x288 with 1 Axes>"
            ],
            "image/png": "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"
          },
          "metadata": {
            "tags": []
          }
        }
      ],
<<<<<<< HEAD
>>>>>>> 34e6b21abfc5b069204bb7f9f57f96b96d215fc6
=======
>>>>>>> origin/main
      "metadata": {
        "colab": {
          "base_uri": "https://localhost:8080/",
          "height": 291
        },
        "colab_type": "code",
        "id": "AkBsrsXMzoWR",
        "outputId": "99a3f57b-9145-4802-8256-401a54b238e7"
<<<<<<< HEAD
<<<<<<< HEAD
      },
      "outputs": [
        {
          "data": {
            "text/plain": [
              "(1e-08, 0.0001, 0.0, 30.0)"
            ]
          },
          "execution_count": 7,
          "metadata": {},
          "output_type": "execute_result"
        },
        {
          "data": {
            "image/png": "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",
            "text/plain": [
              "<Figure size 432x288 with 1 Axes>"
            ]
          },
          "metadata": {
            "needs_background": "light"
          },
          "output_type": "display_data"
        }
      ],
      "source": [
        "plt.semilogx(history.history[\"lr\"], history.history[\"loss\"])\n",
        "plt.axis([1e-8, 1e-4, 0, 30])"
      ]
    },
    {
      "cell_type": "code",
      "execution_count": 8,
=======
=======
>>>>>>> origin/main
      }
    },
    {
      "cell_type": "code",
      "execution_count": null,
      "source": [
        "tf.keras.backend.clear_session()\r\n",
        "tf.random.set_seed(51)\r\n",
        "np.random.seed(51)\r\n",
        "\r\n",
        "tf.keras.backend.clear_session()\r\n",
        "dataset = windowed_dataset(x_train, window_size, batch_size, shuffle_buffer_size)\r\n",
        "\r\n",
        "model = tf.keras.models.Sequential([\r\n",
        "  tf.keras.layers.Lambda(lambda x: tf.expand_dims(x, axis=-1),\r\n",
        "                      input_shape=[None]),\r\n",
        "   tf.keras.layers.Bidirectional(tf.keras.layers.LSTM(32, return_sequences=True)),\r\n",
        "  tf.keras.layers.Bidirectional(tf.keras.layers.LSTM(32)),\r\n",
        "  tf.keras.layers.Dense(1),\r\n",
        "  tf.keras.layers.Lambda(lambda x: x * 100.0)\r\n",
        "])\r\n",
        "\r\n",
        "\r\n",
        "model.compile(loss=\"mae\", optimizer=tf.keras.optimizers.SGD(lr=1e-5, momentum=0.9),metrics=[\"mae\"])\r\n",
        "history = model.fit(dataset,epochs=500,verbose=0)"
      ],
      "outputs": [],
<<<<<<< HEAD
>>>>>>> 34e6b21abfc5b069204bb7f9f57f96b96d215fc6
=======
>>>>>>> origin/main
      "metadata": {
        "colab": {},
        "colab_type": "code",
        "id": "4uh-97bpLZCA"
<<<<<<< HEAD
<<<<<<< HEAD
      },
      "outputs": [],
      "source": [
        "tf.keras.backend.clear_session()\n",
        "tf.random.set_seed(51)\n",
        "np.random.seed(51)\n",
        "\n",
        "tf.keras.backend.clear_session()\n",
        "dataset = windowed_dataset(x_train, window_size, batch_size, shuffle_buffer_size)\n",
        "\n",
        "model = tf.keras.models.Sequential([\n",
        "  tf.keras.layers.Lambda(lambda x: tf.expand_dims(x, axis=-1),\n",
        "                      input_shape=[None]),\n",
        "   tf.keras.layers.Bidirectional(tf.keras.layers.LSTM(32, return_sequences=True)),\n",
        "  tf.keras.layers.Bidirectional(tf.keras.layers.LSTM(32)),\n",
        "  tf.keras.layers.Dense(1),\n",
        "  tf.keras.layers.Lambda(lambda x: x * 100.0)\n",
        "])\n",
        "\n",
        "\n",
        "model.compile(loss=\"mae\", optimizer=tf.keras.optimizers.SGD(lr=1e-5, momentum=0.9),metrics=[\"mae\"])\n",
        "history = model.fit(dataset,epochs=500,verbose=0)"
      ]
    },
    {
      "cell_type": "code",
      "execution_count": 9,
=======
=======
>>>>>>> origin/main
      }
    },
    {
      "cell_type": "code",
      "execution_count": null,
      "source": [
        "forecast = []\r\n",
        "results = []\r\n",
        "for time in range(len(series) - window_size):\r\n",
        "  forecast.append(model.predict(series[time:time + window_size][np.newaxis]))\r\n",
        "\r\n",
        "forecast = forecast[split_time-window_size:]\r\n",
        "results = np.array(forecast)[:, 0, 0]\r\n",
        "\r\n",
        "\r\n",
        "plt.figure(figsize=(10, 6))\r\n",
        "\r\n",
        "plot_series(time_valid, x_valid)\r\n",
        "plot_series(time_valid, results)"
      ],
      "outputs": [
        {
          "output_type": "display_data",
          "data": {
            "text/plain": [
              "<Figure size 720x432 with 1 Axes>"
            ],
            "image/png": "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"
          },
          "metadata": {
            "tags": []
          }
        }
      ],
<<<<<<< HEAD
>>>>>>> 34e6b21abfc5b069204bb7f9f57f96b96d215fc6
=======
>>>>>>> origin/main
      "metadata": {
        "colab": {
          "base_uri": "https://localhost:8080/",
          "height": 393
        },
        "colab_type": "code",
        "id": "icGDaND7z0ne",
        "outputId": "58b69d1a-82d2-457b-9342-42ceb24b35da"
<<<<<<< HEAD
<<<<<<< HEAD
      },
      "outputs": [
        {
          "data": {
            "image/png": "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",
            "text/plain": [
              "<Figure size 720x432 with 1 Axes>"
            ]
          },
          "metadata": {
            "needs_background": "light"
          },
          "output_type": "display_data"
        }
      ],
      "source": [
        "forecast = []\n",
        "results = []\n",
        "for time in range(len(series) - window_size):\n",
        "  forecast.append(model.predict(series[time:time + window_size][np.newaxis]))\n",
        "\n",
        "forecast = forecast[split_time-window_size:]\n",
        "results = np.array(forecast)[:, 0, 0]\n",
        "\n",
        "\n",
        "plt.figure(figsize=(10, 6))\n",
        "\n",
        "plot_series(time_valid, x_valid)\n",
        "plot_series(time_valid, results)"
      ]
    },
    {
      "cell_type": "code",
      "execution_count": 10,
=======
=======
>>>>>>> origin/main
      }
    },
    {
      "cell_type": "code",
      "execution_count": null,
      "source": [
        "tf.keras.metrics.mean_absolute_error(x_valid, results).numpy()"
      ],
      "outputs": [
        {
          "output_type": "execute_result",
          "data": {
            "text/plain": [
              "8.514286"
            ]
          },
          "metadata": {
            "tags": []
          },
          "execution_count": 12
        }
      ],
<<<<<<< HEAD
>>>>>>> 34e6b21abfc5b069204bb7f9f57f96b96d215fc6
=======
>>>>>>> origin/main
      "metadata": {
        "colab": {
          "base_uri": "https://localhost:8080/",
          "height": 35
        },
        "colab_type": "code",
        "id": "KfPeqI7rz4LD",
        "outputId": "816335be-fd2a-428f-98d6-05983b84d9b5"
<<<<<<< HEAD
<<<<<<< HEAD
      },
      "outputs": [
        {
          "data": {
            "text/plain": [
              "6.167793"
            ]
          },
          "execution_count": 10,
          "metadata": {},
          "output_type": "execute_result"
        }
      ],
      "source": [
        "tf.keras.metrics.mean_absolute_error(x_valid, results).numpy()"
      ]
    },
    {
      "cell_type": "code",
      "execution_count": 11,
=======
=======
>>>>>>> origin/main
      }
    },
    {
      "cell_type": "code",
      "execution_count": null,
      "source": [
        "import matplotlib.image  as mpimg\r\n",
        "import matplotlib.pyplot as plt\r\n",
        "\r\n",
        "#-----------------------------------------------------------\r\n",
        "# Retrieve a list of list results on training and test data\r\n",
        "# sets for each training epoch\r\n",
        "#-----------------------------------------------------------\r\n",
        "mae=history.history['mae']\r\n",
        "loss=history.history['loss']\r\n",
        "\r\n",
        "epochs=range(len(loss)) # Get number of epochs\r\n",
        "\r\n",
        "#------------------------------------------------\r\n",
        "# Plot MAE and Loss\r\n",
        "#------------------------------------------------\r\n",
        "plt.plot(epochs, mae, 'r')\r\n",
        "plt.plot(epochs, loss, 'b')\r\n",
        "plt.title('MAE and Loss')\r\n",
        "plt.xlabel(\"Epochs\")\r\n",
        "plt.ylabel(\"Accuracy\")\r\n",
        "plt.legend([\"MAE\", \"Loss\"])\r\n",
        "\r\n",
        "plt.figure()\r\n",
        "\r\n",
        "epochs_zoom = epochs[200:]\r\n",
        "mae_zoom = mae[200:]\r\n",
        "loss_zoom = loss[200:]\r\n",
        "\r\n",
        "#------------------------------------------------\r\n",
        "# Plot Zoomed MAE and Loss\r\n",
        "#------------------------------------------------\r\n",
        "plt.plot(epochs_zoom, mae_zoom, 'r')\r\n",
        "plt.plot(epochs_zoom, loss_zoom, 'b')\r\n",
        "plt.title('MAE and Loss')\r\n",
        "plt.xlabel(\"Epochs\")\r\n",
        "plt.ylabel(\"Accuracy\")\r\n",
        "plt.legend([\"MAE\", \"Loss\"])\r\n",
        "\r\n",
        "plt.figure()"
      ],
      "outputs": [
        {
          "output_type": "error",
          "ename": "KeyError",
          "evalue": "ignored",
          "traceback": [
            "\u001b[0;31m---------------------------------------------------------------------------\u001b[0m",
            "\u001b[0;31mKeyError\u001b[0m                                  Traceback (most recent call last)",
            "\u001b[0;32m<ipython-input-13-0d8269471fd6>\u001b[0m in \u001b[0;36m<module>\u001b[0;34m()\u001b[0m\n\u001b[1;32m      6\u001b[0m \u001b[0;31m# sets for each training epoch\u001b[0m\u001b[0;34m\u001b[0m\u001b[0;34m\u001b[0m\u001b[0;34m\u001b[0m\u001b[0m\n\u001b[1;32m      7\u001b[0m \u001b[0;31m#-----------------------------------------------------------\u001b[0m\u001b[0;34m\u001b[0m\u001b[0;34m\u001b[0m\u001b[0;34m\u001b[0m\u001b[0m\n\u001b[0;32m----> 8\u001b[0;31m \u001b[0mmae\u001b[0m\u001b[0;34m=\u001b[0m\u001b[0mhistory\u001b[0m\u001b[0;34m.\u001b[0m\u001b[0mhistory\u001b[0m\u001b[0;34m[\u001b[0m\u001b[0;34m'mae'\u001b[0m\u001b[0;34m]\u001b[0m\u001b[0;34m\u001b[0m\u001b[0;34m\u001b[0m\u001b[0m\n\u001b[0m\u001b[1;32m      9\u001b[0m \u001b[0mloss\u001b[0m\u001b[0;34m=\u001b[0m\u001b[0mhistory\u001b[0m\u001b[0;34m.\u001b[0m\u001b[0mhistory\u001b[0m\u001b[0;34m[\u001b[0m\u001b[0;34m'loss'\u001b[0m\u001b[0;34m]\u001b[0m\u001b[0;34m\u001b[0m\u001b[0;34m\u001b[0m\u001b[0m\n\u001b[1;32m     10\u001b[0m \u001b[0;34m\u001b[0m\u001b[0m\n",
            "\u001b[0;31mKeyError\u001b[0m: 'mae'"
          ]
        }
      ],
<<<<<<< HEAD
>>>>>>> 34e6b21abfc5b069204bb7f9f57f96b96d215fc6
=======
>>>>>>> origin/main
      "metadata": {
        "colab": {
          "base_uri": "https://localhost:8080/",
          "height": 235
        },
        "colab_type": "code",
        "id": "JUsdZB_tzDLe",
        "outputId": "964c47d9-7eec-42cd-905f-c45c2fd31d9e"
<<<<<<< HEAD
<<<<<<< HEAD
      },
      "outputs": [
        {
          "data": {
            "text/plain": [
              "<Figure size 432x288 with 0 Axes>"
            ]
          },
          "execution_count": 11,
          "metadata": {},
          "output_type": "execute_result"
        },
        {
          "data": {
            "image/png": "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",
            "text/plain": [
              "<Figure size 432x288 with 1 Axes>"
            ]
          },
          "metadata": {
            "needs_background": "light"
          },
          "output_type": "display_data"
        },
        {
          "data": {
            "image/png": "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",
            "text/plain": [
              "<Figure size 432x288 with 1 Axes>"
            ]
          },
          "metadata": {
            "needs_background": "light"
          },
          "output_type": "display_data"
        },
        {
          "data": {
            "text/plain": [
              "<Figure size 432x288 with 0 Axes>"
            ]
          },
          "metadata": {},
          "output_type": "display_data"
        }
      ],
      "source": [
        "import matplotlib.image  as mpimg\n",
        "import matplotlib.pyplot as plt\n",
        "\n",
        "#-----------------------------------------------------------\n",
        "# Retrieve a list of list results on training and test data\n",
        "# sets for each training epoch\n",
        "#-----------------------------------------------------------\n",
        "mae=history.history['mae']\n",
        "loss=history.history['loss']\n",
        "\n",
        "epochs=range(len(loss)) # Get number of epochs\n",
        "\n",
        "#------------------------------------------------\n",
        "# Plot MAE and Loss\n",
        "#------------------------------------------------\n",
        "plt.plot(epochs, mae, 'r')\n",
        "plt.plot(epochs, loss, 'b')\n",
        "plt.title('MAE and Loss')\n",
        "plt.xlabel(\"Epochs\")\n",
        "plt.ylabel(\"Accuracy\")\n",
        "plt.legend([\"MAE\", \"Loss\"])\n",
        "\n",
        "plt.figure()\n",
        "\n",
        "epochs_zoom = epochs[200:]\n",
        "mae_zoom = mae[200:]\n",
        "loss_zoom = loss[200:]\n",
        "\n",
        "#------------------------------------------------\n",
        "# Plot Zoomed MAE and Loss\n",
        "#------------------------------------------------\n",
        "plt.plot(epochs_zoom, mae_zoom, 'r')\n",
        "plt.plot(epochs_zoom, loss_zoom, 'b')\n",
        "plt.title('MAE and Loss')\n",
        "plt.xlabel(\"Epochs\")\n",
        "plt.ylabel(\"Accuracy\")\n",
        "plt.legend([\"MAE\", \"Loss\"])\n",
        "\n",
        "plt.figure()"
      ]
    },
    {
      "cell_type": "code",
      "execution_count": 12,
=======
=======
>>>>>>> origin/main
      }
    },
    {
      "cell_type": "code",
      "execution_count": null,
      "source": [
        "tf.keras.backend.clear_session()\r\n",
        "dataset = windowed_dataset(x_train, window_size, batch_size, shuffle_buffer_size)\r\n",
        "\r\n",
        "model = tf.keras.models.Sequential([\r\n",
        "  tf.keras.layers.Lambda(lambda x: tf.expand_dims(x, axis=-1),\r\n",
        "                      input_shape=[None]),\r\n",
        "  tf.keras.layers.Bidirectional(tf.keras.layers.LSTM(32, return_sequences=True)),\r\n",
        "  tf.keras.layers.Bidirectional(tf.keras.layers.LSTM(32)),\r\n",
        "  tf.keras.layers.Dense(1),\r\n",
        "  tf.keras.layers.Lambda(lambda x: x * 100.0)\r\n",
        "])\r\n",
        "\r\n",
        "\r\n",
        "model.compile(loss=\"mae\", optimizer=tf.keras.optimizers.SGD(lr=1e-6, momentum=0.9))\r\n",
        "model.fit(dataset,epochs=100, verbose=0)"
      ],
      "outputs": [],
<<<<<<< HEAD
>>>>>>> 34e6b21abfc5b069204bb7f9f57f96b96d215fc6
=======
>>>>>>> origin/main
      "metadata": {
        "colab": {},
        "colab_type": "code",
        "id": "3CGaYFxXNEAK"
<<<<<<< HEAD
<<<<<<< HEAD
      },
      "outputs": [
        {
          "name": "stderr",
          "output_type": "stream",
          "text": [
            "c:\\Users\\goofy\\AppData\\Local\\Programs\\Python\\Python38\\lib\\site-packages\\keras\\optimizer_v2\\gradient_descent.py:102: UserWarning: The `lr` argument is deprecated, use `learning_rate` instead.\n",
            "  super(SGD, self).__init__(name, **kwargs)\n"
          ]
        },
        {
          "data": {
            "text/plain": [
              "<keras.callbacks.History at 0x26c49f586a0>"
            ]
          },
          "execution_count": 12,
          "metadata": {},
          "output_type": "execute_result"
        }
      ],
      "source": [
        "tf.keras.backend.clear_session()\n",
        "dataset = windowed_dataset(x_train, window_size, batch_size, shuffle_buffer_size)\n",
        "\n",
        "model = tf.keras.models.Sequential([\n",
        "  tf.keras.layers.Lambda(lambda x: tf.expand_dims(x, axis=-1),\n",
        "                      input_shape=[None]),\n",
        "  tf.keras.layers.Bidirectional(tf.keras.layers.LSTM(32, return_sequences=True)),\n",
        "  tf.keras.layers.Bidirectional(tf.keras.layers.LSTM(32)),\n",
        "  tf.keras.layers.Dense(1),\n",
        "  tf.keras.layers.Lambda(lambda x: x * 100.0)\n",
        "])\n",
        "\n",
        "\n",
        "model.compile(loss=\"mae\", optimizer=tf.keras.optimizers.SGD(lr=1e-6, momentum=0.9))\n",
        "model.fit(dataset,epochs=100, verbose=0)"
      ]
    },
    {
      "cell_type": "code",
      "execution_count": 13,
=======
=======
>>>>>>> origin/main
      }
    },
    {
      "cell_type": "code",
      "execution_count": null,
      "source": [
        "tf.keras.backend.clear_session()\r\n",
        "dataset = windowed_dataset(x_train, window_size, batch_size, shuffle_buffer_size)\r\n",
        "\r\n",
        "model = tf.keras.models.Sequential([\r\n",
        "  tf.keras.layers.Lambda(lambda x: tf.expand_dims(x, axis=-1),\r\n",
        "                      input_shape=[None]),\r\n",
        "  tf.keras.layers.Bidirectional(tf.keras.layers.LSTM(32, return_sequences=True)),\r\n",
        "  tf.keras.layers.Bidirectional(tf.keras.layers.LSTM(32, return_sequences=True)),\r\n",
        "  tf.keras.layers.Bidirectional(tf.keras.layers.LSTM(32)),\r\n",
        "  tf.keras.layers.Dense(1),\r\n",
        "  tf.keras.layers.Lambda(lambda x: x * 100.0)\r\n",
        "])\r\n",
        "\r\n",
        "\r\n",
        "model.compile(loss=\"mae\", optimizer=tf.keras.optimizers.SGD(lr=1e-6, momentum=0.9))\r\n",
        "model.fit(dataset,epochs=100)"
      ],
      "outputs": [],
<<<<<<< HEAD
>>>>>>> 34e6b21abfc5b069204bb7f9f57f96b96d215fc6
=======
>>>>>>> origin/main
      "metadata": {
        "colab": {},
        "colab_type": "code",
        "id": "FJ3R8ysauz9e"
<<<<<<< HEAD
<<<<<<< HEAD
      },
      "outputs": [
        {
          "name": "stdout",
          "output_type": "stream",
          "text": [
            "Epoch 1/100\n",
            "31/31 [==============================] - 7s 34ms/step - loss: 39.9521\n",
            "Epoch 2/100\n",
            "31/31 [==============================] - 1s 39ms/step - loss: 14.7427\n",
            "Epoch 3/100\n",
            "31/31 [==============================] - 1s 35ms/step - loss: 13.3211\n",
            "Epoch 4/100\n",
            "31/31 [==============================] - 1s 37ms/step - loss: 12.0619\n",
            "Epoch 5/100\n",
            "31/31 [==============================] - 1s 38ms/step - loss: 11.0042\n",
            "Epoch 6/100\n",
            "31/31 [==============================] - 1s 38ms/step - loss: 10.1209\n",
            "Epoch 7/100\n",
            "31/31 [==============================] - 1s 37ms/step - loss: 9.4073\n",
            "Epoch 8/100\n",
            "31/31 [==============================] - 1s 39ms/step - loss: 8.8901\n",
            "Epoch 9/100\n",
            "31/31 [==============================] - 1s 41ms/step - loss: 8.5596\n",
            "Epoch 10/100\n",
            "31/31 [==============================] - 1s 39ms/step - loss: 8.2654\n",
            "Epoch 11/100\n",
            "31/31 [==============================] - 1s 39ms/step - loss: 8.0145\n",
            "Epoch 12/100\n",
            "31/31 [==============================] - 1s 39ms/step - loss: 7.8738\n",
            "Epoch 13/100\n",
            "31/31 [==============================] - 1s 42ms/step - loss: 7.7229\n",
            "Epoch 14/100\n",
            "31/31 [==============================] - 1s 39ms/step - loss: 7.5827\n",
            "Epoch 15/100\n",
            "31/31 [==============================] - 1s 30ms/step - loss: 7.4795\n",
            "Epoch 16/100\n",
            "31/31 [==============================] - 1s 36ms/step - loss: 7.3684\n",
            "Epoch 17/100\n",
            "31/31 [==============================] - 1s 28ms/step - loss: 7.2987\n",
            "Epoch 18/100\n",
            "31/31 [==============================] - 1s 34ms/step - loss: 7.2074\n",
            "Epoch 19/100\n",
            "31/31 [==============================] - 1s 36ms/step - loss: 7.1748\n",
            "Epoch 20/100\n",
            "31/31 [==============================] - 1s 32ms/step - loss: 7.0607\n",
            "Epoch 21/100\n",
            "31/31 [==============================] - 1s 39ms/step - loss: 7.0109\n",
            "Epoch 22/100\n",
            "31/31 [==============================] - 1s 38ms/step - loss: 6.9299\n",
            "Epoch 23/100\n",
            "31/31 [==============================] - 1s 29ms/step - loss: 6.8853\n",
            "Epoch 24/100\n",
            "31/31 [==============================] - 1s 30ms/step - loss: 6.8760\n",
            "Epoch 25/100\n",
            "31/31 [==============================] - 1s 34ms/step - loss: 6.8013\n",
            "Epoch 26/100\n",
            "31/31 [==============================] - 1s 37ms/step - loss: 6.7451\n",
            "Epoch 27/100\n",
            "31/31 [==============================] - 1s 36ms/step - loss: 6.7323\n",
            "Epoch 28/100\n",
            "31/31 [==============================] - 1s 39ms/step - loss: 6.6624\n",
            "Epoch 29/100\n",
            "31/31 [==============================] - 1s 36ms/step - loss: 6.7414\n",
            "Epoch 30/100\n",
            "31/31 [==============================] - 1s 38ms/step - loss: 6.5899\n",
            "Epoch 31/100\n",
            "31/31 [==============================] - 1s 38ms/step - loss: 6.5729\n",
            "Epoch 32/100\n",
            "31/31 [==============================] - 1s 36ms/step - loss: 6.5172\n",
            "Epoch 33/100\n",
            "31/31 [==============================] - 1s 39ms/step - loss: 6.5342\n",
            "Epoch 34/100\n",
            "31/31 [==============================] - 1s 37ms/step - loss: 6.4761\n",
            "Epoch 35/100\n",
            "31/31 [==============================] - 1s 35ms/step - loss: 6.5038\n",
            "Epoch 36/100\n",
            "31/31 [==============================] - 1s 34ms/step - loss: 6.3939\n",
            "Epoch 37/100\n",
            "31/31 [==============================] - 1s 32ms/step - loss: 6.4485\n",
            "Epoch 38/100\n",
            "31/31 [==============================] - 1s 35ms/step - loss: 6.3739\n",
            "Epoch 39/100\n",
            "31/31 [==============================] - 1s 31ms/step - loss: 6.3729\n",
            "Epoch 40/100\n",
            "31/31 [==============================] - 1s 34ms/step - loss: 6.3677\n",
            "Epoch 41/100\n",
            "31/31 [==============================] - 1s 35ms/step - loss: 6.3641\n",
            "Epoch 42/100\n",
            "31/31 [==============================] - 1s 33ms/step - loss: 6.3466\n",
            "Epoch 43/100\n",
            "31/31 [==============================] - 1s 32ms/step - loss: 6.2912\n",
            "Epoch 44/100\n",
            "31/31 [==============================] - 1s 26ms/step - loss: 6.3130\n",
            "Epoch 45/100\n",
            "31/31 [==============================] - 1s 35ms/step - loss: 6.3437\n",
            "Epoch 46/100\n",
            "31/31 [==============================] - 1s 32ms/step - loss: 6.3119\n",
            "Epoch 47/100\n",
            "31/31 [==============================] - 1s 28ms/step - loss: 6.2563\n",
            "Epoch 48/100\n",
            "31/31 [==============================] - 1s 32ms/step - loss: 6.2342\n",
            "Epoch 49/100\n",
            "31/31 [==============================] - 1s 34ms/step - loss: 6.2344\n",
            "Epoch 50/100\n",
            "31/31 [==============================] - 1s 38ms/step - loss: 6.2021\n",
            "Epoch 51/100\n",
            "31/31 [==============================] - 1s 37ms/step - loss: 6.3221\n",
            "Epoch 52/100\n",
            "31/31 [==============================] - 1s 36ms/step - loss: 6.2239\n",
            "Epoch 53/100\n",
            "31/31 [==============================] - 1s 37ms/step - loss: 6.2003\n",
            "Epoch 54/100\n",
            "31/31 [==============================] - 1s 34ms/step - loss: 6.1787\n",
            "Epoch 55/100\n",
            "31/31 [==============================] - 1s 40ms/step - loss: 6.1319\n",
            "Epoch 56/100\n",
            "31/31 [==============================] - 1s 36ms/step - loss: 6.1611\n",
            "Epoch 57/100\n",
            "31/31 [==============================] - 1s 36ms/step - loss: 6.3263\n",
            "Epoch 58/100\n",
            "31/31 [==============================] - 1s 36ms/step - loss: 6.2846\n",
            "Epoch 59/100\n",
            "31/31 [==============================] - 1s 36ms/step - loss: 6.1606\n",
            "Epoch 60/100\n",
            "31/31 [==============================] - 1s 34ms/step - loss: 6.1210\n",
            "Epoch 61/100\n",
            "31/31 [==============================] - 1s 35ms/step - loss: 6.1994\n",
            "Epoch 62/100\n",
            "31/31 [==============================] - 1s 34ms/step - loss: 6.1215\n",
            "Epoch 63/100\n",
            "31/31 [==============================] - 1s 36ms/step - loss: 6.0992\n",
            "Epoch 64/100\n",
            "31/31 [==============================] - 1s 36ms/step - loss: 6.0779\n",
            "Epoch 65/100\n",
            "31/31 [==============================] - 1s 37ms/step - loss: 6.0741\n",
            "Epoch 66/100\n",
            "31/31 [==============================] - 1s 33ms/step - loss: 6.0625\n",
            "Epoch 67/100\n",
            "31/31 [==============================] - 1s 35ms/step - loss: 6.0676\n",
            "Epoch 68/100\n",
            "31/31 [==============================] - 1s 35ms/step - loss: 6.0273\n",
            "Epoch 69/100\n",
            "31/31 [==============================] - 1s 24ms/step - loss: 6.0785\n",
            "Epoch 70/100\n",
            "31/31 [==============================] - 1s 29ms/step - loss: 6.0194\n",
            "Epoch 71/100\n",
            "31/31 [==============================] - 1s 36ms/step - loss: 6.0466\n",
            "Epoch 72/100\n",
            "31/31 [==============================] - 1s 38ms/step - loss: 6.0826\n",
            "Epoch 73/100\n",
            "31/31 [==============================] - 1s 41ms/step - loss: 6.0743\n",
            "Epoch 74/100\n",
            "31/31 [==============================] - 1s 32ms/step - loss: 5.9565\n",
            "Epoch 75/100\n",
            "31/31 [==============================] - 1s 32ms/step - loss: 6.1181\n",
            "Epoch 76/100\n",
            "31/31 [==============================] - 1s 33ms/step - loss: 6.0572\n",
            "Epoch 77/100\n",
            "31/31 [==============================] - 1s 34ms/step - loss: 5.9905\n",
            "Epoch 78/100\n",
            "31/31 [==============================] - 1s 41ms/step - loss: 6.0337\n",
            "Epoch 79/100\n",
            "31/31 [==============================] - 1s 38ms/step - loss: 5.9867\n",
            "Epoch 80/100\n",
            "31/31 [==============================] - 1s 36ms/step - loss: 5.9410\n",
            "Epoch 81/100\n",
            "31/31 [==============================] - 1s 35ms/step - loss: 5.9019\n",
            "Epoch 82/100\n",
            "31/31 [==============================] - 1s 36ms/step - loss: 5.9357\n",
            "Epoch 83/100\n",
            "31/31 [==============================] - 1s 34ms/step - loss: 5.9798\n",
            "Epoch 84/100\n",
            "31/31 [==============================] - 1s 39ms/step - loss: 5.9108\n",
            "Epoch 85/100\n",
            "31/31 [==============================] - 1s 38ms/step - loss: 5.9485\n",
            "Epoch 86/100\n",
            "31/31 [==============================] - 1s 35ms/step - loss: 5.9256\n",
            "Epoch 87/100\n",
            "31/31 [==============================] - 1s 39ms/step - loss: 5.8964\n",
            "Epoch 88/100\n",
            "31/31 [==============================] - 1s 33ms/step - loss: 5.9453\n",
            "Epoch 89/100\n",
            "31/31 [==============================] - 1s 34ms/step - loss: 5.8524\n",
            "Epoch 90/100\n",
            "31/31 [==============================] - 1s 38ms/step - loss: 5.9160\n",
            "Epoch 91/100\n",
            "31/31 [==============================] - 1s 39ms/step - loss: 6.0246\n",
            "Epoch 92/100\n",
            "31/31 [==============================] - 1s 38ms/step - loss: 5.9461\n",
            "Epoch 93/100\n",
            "31/31 [==============================] - 1s 30ms/step - loss: 5.8774\n",
            "Epoch 94/100\n",
            "31/31 [==============================] - 1s 39ms/step - loss: 5.9456\n",
            "Epoch 95/100\n",
            "31/31 [==============================] - 1s 37ms/step - loss: 5.9152\n",
            "Epoch 96/100\n",
            "31/31 [==============================] - 1s 39ms/step - loss: 5.9878\n",
            "Epoch 97/100\n",
            "31/31 [==============================] - 1s 38ms/step - loss: 5.8456\n",
            "Epoch 98/100\n",
            "31/31 [==============================] - 1s 37ms/step - loss: 5.8046\n",
            "Epoch 99/100\n",
            "31/31 [==============================] - 1s 39ms/step - loss: 5.9115\n",
            "Epoch 100/100\n",
            "31/31 [==============================] - 1s 38ms/step - loss: 5.7914\n"
          ]
        },
        {
          "data": {
            "text/plain": [
              "<keras.callbacks.History at 0x26c53e6e520>"
            ]
          },
          "execution_count": 13,
          "metadata": {},
          "output_type": "execute_result"
        }
      ],
      "source": [
        "tf.keras.backend.clear_session()\n",
        "dataset = windowed_dataset(x_train, window_size, batch_size, shuffle_buffer_size)\n",
        "\n",
        "model = tf.keras.models.Sequential([\n",
        "  tf.keras.layers.Lambda(lambda x: tf.expand_dims(x, axis=-1),\n",
        "                      input_shape=[None]),\n",
        "  tf.keras.layers.Bidirectional(tf.keras.layers.LSTM(32, return_sequences=True)),\n",
        "  tf.keras.layers.Bidirectional(tf.keras.layers.LSTM(32, return_sequences=True)),\n",
        "  tf.keras.layers.Bidirectional(tf.keras.layers.LSTM(32)),\n",
        "  tf.keras.layers.Dense(1),\n",
        "  tf.keras.layers.Lambda(lambda x: x * 100.0)\n",
        "])\n",
        "\n",
        "\n",
        "model.compile(loss=\"mae\", optimizer=tf.keras.optimizers.SGD(lr=1e-6, momentum=0.9))\n",
        "model.fit(dataset,epochs=100)"
      ]
=======
      }
>>>>>>> 34e6b21abfc5b069204bb7f9f57f96b96d215fc6
=======
      }
>>>>>>> origin/main
    }
  ],
  "metadata": {
    "colab": {
      "collapsed_sections": [],
      "name": "S+P Week 3 Lesson 4 - LSTM.ipynb",
      "provenance": [],
      "toc_visible": true,
      "version": "0.3.2"
    },
    "kernelspec": {
<<<<<<< HEAD
<<<<<<< HEAD
      "display_name": "Python 3.8.10 64-bit",
      "language": "python",
      "name": "python3"
    },
    "language_info": {
=======
=======
>>>>>>> origin/main
      "name": "python3",
      "display_name": "Python 3.7.9 64-bit"
    },
    "language_info": {
      "name": "python",
      "version": "3.7.9",
      "mimetype": "text/x-python",
<<<<<<< HEAD
>>>>>>> 34e6b21abfc5b069204bb7f9f57f96b96d215fc6
=======
>>>>>>> origin/main
      "codemirror_mode": {
        "name": "ipython",
        "version": 3
      },
<<<<<<< HEAD
<<<<<<< HEAD
      "file_extension": ".py",
      "mimetype": "text/x-python",
      "name": "python",
      "nbconvert_exporter": "python",
      "pygments_lexer": "ipython3",
      "version": "3.8.10"
    },
    "vscode": {
      "interpreter": {
        "hash": "c506d1f39c0ed203b21fe551da708c189199b4eb24b97c88a7b4d83b7442f034"
      }
=======
=======
>>>>>>> origin/main
      "pygments_lexer": "ipython3",
      "nbconvert_exporter": "python",
      "file_extension": ".py"
    },
    "interpreter": {
      "hash": "360eb45faca1e4dfefc4f13aa9499776008d91528b4d443d812d58097d713eb4"
<<<<<<< HEAD
>>>>>>> 34e6b21abfc5b069204bb7f9f57f96b96d215fc6
=======
>>>>>>> origin/main
    }
  },
  "nbformat": 4,
  "nbformat_minor": 2
<<<<<<< HEAD
<<<<<<< HEAD
}
=======
}
>>>>>>> 34e6b21abfc5b069204bb7f9f57f96b96d215fc6
=======
}
>>>>>>> origin/main
