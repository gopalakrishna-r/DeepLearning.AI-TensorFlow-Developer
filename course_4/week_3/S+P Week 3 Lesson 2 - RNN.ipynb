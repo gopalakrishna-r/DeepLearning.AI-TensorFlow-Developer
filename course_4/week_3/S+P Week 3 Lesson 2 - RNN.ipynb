{
  "cells": [
    {
      "cell_type": "code",
      "execution_count": 1,
      "source": [
        "#@title Licensed under the Apache License, Version 2.0 (the \"License\");\r\n",
        "# you may not use this file except in compliance with the License.\r\n",
        "# You may obtain a copy of the License at\r\n",
        "#\r\n",
        "# https://www.apache.org/licenses/LICENSE-2.0\r\n",
        "#\r\n",
        "# Unless required by applicable law or agreed to in writing, software\r\n",
        "# distributed under the License is distributed on an \"AS IS\" BASIS,\r\n",
        "# WITHOUT WARRANTIES OR CONDITIONS OF ANY KIND, either express or implied.\r\n",
        "# See the License for the specific language governing permissions and\r\n",
        "# limitations under the License."
      ],
      "outputs": [],
      "metadata": {
        "id": "zX4Kg8DUTKWO",
        "colab_type": "code",
        "colab": {}
      }
    },
    {
      "cell_type": "markdown",
      "source": [
        "<a href=\"https://colab.research.google.com/github/lmoroney/dlaicourse/blob/master/TensorFlow%20In%20Practice/Course%204%20-%20S%2BP/S%2BP%20Week%203%20Lesson%202%20-%20RNN.ipynb\" target=\"_parent\"><img src=\"https://colab.research.google.com/assets/colab-badge.svg\" alt=\"Open In Colab\"/></a>"
      ],
      "metadata": {
        "colab_type": "text",
        "id": "view-in-github"
      }
    },
    {
      "cell_type": "code",
      "execution_count": 2,
      "source": [
        "try:\r\n",
        "    %tensorflow_version 2.x\r\n",
        "except Exception:\r\n",
        "    pass"
      ],
      "outputs": [],
      "metadata": {}
    },
    {
      "cell_type": "code",
      "execution_count": 3,
      "source": [
        "import tensorflow as tf\r\n",
        "import numpy as np\r\n",
        "import matplotlib.pyplot as plt\r\n",
        "print(tf.__version__)"
      ],
      "outputs": [
        {
          "output_type": "stream",
          "name": "stdout",
          "text": [
            "2.3.0\n"
          ]
        }
      ],
      "metadata": {}
    },
    {
      "cell_type": "code",
      "execution_count": 4,
      "source": [
        "def plot_series(time, series, format = '-', start = 0, end = None):\r\n",
        "    plt.plot(time[start:end], series[start:end], format)\r\n",
        "    plt.xlabel(\"Time\")\r\n",
        "    plt.ylabel(\"Series\")\r\n",
        "    plt.grid(True)\r\n",
        "\r\n",
        "def trend(time, slope = 0):\r\n",
        "    return slope * time\r\n",
        "\r\n",
        "def seasonal_pattern(season_time):\r\n",
        "    return np.where(season_time < 0.4, np.cos(season_time * 2 * np.pi), 1 / np.exp(3 * season_time))\r\n",
        "\r\n",
        "def seaonality(time, period, amplitude = 1, phase = 0):\r\n",
        "    season_time = ((time + phase) % period) / period\r\n",
        "    return amplitude * seasonal_pattern(season_time)\r\n",
        "\r\n",
        "def noise(time, noise_level =1, seed =None):\r\n",
        "    rnd = np.random.RandomState(seed)\r\n",
        "    return rnd.randn(len(time)) * noise_level\r\n",
        "\r\n",
        "time = np.arange(4 * 365 + 1, dtype = 'float32')\r\n",
        "baseline = 10\r\n",
        "series = trend(time, 0.1)\r\n",
        "baseline = 10\r\n",
        "amplitude = 40\r\n",
        "slope = 0.05\r\n",
        "noise_level = 5\r\n",
        "\r\n",
        "series = baseline + trend(time, slope) + seaonality(time, period=365, amplitude = amplitude)\r\n",
        "\r\n",
        "series += noise(time, noise_level, seed = 42)\r\n",
        "plot_series(time, series)\r\n",
        "\r\n",
        "split_time = 1000\r\n",
        "time_train = time[:split_time]\r\n",
        "x_train = series[:split_time]\r\n",
        "\r\n",
        "time_valid = time[split_time:]\r\n",
        "x_valid = time[split_time:]\r\n",
        "\r\n",
        "window_size = 20\r\n",
        "batch_size = 32\r\n",
        "shuffle_buffer_size = 1000\r\n"
      ],
      "outputs": [
        {
          "output_type": "display_data",
          "data": {
            "text/plain": [
              "<Figure size 432x288 with 1 Axes>"
            ],
            "image/png": "[encoded data removed]"
          },
          "metadata": {
            "needs_background": "light"
          }
        }
      ],
      "metadata": {}
    },
    {
      "cell_type": "code",
      "execution_count": 13,
      "source": [
        "def windowed_dataset(series,  window_size, batch_size, shuffle_buffer):\r\n",
        "    dataset = tf.data.Dataset.from_tensor_slices(series)\r\n",
        "    dataset = dataset.window(window_size + 1 , shift = 1, drop_remainder = True)\r\n",
        "    dataset = dataset.flat_map(lambda window: window.batch(window_size + 1 ))\r\n",
        "    dataset = dataset.shuffle(shuffle_buffer).map(lambda window:(window[:-1], window[-1:]))\r\n",
        "    dataset = dataset.batch(batch_size).prefetch(1)\r\n",
        "    return dataset\r\n"
      ],
      "outputs": [],
      "metadata": {}
    },
    {
      "cell_type": "code",
      "execution_count": 17,
      "source": [
        " tf.keras.backend.clear_session()\r\n",
        " tf.random.set_seed(51)\r\n",
        " np.random.seed(51)\r\n",
        "\r\n",
        " train_set = windowed_dataset(x_train, window_size, batch_size, shuffle_buffer_size)\r\n",
        "\r\n",
        " model = tf.keras.Sequential([\r\n",
        "     tf.keras.layers.Lambda(lambda x: tf.expand_dims(x, axis = -1), input_shape = [None]),\r\n",
        "     tf.keras.layers.SimpleRNN(40, return_sequences= True), \r\n",
        "     tf.keras.layers.SimpleRNN(40),\r\n",
        "     tf.keras.layers.Dense(1),\r\n",
        "     tf.keras.layers.Lambda(lambda x: x * 100.0)\r\n",
        " ])\r\n",
        "\r\n",
        " lr_schedule = tf.keras.callbacks.LearningRateScheduler(lambda epoch: 1e-8 * 10 ** (epoch / 20))\r\n",
        " optimizer = tf.keras.optimizers.SGD(lr = 1e-8, momentum=0.9)\r\n",
        " model.compile(loss = tf.keras.losses.Huber(), \r\n",
        "                optimizer = optimizer, \r\n",
        "                metrics = ['mae'])\r\n",
        " history = model.fit(train_set, epochs = 100, callbacks = [lr_schedule])"
      ],
      "outputs": [
        {
          "output_type": "stream",
          "name": "stdout",
          "text": [
            "Epoch 1/100\n",
            "31/31 [==============================] - 1s 19ms/step - loss: 194.1703 - mae: 194.6703\n",
            "Epoch 2/100\n",
            "31/31 [==============================] - 1s 18ms/step - loss: 188.7934 - mae: 189.2934\n",
            "Epoch 3/100\n",
            "31/31 [==============================] - 1s 19ms/step - loss: 182.0599 - mae: 182.5599\n",
            "Epoch 4/100\n",
            "31/31 [==============================] - 1s 19ms/step - loss: 174.1143 - mae: 174.6143\n",
            "Epoch 5/100\n",
            "31/31 [==============================] - 1s 19ms/step - loss: 164.5990 - mae: 165.0990\n",
            "Epoch 6/100\n",
            "31/31 [==============================] - 1s 19ms/step - loss: 152.8414 - mae: 153.3414\n",
            "Epoch 7/100\n",
            "31/31 [==============================] - 1s 19ms/step - loss: 137.4901 - mae: 137.9901\n",
            "Epoch 8/100\n",
            "31/31 [==============================] - 1s 19ms/step - loss: 116.4440 - mae: 116.9440\n",
            "Epoch 9/100\n",
            "31/31 [==============================] - 1s 19ms/step - loss: 87.3889 - mae: 87.8889\n",
            "Epoch 10/100\n",
            "31/31 [==============================] - 1s 19ms/step - loss: 49.9130 - mae: 50.4122\n",
            "Epoch 11/100\n",
            "31/31 [==============================] - 1s 19ms/step - loss: 27.3428 - mae: 27.8405\n",
            "Epoch 12/100\n",
            "31/31 [==============================] - 1s 18ms/step - loss: 21.9008 - mae: 22.3951\n",
            "Epoch 13/100\n",
            "31/31 [==============================] - 1s 19ms/step - loss: 18.0844 - mae: 18.5767\n",
            "Epoch 14/100\n",
            "31/31 [==============================] - 1s 19ms/step - loss: 13.9673 - mae: 14.4601\n",
            "Epoch 15/100\n",
            "31/31 [==============================] - 1s 19ms/step - loss: 10.6792 - mae: 11.1660\n",
            "Epoch 16/100\n",
            "31/31 [==============================] - 1s 19ms/step - loss: 8.7700 - mae: 9.2507\n",
            "Epoch 17/100\n",
            "31/31 [==============================] - 1s 19ms/step - loss: 8.0688 - mae: 8.5486\n",
            "Epoch 18/100\n",
            "31/31 [==============================] - 1s 19ms/step - loss: 7.8868 - mae: 8.3658\n",
            "Epoch 19/100\n",
            "31/31 [==============================] - 1s 19ms/step - loss: 7.8064 - mae: 8.2845\n",
            "Epoch 20/100\n",
            "31/31 [==============================] - 1s 18ms/step - loss: 7.7054 - mae: 8.1878\n",
            "Epoch 21/100\n",
            "31/31 [==============================] - 1s 19ms/step - loss: 7.6265 - mae: 8.1022\n",
            "Epoch 22/100\n",
            "31/31 [==============================] - 1s 19ms/step - loss: 7.5196 - mae: 7.9948\n",
            "Epoch 23/100\n",
            "31/31 [==============================] - 1s 19ms/step - loss: 7.4643 - mae: 7.9435\n",
            "Epoch 24/100\n",
            "31/31 [==============================] - 1s 19ms/step - loss: 7.4004 - mae: 7.8765\n",
            "Epoch 25/100\n",
            "31/31 [==============================] - 1s 19ms/step - loss: 7.4574 - mae: 7.9433\n",
            "Epoch 26/100\n",
            "31/31 [==============================] - 1s 18ms/step - loss: 7.3231 - mae: 7.8041\n",
            "Epoch 27/100\n",
            "31/31 [==============================] - 1s 18ms/step - loss: 7.2073 - mae: 7.6866\n",
            "Epoch 28/100\n",
            "31/31 [==============================] - 1s 18ms/step - loss: 7.1817 - mae: 7.6611\n",
            "Epoch 29/100\n",
            "31/31 [==============================] - 1s 18ms/step - loss: 7.1026 - mae: 7.5831\n",
            "Epoch 30/100\n",
            "31/31 [==============================] - 1s 18ms/step - loss: 7.0403 - mae: 7.5182\n",
            "Epoch 31/100\n",
            "31/31 [==============================] - 1s 18ms/step - loss: 7.0201 - mae: 7.5005\n",
            "Epoch 32/100\n",
            "31/31 [==============================] - 1s 18ms/step - loss: 6.8841 - mae: 7.3598\n",
            "Epoch 33/100\n",
            "31/31 [==============================] - 1s 18ms/step - loss: 6.9223 - mae: 7.4052\n",
            "Epoch 34/100\n",
            "31/31 [==============================] - 1s 18ms/step - loss: 6.9682 - mae: 7.4496\n",
            "Epoch 35/100\n",
            "31/31 [==============================] - 1s 18ms/step - loss: 7.1457 - mae: 7.6287\n",
            "Epoch 36/100\n",
            "31/31 [==============================] - 1s 18ms/step - loss: 6.7777 - mae: 7.2578\n",
            "Epoch 37/100\n",
            "31/31 [==============================] - 1s 18ms/step - loss: 6.6058 - mae: 7.0839\n",
            "Epoch 38/100\n",
            "31/31 [==============================] - 1s 18ms/step - loss: 6.6405 - mae: 7.1194\n",
            "Epoch 39/100\n",
            "31/31 [==============================] - 1s 18ms/step - loss: 6.7195 - mae: 7.1997\n",
            "Epoch 40/100\n",
            "31/31 [==============================] - 1s 18ms/step - loss: 6.9888 - mae: 7.4725\n",
            "Epoch 41/100\n",
            "31/31 [==============================] - 1s 18ms/step - loss: 6.9061 - mae: 7.3850\n",
            "Epoch 42/100\n",
            "31/31 [==============================] - 1s 18ms/step - loss: 6.5692 - mae: 7.0493\n",
            "Epoch 43/100\n",
            "31/31 [==============================] - 1s 18ms/step - loss: 6.4981 - mae: 6.9773\n",
            "Epoch 44/100\n",
            "31/31 [==============================] - 1s 18ms/step - loss: 6.7715 - mae: 7.2552\n",
            "Epoch 45/100\n",
            "31/31 [==============================] - 1s 18ms/step - loss: 7.8289 - mae: 8.3125\n",
            "Epoch 46/100\n",
            "31/31 [==============================] - 1s 18ms/step - loss: 6.5291 - mae: 7.0093\n",
            "Epoch 47/100\n",
            "31/31 [==============================] - 1s 18ms/step - loss: 6.2418 - mae: 6.7204\n",
            "Epoch 48/100\n",
            "31/31 [==============================] - 1s 18ms/step - loss: 6.0454 - mae: 6.5254\n",
            "Epoch 49/100\n",
            "31/31 [==============================] - 1s 18ms/step - loss: 6.1722 - mae: 6.6500\n",
            "Epoch 50/100\n",
            "31/31 [==============================] - 1s 18ms/step - loss: 6.4168 - mae: 6.9002\n",
            "Epoch 51/100\n",
            "31/31 [==============================] - 1s 18ms/step - loss: 6.4284 - mae: 6.9107\n",
            "Epoch 52/100\n",
            "31/31 [==============================] - 1s 18ms/step - loss: 6.1359 - mae: 6.6155\n",
            "Epoch 53/100\n",
            "31/31 [==============================] - 1s 18ms/step - loss: 6.3218 - mae: 6.7992\n",
            "Epoch 54/100\n",
            "31/31 [==============================] - 1s 18ms/step - loss: 6.2855 - mae: 6.7673\n",
            "Epoch 55/100\n",
            "31/31 [==============================] - 1s 18ms/step - loss: 6.0261 - mae: 6.5093\n",
            "Epoch 56/100\n",
            "31/31 [==============================] - 1s 18ms/step - loss: 5.8592 - mae: 6.3386\n",
            "Epoch 57/100\n",
            "31/31 [==============================] - 1s 18ms/step - loss: 6.5040 - mae: 6.9900\n",
            "Epoch 58/100\n",
            "31/31 [==============================] - 1s 18ms/step - loss: 6.2948 - mae: 6.7776\n",
            "Epoch 59/100\n",
            "31/31 [==============================] - 1s 18ms/step - loss: 6.7129 - mae: 7.1962\n",
            "Epoch 60/100\n",
            "31/31 [==============================] - 1s 18ms/step - loss: 7.2237 - mae: 7.7088\n",
            "Epoch 61/100\n",
            "31/31 [==============================] - 1s 18ms/step - loss: 5.6973 - mae: 6.1788\n",
            "Epoch 62/100\n",
            "31/31 [==============================] - 1s 18ms/step - loss: 6.0587 - mae: 6.5397\n",
            "Epoch 63/100\n",
            "31/31 [==============================] - 1s 18ms/step - loss: 7.1257 - mae: 7.6128\n",
            "Epoch 64/100\n",
            "31/31 [==============================] - 1s 18ms/step - loss: 9.6803 - mae: 10.1689\n",
            "Epoch 65/100\n",
            "31/31 [==============================] - 1s 18ms/step - loss: 7.3231 - mae: 7.8077\n",
            "Epoch 66/100\n",
            "31/31 [==============================] - 1s 18ms/step - loss: 5.8497 - mae: 6.3290\n",
            "Epoch 67/100\n",
            "31/31 [==============================] - 1s 18ms/step - loss: 6.2374 - mae: 6.7190\n",
            "Epoch 68/100\n",
            "31/31 [==============================] - 1s 18ms/step - loss: 6.9209 - mae: 7.4064\n",
            "Epoch 69/100\n",
            "31/31 [==============================] - 1s 18ms/step - loss: 6.6520 - mae: 7.1384\n",
            "Epoch 70/100\n",
            "31/31 [==============================] - 1s 18ms/step - loss: 7.1999 - mae: 7.6843\n",
            "Epoch 71/100\n",
            "31/31 [==============================] - 1s 18ms/step - loss: 8.7755 - mae: 9.2660\n",
            "Epoch 72/100\n",
            "31/31 [==============================] - 1s 18ms/step - loss: 9.2692 - mae: 9.7578\n",
            "Epoch 73/100\n",
            "31/31 [==============================] - 1s 18ms/step - loss: 7.4545 - mae: 7.9408\n",
            "Epoch 74/100\n",
            "31/31 [==============================] - 1s 18ms/step - loss: 8.6033 - mae: 9.0904\n",
            "Epoch 75/100\n",
            "31/31 [==============================] - 1s 18ms/step - loss: 8.1553 - mae: 8.6403\n",
            "Epoch 76/100\n",
            "31/31 [==============================] - 1s 18ms/step - loss: 8.1220 - mae: 8.6087\n",
            "Epoch 77/100\n",
            "31/31 [==============================] - 1s 18ms/step - loss: 9.2168 - mae: 9.7053\n",
            "Epoch 78/100\n",
            "31/31 [==============================] - 1s 18ms/step - loss: 10.8358 - mae: 11.3241\n",
            "Epoch 79/100\n",
            "31/31 [==============================] - 1s 18ms/step - loss: 16.0751 - mae: 16.5670\n",
            "Epoch 80/100\n",
            "31/31 [==============================] - 1s 18ms/step - loss: 12.6681 - mae: 13.1617\n",
            "Epoch 81/100\n",
            "31/31 [==============================] - 1s 18ms/step - loss: 11.4836 - mae: 11.9758\n",
            "Epoch 82/100\n",
            "31/31 [==============================] - 1s 18ms/step - loss: 18.4496 - mae: 18.9452\n",
            "Epoch 83/100\n",
            "31/31 [==============================] - 1s 18ms/step - loss: 20.6888 - mae: 21.1845\n",
            "Epoch 84/100\n",
            "31/31 [==============================] - 1s 18ms/step - loss: 17.8529 - mae: 18.3467\n",
            "Epoch 85/100\n",
            "31/31 [==============================] - 1s 18ms/step - loss: 18.3147 - mae: 18.8106\n",
            "Epoch 86/100\n",
            "31/31 [==============================] - 1s 18ms/step - loss: 17.1624 - mae: 17.6575\n",
            "Epoch 87/100\n",
            "31/31 [==============================] - 1s 18ms/step - loss: 16.2783 - mae: 16.7726\n",
            "Epoch 88/100\n",
            "31/31 [==============================] - 1s 18ms/step - loss: 17.7598 - mae: 18.2543\n",
            "Epoch 89/100\n",
            "31/31 [==============================] - 1s 18ms/step - loss: 16.9245 - mae: 17.4179\n",
            "Epoch 90/100\n",
            "31/31 [==============================] - 1s 18ms/step - loss: 19.1173 - mae: 19.6108\n",
            "Epoch 91/100\n",
            "31/31 [==============================] - 1s 18ms/step - loss: 16.6510 - mae: 17.1455\n",
            "Epoch 92/100\n",
            "31/31 [==============================] - 1s 18ms/step - loss: 24.1047 - mae: 24.6022\n",
            "Epoch 93/100\n",
            "31/31 [==============================] - 1s 18ms/step - loss: 25.2678 - mae: 25.7631\n",
            "Epoch 94/100\n",
            "31/31 [==============================] - 1s 18ms/step - loss: 15.8034 - mae: 16.2973\n",
            "Epoch 95/100\n",
            "31/31 [==============================] - 1s 18ms/step - loss: 14.3037 - mae: 14.7969\n",
            "Epoch 96/100\n",
            "31/31 [==============================] - 1s 18ms/step - loss: 18.7821 - mae: 19.2788\n",
            "Epoch 97/100\n",
            "31/31 [==============================] - 1s 18ms/step - loss: 17.1869 - mae: 17.6818\n",
            "Epoch 98/100\n",
            "31/31 [==============================] - 1s 18ms/step - loss: 19.3640 - mae: 19.8575\n",
            "Epoch 99/100\n",
            "31/31 [==============================] - 1s 18ms/step - loss: 27.7143 - mae: 28.2096\n",
            "Epoch 100/100\n",
            "31/31 [==============================] - 1s 18ms/step - loss: 18.7419 - mae: 19.2353\n"
          ]
        }
      ],
      "metadata": {}
    },
    {
      "cell_type": "code",
      "execution_count": 18,
      "source": [
        "plt.semilogx(history.history['lr'], history.history['loss'])\r\n",
        "plt.axis([1e-8 , 1e-4, 0, 30])"
      ],
      "outputs": [
        {
          "output_type": "execute_result",
          "data": {
            "text/plain": [
              "(1e-08, 0.0001, 0.0, 30.0)"
            ]
          },
          "metadata": {},
          "execution_count": 18
        },
        {
          "output_type": "display_data",
          "data": {
            "text/plain": [
              "<Figure size 432x288 with 1 Axes>"
            ],
            "image/png": "[encoded data removed]"
          },
          "metadata": {
            "needs_background": "light"
          }
        }
      ],
      "metadata": {}
    },
    {
      "cell_type": "code",
      "execution_count": null,
      "source": [
        "tf.keras.backend.clear_session()\r\n",
        "tf.random.set_seed(51)\r\n",
        "np.random.seed(51)\r\n",
        "\r\n",
        "dataset = windowed_dataset(x_train, window_size, batch_size=128, shuffle_buffer=shuffle_buffer_size)\r\n",
        "\r\n",
        "model = tf.keras.models.Sequential([\r\n",
        "  tf.keras.layers.Lambda(lambda x: tf.expand_dims(x, axis=-1),\r\n",
        "                      input_shape=[None]),\r\n",
        "  tf.keras.layers.SimpleRNN(40, return_sequences=True),\r\n",
        "  tf.keras.layers.SimpleRNN(40),\r\n",
        "  tf.keras.layers.Dense(1),\r\n",
        "  tf.keras.layers.Lambda(lambda x: x * 100.0)\r\n",
        "])\r\n",
        "\r\n",
        "optimizer = tf.keras.optimizers.SGD(lr=5e-5, momentum=0.9)\r\n",
        "model.compile(loss=tf.keras.losses.Huber(),\r\n",
        "              optimizer=optimizer,\r\n",
        "              metrics=[\"mae\"])\r\n",
        "history = model.fit(dataset,epochs=400)"
      ],
      "outputs": [],
      "metadata": {}
    },
    {
      "cell_type": "code",
      "execution_count": 20,
      "source": [
        "forecast=[]\r\n",
        "for time in range(len(series) - window_size):\r\n",
        "  forecast.append(model.predict(series[time:time + window_size][np.newaxis]))\r\n",
        "\r\n",
        "forecast = forecast[split_time-window_size:]\r\n",
        "results = np.array(forecast)[:, 0, 0]\r\n",
        "\r\n",
        "\r\n",
        "plt.figure(figsize=(10, 6))\r\n",
        "\r\n",
        "plot_series(time_valid, x_valid)\r\n",
        "plot_series(time_valid, results)"
      ],
      "outputs": [
        {
          "output_type": "display_data",
          "data": {
            "text/plain": [
              "<Figure size 720x432 with 1 Axes>"
            ],
            "image/png": "[encoded data removed]"
          },
          "metadata": {
            "needs_background": "light"
          }
        }
      ],
      "metadata": {}
    },
    {
      "cell_type": "code",
      "execution_count": null,
      "source": [
        "import matplotlib.image  as mpimg\r\n",
        "import matplotlib.pyplot as plt\r\n",
        "\r\n",
        "#-----------------------------------------------------------\r\n",
        "# Retrieve a list of list results on training and test data\r\n",
        "# sets for each training epoch\r\n",
        "#-----------------------------------------------------------\r\n",
        "mae=history.history['mae']\r\n",
        "loss=history.history['loss']\r\n",
        "\r\n",
        "epochs=range(len(loss)) # Get number of epochs\r\n",
        "\r\n",
        "#------------------------------------------------\r\n",
        "# Plot MAE and Loss\r\n",
        "#------------------------------------------------\r\n",
        "plt.plot(epochs, mae, 'r')\r\n",
        "plt.plot(epochs, loss, 'b')\r\n",
        "plt.title('MAE and Loss')\r\n",
        "plt.xlabel(\"Epochs\")\r\n",
        "plt.ylabel(\"Accuracy\")\r\n",
        "plt.legend([\"MAE\", \"Loss\"])\r\n",
        "\r\n",
        "plt.figure()\r\n",
        "\r\n",
        "epochs_zoom = epochs[200:]\r\n",
        "mae_zoom = mae[200:]\r\n",
        "loss_zoom = loss[200:]\r\n",
        "\r\n",
        "#------------------------------------------------\r\n",
        "# Plot Zoomed MAE and Loss\r\n",
        "#------------------------------------------------\r\n",
        "plt.plot(epochs_zoom, mae_zoom, 'r')\r\n",
        "plt.plot(epochs_zoom, loss_zoom, 'b')\r\n",
        "plt.title('MAE and Loss')\r\n",
        "plt.xlabel(\"Epochs\")\r\n",
        "plt.ylabel(\"Accuracy\")\r\n",
        "plt.legend([\"MAE\", \"Loss\"])\r\n",
        "\r\n",
        "plt.figure()"
      ],
      "outputs": [],
      "metadata": {}
    }
  ],
  "metadata": {
    "colab": {
      "collapsed_sections": [],
      "include_colab_link": true,
      "name": "S+P Week 3 Lesson 2 - RNN.ipynb",
      "provenance": [],
      "toc_visible": true
    },
    "kernelspec": {
      "name": "python3",
      "display_name": "Python 3.7.9 64-bit"
    },
    "language_info": {
      "name": "python",
      "version": "3.7.9",
      "mimetype": "text/x-python",
      "codemirror_mode": {
        "name": "ipython",
        "version": 3
      },
      "pygments_lexer": "ipython3",
      "nbconvert_exporter": "python",
      "file_extension": ".py"
    },
    "interpreter": {
      "hash": "360eb45faca1e4dfefc4f13aa9499776008d91528b4d443d812d58097d713eb4"
    }
  },
  "nbformat": 4,
  "nbformat_minor": 2
}