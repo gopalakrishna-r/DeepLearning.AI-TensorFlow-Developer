{
 "cells": [
  {
   "cell_type": "code",
   "execution_count": 1,
   "metadata": {
    "colab": {},
    "colab_type": "code",
    "id": "zX4Kg8DUTKWO"
   },
   "outputs": [],
   "source": [
    "# @title Licensed under the Apache License, Version 2.0 (the \"License\");\n",
    "# you may not use this file except in compliance with the License.\n",
    "# You may obtain a copy of the License at\n",
    "#\n",
    "# https://www.apache.org/licenses/LICENSE-2.0\n",
    "#\n",
    "# Unless required by applicable law or agreed to in writing, software\n",
    "# distributed under the License is distributed on an \"AS IS\" BASIS,\n",
    "# WITHOUT WARRANTIES OR CONDITIONS OF ANY KIND, either express or implied.\n",
    "# See the License for the specific language governing permissions and\n",
    "# limitations under the License."
   ]
  },
  {
   "cell_type": "markdown",
   "metadata": {
    "colab_type": "text",
    "id": "view-in-github"
   },
   "source": [
    "<a href=\"https://colab.research.google.com/github/lmoroney/dlaicourse/blob/master/TensorFlow%20In%20Practice/Course%204%20-%20S%2BP/S%2BP%20Week%201%20-%20Lesson%203%20-%20Notebook.ipynb\" target=\"_parent\"><img src=\"https://colab.research.google.com/assets/colab-badge.svg\" alt=\"Open In Colab\"/></a>"
   ]
  },
  {
   "cell_type": "code",
   "execution_count": 2,
   "metadata": {
    "colab": {},
    "colab_type": "code",
    "id": "y7QztBIVR1tb"
   },
   "outputs": [],
   "source": [
    "try:\n",
    "    # %tensorflow_version only exists in Colab.\n",
    "    %tensorflow_version 2.x\n",
    "except Exception:\n",
    "    pass"
   ]
  },
  {
   "cell_type": "code",
   "execution_count": 3,
   "metadata": {
    "colab": {},
    "colab_type": "code",
    "id": "t9HrvPfrSlzS"
   },
   "outputs": [
    {
     "name": "stdout",
     "output_type": "stream",
     "text": [
      "2.9.0\n"
     ]
    }
   ],
   "source": [
    "import tensorflow as tf\n",
    "\n",
    "print(tf.__version__)"
   ]
  },
  {
   "cell_type": "markdown",
   "metadata": {
    "colab_type": "text",
    "id": "I9x4GjlEVTQN"
   },
   "source": [
    "The next code block will set up the time series with seasonality, trend and a bit of noise. "
   ]
  },
  {
   "cell_type": "code",
   "execution_count": 4,
   "metadata": {
    "colab": {},
    "colab_type": "code",
    "id": "gqWabzlJ63nL"
   },
   "outputs": [],
   "source": [
    "import numpy as np\n",
    "import matplotlib.pyplot as plt\n",
    "from tensorflow import keras\n",
    "from pathlib import Path\n",
    "from datetime import datetime\n",
    "import io"
   ]
  },
  {
   "cell_type": "code",
   "execution_count": 5,
   "metadata": {},
   "outputs": [],
   "source": [
    "def rm_tree(pth):\n",
    "    pth = Path(pth)\n",
    "    for child in pth.iterdir():\n",
    "        if child.is_file():\n",
    "            child.unlink()\n",
    "        else:\n",
    "            rm_tree(child)\n",
    "    pth.rmdir()\n",
    "\n",
    "\n",
    "if (logdir := Path.joinpath(Path.cwd(), Path(\"logs\"))).exists():\n",
    "    rm_tree(str(logdir.resolve()))\n",
    "\n",
    "Path.mkdir(logdir, parents=True, exist_ok=True)\n",
    "\n",
    "# Clear out prior logging data.\n",
    "if (plotdir := Path.joinpath(logdir, \"plots\")).exists():\n",
    "    rm_tree(str(plotdir.resolve()))\n",
    "\n",
    "plotdir = Path.joinpath(plotdir, f\"{datetime.now().strftime('%Y%m%d-%H%M%S')}\")\n",
    "file_writer = tf.summary.create_file_writer(str(plotdir.resolve()))\n",
    "\n",
    "\n",
    "def plot_to_image(figure):\n",
    "    \"\"\"Converts the matplotlib plot specified by 'figure' to a PNG image and\n",
    "    returns it. The supplied figure is closed and inaccessible after this call.\"\"\"\n",
    "    # Save the plot to a PNG in memory.\n",
    "    buf = io.BytesIO()\n",
    "    plt.savefig(buf, format=\"png\")\n",
    "    # Closing the figure prevents it from being displayed directly inside\n",
    "    # the notebook.\n",
    "    plt.close(figure)\n",
    "    buf.seek(0)\n",
    "    # Convert PNG buffer to TF image\n",
    "    image = tf.image.decode_png(buf.getvalue(), channels=4)\n",
    "    # Add the batch dimension\n",
    "    image = tf.expand_dims(image, 0)\n",
    "    return image\n",
    "\n",
    "\n",
    "def plot_series(time, series, format=\"-\", start=0, end=None, series_name=\"\"):\n",
    "    figure = plt.figure(figsize=(10, 10))\n",
    "    plt.plot(time[start:end], series[start:end], format)\n",
    "    plt.xlabel(\"Time\")\n",
    "    plt.ylabel(\"Value\")\n",
    "    plt.grid(True)\n",
    "    with file_writer.as_default():\n",
    "        tf.summary.image(series_name, plot_to_image(figure), step=0)\n",
    "\n",
    "\n",
    "def trend(time, slope=0):\n",
    "    return slope * time\n",
    "\n",
    "\n",
    "def seasonal_pattern(season_time):\n",
    "    \"\"\"Just an arbitrary pattern, you can change it if you wish\"\"\"\n",
    "    return np.where(\n",
    "        season_time < 0.4, np.cos(season_time * 2 * np.pi), 1 / np.exp(3 * season_time)\n",
    "    )\n",
    "\n",
    "\n",
    "def seasonality(time, period, amplitude=1, phase=0):\n",
    "    \"\"\"Repeats the same pattern at each period\"\"\"\n",
    "    season_time = ((time + phase) % period) / period\n",
    "    return amplitude * seasonal_pattern(season_time)\n",
    "\n",
    "\n",
    "def noise(time, noise_level=1, seed=None):\n",
    "    rnd = np.random.RandomState(seed)\n",
    "    return rnd.randn(len(time)) * noise_level"
   ]
  },
  {
   "cell_type": "code",
   "execution_count": 6,
   "metadata": {},
   "outputs": [],
   "source": [
    "time = np.arange(4 * 365 + 1, dtype=\"float32\")\n",
    "baseline = 10\n",
    "series = trend(time, 0.1)\n",
    "baseline = 10\n",
    "amplitude = 40\n",
    "slope = 0.05\n",
    "noise_level = 5\n",
    "\n",
    "# Create the series\n",
    "series = (\n",
    "    baseline + trend(time, slope) + seasonality(time, period=365, amplitude=amplitude)\n",
    ")\n",
    "# Update with noise\n",
    "series += noise(time, noise_level, seed=42)\n",
    "\n",
    "plot_series(time, series, series_name=\"series_with_noise_trend\")"
   ]
  },
  {
   "cell_type": "markdown",
   "metadata": {
    "colab_type": "text",
    "id": "UfdyqJJ1VZVu"
   },
   "source": [
    "Now that we have the time series, let's split it so we can start forecasting"
   ]
  },
  {
   "cell_type": "code",
   "execution_count": 7,
   "metadata": {
    "colab": {},
    "colab_type": "code",
    "id": "_w0eKap5uFNP"
   },
   "outputs": [],
   "source": [
    "split_time = 1000\n",
    "time_train = time[:split_time]\n",
    "x_train = series[:split_time]\n",
    "time_valid = time[split_time:]\n",
    "x_valid = series[split_time:]\n",
    "\n",
    "plot_series(time_train, x_train, series_name=\"series_with_noise_trend_with_split\")\n",
    "\n",
    "plot_series(time_valid, x_valid, series_name=\"series_with_validation\")"
   ]
  },
  {
   "cell_type": "markdown",
   "metadata": {
    "colab_type": "text",
    "id": "bjD8ncEZbjEW"
   },
   "source": [
    "# Naive Forecast"
   ]
  },
  {
   "cell_type": "code",
   "execution_count": 8,
   "metadata": {
    "colab": {},
    "colab_type": "code",
    "id": "Pj_-uCeYxcAb"
   },
   "outputs": [],
   "source": [
    "naive_forecast = series[split_time - 1 : -1]"
   ]
  },
  {
   "cell_type": "code",
   "execution_count": 9,
   "metadata": {},
   "outputs": [],
   "source": [
    "format = \"-\""
   ]
  },
  {
   "cell_type": "code",
   "execution_count": 10,
   "metadata": {
    "colab": {},
    "colab_type": "code",
    "id": "JtxwHj9Ig0jT"
   },
   "outputs": [],
   "source": [
    "start = 0\n",
    "end = None\n",
    "figure = plt.figure(figsize=(10, 6))\n",
    "plt.plot(time_valid[start:end], x_valid[start:end], format)\n",
    "plt.plot(time_valid[start:end], naive_forecast[start:end], format)\n",
    "plt.xlabel(\"Time\")\n",
    "plt.ylabel(\"Value\")\n",
    "plt.grid(True)\n",
    "with file_writer.as_default():\n",
    "    tf.summary.image(\"naive_forecast\", plot_to_image(figure), step=0)"
   ]
  },
  {
   "cell_type": "markdown",
   "metadata": {
    "colab_type": "text",
    "id": "fw1SP5WeuixH"
   },
   "source": [
    "Let's zoom in on the start of the validation period:"
   ]
  },
  {
   "cell_type": "code",
   "execution_count": 11,
   "metadata": {
    "colab": {},
    "colab_type": "code",
    "id": "D0MKg7FNug9V"
   },
   "outputs": [],
   "source": [
    "figure = plt.figure(figsize=(10, 6))\n",
    "start = 0\n",
    "end = 150\n",
    "plt.plot(time_valid[start:end], x_valid[start:end], format)\n",
    "start = 1\n",
    "end = 151\n",
    "plt.plot(time_valid[start:end], naive_forecast[start:end], format)\n",
    "plt.xlabel(\"Time\")\n",
    "plt.ylabel(\"Value\")\n",
    "plt.grid(True)\n",
    "with file_writer.as_default():\n",
    "    tf.summary.image(\"naive_forecast_zoomed_in\", plot_to_image(figure), step=0)"
   ]
  },
  {
   "cell_type": "markdown",
   "metadata": {
    "colab_type": "text",
    "id": "35gIlQLfu0TT"
   },
   "source": [
    "You can see that the naive forecast lags 1 step behind the time series."
   ]
  },
  {
   "cell_type": "markdown",
   "metadata": {
    "colab_type": "text",
    "id": "Uh_7244Gsxfx"
   },
   "source": [
    "Now let's compute the mean squared error and the mean absolute error between the forecasts and the predictions in the validation period:"
   ]
  },
  {
   "cell_type": "code",
   "execution_count": 12,
   "metadata": {
    "colab": {},
    "colab_type": "code",
    "id": "byNnC7IbsnMZ"
   },
   "outputs": [
    {
     "name": "stdout",
     "output_type": "stream",
     "text": [
      "61.827534\n",
      "5.9379086\n"
     ]
    }
   ],
   "source": [
    "print(keras.metrics.mean_squared_error(x_valid, naive_forecast).numpy())\n",
    "print(keras.metrics.mean_absolute_error(x_valid, naive_forecast).numpy())"
   ]
  },
  {
   "cell_type": "markdown",
   "metadata": {
    "colab_type": "text",
    "id": "WGPBC9QttI1u"
   },
   "source": [
    "That's our baseline, now let's try a moving average:"
   ]
  },
  {
   "cell_type": "code",
   "execution_count": 13,
   "metadata": {
    "colab": {},
    "colab_type": "code",
    "id": "YGz5UsUdf2tV"
   },
   "outputs": [],
   "source": [
    "def moving_average_forecast(series, window_size):\n",
    "    \"\"\"Forecasts the mean of the last few values.\n",
    "    If window_size=1, then this is equivalent to naive forecast\"\"\"\n",
    "    forecast = [\n",
    "        series[time : time + window_size].mean()\n",
    "        for time in range(len(series) - window_size)\n",
    "    ]\n",
    "    return np.array(forecast)"
   ]
  },
  {
   "cell_type": "code",
   "execution_count": 14,
   "metadata": {
    "colab": {},
    "colab_type": "code",
    "id": "HHFhGXQji7_r"
   },
   "outputs": [],
   "source": [
    "moving_avg = moving_average_forecast(series, 30)[split_time - 30 :]\n",
    "\n",
    "figure = plt.figure(figsize=(10, 6))\n",
    "start = 0\n",
    "end = None\n",
    "plt.plot(time_valid[start:end], x_valid[start:end], format)\n",
    "plt.plot(time_valid[start:end], moving_avg[start:end], format)\n",
    "plt.xlabel(\"Time\")\n",
    "plt.ylabel(\"Value\")\n",
    "plt.grid(True)\n",
    "with file_writer.as_default():\n",
    "    tf.summary.image(\"naive_forecast_moving_averages\", plot_to_image(figure), step=0)"
   ]
  },
  {
   "cell_type": "code",
   "execution_count": 15,
   "metadata": {
    "colab": {},
    "colab_type": "code",
    "id": "wG7pTAd7z0e8"
   },
   "outputs": [
    {
     "name": "stdout",
     "output_type": "stream",
     "text": [
      "106.674576\n",
      "7.142419\n"
     ]
    }
   ],
   "source": [
    "print(keras.metrics.mean_squared_error(x_valid, moving_avg).numpy())\n",
    "print(keras.metrics.mean_absolute_error(x_valid, moving_avg).numpy())"
   ]
  },
  {
   "cell_type": "markdown",
   "metadata": {
    "colab_type": "text",
    "id": "JMYPnJqwz8nS"
   },
   "source": [
    "That's worse than naive forecast! The moving average does not anticipate trend or seasonality, so let's try to remove them by using differencing. Since the seasonality period is 365 days, we will subtract the value at time *t* – 365 from the value at time *t*."
   ]
  },
  {
   "cell_type": "code",
   "execution_count": 23,
   "metadata": {
    "colab": {},
    "colab_type": "code",
    "id": "5pqySF7-rJR4"
   },
   "outputs": [
    {
     "name": "stdout",
     "output_type": "stream",
     "text": [
      "1096 1096 1096 1461\n"
     ]
    }
   ],
   "source": [
    "diff_series = series[365:] - series[:-365]\n",
    "diff_time = time[365:]\n",
    "\n",
    "plot_series(diff_time, diff_series, series_name=\"seasonality_removed\")"
   ]
  },
  {
   "cell_type": "markdown",
   "metadata": {
    "colab_type": "text",
    "id": "xPlPlS7DskWg"
   },
   "source": [
    "Great, the trend and seasonality seem to be gone, so now we can use the moving average:"
   ]
  },
  {
   "cell_type": "code",
   "execution_count": 17,
   "metadata": {
    "colab": {},
    "colab_type": "code",
    "id": "QmZpz7arsjbb"
   },
   "outputs": [],
   "source": [
    "diff_moving_avg = moving_average_forecast(diff_series, 50)[split_time - 365 - 50 :]\n",
    "\n",
    "figure = plt.figure(figsize=(10, 6))\n",
    "start = 0\n",
    "end = None\n",
    "split_diff = diff_series[split_time - 365 :]\n",
    "plt.plot(time_valid[start:end], split_diff[start:end], format)\n",
    "plt.plot(time_valid[start:end], diff_moving_avg[start:end], format)\n",
    "plt.xlabel(\"Time\")\n",
    "plt.ylabel(\"Value\")\n",
    "plt.grid(True)\n",
    "with file_writer.as_default():\n",
    "    tf.summary.image(\"moving_avg_no_trend\", plot_to_image(figure), step=0)"
   ]
  },
  {
   "cell_type": "markdown",
   "metadata": {
    "colab_type": "text",
    "id": "Gno9S2lyecnc"
   },
   "source": [
    "Now let's bring back the trend and seasonality by adding the past values from t – 365:"
   ]
  },
  {
   "cell_type": "code",
   "execution_count": 18,
   "metadata": {
    "colab": {},
    "colab_type": "code",
    "id": "Dv6RWFq7TFGB"
   },
   "outputs": [],
   "source": [
    "diff_moving_avg_plus_past = series[split_time - 365 : -365] + diff_moving_avg\n",
    "\n",
    "figure = plt.figure(figsize=(10, 6))\n",
    "start = 0\n",
    "end = None\n",
    "plt.plot(time_valid[start:end], x_valid[start:end], format)\n",
    "plt.plot(time_valid[start:end], diff_moving_avg_plus_past[start:end], format)\n",
    "plt.xlabel(\"Time\")\n",
    "plt.ylabel(\"Value\")\n",
    "plt.grid(True)\n",
    "with file_writer.as_default():\n",
    "    tf.summary.image(\"moving_avg_with_trend\", plot_to_image(figure), step=0)"
   ]
  },
  {
   "cell_type": "code",
   "execution_count": 19,
   "metadata": {
    "colab": {},
    "colab_type": "code",
    "id": "59jmBrwcTFCx"
   },
   "outputs": [
    {
     "name": "stdout",
     "output_type": "stream",
     "text": [
      "52.97366\n",
      "5.8393106\n"
     ]
    }
   ],
   "source": [
    "print(keras.metrics.mean_squared_error(x_valid, diff_moving_avg_plus_past).numpy())\n",
    "print(keras.metrics.mean_absolute_error(x_valid, diff_moving_avg_plus_past).numpy())"
   ]
  },
  {
   "cell_type": "markdown",
   "metadata": {
    "colab_type": "text",
    "id": "vx9Et1Hkeusl"
   },
   "source": [
    "Better than naive forecast, good. However the forecasts look a bit too random, because we're just adding past values, which were noisy. Let's use a moving averaging on past values to remove some of the noise:"
   ]
  },
  {
   "cell_type": "code",
   "execution_count": 20,
   "metadata": {
    "colab": {},
    "colab_type": "code",
    "id": "K81dtROoTE_r"
   },
   "outputs": [],
   "source": [
    "diff_moving_avg_plus_smooth_past = (\n",
    "    moving_average_forecast(series[split_time - 370 : -360], 10) + diff_moving_avg\n",
    ")\n",
    "\n",
    "figure = plt.figure(figsize=(10, 6))\n",
    "start = 0\n",
    "end = None\n",
    "plt.plot(time_valid[start:end], x_valid[start:end], format)\n",
    "plt.plot(time_valid[start:end], diff_moving_avg_plus_smooth_past[start:end], format)\n",
    "plt.xlabel(\"Time\")\n",
    "plt.ylabel(\"Value\")\n",
    "plt.grid(True)\n",
    "with file_writer.as_default():\n",
    "    tf.summary.image(\"moving_avg_with_smoothened_past\", plot_to_image(figure), step=0)"
   ]
  },
  {
   "cell_type": "code",
   "execution_count": 21,
   "metadata": {
    "colab": {},
    "colab_type": "code",
    "id": "iN2MsBxWTE3m"
   },
   "outputs": [
    {
     "name": "stdout",
     "output_type": "stream",
     "text": [
      "33.452267\n",
      "4.569442\n"
     ]
    }
   ],
   "source": [
    "print(\n",
    "    keras.metrics.mean_squared_error(x_valid, diff_moving_avg_plus_smooth_past).numpy()\n",
    ")\n",
    "print(\n",
    "    keras.metrics.mean_absolute_error(x_valid, diff_moving_avg_plus_smooth_past).numpy()\n",
    ")"
   ]
  },
  {
   "cell_type": "code",
   "execution_count": null,
   "metadata": {},
   "outputs": [],
   "source": []
  }
 ],
 "metadata": {
  "accelerator": "GPU",
  "colab": {
   "collapsed_sections": [],
   "include_colab_link": true,
   "name": "S+P Week 1 - Lesson 3 - Notebook.ipynb",
   "provenance": [],
   "toc_visible": true
  },
  "interpreter": {
   "hash": "360eb45faca1e4dfefc4f13aa9499776008d91528b4d443d812d58097d713eb4"
  },
  "kernelspec": {
   "display_name": "Python 3.7.9 64-bit",
   "name": "python3"
  },
  "language_info": {
   "codemirror_mode": {
    "name": "ipython",
    "version": 3
   },
   "file_extension": ".py",
   "mimetype": "text/x-python",
   "name": "python",
   "nbconvert_exporter": "python",
   "pygments_lexer": "ipython3",
   "version": "3.8.10"
  }
 },
 "nbformat": 4,
 "nbformat_minor": 2
}
