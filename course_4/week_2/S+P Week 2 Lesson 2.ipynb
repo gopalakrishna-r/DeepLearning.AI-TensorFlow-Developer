{
  "cells": [
    {
      "cell_type": "code",
      "execution_count": 1,
<<<<<<< HEAD
<<<<<<< HEAD
      "metadata": {
        "colab": {},
        "colab_type": "code",
        "id": "zX4Kg8DUTKWO"
      },
      "outputs": [],
      "source": [
        "#@title Licensed under the Apache License, Version 2.0 (the \"License\");\n",
        "# you may not use this file except in compliance with the License.\n",
        "# You may obtain a copy of the License at\n",
        "#\n",
        "# https://www.apache.org/licenses/LICENSE-2.0\n",
        "#\n",
        "# Unless required by applicable law or agreed to in writing, software\n",
        "# distributed under the License is distributed on an \"AS IS\" BASIS,\n",
        "# WITHOUT WARRANTIES OR CONDITIONS OF ANY KIND, either express or implied.\n",
        "# See the License for the specific language governing permissions and\n",
        "# limitations under the License."
      ]
    },
    {
      "cell_type": "markdown",
      "metadata": {
        "colab_type": "text",
        "id": "view-in-github"
      },
      "source": [
        "<a href=\"https://colab.research.google.com/github/lmoroney/dlaicourse/blob/master/TensorFlow%20In%20Practice/Course%204%20-%20S%2BP/S%2BP%20Week%202%20Lesson%202.ipynb\" target=\"_parent\"><img src=\"https://colab.research.google.com/assets/colab-badge.svg\" alt=\"Open In Colab\"/></a>"
      ]
=======
=======
>>>>>>> origin/main
      "source": [
        "#@title Licensed under the Apache License, Version 2.0 (the \"License\");\r\n",
        "# you may not use this file except in compliance with the License.\r\n",
        "# You may obtain a copy of the License at\r\n",
        "#\r\n",
        "# https://www.apache.org/licenses/LICENSE-2.0\r\n",
        "#\r\n",
        "# Unless required by applicable law or agreed to in writing, software\r\n",
        "# distributed under the License is distributed on an \"AS IS\" BASIS,\r\n",
        "# WITHOUT WARRANTIES OR CONDITIONS OF ANY KIND, either express or implied.\r\n",
        "# See the License for the specific language governing permissions and\r\n",
        "# limitations under the License."
      ],
      "outputs": [],
      "metadata": {
        "id": "zX4Kg8DUTKWO",
        "colab_type": "code",
        "colab": {}
      }
    },
    {
      "cell_type": "markdown",
      "source": [
        "<a href=\"https://colab.research.google.com/github/lmoroney/dlaicourse/blob/master/TensorFlow%20In%20Practice/Course%204%20-%20S%2BP/S%2BP%20Week%202%20Lesson%202.ipynb\" target=\"_parent\"><img src=\"https://colab.research.google.com/assets/colab-badge.svg\" alt=\"Open In Colab\"/></a>"
      ],
      "metadata": {
        "colab_type": "text",
        "id": "view-in-github"
      }
<<<<<<< HEAD
>>>>>>> 34e6b21abfc5b069204bb7f9f57f96b96d215fc6
=======
>>>>>>> origin/main
    },
    {
      "cell_type": "code",
      "execution_count": 2,
<<<<<<< HEAD
<<<<<<< HEAD
=======
=======
>>>>>>> origin/main
      "source": [
        "try:\r\n",
        "  # %tensorflow_version only exists in Colab.\r\n",
        "  %tensorflow_version 2.x\r\n",
        "except Exception:\r\n",
        "  pass"
      ],
      "outputs": [],
<<<<<<< HEAD
>>>>>>> 34e6b21abfc5b069204bb7f9f57f96b96d215fc6
=======
>>>>>>> origin/main
      "metadata": {
        "colab": {},
        "colab_type": "code",
        "id": "-pwam8szRReT"
<<<<<<< HEAD
<<<<<<< HEAD
      },
      "outputs": [],
      "source": [
        "try:\n",
        "  # %tensorflow_version only exists in Colab.\n",
        "  %tensorflow_version 2.x\n",
        "except Exception:\n",
        "  pass"
      ]
=======
      }
>>>>>>> 34e6b21abfc5b069204bb7f9f57f96b96d215fc6
=======
      }
>>>>>>> origin/main
    },
    {
      "cell_type": "code",
      "execution_count": 3,
<<<<<<< HEAD
<<<<<<< HEAD
=======
=======
>>>>>>> origin/main
      "source": [
        "import tensorflow as tf\r\n",
        "import numpy as np\r\n",
        "import matplotlib.pyplot as plt\r\n",
        "print(tf.__version__)"
      ],
      "outputs": [
        {
          "output_type": "stream",
          "name": "stdout",
          "text": [
            "2.3.0\n"
          ]
        }
      ],
<<<<<<< HEAD
>>>>>>> 34e6b21abfc5b069204bb7f9f57f96b96d215fc6
=======
>>>>>>> origin/main
      "metadata": {
        "colab": {},
        "colab_type": "code",
        "id": "BOjujz601HcS"
<<<<<<< HEAD
<<<<<<< HEAD
      },
      "outputs": [
        {
          "name": "stdout",
          "output_type": "stream",
          "text": [
            "2.7.4\n"
          ]
        }
      ],
      "source": [
        "import tensorflow as tf\n",
        "import numpy as np\n",
        "import matplotlib.pyplot as plt\n",
        "print(tf.__version__)"
      ]
=======
      }
>>>>>>> 34e6b21abfc5b069204bb7f9f57f96b96d215fc6
=======
      }
>>>>>>> origin/main
    },
    {
      "cell_type": "code",
      "execution_count": 4,
<<<<<<< HEAD
<<<<<<< HEAD
=======
=======
>>>>>>> origin/main
      "source": [
        "def plot_series(time, series, format=\"-\", start=0, end=None):\r\n",
        "    plt.plot(time[start:end], series[start:end], format)\r\n",
        "    plt.xlabel(\"Time\")\r\n",
        "    plt.ylabel(\"Value\")\r\n",
        "    plt.grid(True)\r\n",
        "\r\n",
        "def trend(time, slope=0):\r\n",
        "    return slope * time\r\n",
        "\r\n",
        "def seasonal_pattern(season_time):\r\n",
        "    \"\"\"Just an arbitrary pattern, you can change it if you wish\"\"\"\r\n",
        "    return np.where(season_time < 0.4,\r\n",
        "                    np.cos(season_time * 2 * np.pi),\r\n",
        "                    1 / np.exp(3 * season_time))\r\n",
        "\r\n",
        "def seasonality(time, period, amplitude=1, phase=0):\r\n",
        "    \"\"\"Repeats the same pattern at each period\"\"\"\r\n",
        "    season_time = ((time + phase) % period) / period\r\n",
        "    return amplitude * seasonal_pattern(season_time)\r\n",
        "\r\n",
        "def noise(time, noise_level=1, seed=None):\r\n",
        "    rnd = np.random.RandomState(seed)\r\n",
        "    return rnd.randn(len(time)) * noise_level\r\n",
        "\r\n",
        "time = np.arange(4 * 365 + 1, dtype=\"float32\")\r\n",
        "baseline = 10\r\n",
        "series = trend(time, 0.1)  \r\n",
        "baseline = 10\r\n",
        "amplitude = 40\r\n",
        "slope = 0.05\r\n",
        "noise_level = 5\r\n",
        "\r\n",
        "# Create the series\r\n",
        "series = baseline + trend(time, slope) + seasonality(time, period=365, amplitude=amplitude)\r\n",
        "# Update with noise\r\n",
        "series += noise(time, noise_level, seed=42)\r\n",
        "\r\n",
        "split_time = 1000\r\n",
        "time_train = time[:split_time]\r\n",
        "x_train = series[:split_time]\r\n",
        "time_valid = time[split_time:]\r\n",
        "x_valid = series[split_time:]\r\n",
        "\r\n",
        "window_size = 20\r\n",
        "batch_size = 32\r\n",
        "shuffle_buffer_size = 1000"
      ],
      "outputs": [],
<<<<<<< HEAD
>>>>>>> 34e6b21abfc5b069204bb7f9f57f96b96d215fc6
=======
>>>>>>> origin/main
      "metadata": {
        "colab": {},
        "colab_type": "code",
        "id": "Zswl7jRtGzkk"
<<<<<<< HEAD
<<<<<<< HEAD
      },
      "outputs": [],
      "source": [
        "def plot_series(time, series, format=\"-\", start=0, end=None):\n",
        "    plt.plot(time[start:end], series[start:end], format)\n",
        "    plt.xlabel(\"Time\")\n",
        "    plt.ylabel(\"Value\")\n",
        "    plt.grid(True)\n",
        "\n",
        "def trend(time, slope=0):\n",
        "    return slope * time\n",
        "\n",
        "def seasonal_pattern(season_time):\n",
        "    \"\"\"Just an arbitrary pattern, you can change it if you wish\"\"\"\n",
        "    return np.where(season_time < 0.4,\n",
        "                    np.cos(season_time * 2 * np.pi),\n",
        "                    1 / np.exp(3 * season_time))\n",
        "\n",
        "def seasonality(time, period, amplitude=1, phase=0):\n",
        "    \"\"\"Repeats the same pattern at each period\"\"\"\n",
        "    season_time = ((time + phase) % period) / period\n",
        "    return amplitude * seasonal_pattern(season_time)\n",
        "\n",
        "def noise(time, noise_level=1, seed=None):\n",
        "    rnd = np.random.RandomState(seed)\n",
        "    return rnd.randn(len(time)) * noise_level\n",
        "\n",
        "time = np.arange(4 * 365 + 1, dtype=\"float32\")\n",
        "baseline = 10\n",
        "series = trend(time, 0.1)  \n",
        "baseline = 10\n",
        "amplitude = 40\n",
        "slope = 0.05\n",
        "noise_level = 5\n",
        "\n",
        "# Create the series\n",
        "series = baseline + trend(time, slope) + seasonality(time, period=365, amplitude=amplitude)\n",
        "# Update with noise\n",
        "series += noise(time, noise_level, seed=42)\n",
        "\n",
        "split_time = 1000\n",
        "time_train = time[:split_time]\n",
        "x_train = series[:split_time]\n",
        "time_valid = time[split_time:]\n",
        "x_valid = series[split_time:]\n",
        "\n",
        "window_size = 20\n",
        "batch_size = 32\n",
        "shuffle_buffer_size = 1000"
      ]
=======
      }
>>>>>>> 34e6b21abfc5b069204bb7f9f57f96b96d215fc6
=======
      }
>>>>>>> origin/main
    },
    {
      "cell_type": "code",
      "execution_count": 5,
<<<<<<< HEAD
<<<<<<< HEAD
=======
=======
>>>>>>> origin/main
      "source": [
        "def windowed_dataset(series, window_size, batch_size, shuffle_buffer):\r\n",
        "  dataset = tf.data.Dataset.from_tensor_slices(series)\r\n",
        "  dataset = dataset.window(window_size + 1, shift=1, drop_remainder=True)\r\n",
        "  dataset = dataset.flat_map(lambda window: window.batch(window_size + 1))\r\n",
        "  dataset = dataset.shuffle(shuffle_buffer).map(lambda window: (window[:-1], window[-1]))\r\n",
        "  dataset = dataset.batch(batch_size).prefetch(1)\r\n",
        "  return dataset"
      ],
      "outputs": [],
<<<<<<< HEAD
>>>>>>> 34e6b21abfc5b069204bb7f9f57f96b96d215fc6
=======
>>>>>>> origin/main
      "metadata": {
        "colab": {},
        "colab_type": "code",
        "id": "4sTTIOCbyShY"
<<<<<<< HEAD
<<<<<<< HEAD
      },
      "outputs": [],
      "source": [
        "def windowed_dataset(series, window_size, batch_size, shuffle_buffer):\n",
        "  dataset = tf.data.Dataset.from_tensor_slices(series)\n",
        "  dataset = dataset.window(window_size + 1, shift=1, drop_remainder=True)\n",
        "  dataset = dataset.flat_map(lambda window: window.batch(window_size + 1))\n",
        "  dataset = dataset.shuffle(shuffle_buffer).map(lambda window: (window[:-1], window[-1]))\n",
        "  dataset = dataset.batch(batch_size).prefetch(1)\n",
        "  return dataset"
      ]
=======
      }
>>>>>>> 34e6b21abfc5b069204bb7f9f57f96b96d215fc6
=======
      }
>>>>>>> origin/main
    },
    {
      "cell_type": "code",
      "execution_count": 6,
<<<<<<< HEAD
<<<<<<< HEAD
=======
=======
>>>>>>> origin/main
      "source": [
        "dataset = windowed_dataset(x_train, window_size, batch_size, shuffle_buffer_size)\r\n",
        "print(dataset)\r\n",
        "l0 = tf.keras.layers.Dense(1, input_shape=[window_size])\r\n",
        "model = tf.keras.models.Sequential([l0])\r\n",
        "\r\n",
        "\r\n",
        "model.compile(loss=\"mse\", optimizer=tf.keras.optimizers.SGD(lr=1e-6, momentum=0.9))\r\n",
        "model.fit(dataset,epochs=100,verbose=0)\r\n",
        "\r\n",
        "print(\"Layer weights {}\".format(l0.get_weights()))\r\n"
      ],
      "outputs": [
        {
          "output_type": "stream",
          "name": "stdout",
          "text": [
            "<PrefetchDataset shapes: ((None, None), (None,)), types: (tf.float32, tf.float32)>\n",
            "Layer weights [array([[-4.93439883e-02],\n",
            "       [ 1.89993680e-02],\n",
            "       [-4.24342696e-04],\n",
            "       [ 5.38912369e-03],\n",
            "       [ 2.89269611e-02],\n",
            "       [ 2.63927830e-03],\n",
            "       [ 4.22925986e-02],\n",
            "       [-4.01877388e-02],\n",
            "       [ 1.07747708e-02],\n",
            "       [-3.61358151e-02],\n",
            "       [ 1.57556739e-02],\n",
            "       [-5.39700240e-02],\n",
            "       [ 1.22629870e-02],\n",
            "       [ 6.45419061e-02],\n",
            "       [ 5.56612909e-02],\n",
            "       [-2.81956103e-02],\n",
            "       [ 1.10050753e-01],\n",
            "       [ 1.19610995e-01],\n",
            "       [ 2.70436615e-01],\n",
            "       [ 4.45470512e-01]], dtype=float32), array([0.0115962], dtype=float32)]\n"
          ]
        }
      ],
<<<<<<< HEAD
>>>>>>> 34e6b21abfc5b069204bb7f9f57f96b96d215fc6
=======
>>>>>>> origin/main
      "metadata": {
        "colab": {},
        "colab_type": "code",
        "id": "ou-WmE2AXu6B"
<<<<<<< HEAD
<<<<<<< HEAD
      },
      "outputs": [
        {
          "name": "stdout",
          "output_type": "stream",
          "text": [
            "<PrefetchDataset shapes: ((None, None), (None,)), types: (tf.float32, tf.float32)>\n"
          ]
        },
        {
          "name": "stderr",
          "output_type": "stream",
          "text": [
            "c:\\Users\\goofy\\AppData\\Local\\Programs\\Python\\Python38\\lib\\site-packages\\keras\\optimizer_v2\\gradient_descent.py:102: UserWarning: The `lr` argument is deprecated, use `learning_rate` instead.\n",
            "  super(SGD, self).__init__(name, **kwargs)\n"
          ]
        },
        {
          "name": "stdout",
          "output_type": "stream",
          "text": [
            "Layer weights [array([[ 0.0403963 ],\n",
            "       [-0.11715079],\n",
            "       [ 0.01986315],\n",
            "       [ 0.00485034],\n",
            "       [ 0.08702139],\n",
            "       [-0.00384984],\n",
            "       [ 0.00478636],\n",
            "       [-0.08789124],\n",
            "       [ 0.05039694],\n",
            "       [ 0.07859352],\n",
            "       [-0.10353088],\n",
            "       [-0.0286922 ],\n",
            "       [-0.00855249],\n",
            "       [ 0.10270029],\n",
            "       [-0.00921749],\n",
            "       [ 0.09279794],\n",
            "       [-0.07947379],\n",
            "       [ 0.2584374 ],\n",
            "       [ 0.28084144],\n",
            "       [ 0.41257942]], dtype=float32), array([0.01417626], dtype=float32)]\n"
          ]
        }
      ],
      "source": [
        "dataset = windowed_dataset(x_train, window_size, batch_size, shuffle_buffer_size)\n",
        "print(dataset)\n",
        "l0 = tf.keras.layers.Dense(1, input_shape=[window_size])\n",
        "model = tf.keras.models.Sequential([l0])\n",
        "\n",
        "\n",
        "model.compile(loss=\"mse\", optimizer=tf.keras.optimizers.SGD(lr=1e-6, momentum=0.9))\n",
        "model.fit(dataset,epochs=100,verbose=0)\n",
        "\n",
        "print(\"Layer weights {}\".format(l0.get_weights()))\n"
      ]
    },
    {
      "cell_type": "code",
      "execution_count": 7,
=======
=======
>>>>>>> origin/main
      }
    },
    {
      "cell_type": "code",
      "execution_count": 10,
      "source": [
        "forecast = []\r\n",
        "\r\n",
        "for time in range(len(series) - window_size):\r\n",
        "  forecast.append(model.predict(series[time:time + window_size][np.newaxis]))\r\n"
      ],
      "outputs": [
        {
          "output_type": "execute_result",
          "data": {
            "text/plain": [
              "(461, 1, 1)"
            ]
          },
          "metadata": {},
          "execution_count": 10
        }
      ],
<<<<<<< HEAD
>>>>>>> 34e6b21abfc5b069204bb7f9f57f96b96d215fc6
=======
>>>>>>> origin/main
      "metadata": {
        "colab": {},
        "colab_type": "code",
        "id": "-gtVJuLVxR-M"
<<<<<<< HEAD
<<<<<<< HEAD
      },
      "outputs": [],
      "source": [
        "forecast = []\n",
        "\n",
        "for time in range(len(series) - window_size):\n",
        "  forecast.append(model.predict(series[time:time + window_size][np.newaxis]))\n"
      ]
=======
=======
>>>>>>> origin/main
      }
    },
    {
      "cell_type": "code",
      "execution_count": 11,
      "source": [
        "forecast = forecast[split_time-window_size:]\r\n",
        "results = np.array(forecast)[:, 0, 0]\r\n",
        "\r\n",
        "\r\n",
        "plt.figure(figsize=(10, 6))\r\n",
        "\r\n",
        "plot_series(time_valid, x_valid)\r\n",
        "plot_series(time_valid, results)\r\n",
        "results.shape"
      ],
      "outputs": [
        {
          "output_type": "error",
          "ename": "IndexError",
          "evalue": "too many indices for array: array is 1-dimensional, but 3 were indexed",
          "traceback": [
            "\u001b[1;31m---------------------------------------------------------------------------\u001b[0m",
            "\u001b[1;31mIndexError\u001b[0m                                Traceback (most recent call last)",
            "\u001b[1;32m<ipython-input-11-042ab1062627>\u001b[0m in \u001b[0;36m<module>\u001b[1;34m\u001b[0m\n\u001b[0;32m      1\u001b[0m \u001b[0mforecast\u001b[0m \u001b[1;33m=\u001b[0m \u001b[0mforecast\u001b[0m\u001b[1;33m[\u001b[0m\u001b[0msplit_time\u001b[0m\u001b[1;33m-\u001b[0m\u001b[0mwindow_size\u001b[0m\u001b[1;33m:\u001b[0m\u001b[1;33m]\u001b[0m\u001b[1;33m\u001b[0m\u001b[1;33m\u001b[0m\u001b[0m\n\u001b[1;32m----> 2\u001b[1;33m \u001b[0mresults\u001b[0m \u001b[1;33m=\u001b[0m \u001b[0mnp\u001b[0m\u001b[1;33m.\u001b[0m\u001b[0marray\u001b[0m\u001b[1;33m(\u001b[0m\u001b[0mforecast\u001b[0m\u001b[1;33m)\u001b[0m\u001b[1;33m[\u001b[0m\u001b[1;33m:\u001b[0m\u001b[1;33m,\u001b[0m \u001b[1;36m0\u001b[0m\u001b[1;33m,\u001b[0m \u001b[1;36m0\u001b[0m\u001b[1;33m]\u001b[0m\u001b[1;33m\u001b[0m\u001b[1;33m\u001b[0m\u001b[0m\n\u001b[0m\u001b[0;32m      3\u001b[0m \u001b[1;33m\u001b[0m\u001b[0m\n\u001b[0;32m      4\u001b[0m \u001b[1;33m\u001b[0m\u001b[0m\n\u001b[0;32m      5\u001b[0m \u001b[0mplt\u001b[0m\u001b[1;33m.\u001b[0m\u001b[0mfigure\u001b[0m\u001b[1;33m(\u001b[0m\u001b[0mfigsize\u001b[0m\u001b[1;33m=\u001b[0m\u001b[1;33m(\u001b[0m\u001b[1;36m10\u001b[0m\u001b[1;33m,\u001b[0m \u001b[1;36m6\u001b[0m\u001b[1;33m)\u001b[0m\u001b[1;33m)\u001b[0m\u001b[1;33m\u001b[0m\u001b[1;33m\u001b[0m\u001b[0m\n",
            "\u001b[1;31mIndexError\u001b[0m: too many indices for array: array is 1-dimensional, but 3 were indexed"
          ]
        }
      ],
      "metadata": {}
<<<<<<< HEAD
>>>>>>> 34e6b21abfc5b069204bb7f9f57f96b96d215fc6
=======
>>>>>>> origin/main
    },
    {
      "cell_type": "code",
      "execution_count": 8,
<<<<<<< HEAD
<<<<<<< HEAD
      "metadata": {},
      "outputs": [
        {
          "data": {
            "image/png": "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",
            "text/plain": [
              "<Figure size 720x432 with 1 Axes>"
            ]
          },
          "metadata": {
            "needs_background": "light"
          },
          "output_type": "display_data"
        }
      ],
      "source": [
        "forecast = forecast[split_time-window_size:]\n",
        "results = np.array(forecast)[:, 0, 0]\n",
        "\n",
        "\n",
        "plt.figure(figsize=(10, 6))\n",
        "\n",
        "plot_series(time_valid, x_valid)\n",
        "plot_series(time_valid, results)"
      ]
    },
    {
      "cell_type": "code",
      "execution_count": 9,
=======
=======
>>>>>>> origin/main
      "source": [
        "tf.keras.metrics.mean_absolute_error(x_valid, results).numpy()"
      ],
      "outputs": [
        {
          "output_type": "execute_result",
          "data": {
            "text/plain": [
              "4.9629717"
            ]
          },
          "metadata": {},
          "execution_count": 8
        }
      ],
<<<<<<< HEAD
>>>>>>> 34e6b21abfc5b069204bb7f9f57f96b96d215fc6
=======
>>>>>>> origin/main
      "metadata": {
        "colab": {},
        "colab_type": "code",
        "id": "hR2BO0Dai_ZT"
<<<<<<< HEAD
<<<<<<< HEAD
      },
      "outputs": [
        {
          "data": {
            "text/plain": [
              "5.048763"
            ]
          },
          "execution_count": 9,
          "metadata": {},
          "output_type": "execute_result"
        }
      ],
      "source": [
        "tf.keras.metrics.mean_absolute_error(x_valid, results).numpy()"
      ]
=======
      }
>>>>>>> 34e6b21abfc5b069204bb7f9f57f96b96d215fc6
=======
      }
>>>>>>> origin/main
    }
  ],
  "metadata": {
    "colab": {
      "include_colab_link": true,
      "name": "S+P Week 2 Lesson 2.ipynb",
      "provenance": [],
      "toc_visible": true
    },
    "kernelspec": {
<<<<<<< HEAD
<<<<<<< HEAD
      "display_name": "Python 3.8.10 64-bit",
      "language": "python",
      "name": "python3"
    },
    "language_info": {
=======
=======
>>>>>>> origin/main
      "name": "python3",
      "display_name": "Python 3.7.9 64-bit"
    },
    "language_info": {
      "name": "python",
      "version": "3.7.9",
      "mimetype": "text/x-python",
<<<<<<< HEAD
>>>>>>> 34e6b21abfc5b069204bb7f9f57f96b96d215fc6
=======
>>>>>>> origin/main
      "codemirror_mode": {
        "name": "ipython",
        "version": 3
      },
<<<<<<< HEAD
<<<<<<< HEAD
      "file_extension": ".py",
      "mimetype": "text/x-python",
      "name": "python",
      "nbconvert_exporter": "python",
      "pygments_lexer": "ipython3",
      "version": "3.8.10"
    },
    "vscode": {
      "interpreter": {
        "hash": "c506d1f39c0ed203b21fe551da708c189199b4eb24b97c88a7b4d83b7442f034"
      }
=======
=======
>>>>>>> origin/main
      "pygments_lexer": "ipython3",
      "nbconvert_exporter": "python",
      "file_extension": ".py"
    },
    "interpreter": {
      "hash": "360eb45faca1e4dfefc4f13aa9499776008d91528b4d443d812d58097d713eb4"
<<<<<<< HEAD
>>>>>>> 34e6b21abfc5b069204bb7f9f57f96b96d215fc6
=======
>>>>>>> origin/main
    }
  },
  "nbformat": 4,
  "nbformat_minor": 2
<<<<<<< HEAD
<<<<<<< HEAD
}
=======
}
>>>>>>> 34e6b21abfc5b069204bb7f9f57f96b96d215fc6
=======
}
>>>>>>> origin/main
