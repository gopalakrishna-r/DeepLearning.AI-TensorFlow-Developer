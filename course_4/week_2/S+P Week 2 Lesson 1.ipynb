{
  "cells": [
    {
      "cell_type": "code",
      "execution_count": 2,
<<<<<<< HEAD
<<<<<<< HEAD
      "metadata": {
        "colab": {},
        "colab_type": "code",
        "id": "zX4Kg8DUTKWO"
      },
      "outputs": [],
      "source": [
        "#@title Licensed under the Apache License, Version 2.0 (the \"License\");\n",
        "# you may not use this file except in compliance with the License.\n",
        "# You may obtain a copy of the License at\n",
        "#\n",
        "# https://www.apache.org/licenses/LICENSE-2.0\n",
        "#\n",
        "# Unless required by applicable law or agreed to in writing, software\n",
        "# distributed under the License is distributed on an \"AS IS\" BASIS,\n",
        "# WITHOUT WARRANTIES OR CONDITIONS OF ANY KIND, either express or implied.\n",
        "# See the License for the specific language governing permissions and\n",
        "# limitations under the License."
      ]
=======
=======
>>>>>>> origin/main
      "source": [
        "#@title Licensed under the Apache License, Version 2.0 (the \"License\");\r\n",
        "# you may not use this file except in compliance with the License.\r\n",
        "# You may obtain a copy of the License at\r\n",
        "#\r\n",
        "# https://www.apache.org/licenses/LICENSE-2.0\r\n",
        "#\r\n",
        "# Unless required by applicable law or agreed to in writing, software\r\n",
        "# distributed under the License is distributed on an \"AS IS\" BASIS,\r\n",
        "# WITHOUT WARRANTIES OR CONDITIONS OF ANY KIND, either express or implied.\r\n",
        "# See the License for the specific language governing permissions and\r\n",
        "# limitations under the License."
      ],
      "outputs": [],
      "metadata": {
        "id": "zX4Kg8DUTKWO",
        "colab_type": "code",
        "colab": {}
      }
<<<<<<< HEAD
>>>>>>> 34e6b21abfc5b069204bb7f9f57f96b96d215fc6
=======
>>>>>>> origin/main
    },
    {
      "cell_type": "code",
      "execution_count": 3,
<<<<<<< HEAD
<<<<<<< HEAD
=======
=======
>>>>>>> origin/main
      "source": [
        "try:\r\n",
        "  # %tensorflow_version only exists in Colab.\r\n",
        "  %tensorflow_version 2.x\r\n",
        "except Exception:\r\n",
        "  pass"
      ],
      "outputs": [],
<<<<<<< HEAD
>>>>>>> 34e6b21abfc5b069204bb7f9f57f96b96d215fc6
=======
>>>>>>> origin/main
      "metadata": {
        "colab": {},
        "colab_type": "code",
        "id": "s6eq-RBcQ_Zr"
<<<<<<< HEAD
<<<<<<< HEAD
      },
      "outputs": [],
      "source": [
        "try:\n",
        "  # %tensorflow_version only exists in Colab.\n",
        "  %tensorflow_version 2.x\n",
        "except Exception:\n",
        "  pass"
      ]
=======
      }
>>>>>>> 34e6b21abfc5b069204bb7f9f57f96b96d215fc6
=======
      }
>>>>>>> origin/main
    },
    {
      "cell_type": "code",
      "execution_count": 4,
<<<<<<< HEAD
<<<<<<< HEAD
      "metadata": {
        "colab": {},
        "colab_type": "code",
        "id": "BOjujz601HcS"
      },
      "outputs": [
        {
          "name": "stdout",
          "output_type": "stream",
=======
=======
>>>>>>> origin/main
      "source": [
        "import tensorflow as tf\r\n",
        "import numpy as np\r\n",
        "import matplotlib.pyplot as plt\r\n",
        "print(tf.__version__)"
      ],
      "outputs": [
        {
          "output_type": "stream",
          "name": "stdout",
<<<<<<< HEAD
>>>>>>> 34e6b21abfc5b069204bb7f9f57f96b96d215fc6
=======
>>>>>>> origin/main
          "text": [
            "2.3.0\n"
          ]
        }
      ],
<<<<<<< HEAD
<<<<<<< HEAD
      "source": [
        "import tensorflow as tf\n",
        "import numpy as np\n",
        "import matplotlib.pyplot as plt\n",
        "print(tf.__version__)"
      ]
=======
=======
>>>>>>> origin/main
      "metadata": {
        "colab": {},
        "colab_type": "code",
        "id": "BOjujz601HcS"
      }
<<<<<<< HEAD
>>>>>>> 34e6b21abfc5b069204bb7f9f57f96b96d215fc6
=======
>>>>>>> origin/main
    },
    {
      "cell_type": "code",
      "execution_count": 5,
<<<<<<< HEAD
<<<<<<< HEAD
      "metadata": {
        "colab": {},
        "colab_type": "code",
        "id": "asEdslR_05O_"
      },
      "outputs": [
        {
          "name": "stdout",
          "output_type": "stream",
=======
=======
>>>>>>> origin/main
      "source": [
        "dataset = tf.data.Dataset.range(10)\r\n",
        "for val in dataset:\r\n",
        "   print(val.numpy())"
      ],
      "outputs": [
        {
          "output_type": "stream",
          "name": "stdout",
<<<<<<< HEAD
>>>>>>> 34e6b21abfc5b069204bb7f9f57f96b96d215fc6
=======
>>>>>>> origin/main
          "text": [
            "0\n",
            "1\n",
            "2\n",
            "3\n",
            "4\n",
            "5\n",
            "6\n",
            "7\n",
            "8\n",
            "9\n"
          ]
        }
      ],
<<<<<<< HEAD
<<<<<<< HEAD
      "source": [
        "dataset = tf.data.Dataset.range(10)\n",
        "for val in dataset:\n",
        "   print(val.numpy())"
      ]
=======
=======
>>>>>>> origin/main
      "metadata": {
        "colab": {},
        "colab_type": "code",
        "id": "asEdslR_05O_"
      }
<<<<<<< HEAD
>>>>>>> 34e6b21abfc5b069204bb7f9f57f96b96d215fc6
=======
>>>>>>> origin/main
    },
    {
      "cell_type": "code",
      "execution_count": 6,
<<<<<<< HEAD
<<<<<<< HEAD
      "metadata": {
        "colab": {},
        "colab_type": "code",
        "id": "Lrv_ghSt1lgQ"
      },
      "outputs": [
        {
          "name": "stdout",
          "output_type": "stream",
=======
=======
>>>>>>> origin/main
      "source": [
        "dataset = tf.data.Dataset.range(10)\r\n",
        "dataset = dataset.window(5, shift=1)\r\n",
        "for window_dataset in dataset:\r\n",
        "  for val in window_dataset:\r\n",
        "    print(val.numpy(), end=\" \")\r\n",
        "  print()"
      ],
      "outputs": [
        {
          "output_type": "stream",
          "name": "stdout",
<<<<<<< HEAD
>>>>>>> 34e6b21abfc5b069204bb7f9f57f96b96d215fc6
=======
>>>>>>> origin/main
          "text": [
            "0 1 2 3 4 \n",
            "1 2 3 4 5 \n",
            "2 3 4 5 6 \n",
            "3 4 5 6 7 \n",
            "4 5 6 7 8 \n",
            "5 6 7 8 9 \n",
            "6 7 8 9 \n",
            "7 8 9 \n",
            "8 9 \n",
            "9 \n"
          ]
        }
      ],
<<<<<<< HEAD
<<<<<<< HEAD
      "source": [
        "dataset = tf.data.Dataset.range(10)\n",
        "dataset = dataset.window(5, shift=1)\n",
        "for window_dataset in dataset:\n",
        "  for val in window_dataset:\n",
        "    print(val.numpy(), end=\" \")\n",
        "  print()"
      ]
=======
=======
>>>>>>> origin/main
      "metadata": {
        "colab": {},
        "colab_type": "code",
        "id": "Lrv_ghSt1lgQ"
      }
<<<<<<< HEAD
>>>>>>> 34e6b21abfc5b069204bb7f9f57f96b96d215fc6
=======
>>>>>>> origin/main
    },
    {
      "cell_type": "code",
      "execution_count": 7,
<<<<<<< HEAD
<<<<<<< HEAD
      "metadata": {
        "colab": {},
        "colab_type": "code",
        "id": "QLEq6MG-2DN2"
      },
      "outputs": [
        {
          "name": "stdout",
          "output_type": "stream",
=======
=======
>>>>>>> origin/main
      "source": [
        "dataset = tf.data.Dataset.range(10)\r\n",
        "dataset = dataset.window(5, shift=1, drop_remainder=True)\r\n",
        "for window_dataset in dataset:\r\n",
        "  for val in window_dataset:\r\n",
        "    print(val.numpy(), end=\" \")\r\n",
        "  print()"
      ],
      "outputs": [
        {
          "output_type": "stream",
          "name": "stdout",
<<<<<<< HEAD
>>>>>>> 34e6b21abfc5b069204bb7f9f57f96b96d215fc6
=======
>>>>>>> origin/main
          "text": [
            "0 1 2 3 4 \n",
            "1 2 3 4 5 \n",
            "2 3 4 5 6 \n",
            "3 4 5 6 7 \n",
            "4 5 6 7 8 \n",
            "5 6 7 8 9 \n"
          ]
        }
      ],
<<<<<<< HEAD
<<<<<<< HEAD
      "source": [
        "dataset = tf.data.Dataset.range(10)\n",
        "dataset = dataset.window(5, shift=1, drop_remainder=True)\n",
        "for window_dataset in dataset:\n",
        "  for val in window_dataset:\n",
        "    print(val.numpy(), end=\" \")\n",
        "  print()"
      ]
=======
=======
>>>>>>> origin/main
      "metadata": {
        "colab": {},
        "colab_type": "code",
        "id": "QLEq6MG-2DN2"
      }
<<<<<<< HEAD
>>>>>>> 34e6b21abfc5b069204bb7f9f57f96b96d215fc6
=======
>>>>>>> origin/main
    },
    {
      "cell_type": "code",
      "execution_count": 13,
<<<<<<< HEAD
<<<<<<< HEAD
      "metadata": {
        "colab": {},
        "colab_type": "code",
        "id": "PJ9CAHlJ2ODe"
      },
      "outputs": [
        {
          "name": "stdout",
          "output_type": "stream",
=======
=======
>>>>>>> origin/main
      "source": [
        "dataset = tf.data.Dataset.range(10)\r\n",
        "dataset = dataset.window(5, shift=1, drop_remainder=True)\r\n",
        "dataset = dataset.flat_map(lambda window: window.batch(5))\r\n",
        "for window in dataset:\r\n",
        "  print(window)\r\n"
      ],
      "outputs": [
        {
          "output_type": "stream",
          "name": "stdout",
<<<<<<< HEAD
>>>>>>> 34e6b21abfc5b069204bb7f9f57f96b96d215fc6
=======
>>>>>>> origin/main
          "text": [
            "tf.Tensor([0 1 2 3 4], shape=(5,), dtype=int64)\n",
            "tf.Tensor([1 2 3 4 5], shape=(5,), dtype=int64)\n",
            "tf.Tensor([2 3 4 5 6], shape=(5,), dtype=int64)\n",
            "tf.Tensor([3 4 5 6 7], shape=(5,), dtype=int64)\n",
            "tf.Tensor([4 5 6 7 8], shape=(5,), dtype=int64)\n",
            "tf.Tensor([5 6 7 8 9], shape=(5,), dtype=int64)\n"
          ]
        }
      ],
<<<<<<< HEAD
<<<<<<< HEAD
      "source": [
        "dataset = tf.data.Dataset.range(10)\n",
        "dataset = dataset.window(5, shift=1, drop_remainder=True)\n",
        "dataset = dataset.flat_map(lambda window: window.batch(5))\n",
        "for window in dataset:\n",
        "  print(window)\n"
      ]
=======
=======
>>>>>>> origin/main
      "metadata": {
        "colab": {},
        "colab_type": "code",
        "id": "PJ9CAHlJ2ODe"
      }
<<<<<<< HEAD
>>>>>>> 34e6b21abfc5b069204bb7f9f57f96b96d215fc6
=======
>>>>>>> origin/main
    },
    {
      "cell_type": "code",
      "execution_count": 9,
<<<<<<< HEAD
<<<<<<< HEAD
      "metadata": {
        "colab": {},
        "colab_type": "code",
        "id": "DryEZ2Mz2nNV"
      },
      "outputs": [
        {
          "name": "stdout",
          "output_type": "stream",
=======
=======
>>>>>>> origin/main
      "source": [
        "dataset = tf.data.Dataset.range(15)\r\n",
        "dataset = dataset.window(5, shift=1, drop_remainder=True)\r\n",
        "dataset = dataset.flat_map(lambda window: window.batch(5))\r\n",
        "dataset = dataset.map(lambda window: (window[:-1], window[-1:]))\r\n",
        "for x,y in dataset:\r\n",
        "  print(x.numpy(), y.numpy())"
      ],
      "outputs": [
        {
          "output_type": "stream",
          "name": "stdout",
<<<<<<< HEAD
>>>>>>> 34e6b21abfc5b069204bb7f9f57f96b96d215fc6
=======
>>>>>>> origin/main
          "text": [
            "[0 1 2 3] [4]\n",
            "[1 2 3 4] [5]\n",
            "[2 3 4 5] [6]\n",
            "[3 4 5 6] [7]\n",
            "[4 5 6 7] [8]\n",
            "[5 6 7 8] [9]\n"
          ]
        }
      ],
<<<<<<< HEAD
<<<<<<< HEAD
      "source": [
        "dataset = tf.data.Dataset.range(15)\n",
        "dataset = dataset.window(5, shift=1, drop_remainder=True)\n",
        "dataset = dataset.flat_map(lambda window: window.batch(5))\n",
        "dataset = dataset.map(lambda window: (window[:-1], window[-1:]))\n",
        "for x,y in dataset:\n",
        "  print(x.numpy(), y.numpy())"
      ]
=======
=======
>>>>>>> origin/main
      "metadata": {
        "colab": {},
        "colab_type": "code",
        "id": "DryEZ2Mz2nNV"
      }
<<<<<<< HEAD
>>>>>>> 34e6b21abfc5b069204bb7f9f57f96b96d215fc6
=======
>>>>>>> origin/main
    },
    {
      "cell_type": "code",
      "execution_count": 10,
<<<<<<< HEAD
<<<<<<< HEAD
      "metadata": {
        "colab": {},
        "colab_type": "code",
        "id": "1tl-0BOKkEtk"
      },
      "outputs": [
        {
          "name": "stdout",
          "output_type": "stream",
=======
=======
>>>>>>> origin/main
      "source": [
        "dataset = tf.data.Dataset.range(10)\r\n",
        "dataset = dataset.window(5, shift=1, drop_remainder=True)\r\n",
        "dataset = dataset.flat_map(lambda window: window.batch(5))\r\n",
        "dataset = dataset.map(lambda window: (window[:-1], window[-1:]))\r\n",
        "dataset = dataset.shuffle(buffer_size=10)\r\n",
        "for x,y in dataset:\r\n",
        "  print(x.numpy(), y.numpy())\r\n"
      ],
      "outputs": [
        {
          "output_type": "stream",
          "name": "stdout",
<<<<<<< HEAD
>>>>>>> 34e6b21abfc5b069204bb7f9f57f96b96d215fc6
=======
>>>>>>> origin/main
          "text": [
            "[1 2 3 4] [5]\n",
            "[5 6 7 8] [9]\n",
            "[0 1 2 3] [4]\n",
            "[2 3 4 5] [6]\n",
            "[4 5 6 7] [8]\n",
            "[3 4 5 6] [7]\n"
          ]
        }
      ],
<<<<<<< HEAD
<<<<<<< HEAD
      "source": [
        "dataset = tf.data.Dataset.range(10)\n",
        "dataset = dataset.window(5, shift=1, drop_remainder=True)\n",
        "dataset = dataset.flat_map(lambda window: window.batch(5))\n",
        "dataset = dataset.map(lambda window: (window[:-1], window[-1:]))\n",
        "dataset = dataset.shuffle(buffer_size=10)\n",
        "for x,y in dataset:\n",
        "  print(x.numpy(), y.numpy())\n"
      ]
=======
=======
>>>>>>> origin/main
      "metadata": {
        "colab": {},
        "colab_type": "code",
        "id": "1tl-0BOKkEtk"
      }
<<<<<<< HEAD
>>>>>>> 34e6b21abfc5b069204bb7f9f57f96b96d215fc6
=======
>>>>>>> origin/main
    },
    {
      "cell_type": "code",
      "execution_count": 14,
<<<<<<< HEAD
<<<<<<< HEAD
      "metadata": {
        "colab": {},
        "colab_type": "code",
        "id": "Wa0PNwxMGapy"
      },
      "outputs": [
        {
=======
=======
>>>>>>> origin/main
      "source": [
        "dataset = tf.data.Dataset.range(10)\r\n",
        "dataset = dataset.window(5, shift=1, drop_remainder=True)\r\n",
        "dataset = dataset.flat_map(lambda window: window.batch(5))\r\n",
        "dataset = dataset.map(lambda window: (window[:-1], window[-1:]))\r\n",
        "dataset = dataset.shuffle(buffer_size=10)\r\n",
        "dataset = dataset.batch(2).prefetch(1)\r\n",
        "for x,y in dataset:\r\n",
        "  print(\"x = \", x.numpy())\r\n",
        "  print(\"y = \", y.numpy())\r\n"
      ],
      "outputs": [
        {
          "output_type": "execute_result",
<<<<<<< HEAD
>>>>>>> 34e6b21abfc5b069204bb7f9f57f96b96d215fc6
=======
>>>>>>> origin/main
          "data": {
            "text/plain": [
              "<WindowDataset shapes: DatasetSpec(TensorSpec(shape=(), dtype=tf.int64, name=None), TensorShape([])), types: DatasetSpec(TensorSpec(shape=(), dtype=tf.int64, name=None), TensorShape([]))>"
            ]
          },
<<<<<<< HEAD
<<<<<<< HEAD
          "execution_count": 14,
          "metadata": {},
          "output_type": "execute_result"
        }
      ],
      "source": [
        "dataset = tf.data.Dataset.range(10)\n",
        "dataset = dataset.window(5, shift=1, drop_remainder=True)\n",
        "dataset = dataset.flat_map(lambda window: window.batch(5))\n",
        "dataset = dataset.map(lambda window: (window[:-1], window[-1:]))\n",
        "dataset = dataset.shuffle(buffer_size=10)\n",
        "dataset = dataset.batch(2).prefetch(1)\n",
        "for x,y in dataset:\n",
        "  print(\"x = \", x.numpy())\n",
        "  print(\"y = \", y.numpy())\n"
      ]
=======
=======
>>>>>>> origin/main
          "metadata": {},
          "execution_count": 14
        }
      ],
      "metadata": {
        "colab": {},
        "colab_type": "code",
        "id": "Wa0PNwxMGapy"
      }
<<<<<<< HEAD
>>>>>>> 34e6b21abfc5b069204bb7f9f57f96b96d215fc6
=======
>>>>>>> origin/main
    }
  ],
  "metadata": {
    "accelerator": "GPU",
    "colab": {
      "name": "S+P Week 2 Lesson 1.ipynb",
      "provenance": [],
      "toc_visible": true
    },
    "kernelspec": {
<<<<<<< HEAD
<<<<<<< HEAD
      "display_name": "Python 3.8.10 64-bit",
      "language": "python",
      "name": "python3"
    },
    "language_info": {
=======
=======
>>>>>>> origin/main
      "name": "python3",
      "display_name": "Python 3.7.9 64-bit"
    },
    "language_info": {
      "name": "python",
      "version": "3.7.9",
      "mimetype": "text/x-python",
<<<<<<< HEAD
>>>>>>> 34e6b21abfc5b069204bb7f9f57f96b96d215fc6
=======
>>>>>>> origin/main
      "codemirror_mode": {
        "name": "ipython",
        "version": 3
      },
<<<<<<< HEAD
<<<<<<< HEAD
      "file_extension": ".py",
      "mimetype": "text/x-python",
      "name": "python",
      "nbconvert_exporter": "python",
      "pygments_lexer": "ipython3",
      "version": "3.8.10"
    },
    "vscode": {
      "interpreter": {
        "hash": "c506d1f39c0ed203b21fe551da708c189199b4eb24b97c88a7b4d83b7442f034"
      }
=======
=======
>>>>>>> origin/main
      "pygments_lexer": "ipython3",
      "nbconvert_exporter": "python",
      "file_extension": ".py"
    },
    "interpreter": {
      "hash": "360eb45faca1e4dfefc4f13aa9499776008d91528b4d443d812d58097d713eb4"
<<<<<<< HEAD
>>>>>>> 34e6b21abfc5b069204bb7f9f57f96b96d215fc6
=======
>>>>>>> origin/main
    }
  },
  "nbformat": 4,
  "nbformat_minor": 2
<<<<<<< HEAD
<<<<<<< HEAD
}
=======
}
>>>>>>> 34e6b21abfc5b069204bb7f9f57f96b96d215fc6
=======
}
>>>>>>> origin/main
