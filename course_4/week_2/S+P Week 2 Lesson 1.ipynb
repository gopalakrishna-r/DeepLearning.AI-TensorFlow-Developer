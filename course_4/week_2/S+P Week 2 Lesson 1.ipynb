{
  "cells": [
    {
      "cell_type": "code",
      "execution_count": 2,
      "source": [
        "#@title Licensed under the Apache License, Version 2.0 (the \"License\");\r\n",
        "# you may not use this file except in compliance with the License.\r\n",
        "# You may obtain a copy of the License at\r\n",
        "#\r\n",
        "# https://www.apache.org/licenses/LICENSE-2.0\r\n",
        "#\r\n",
        "# Unless required by applicable law or agreed to in writing, software\r\n",
        "# distributed under the License is distributed on an \"AS IS\" BASIS,\r\n",
        "# WITHOUT WARRANTIES OR CONDITIONS OF ANY KIND, either express or implied.\r\n",
        "# See the License for the specific language governing permissions and\r\n",
        "# limitations under the License."
      ],
      "outputs": [],
      "metadata": {
        "id": "zX4Kg8DUTKWO",
        "colab_type": "code",
        "colab": {}
      }
    },
    {
      "cell_type": "code",
      "execution_count": 3,
      "source": [
        "try:\r\n",
        "  # %tensorflow_version only exists in Colab.\r\n",
        "  %tensorflow_version 2.x\r\n",
        "except Exception:\r\n",
        "  pass"
      ],
      "outputs": [],
      "metadata": {
        "colab": {},
        "colab_type": "code",
        "id": "s6eq-RBcQ_Zr"
      }
    },
    {
      "cell_type": "code",
      "execution_count": 4,
      "source": [
        "import tensorflow as tf\r\n",
        "import numpy as np\r\n",
        "import matplotlib.pyplot as plt\r\n",
        "print(tf.__version__)"
      ],
      "outputs": [
        {
          "output_type": "stream",
          "name": "stdout",
          "text": [
            "2.3.0\n"
          ]
        }
      ],
      "metadata": {
        "colab": {},
        "colab_type": "code",
        "id": "BOjujz601HcS"
      }
    },
    {
      "cell_type": "code",
      "execution_count": 5,
      "source": [
        "dataset = tf.data.Dataset.range(10)\r\n",
        "for val in dataset:\r\n",
        "   print(val.numpy())"
      ],
      "outputs": [
        {
          "output_type": "stream",
          "name": "stdout",
          "text": [
            "0\n",
            "1\n",
            "2\n",
            "3\n",
            "4\n",
            "5\n",
            "6\n",
            "7\n",
            "8\n",
            "9\n"
          ]
        }
      ],
      "metadata": {
        "colab": {},
        "colab_type": "code",
        "id": "asEdslR_05O_"
      }
    },
    {
      "cell_type": "code",
      "execution_count": 6,
      "source": [
        "dataset = tf.data.Dataset.range(10)\r\n",
        "dataset = dataset.window(5, shift=1)\r\n",
        "for window_dataset in dataset:\r\n",
        "  for val in window_dataset:\r\n",
        "    print(val.numpy(), end=\" \")\r\n",
        "  print()"
      ],
      "outputs": [
        {
          "output_type": "stream",
          "name": "stdout",
          "text": [
            "0 1 2 3 4 \n",
            "1 2 3 4 5 \n",
            "2 3 4 5 6 \n",
            "3 4 5 6 7 \n",
            "4 5 6 7 8 \n",
            "5 6 7 8 9 \n",
            "6 7 8 9 \n",
            "7 8 9 \n",
            "8 9 \n",
            "9 \n"
          ]
        }
      ],
      "metadata": {
        "colab": {},
        "colab_type": "code",
        "id": "Lrv_ghSt1lgQ"
      }
    },
    {
      "cell_type": "code",
      "execution_count": 7,
      "source": [
        "dataset = tf.data.Dataset.range(10)\r\n",
        "dataset = dataset.window(5, shift=1, drop_remainder=True)\r\n",
        "for window_dataset in dataset:\r\n",
        "  for val in window_dataset:\r\n",
        "    print(val.numpy(), end=\" \")\r\n",
        "  print()"
      ],
      "outputs": [
        {
          "output_type": "stream",
          "name": "stdout",
          "text": [
            "0 1 2 3 4 \n",
            "1 2 3 4 5 \n",
            "2 3 4 5 6 \n",
            "3 4 5 6 7 \n",
            "4 5 6 7 8 \n",
            "5 6 7 8 9 \n"
          ]
        }
      ],
      "metadata": {
        "colab": {},
        "colab_type": "code",
        "id": "QLEq6MG-2DN2"
      }
    },
    {
      "cell_type": "code",
      "execution_count": 13,
      "source": [
        "dataset = tf.data.Dataset.range(10)\r\n",
        "dataset = dataset.window(5, shift=1, drop_remainder=True)\r\n",
        "dataset = dataset.flat_map(lambda window: window.batch(5))\r\n",
        "for window in dataset:\r\n",
        "  print(window)\r\n"
      ],
      "outputs": [
        {
          "output_type": "stream",
          "name": "stdout",
          "text": [
            "tf.Tensor([0 1 2 3 4], shape=(5,), dtype=int64)\n",
            "tf.Tensor([1 2 3 4 5], shape=(5,), dtype=int64)\n",
            "tf.Tensor([2 3 4 5 6], shape=(5,), dtype=int64)\n",
            "tf.Tensor([3 4 5 6 7], shape=(5,), dtype=int64)\n",
            "tf.Tensor([4 5 6 7 8], shape=(5,), dtype=int64)\n",
            "tf.Tensor([5 6 7 8 9], shape=(5,), dtype=int64)\n"
          ]
        }
      ],
      "metadata": {
        "colab": {},
        "colab_type": "code",
        "id": "PJ9CAHlJ2ODe"
      }
    },
    {
      "cell_type": "code",
      "execution_count": 9,
      "source": [
        "dataset = tf.data.Dataset.range(15)\r\n",
        "dataset = dataset.window(5, shift=1, drop_remainder=True)\r\n",
        "dataset = dataset.flat_map(lambda window: window.batch(5))\r\n",
        "dataset = dataset.map(lambda window: (window[:-1], window[-1:]))\r\n",
        "for x,y in dataset:\r\n",
        "  print(x.numpy(), y.numpy())"
      ],
      "outputs": [
        {
          "output_type": "stream",
          "name": "stdout",
          "text": [
            "[0 1 2 3] [4]\n",
            "[1 2 3 4] [5]\n",
            "[2 3 4 5] [6]\n",
            "[3 4 5 6] [7]\n",
            "[4 5 6 7] [8]\n",
            "[5 6 7 8] [9]\n"
          ]
        }
      ],
      "metadata": {
        "colab": {},
        "colab_type": "code",
        "id": "DryEZ2Mz2nNV"
      }
    },
    {
      "cell_type": "code",
      "execution_count": 10,
      "source": [
        "dataset = tf.data.Dataset.range(10)\r\n",
        "dataset = dataset.window(5, shift=1, drop_remainder=True)\r\n",
        "dataset = dataset.flat_map(lambda window: window.batch(5))\r\n",
        "dataset = dataset.map(lambda window: (window[:-1], window[-1:]))\r\n",
        "dataset = dataset.shuffle(buffer_size=10)\r\n",
        "for x,y in dataset:\r\n",
        "  print(x.numpy(), y.numpy())\r\n"
      ],
      "outputs": [
        {
          "output_type": "stream",
          "name": "stdout",
          "text": [
            "[1 2 3 4] [5]\n",
            "[5 6 7 8] [9]\n",
            "[0 1 2 3] [4]\n",
            "[2 3 4 5] [6]\n",
            "[4 5 6 7] [8]\n",
            "[3 4 5 6] [7]\n"
          ]
        }
      ],
      "metadata": {
        "colab": {},
        "colab_type": "code",
        "id": "1tl-0BOKkEtk"
      }
    },
    {
      "cell_type": "code",
      "execution_count": 14,
      "source": [
        "dataset = tf.data.Dataset.range(10)\r\n",
        "dataset = dataset.window(5, shift=1, drop_remainder=True)\r\n",
        "dataset = dataset.flat_map(lambda window: window.batch(5))\r\n",
        "dataset = dataset.map(lambda window: (window[:-1], window[-1:]))\r\n",
        "dataset = dataset.shuffle(buffer_size=10)\r\n",
        "dataset = dataset.batch(2).prefetch(1)\r\n",
        "for x,y in dataset:\r\n",
        "  print(\"x = \", x.numpy())\r\n",
        "  print(\"y = \", y.numpy())\r\n"
      ],
      "outputs": [
        {
          "output_type": "execute_result",
          "data": {
            "text/plain": [
              "<WindowDataset shapes: DatasetSpec(TensorSpec(shape=(), dtype=tf.int64, name=None), TensorShape([])), types: DatasetSpec(TensorSpec(shape=(), dtype=tf.int64, name=None), TensorShape([]))>"
            ]
          },
          "metadata": {},
          "execution_count": 14
        }
      ],
      "metadata": {
        "colab": {},
        "colab_type": "code",
        "id": "Wa0PNwxMGapy"
      }
    }
  ],
  "metadata": {
    "accelerator": "GPU",
    "colab": {
      "name": "S+P Week 2 Lesson 1.ipynb",
      "provenance": [],
      "toc_visible": true
    },
    "kernelspec": {
      "name": "python3",
      "display_name": "Python 3.7.9 64-bit"
    },
    "language_info": {
      "name": "python",
      "version": "3.7.9",
      "mimetype": "text/x-python",
      "codemirror_mode": {
        "name": "ipython",
        "version": 3
      },
      "pygments_lexer": "ipython3",
      "nbconvert_exporter": "python",
      "file_extension": ".py"
    },
    "interpreter": {
      "hash": "360eb45faca1e4dfefc4f13aa9499776008d91528b4d443d812d58097d713eb4"
    }
  },
  "nbformat": 4,
  "nbformat_minor": 2
}