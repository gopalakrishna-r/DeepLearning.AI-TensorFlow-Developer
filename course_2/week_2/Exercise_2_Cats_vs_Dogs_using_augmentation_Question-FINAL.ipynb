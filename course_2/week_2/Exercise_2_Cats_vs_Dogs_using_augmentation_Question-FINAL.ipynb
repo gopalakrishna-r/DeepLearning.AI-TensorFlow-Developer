{
 "cells": [
  {
   "cell_type": "code",
   "execution_count": 1,
   "metadata": {
    "colab": {},
    "colab_type": "code",
    "id": "dn-6c02VmqiN"
   },
   "outputs": [],
   "source": [
    "# ATTENTION: Please do not alter any of the provided code in the exercise. Only add your own code where indicated\n",
    "# ATTENTION: Please do not add or remove any cells in the exercise. The grader will check specific cells based on the cell position.\n",
    "# ATTENTION: Please use the provided epoch values when training.\n",
    "\n",
    "# In this exercise you will train a CNN on the FULL Cats-v-dogs dataset\n",
    "# This will require you doing a lot of data preprocessing because\n",
    "# the dataset isn't split into training and validation for you\n",
    "# This code block has all the required inputs\n",
    "import os\n",
    "import zipfile\n",
    "import random\n",
    "import shutil\n",
    "import tensorflow as tf\n",
<<<<<<< HEAD
<<<<<<< HEAD
    "from keras.optimizers import RMSprop\n",
    "from keras.preprocessing.image import ImageDataGenerator\n",
=======
    "from tensorflow.keras.optimizers import RMSprop\n",
    "from tensorflow.keras.preprocessing.image import ImageDataGenerator\n",
>>>>>>> 34e6b21abfc5b069204bb7f9f57f96b96d215fc6
=======
    "from tensorflow.keras.optimizers import RMSprop\n",
    "from tensorflow.keras.preprocessing.image import ImageDataGenerator\n",
>>>>>>> origin/main
    "from shutil import copyfile\n",
    "from os import getcwd"
   ]
  },
  {
   "cell_type": "code",
   "execution_count": 2,
   "metadata": {
    "colab": {},
    "colab_type": "code",
    "id": "3sd9dQWa23aj"
   },
   "outputs": [],
   "source": [
    "# This code block unzips the full Cats-v-Dogs dataset to /tmp\n",
    "# which will create a tmp/PetImages directory containing subdirectories\n",
    "# called 'Cat' and 'Dog' (that's how the original researchers structured it)\n",
    "path_cats_and_dogs = f\"{getcwd()}/../tmp2/cats-and-dogs.zip\"\n",
    "shutil.rmtree('/tmp')\n",
    "\n",
    "local_zip = path_cats_and_dogs\n",
    "zip_ref = zipfile.ZipFile(local_zip, 'r')\n",
    "zip_ref.extractall('/tmp')\n",
    "zip_ref.close()"
   ]
  },
  {
   "cell_type": "code",
   "execution_count": 3,
   "metadata": {
    "colab": {},
    "colab_type": "code",
    "id": "gi3yD62a6X3S"
   },
   "outputs": [
    {
     "name": "stdout",
     "output_type": "stream",
     "text": [
      "1500\n",
      "1500\n"
     ]
    }
   ],
   "source": [
    "print(len(os.listdir('/tmp/PetImages/Cat/')))\n",
    "print(len(os.listdir('/tmp/PetImages/Dog/')))\n",
    "\n",
    "# Expected Output:\n",
    "# 1500\n",
    "# 1500"
   ]
  },
  {
   "cell_type": "code",
   "execution_count": 4,
   "metadata": {
    "colab": {},
    "colab_type": "code",
    "id": "F-QkLjxpmyK2"
   },
   "outputs": [],
   "source": [
    "# Use os.mkdir to create your directories\n",
    "# You will need a directory for cats-v-dogs, and subdirectories for training\n",
    "# and testing. These in turn will need subdirectories for 'cats' and 'dogs'\n",
    "try:\n",
    "    #YOUR CODE GOES HERE\n",
    "    root_dir = \"/tmp\"\n",
    "    parent_dir = \"cats-v-dogs\"\n",
    "    cats_v_dogs_parent_dir = os.path.join(root_dir,parent_dir)\n",
    "\n",
    "    if not os.path.exists(cats_v_dogs_parent_dir):\n",
    "        os.mkdir(cats_v_dogs_parent_dir)\n",
    "    \n",
    "    training_dir = os.path.join(cats_v_dogs_parent_dir,\"training\")\n",
    "    testing_dir = os.path.join(cats_v_dogs_parent_dir,\"testing\")\n",
    "    \n",
    "    if not os.path.exists(training_dir):\n",
    "        os.mkdir(training_dir)\n",
    "    if not os.path.exists(testing_dir):\n",
    "        os.mkdir(testing_dir)\n",
    "    \n",
    "    cat_training_dir = os.path.join(training_dir,\"cats\")\n",
    "    cat_testing_dir = os.path.join(testing_dir,\"cats\")\n",
    "    \n",
    "    dog_training_dir = os.path.join(training_dir,\"dogs\")\n",
    "    dog_testing_dir = os.path.join(testing_dir,\"dogs\")\n",
    "    \n",
    "        \n",
    "    shutil.rmtree(cat_training_dir, ignore_errors = True)\n",
    "    shutil.rmtree(cat_testing_dir, ignore_errors = True)\n",
    "    shutil.rmtree(dog_training_dir, ignore_errors = True)\n",
    "    shutil.rmtree(dog_testing_dir, ignore_errors = True)\n",
    "    \n",
    "    os.mkdir(cat_training_dir)\n",
    "    os.mkdir(cat_testing_dir)\n",
    "    os.mkdir(dog_training_dir)\n",
    "    os.mkdir(dog_testing_dir)\n",
    "except OSError:\n",
    "    pass"
   ]
  },
  {
   "cell_type": "code",
   "execution_count": 5,
   "metadata": {
    "colab": {},
    "colab_type": "code",
    "id": "zvSODo0f9LaU"
   },
   "outputs": [],
   "source": [
    "# Write a python function called split_data which takes\n",
    "# a SOURCE directory containing the files\n",
    "# a TRAINING directory that a portion of the files will be copied to\n",
    "# a TESTING directory that a portion of the files will be copie to\n",
    "# a SPLIT SIZE to determine the portion\n",
    "# The files should also be randomized, so that the training set is a random\n",
    "# X% of the files, and the test set is the remaining files\n",
    "# SO, for example, if SOURCE is PetImages/Cat, and SPLIT SIZE is .9\n",
    "# Then 90% of the images in PetImages/Cat will be copied to the TRAINING dir\n",
    "# and 10% of the images will be copied to the TESTING dir\n",
    "# Also -- All images should be checked, and if they have a zero file length,\n",
    "# they will not be copied over\n",
    "#\n",
    "# os.listdir(DIRECTORY) gives you a listing of the contents of that directory\n",
    "# os.path.getsize(PATH) gives you the size of the file\n",
    "# copyfile(source, destination) copies a file from source to destination\n",
    "# random.sample(list, len(list)) shuffles a list\n",
    "def split_data(SOURCE, TRAINING, TESTING, SPLIT_SIZE):\n",
    "# YOUR CODE STARTS HERE\n",
    "    file_list = os.listdir(SOURCE) \n",
    "    filtered_list = [path for path in file_list if os.path.getsize(SOURCE + path) > 0]\n",
    "    \n",
    "    shuffled_list = random.sample(filtered_list, len(filtered_list))\n",
    "    \n",
    "    #splitting data\n",
    "    train_set_size = int(len(shuffled_list) * SPLIT_SIZE)\n",
    "    \n",
    "    for training_files in shuffled_list[:train_set_size]:\n",
    "        copyfile(SOURCE + training_files, TRAINING + training_files)\n",
    "    \n",
    "    for test_files in shuffled_list[train_set_size:]:\n",
    "        copyfile(SOURCE + test_files, TESTING + test_files)\n",
    "# YOUR CODE ENDS HERE\n",
    "\n",
    "\n",
    "CAT_SOURCE_DIR = \"/tmp/PetImages/Cat/\"\n",
    "TRAINING_CATS_DIR = \"/tmp/cats-v-dogs/training/cats/\"\n",
    "TESTING_CATS_DIR = \"/tmp/cats-v-dogs/testing/cats/\"\n",
    "DOG_SOURCE_DIR = \"/tmp/PetImages/Dog/\"\n",
    "TRAINING_DOGS_DIR = \"/tmp/cats-v-dogs/training/dogs/\"\n",
    "TESTING_DOGS_DIR = \"/tmp/cats-v-dogs/testing/dogs/\"\n",
    "\n",
    "split_size = .9\n",
    "split_data(CAT_SOURCE_DIR, TRAINING_CATS_DIR, TESTING_CATS_DIR, split_size)\n",
    "split_data(DOG_SOURCE_DIR, TRAINING_DOGS_DIR, TESTING_DOGS_DIR, split_size)"
   ]
  },
  {
   "cell_type": "code",
   "execution_count": 6,
   "metadata": {
    "colab": {},
    "colab_type": "code",
    "id": "luthalB76ufC"
   },
   "outputs": [
    {
     "name": "stdout",
     "output_type": "stream",
     "text": [
      "1350\n",
      "1350\n",
      "150\n",
      "150\n"
     ]
    }
   ],
   "source": [
    "print(len(os.listdir('/tmp/cats-v-dogs/training/cats/')))\n",
    "print(len(os.listdir('/tmp/cats-v-dogs/training/dogs/')))\n",
    "print(len(os.listdir('/tmp/cats-v-dogs/testing/cats/')))\n",
    "print(len(os.listdir('/tmp/cats-v-dogs/testing/dogs/')))\n",
    "\n",
    "# Expected output:\n",
    "# 1350\n",
    "# 1350\n",
    "# 150\n",
    "# 150"
   ]
  },
  {
   "cell_type": "code",
   "execution_count": 7,
   "metadata": {
    "colab": {},
    "colab_type": "code",
    "id": "-BQrav4anTmj"
   },
   "outputs": [],
   "source": [
    "# DEFINE A KERAS MODEL TO CLASSIFY CATS V DOGS\n",
    "# USE AT LEAST 3 CONVOLUTION LAYERS\n",
    "model = tf.keras.models.Sequential([\n",
    "# YOUR CODE HERE\n",
    "    tf.keras.layers.Conv2D(16, (3,3), input_shape = (150, 150, 3), activation = 'relu'),\n",
    "    tf.keras.layers.MaxPooling2D(2,2),\n",
    "    \n",
    "    tf.keras.layers.Conv2D(32, (3,3),  activation = 'relu'),\n",
    "    tf.keras.layers.MaxPooling2D(2,2),\n",
    "    \n",
    "    tf.keras.layers.Conv2D(64, (3,3),  activation = 'relu'),\n",
    "    tf.keras.layers.MaxPooling2D(2,2),\n",
    "    \n",
    "    tf.keras.layers.Flatten(),\n",
    "    tf.keras.layers.Dense(512, activation = 'relu'),\n",
    "    tf.keras.layers.Dense(1, activation= 'sigmoid')\n",
    "])\n",
    "\n",
    "model.compile(optimizer=RMSprop(lr=0.001), loss='binary_crossentropy', metrics=['acc'])"
   ]
  },
  {
   "cell_type": "markdown",
   "metadata": {},
   "source": [
    "# NOTE:\n",
    "\n",
    "In the cell below you **MUST** use a batch size of 10 (`batch_size=10`) for the `train_generator` and the `validation_generator`. Using a batch size greater than 10 will exceed memory limits on the Coursera platform."
   ]
  },
  {
   "cell_type": "code",
   "execution_count": 10,
   "metadata": {
    "colab": {},
    "colab_type": "code",
    "id": "mlNjoJ5D61N6"
   },
   "outputs": [
    {
     "name": "stdout",
     "output_type": "stream",
     "text": [
      "Found 2700 images belonging to 2 classes.\n",
      "Found 300 images belonging to 2 classes.\n"
     ]
    }
   ],
   "source": [
    "TRAINING_DIR = \"/tmp/cats-v-dogs/training/\"#YOUR CODE HERE\n",
    "train_datagen = ImageDataGenerator(rescale = 1./255,\n",
    "                                width_shift_range = 0.2, \n",
    "                                height_shift_range = 0.2, \n",
    "                                shear_range = 0.2,\n",
    "                                zoom_range = 0.2,\n",
    "                                fill_mode = \"nearest\",\n",
    "                                horizontal_flip = True\n",
    "                              )#YOUR CODE HERE\n",
    "\n",
    "# NOTE: YOU MUST USE A BATCH SIZE OF 10 (batch_size=10) FOR THE \n",
    "# TRAIN GENERATOR.\n",
    "train_generator = train_datagen.flow_from_directory(TRAINING_DIR,\n",
    "                                                   batch_size = 150, \n",
    "                                                   class_mode= 'binary', \n",
    "                                                   target_size = (150, 150))#YOUR CODE HERE\n",
    "\n",
    "VALIDATION_DIR = \"/tmp/cats-v-dogs/testing/\"#YOUR CODE HERE\n",
    "validation_datagen = ImageDataGenerator(rescale = 1./255)#YOUR CODE HERE\n",
    "\n",
    "# NOTE: YOU MUST USE A BACTH SIZE OF 10 (batch_size=10) FOR THE \n",
    "# VALIDATION GENERATOR.\n",
    "validation_generator = validation_datagen.flow_from_directory(VALIDATION_DIR,\n",
    "                                                   batch_size = 150, \n",
    "                                                   class_mode= 'binary', \n",
    "                                                   target_size = (150, 150))#YOUR CODE HERE\n",
    "\n",
    "\n",
    "\n",
    "# Expected Output:\n",
    "# Found 2700 images belonging to 2 classes.\n",
    "# Found 300 images belonging to 2 classes."
   ]
  },
  {
   "cell_type": "code",
   "execution_count": 11,
   "metadata": {
    "colab": {},
    "colab_type": "code",
    "id": "KyS4n53w7DxC"
   },
   "outputs": [
    {
     "name": "stdout",
     "output_type": "stream",
     "text": [
      "Epoch 1/2\n",
      "18/18 [==============================] - 47s 3s/step - loss: 1.8324 - acc: 0.5115 - val_loss: 0.6779 - val_acc: 0.5600\n",
      "Epoch 2/2\n",
      "18/18 [==============================] - 39s 2s/step - loss: 0.6839 - acc: 0.5541 - val_loss: 1.1819 - val_acc: 0.5000\n"
     ]
    }
   ],
   "source": [
    "history = model.fit_generator(train_generator,\n",
    "                              epochs=2,\n",
    "                              verbose=1,\n",
    "                              validation_data=validation_generator)\n"
   ]
  },
  {
   "cell_type": "code",
   "execution_count": 12,
   "metadata": {
    "colab": {},
    "colab_type": "code",
    "id": "MWZrJN4-65RC"
   },
   "outputs": [
    {
     "data": {
      "text/plain": [
       "Text(0.5, 1.0, 'Training and validation loss')"
      ]
     },
     "execution_count": 12,
     "metadata": {},
     "output_type": "execute_result"
    },
    {
     "data": {
      "image/png": "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\n",
      "text/plain": [
       "<Figure size 432x288 with 1 Axes>"
      ]
     },
     "metadata": {
      "needs_background": "light"
     },
     "output_type": "display_data"
    },
    {
     "data": {
      "image/png": "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\n",
      "text/plain": [
       "<Figure size 432x288 with 1 Axes>"
      ]
     },
     "metadata": {
      "needs_background": "light"
     },
     "output_type": "display_data"
    }
   ],
   "source": [
    "# PLOT LOSS AND ACCURACY\n",
    "%matplotlib inline\n",
    "\n",
    "import matplotlib.image  as mpimg\n",
    "import matplotlib.pyplot as plt\n",
    "\n",
    "#-----------------------------------------------------------\n",
    "# Retrieve a list of list results on training and test data\n",
    "# sets for each training epoch\n",
    "#-----------------------------------------------------------\n",
    "acc=history.history['acc']\n",
    "val_acc=history.history['val_acc']\n",
    "loss=history.history['loss']\n",
    "val_loss=history.history['val_loss']\n",
    "\n",
    "epochs=range(len(acc)) # Get number of epochs\n",
    "\n",
    "#------------------------------------------------\n",
    "# Plot training and validation accuracy per epoch\n",
    "#------------------------------------------------\n",
    "plt.plot(epochs, acc, 'r', \"Training Accuracy\")\n",
    "plt.plot(epochs, val_acc, 'b', \"Validation Accuracy\")\n",
    "plt.title('Training and validation accuracy')\n",
    "plt.figure()\n",
    "\n",
    "#------------------------------------------------\n",
    "# Plot training and validation loss per epoch\n",
    "#------------------------------------------------\n",
    "plt.plot(epochs, loss, 'r', \"Training Loss\")\n",
    "plt.plot(epochs, val_loss, 'b', \"Validation Loss\")\n",
    "\n",
    "\n",
    "plt.title('Training and validation loss')\n",
    "\n",
    "# Desired output. Charts with training and validation metrics. No crash :)"
   ]
  },
  {
   "cell_type": "markdown",
   "metadata": {},
   "source": [
    "# Submission Instructions"
   ]
  },
  {
   "cell_type": "code",
   "execution_count": 13,
   "metadata": {},
   "outputs": [],
   "source": [
    "# Now click the 'Submit Assignment' button above."
   ]
  },
  {
   "cell_type": "markdown",
   "metadata": {},
   "source": [
    "# When you're done or would like to take a break, please run the two cells below to save your work and close the Notebook. This will free up resources for your fellow learners. "
   ]
  },
  {
   "cell_type": "code",
   "execution_count": 14,
   "metadata": {},
   "outputs": [
    {
     "data": {
      "application/javascript": [
       "<!-- Save the notebook -->\n",
       "IPython.notebook.save_checkpoint();\n"
      ],
      "text/plain": [
       "<IPython.core.display.Javascript object>"
      ]
     },
     "metadata": {},
     "output_type": "display_data"
    }
   ],
   "source": [
    "%%javascript\n",
    "<!-- Save the notebook -->\n",
    "IPython.notebook.save_checkpoint();"
   ]
  },
  {
   "cell_type": "code",
   "execution_count": null,
   "metadata": {},
   "outputs": [
    {
     "data": {
      "application/javascript": [
       "IPython.notebook.session.delete();\n",
       "window.onbeforeunload = null\n",
       "setTimeout(function() { window.close(); }, 1000);\n"
      ],
      "text/plain": [
       "<IPython.core.display.Javascript object>"
      ]
     },
     "metadata": {},
     "output_type": "display_data"
    }
   ],
   "source": [
    "%%javascript\n",
    "IPython.notebook.session.delete();\n",
    "window.onbeforeunload = null\n",
    "setTimeout(function() { window.close(); }, 1000);"
   ]
  }
 ],
 "metadata": {
  "accelerator": "GPU",
  "colab": {
   "collapsed_sections": [],
   "name": "Exercise 6 - Question.ipynb",
   "provenance": []
  },
  "coursera": {
   "course_slug": "convolutional-neural-networks-tensorflow",
   "graded_item_id": "uAPOR",
   "launcher_item_id": "e9lTb"
  },
  "kernelspec": {
   "display_name": "Python 3",
   "language": "python",
   "name": "python3"
  },
  "language_info": {
   "codemirror_mode": {
    "name": "ipython",
    "version": 3
   },
   "file_extension": ".py",
   "mimetype": "text/x-python",
   "name": "python",
   "nbconvert_exporter": "python",
   "pygments_lexer": "ipython3",
   "version": "3.6.8"
  }
 },
 "nbformat": 4,
 "nbformat_minor": 1
}
