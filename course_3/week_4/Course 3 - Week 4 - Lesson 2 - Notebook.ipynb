{
  "cells": [
    {
      "cell_type": "code",
<<<<<<< HEAD
<<<<<<< HEAD
      "execution_count": 1,
=======
      "execution_count": 6,
>>>>>>> 34e6b21abfc5b069204bb7f9f57f96b96d215fc6
=======
      "execution_count": 6,
>>>>>>> origin/main
      "metadata": {
        "colab": {},
        "colab_type": "code",
        "id": "zX4Kg8DUTKWO"
      },
      "outputs": [],
      "source": [
        "#@title Licensed under the Apache License, Version 2.0 (the \"License\");\n",
        "# you may not use this file except in compliance with the License.\n",
        "# You may obtain a copy of the License at\n",
        "#\n",
        "# https://www.apache.org/licenses/LICENSE-2.0\n",
        "#\n",
        "# Unless required by applicable law or agreed to in writing, software\n",
        "# distributed under the License is distributed on an \"AS IS\" BASIS,\n",
        "# WITHOUT WARRANTIES OR CONDITIONS OF ANY KIND, either express or implied.\n",
        "# See the License for the specific language governing permissions and\n",
        "# limitations under the License."
      ]
    },
    {
      "cell_type": "markdown",
      "metadata": {
        "colab_type": "text",
        "id": "view-in-github"
      },
      "source": [
        "<a href=\"https://colab.research.google.com/github/lmoroney/dlaicourse/blob/master/TensorFlow%20In%20Practice/Course%203%20-%20NLP/Course%203%20-%20Week%204%20-%20Lesson%202%20-%20Notebook.ipynb\" target=\"_parent\"><img src=\"https://colab.research.google.com/assets/colab-badge.svg\" alt=\"Open In Colab\"/></a>"
      ]
    },
    {
      "cell_type": "code",
<<<<<<< HEAD
<<<<<<< HEAD
      "execution_count": 2,
=======
      "execution_count": 7,
>>>>>>> 34e6b21abfc5b069204bb7f9f57f96b96d215fc6
=======
      "execution_count": 7,
>>>>>>> origin/main
      "metadata": {
        "colab": {},
        "colab_type": "code",
        "id": "BOwsuGQQY9OL"
      },
      "outputs": [],
      "source": [
<<<<<<< HEAD
<<<<<<< HEAD
        "import tensorflow as tf\n",
        "\n",
        "from keras.preprocessing.sequence import pad_sequences\n",
        "from keras.layers import Embedding, LSTM, Dense, Bidirectional\n",
        "from keras.callbacks import EarlyStopping\n",
        "from keras.preprocessing.text import Tokenizer\n",
        "from keras.models import Sequential\n",
        "from keras.optimizers import Adam\n",
=======
=======
>>>>>>> origin/main
        "import tensorflow as tf\r\n",
        "\r\n",
        "from tensorflow.keras.preprocessing.sequence import pad_sequences\r\n",
        "from tensorflow.keras.layers import Embedding, LSTM, Dense, Bidirectional\r\n",
        "from tensorflow.keras.callbacks import EarlyStopping\r\n",
        "from tensorflow.keras.preprocessing.text import Tokenizer\r\n",
        "from tensorflow.keras.models import Sequential\r\n",
        "from tensorflow.keras.optimizers import Adam\r\n",
<<<<<<< HEAD
>>>>>>> 34e6b21abfc5b069204bb7f9f57f96b96d215fc6
=======
>>>>>>> origin/main
        "import numpy as np "
      ]
    },
    {
      "cell_type": "markdown",
      "metadata": {
        "colab": {},
        "colab_type": "code",
        "id": "pylt5qZYsWPh"
      },
      "source": [
<<<<<<< HEAD
<<<<<<< HEAD
        "wget --no-check-certificate \\\n",
        "    https://storage.googleapis.com/laurencemoroney-blog.appspot.com/irish-lyrics-eof.txt \\\n",
=======
        "wget --no-check-certificate \\\r\n",
        "    https://storage.googleapis.com/laurencemoroney-blog.appspot.com/irish-lyrics-eof.txt \\\r\n",
>>>>>>> 34e6b21abfc5b069204bb7f9f57f96b96d215fc6
=======
        "wget --no-check-certificate \\\r\n",
        "    https://storage.googleapis.com/laurencemoroney-blog.appspot.com/irish-lyrics-eof.txt \\\r\n",
>>>>>>> origin/main
        "    -O /tmp/irish-lyrics-eof.txt"
      ]
    },
    {
      "cell_type": "code",
<<<<<<< HEAD
<<<<<<< HEAD
      "execution_count": null,
=======
      "execution_count": 8,
>>>>>>> 34e6b21abfc5b069204bb7f9f57f96b96d215fc6
=======
      "execution_count": 8,
>>>>>>> origin/main
      "metadata": {
        "colab": {},
        "colab_type": "code",
        "id": "PRnDnCW-Z7qv"
      },
<<<<<<< HEAD
<<<<<<< HEAD
      "outputs": [],
      "source": [
        "tokenizer = Tokenizer()\n",
        "\n",
        "data = open(r'D:\\codebase\\DeepLearning.AI-TensorFlow-Developer\\course_3\\irish-lyrics-eof.txt').read()\n",
        "\n",
        "corpus = data.lower().split(\"\\n\")\n",
        "\n",
        "tokenizer.fit_on_texts(corpus)\n",
        "total_words = len(tokenizer.word_index) + 1\n",
        "\n",
        "print(tokenizer.word_index)\n",
        "print(total_words)\n"
=======
=======
>>>>>>> origin/main
      "outputs": [
        {
          "name": "stdout",
          "output_type": "stream",
          "text": [
            "{'the': 1, 'and': 2, 'i': 3, 'to': 4, 'a': 5, 'of': 6, 'my': 7, 'in': 8, 'me': 9, 'for': 10, 'you': 11, 'all': 12, 'was': 13, 'she': 14, 'that': 15, 'on': 16, 'with': 17, 'her': 18, 'but': 19, 'as': 20, 'when': 21, 'love': 22, 'is': 23, 'your': 24, 'it': 25, 'will': 26, 'from': 27, 'by': 28, 'they': 29, 'be': 30, 'are': 31, 'so': 32, 'he': 33, 'old': 34, 'no': 35, 'oh': 36, 'ill': 37, 'at': 38, 'one': 39, 'his': 40, 'there': 41, 'were': 42, 'heart': 43, 'down': 44, 'now': 45, 'we': 46, 'where': 47, 'young': 48, 'never': 49, 'go': 50, 'come': 51, 'then': 52, 'did': 53, 'not': 54, 'said': 55, 'away': 56, 'their': 57, 'sweet': 58, 'them': 59, 'green': 60, 'if': 61, 'take': 62, 'our': 63, 'like': 64, 'night': 65, 'day': 66, 'o': 67, 'out': 68, 'fair': 69, 'this': 70, 'town': 71, 'have': 72, 'can': 73, 'true': 74, 'its': 75, 'thou': 76, 'see': 77, 'dear': 78, 'more': 79, 'theres': 80, 'or': 81, 'had': 82, 'would': 83, 'over': 84, 'hear': 85, 'up': 86, 'ive': 87, 'through': 88, 'home': 89, 'again': 90, 'well': 91, 'oer': 92, 'land': 93, 'good': 94, 'im': 95, 'ye': 96, 'sea': 97, 'left': 98, 'still': 99, 'father': 100, 'long': 101, 'rose': 102, 'could': 103, 'morning': 104, 'wild': 105, 'who': 106, 'eyes': 107, 'came': 108, 'while': 109, 'too': 110, 'back': 111, 'little': 112, 'an': 113, 'took': 114, 'him': 115, 'bow': 116, 'first': 117, 'let': 118, 'man': 119, 'shall': 120, 'know': 121, 'get': 122, 'high': 123, 'gone': 124, 'say': 125, 'ever': 126, 'some': 127, 'mary': 128, 'hand': 129, 'till': 130, 'put': 131, 'own': 132, 'time': 133, 'heard': 134, 'dead': 135, 'may': 136, 'bright': 137, 'mountain': 138, 'early': 139, 'rosin': 140, 'gave': 141, 'thee': 142, 'only': 143, 'far': 144, 'maid': 145, 'must': 146, 'find': 147, 'girl': 148, 'sure': 149, 'round': 150, 'dublin': 151, 'once': 152, 'world': 153, 'delight': 154, 'last': 155, 'johnny': 156, 'seen': 157, 'has': 158, 'fine': 159, 'road': 160, 'mother': 161, 'tis': 162, 'what': 163, 'way': 164, 'moon': 165, 'soul': 166, 'neer': 167, 'id': 168, 'just': 169, 'thats': 170, 'days': 171, 'darling': 172, 'went': 173, 'white': 174, 'die': 175, 'than': 176, 'hair': 177, 'goes': 178, 'meet': 179, 'today': 180, 'do': 181, 'girls': 182, 'shes': 183, 'thyme': 184, 'thy': 185, 'sing': 186, 'pretty': 187, 'new': 188, 'poor': 189, 'into': 190, 'life': 191, 'irish': 192, 'give': 193, 'boy': 194, 'youre': 195, 'make': 196, 'passed': 197, 'lovely': 198, 'black': 199, 'youll': 200, 'died': 201, 'red': 202, 'smile': 203, 'keep': 204, 'loves': 205, 'free': 206, 'leave': 207, 'friends': 208, 'each': 209, 'saw': 210, 'behind': 211, 'song': 212, 'ra': 213, 'dont': 214, 'arms': 215, 'am': 216, 'sun': 217, 'saying': 218, 'made': 219, 'wish': 220, 'cold': 221, 'met': 222, 'before': 223, 'should': 224, 'rocky': 225, 'light': 226, 'wid': 227, 'boys': 228, 'best': 229, 'fields': 230, 'since': 231, 'ball': 232, 'water': 233, 'casey': 234, 'mind': 235, 'along': 236, 'loved': 237, 'place': 238, 'ireland': 239, 'next': 240, 'three': 241, 'many': 242, 'years': 243, 'door': 244, 'us': 245, 'drink': 246, 'got': 247, 'might': 248, 'live': 249, 'roses': 250, 'play': 251, 'soon': 252, 'ground': 253, 'times': 254, 'spent': 255, 'going': 256, 'tree': 257, 'barley': 258, 'grass': 259, 'kind': 260, 'twas': 261, 'bridge': 262, 'around': 263, 'blue': 264, 'tell': 265, 'row': 266, 'how': 267, 'money': 268, 'merry': 269, 'stepped': 270, 'corporal': 271, 'always': 272, 'though': 273, 'near': 274, 'taken': 275, 'ones': 276, 'daughter': 277, 'forever': 278, 'loo': 279, 'shining': 280, 'plenty': 281, 'hes': 282, 'ship': 283, 'banks': 284, 'think': 285, 'very': 286, 'stand': 287, 'heres': 288, 'snow': 289, 'mountains': 290, 'molly': 291, 'wheel': 292, 'street': 293, 'erin': 294, 'side': 295, 'feet': 296, 'star': 297, 'look': 298, 'brave': 299, 'woman': 300, 'sons': 301, 'two': 302, 'says': 303, 'asked': 304, 'lanigans': 305, 'singing': 306, 'men': 307, 'toome': 308, 'stole': 309, 'god': 310, 'hill': 311, 'lonely': 312, 'lover': 313, 'tears': 314, 'fathers': 315, 'low': 316, 'voice': 317, 'quite': 318, 'able': 319, 'nice': 320, 'laid': 321, 'comrades': 322, 'wind': 323, 'another': 324, 'sit': 325, 'face': 326, 'band': 327, 'call': 328, 'colleen': 329, 'until': 330, 'hills': 331, 'mine': 332, 'above': 333, 'upon': 334, 'eer': 335, 'youve': 336, 'fly': 337, 'been': 338, 'late': 339, 'alive': 340, 'ballyjamesduff': 341, 'looked': 342, 'great': 343, 'why': 344, 'every': 345, 'proud': 346, 'found': 347, 'bragh': 348, 'such': 349, 'birds': 350, 'wedding': 351, 'welcome': 352, 'dancing': 353, 'da': 354, 'fell': 355, 'thinking': 356, 'roddy': 357, 'mccorley': 358, 'smiling': 359, 'mallow': 360, 'blooming': 361, 'thought': 362, 'peace': 363, 'soft': 364, 'pure': 365, 'harp': 366, 'dream': 367, 'alas': 368, 'yet': 369, 'clear': 370, 'art': 371, 'off': 372, 'hope': 373, 'fought': 374, 'mothers': 375, 'shore': 376, 'ago': 377, 'fol': 378, 'de': 379, 'house': 380, 'married': 381, 'bound': 382, 'danced': 383, 'devil': 384, 'dawning': 385, 'makes': 386, 'same': 387, 'sat': 388, 'any': 389, 'glass': 390, 'gay': 391, 'relations': 392, 'evening': 393, 'watched': 394, 'right': 395, 'fellows': 396, 'whiskey': 397, 'bonnie': 398, 'grows': 399, 'women': 400, 'flowers': 401, 'beauty': 402, 'cannot': 403, 'handsome': 404, 'happy': 405, 'gold': 406, 'rover': 407, 'none': 408, 'doneen': 409, 'summers': 410, 'people': 411, 'set': 412, 'paddy': 413, 'morn': 414, 'most': 415, 'easy': 416, 'struck': 417, 'beautiful': 418, 'those': 419, 'golden': 420, 'run': 421, 'pipes': 422, 'glen': 423, 'dying': 424, 'here': 425, 'wall': 426, 'across': 427, 'fire': 428, 'eileen': 429, 'longer': 430, 'cheeks': 431, 'valley': 432, 'both': 433, 'dew': 434, 'care': 435, 'bride': 436, 'nothing': 437, 'wont': 438, 'theyre': 439, 'colonel': 440, 'maiden': 441, 'shed': 442, 'til': 443, 'brown': 444, 'breast': 445, 'corn': 446, 'sinking': 447, 'began': 448, 'name': 449, 'cruel': 450, 'sound': 451, 'spancil': 452, 'county': 453, 'lies': 454, 'color': 455, 'thing': 456, 'decay': 457, 'sleep': 458, 'hours': 459, 'loving': 460, 'weary': 461, 'ringing': 462, 'please': 463, 'forget': 464, 'lie': 465, 'ran': 466, 'tore': 467, 'country': 468, 'fear': 469, 'fortune': 470, 'kissed': 471, 'alone': 472, 'ould': 473, 'cry': 474, 'dreams': 475, 'used': 476, 'horse': 477, 'break': 478, 'bells': 479, 'didnt': 480, 'weeks': 481, 'without': 482, 'raw': 483, 'nor': 484, 'twenty': 485, 'tune': 486, 'hed': 487, 'roving': 488, 'leaves': 489, 'cant': 490, 'death': 491, 'ten': 492, 'prison': 493, 'judge': 494, 'against': 495, 'lads': 496, 'shell': 497, 'fill': 498, 'valleys': 499, 'other': 500, 'pale': 501, 'joy': 502, 'wide': 503, 'bring': 504, 'ah': 505, 'cliffs': 506, 'city': 507, 'end': 508, 'turn': 509, 'sky': 510, 'born': 511, 'knew': 512, 'smiled': 513, 'rosie': 514, 'comes': 515, 'sayin': 516, 'lord': 517, 'dungannon': 518, 'blood': 519, 'air': 520, 'danny': 521, 'calling': 522, 'sunshine': 523, 'spring': 524, 'bid': 525, 'grow': 526, 'truth': 527, 'tear': 528, 'rings': 529, 'guns': 530, 'bay': 531, 'oflynn': 532, 'och': 533, 'stick': 534, 'rest': 535, 'four': 536, 'jewel': 537, 'tried': 538, 'grief': 539, 'answer': 540, 'kathleen': 541, 'fond': 542, 'eye': 543, 'goin': 544, 'pistols': 545, 'musha': 546, 'whack': 547, 'creole': 548, 'together': 549, 'room': 550, 'fall': 551, 'swore': 552, 'being': 553, 'step': 554, 'lark': 555, 'cailã\\xadn': 556, 'deas': 557, 'crãºite': 558, 'na': 559, 'mbã³': 560, 'sir': 561, 'isle': 562, 'waiting': 563, 'magic': 564, 'skibbereen': 565, 'loud': 566, 'raise': 567, 'bent': 568, 'aged': 569, 'summer': 570, 'jenny': 571, 'excise': 572, 'rigadoo': 573, 'auld': 574, 'hearts': 575, 'nay': 576, 'stool': 577, 'farrell': 578, 'garden': 579, 'precious': 580, 'child': 581, 'slumber': 582, 'sleeping': 583, 'watch': 584, 'gently': 585, 'minstrel': 586, 'praise': 587, 'bell': 588, 'shaken': 589, 'immortal': 590, 'pray': 591, 'stay': 592, 'spoke': 593, 'cross': 594, 'brothers': 595, 'much': 596, 'past': 597, 'killarney': 598, 'sang': 599, 'tones': 600, 'ral': 601, 'wander': 602, 'cot': 603, 'feel': 604, 'yore': 605, 'answered': 606, 'divil': 607, 'middle': 608, 'bit': 609, 'led': 610, 'soldiers': 611, 'lily': 612, 'bed': 613, 'lassie': 614, 'clothes': 615, 'return': 616, 'broken': 617, 'derry': 618, 'sighed': 619, 'english': 620, 'tomorrow': 621, 'souls': 622, 'van': 623, 'diemans': 624, 'law': 625, 'neither': 626, 'winds': 627, 'rather': 628, 'doesnt': 629, 'rosy': 630, 'neatest': 631, 'hands': 632, 'whereon': 633, 'stands': 634, 'write': 635, 'thousand': 636, 'fare': 637, 'youd': 638, 'velvet': 639, 'neat': 640, 'landed': 641, 'health': 642, 'kellswater': 643, 'quiet': 644, 'stars': 645, 'beside': 646, 'warm': 647, 'sunday': 648, 'grey': 649, 'ocean': 650, 'sad': 651, 'spend': 652, 'kilkenny': 653, 'silver': 654, 'view': 655, 'west': 656, 'plain': 657, 'barrow': 658, 'broad': 659, 'narrow': 660, 'crying': 661, 'wonder': 662, 'save': 663, 'stop': 664, 'tender': 665, 'told': 666, 'lip': 667, 'dance': 668, 'foot': 669, 'kilrain': 670, 'saint': 671, 'visit': 672, 'mossy': 673, 'wexford': 674, 'irishmen': 675, 'shadow': 676, 'tho': 677, 'salley': 678, 'gardens': 679, 'foolish': 680, 'youth': 681, 'fade': 682, 'war': 683, 'believe': 684, 'which': 685, 'change': 686, 'entwine': 687, 'turns': 688, 'turned': 689, 'crown': 690, 'played': 691, 'captain': 692, 'blow': 693, 'children': 694, 'slainte': 695, 'gentle': 696, 'heavens': 697, 'bloom': 698, 'grand': 699, 'bush': 700, 'nest': 701, 'rich': 702, 'parting': 703, 'better': 704, 'window': 705, 'haste': 706, 'fresh': 707, 'stream': 708, 'rays': 709, 'ma': 710, 'ring': 711, 'lad': 712, 'athy': 713, 'drop': 714, 'hardly': 715, 'done': 716, 'arm': 717, 'leg': 718, 'beg': 719, 'drew': 720, 'bold': 721, 'drawn': 722, 'jail': 723, 'writin': 724, 'farewell': 725, 'tired': 726, 'lake': 727, 'want': 728, 'ringlets': 729, 'myself': 730, 'songs': 731, 'reel': 732, 'steps': 733, 'hearty': 734, 'fainted': 735, 'called': 736, 'under': 737, 'toe': 738, 'mairi': 739, 'fairest': 740, 'darlin': 741, 'bird': 742, 'memory': 743, 'lips': 744, 'sweetly': 745, 'morrow': 746, 'consent': 747, 'else': 748, 'sold': 749, 'stout': 750, 'pair': 751, 'drinking': 752, 'meself': 753, 'fray': 754, 'pike': 755, 'coat': 756, 'beneath': 757, 'rent': 758, 'part': 759, 'half': 760, 'head': 761, 'friend': 762, 'standing': 763, 'floor': 764, 'bare': 765, 'wed': 766, 'son': 767, 'pride': 768, 'vision': 769, 'sword': 770, 'after': 771, 'won': 772, 'farmers': 773, 'flower': 774, 'nut': 775, 'surely': 776, 'stood': 777, 'wandered': 778, 'athenry': 779, 'rising': 780, 'beating': 781, 'form': 782, 'dhu': 783, 'buy': 784, 'laughter': 785, 'wear': 786, 'raking': 787, 'rakes': 788, 'claret': 789, 'shure': 790, 'tralee': 791, 'slower': 792, 'lower': 793, 'deep': 794, 'wearin': 795, 'duram': 796, 'takes': 797, 'beware': 798, 'steal': 799, 'brings': 800, 'things': 801, 'joys': 802, 'bunch': 803, 'sailor': 804, 'chanced': 805, 'pass': 806, 'angels': 807, 'send': 808, 'drowsy': 809, 'keeping': 810, 'spirit': 811, 'stealing': 812, 'feeling': 813, 'roam': 814, 'presence': 815, 'heavenward': 816, 'dust': 817, 'dim': 818, 'journey': 819, 'waves': 820, 'frightened': 821, 'leaving': 822, 'struggle': 823, 'parents': 824, 'courage': 825, 'weeping': 826, 'pain': 827, 'mist': 828, 'felt': 829, 'roared': 830, 'making': 831, 'fever': 832, 'moment': 833, 'distance': 834, 'wailing': 835, 'oft': 836, 'held': 837, 'fast': 838, 'cabin': 839, 'honey': 840, 'diddle': 841, 'clearly': 842, 'open': 843, 'opened': 844, 'table': 845, 'wine': 846, 'lay': 847, 'shells': 848, 'sailed': 849, 'drown': 850, 'fetters': 851, 'chains': 852, 'wives': 853, 'sorrow': 854, 'thoughts': 855, 'cursed': 856, 'hell': 857, 'five': 858, 'buried': 859, 'lost': 860, 'endless': 861, 'slavery': 862, 'gun': 863, 'rain': 864, 'cares': 865, 'ghosts': 866, 'runaway': 867, 'twill': 868, 'month': 869, 'meadows': 870, 'prettiest': 871, 'winters': 872, 'satisfied': 873, 'few': 874, 'short': 875, 'lines': 876, 'shone': 877, 'shoulder': 878, 'belfast': 879, 'trade': 880, 'bad': 881, 'caused': 882, 'stray': 883, 'meaning': 884, 'damsel': 885, 'appear': 886, 'seven': 887, 'sentence': 888, 'jolly': 889, 'whenever': 890, 'wee': 891, 'wife': 892, 'lives': 893, 'martha': 894, 'courted': 895, 'bridgit': 896, 'omalley': 897, 'desolation': 898, 'thorn': 899, 'gaze': 900, 'stone': 901, 'approaching': 902, 'sets': 903, 'carrigfergus': 904, 'nights': 905, 'swim': 906, 'wings': 907, 'sober': 908, 'travel': 909, 'native': 910, 'places': 911, 'slopes': 912, 'hares': 913, 'lofty': 914, 'malone': 915, 'wheeled': 916, 'streets': 917, 'enough': 918, 'reilly': 919, 'tough': 920, 'whispers': 921, 'phil': 922, 'threw': 923, 'straight': 924, 'belles': 925, 'moor': 926, 'brand': 927, 'shapes': 928, 'work': 929, 'vow': 930, 'blarney': 931, 'paid': 932, 'bower': 933, 'remain': 934, 'charming': 935, 'storied': 936, 'chieftains': 937, 'slaughter': 938, 'bann': 939, 'boyne': 940, 'liffey': 941, 'gallant': 942, 'awake': 943, 'greet': 944, 'meadow': 945, 'sweeter': 946, 'dirty': 947, 'cats': 948, 'crossed': 949, 'field': 950, 'river': 951, 'full': 952, 'aroon': 953, 'sends': 954, 'woe': 955, 'chain': 956, 'main': 957, 'charms': 958, 'fondly': 959, 'fleet': 960, 'fairy': 961, 'thine': 962, 'known': 963, 'truly': 964, 'close': 965, 'story': 966, 'flag': 967, 'sweetest': 968, 'honor': 969, 'playing': 970, 'mauser': 971, 'music': 972, 'tom': 973, 'hurrah': 974, 'big': 975, 'lead': 976, 'south': 977, 'generation': 978, 'freedom': 979, 'agin': 980, 'creature': 981, 'dad': 982, 'venture': 983, 'word': 984, 'wonderful': 985, 'crazy': 986, 'lazy': 987, 'grave': 988, 'jest': 989, 'remark': 990, 'strangers': 991, 'strong': 992, 'shook': 993, 'walk': 994, 'north': 995, 'ours': 996, 'cease': 997, 'strife': 998, 'whats': 999, 'lilacs': 1000, 'prove': 1001, 'sweetheart': 1002, 'letters': 1003, 'sent': 1004, 'speak': 1005, 'brow': 1006, 'albert': 1007, 'mooney': 1008, 'fighting': 1009, 'fingers': 1010, 'toes': 1011, 'john': 1012, 'hurroo': 1013, 'drums': 1014, 'beguiled': 1015, 'carry': 1016, 'bone': 1017, 'havent': 1018, 'walkin': 1019, 'kilgary': 1020, 'pepper': 1021, 'countin': 1022, 'forth': 1023, 'deliver': 1024, 'daddy': 1025, 'em': 1026, 'deceive': 1027, 'between': 1028, 'even': 1029, 'prisoner': 1030, 'fists': 1031, 'knocked': 1032, 'carriages': 1033, 'rollin': 1034, 'juice': 1035, 'courtin': 1036, 'ponchartrain': 1037, 'does': 1038, 'stranger': 1039, 'marry': 1040, 'adieu': 1041, 'ask': 1042, 'tipped': 1043, 'arrived': 1044, 'ladies': 1045, 'potatoes': 1046, 'courting': 1047, 'miss': 1048, 'small': 1049, 'ned': 1050, 'ribbons': 1051, 'heel': 1052, 'bonny': 1053, 'pipe': 1054, 'thrush': 1055, 'sweethearts': 1056, 'unto': 1057, 'rise': 1058, 'softly': 1059, 'milking': 1060, 'rare': 1061, 'pity': 1062, 'treasure': 1063, 'noon': 1064, 'sailing': 1065, 'banish': 1066, 'riches': 1067, 'comfort': 1068, 'yonder': 1069, 'flows': 1070, 'fairer': 1071, 'lass': 1072, 'woods': 1073, 'strayed': 1074, 'locks': 1075, 'breaking': 1076, 'june': 1077, 'started': 1078, 'hearted': 1079, 'beer': 1080, 'daylight': 1081, 'among': 1082, 'bundle': 1083, 'connaught': 1084, 'quay': 1085, 'erins': 1086, 'galway': 1087, 'fearless': 1088, 'bravely': 1089, 'marches': 1090, 'fate': 1091, 'neck': 1092, 'trod': 1093, 'marched': 1094, 'antrim': 1095, 'sash': 1096, 'flashed': 1097, 'hath': 1098, 'foemans': 1099, 'fight': 1100, 'heavy': 1101, 'bore': 1102, 'mans': 1103, 'counter': 1104, 'dozen': 1105, 'gallon': 1106, 'bottles': 1107, 'diamond': 1108, 'resemble': 1109, 'tiny': 1110, 'friendly': 1111, 'weather': 1112, 'inside': 1113, 'remember': 1114, 'someone': 1115, 'hat': 1116, 'body': 1117, 'dancers': 1118, 'hanging': 1119, 'empty': 1120, 'shoes': 1121, 'broke': 1122, 'december': 1123, 'move': 1124, 'reason': 1125, 'roof': 1126, 'naught': 1127, 'tower': 1128, 'power': 1129, 'king': 1130, 'dreaming': 1131, 'crew': 1132, 'whos': 1133, 'mccann': 1134, 'smoke': 1135, 'notes': 1136, 'yeoman': 1137, 'cavalry': 1138, 'guard': 1139, 'forced': 1140, 'brother': 1141, 'cousin': 1142, 'blame': 1143, 'croppy': 1144, 'dressed': 1145, 'trees': 1146, 'wore': 1147, 'words': 1148, 'swiftly': 1149, 'dawn': 1150, 'lovd': 1151, 'voices': 1152, 'moaning': 1153, 'dark': 1154, 'gather': 1155, 'tay': 1156, 'swinging': 1157, 'drinkin': 1158, 'sitting': 1159, 'stile': 1160, 'springing': 1161, 'yours': 1162, 'kept': 1163, 'aisey': 1164, 'rub': 1165, 'dub': 1166, 'dow': 1167, 'shelah': 1168, 'fairly': 1169, 'beggarman': 1170, 'begging': 1171, 'slept': 1172, 'holes': 1173, 'coming': 1174, 'thru': 1175, 'boo': 1176, 'lady': 1177, 'kerry': 1178, 'pipers': 1179, 'laugh': 1180, 'beaming': 1181, 'guineas': 1182, 'least': 1183, 'diggin': 1184, 'mourne': 1185, 'spending': 1186, 'mellow': 1187, 'plying': 1188, 'slowly': 1189, 'mooncoin': 1190, 'flow': 1191, 'sounds': 1192, 'shine': 1193, 'cool': 1194, 'crystal': 1195, 'fountain': 1196, 'moonlight': 1197, 'grandmother': 1198, 'crooning': 1199, 'merrily': 1200, 'spins': 1201, 'lightly': 1202, 'moving': 1203, 'lattice': 1204, 'grove': 1205, 'swings': 1206, 'finger': 1207, 'shamrock': 1208, 'pocket': 1209, 'springtime': 1210, 'gilgarra': 1211, 'rapier': 1212, 'ringum': 1213, 'mornin': 1214, 'heather': 1215, 'build': 1216, 'maidens': 1217, 'prime': 1218, 'nlyme': 1219, 'flavours': 1220, 'lusty': 1221, 'reminded': 1222, 'attend': 1223, 'guardian': 1224, 'creeping': 1225, 'dale': 1226, 'vigil': 1227, 'visions': 1228, 'revealing': 1229, 'breathes': 1230, 'holy': 1231, 'strains': 1232, 'hover': 1233, 'hark': 1234, 'solemn': 1235, 'winging': 1236, 'earthly': 1237, 'shalt': 1238, 'awaken': 1239, 'destiny': 1240, 'emigrants': 1241, 'amid': 1242, 'longing': 1243, 'parted': 1244, 'townland': 1245, 'vessel': 1246, 'crowded': 1247, 'disquieted': 1248, 'folk': 1249, 'escape': 1250, 'hardship': 1251, 'sustaining': 1252, 'glimpse': 1253, 'faded': 1254, 'strangely': 1255, 'seas': 1256, 'anger': 1257, 'desperate': 1258, 'plight': 1259, 'worsened': 1260, 'delirium': 1261, 'possessed': 1262, 'clouded': 1263, 'prayers': 1264, 'begged': 1265, 'forgiveness': 1266, 'seeking': 1267, 'distant': 1268, 'mither': 1269, 'simple': 1270, 'ditty': 1271, 'ld': 1272, 'li': 1273, 'hush': 1274, 'lullaby': 1275, 'huggin': 1276, 'hummin': 1277, 'rock': 1278, 'asleep': 1279, 'outside': 1280, 'modestly': 1281, 'ry': 1282, 'ay': 1283, 'di': 1284, 're': 1285, 'dai': 1286, 'rie': 1287, 'shc': 1288, 'bridle': 1289, 'stable': 1290, 'oats': 1291, 'eat': 1292, 'soldier': 1293, 'aisy': 1294, 'arose': 1295, 'christmas': 1296, '1803': 1297, 'australia': 1298, 'marks': 1299, 'carried': 1300, 'rusty': 1301, 'iron': 1302, 'wains': 1303, 'mainsails': 1304, 'unfurled': 1305, 'curses': 1306, 'hurled': 1307, 'swell': 1308, 'moth': 1309, 'firelights': 1310, 'horses': 1311, 'rode': 1312, 'taking': 1313, 'hades': 1314, 'twilight': 1315, 'forty': 1316, 'slime': 1317, 'climate': 1318, 'bravery': 1319, 'ended': 1320, 'bond': 1321, 'rebel': 1322, 'iii': 1323, 'violin': 1324, 'clay': 1325, 'sooner': 1326, 'sport': 1327, 'colour': 1328, 'knows': 1329, 'earth': 1330, 'serve': 1331, 'clyde': 1332, 'mourn': 1333, 'weep': 1334, 'suffer': 1335, 'diamonds': 1336, 'queen': 1337, 'hung': 1338, 'tied': 1339, 'apprenticed': 1340, 'happiness': 1341, 'misfortune': 1342, 'follow': 1343, 'strolling': 1344, 'selling': 1345, 'bar': 1346, 'customer': 1347, 'slipped': 1348, 'luck': 1349, 'jury': 1350, 'trial': 1351, 'case': 1352, 'warning': 1353, 'liquor': 1354, 'porter': 1355, 'pleasures': 1356, 'fishing': 1357, 'farming': 1358, 'glens': 1359, 'softest': 1360, 'dripping': 1361, 'snare': 1362, 'lose': 1363, 'court': 1364, 'primrose': 1365, 'bee': 1366, 'hopeless': 1367, 'wonders': 1368, 'admiration': 1369, 'haunt': 1370, 'wherever': 1371, 'sands': 1372, 'purer': 1373, 'within': 1374, 'grieve': 1375, 'drumslieve': 1376, 'ballygrant': 1377, 'deepest': 1378, 'boatsman': 1379, 'ferry': 1380, 'childhood': 1381, 'reflections': 1382, 'boyhood': 1383, 'melting': 1384, 'roaming': 1385, 'reported': 1386, 'marble': 1387, 'stones': 1388, 'ink': 1389, 'support': 1390, 'drunk': 1391, 'seldom': 1392, 'sick': 1393, 'numbered': 1394, 'foam': 1395, 'compare': 1396, 'sights': 1397, 'coast': 1398, 'clare': 1399, 'kilkee': 1400, 'kilrush': 1401, 'watching': 1402, 'pheasants': 1403, 'homes': 1404, 'streams': 1405, 'dublins': 1406, 'cockles': 1407, 'mussels': 1408, 'fish': 1409, 'monger': 1410, 'ghost': 1411, 'wheels': 1412, 'eden': 1413, 'vanished': 1414, 'finea': 1415, 'halfway': 1416, 'cootehill': 1417, 'gruff': 1418, 'whispering': 1419, 'crow': 1420, 'newborn': 1421, 'babies': 1422, 'huff': 1423, 'start': 1424, 'sorrowful': 1425, 'squall': 1426, 'babys': 1427, 'toil': 1428, 'worn': 1429, 'fore': 1430, 'flute': 1431, 'yer': 1432, 'boot': 1433, 'magee': 1434, 'scruff': 1435, 'slanderin': 1436, 'marchin': 1437, 'assisted': 1438, 'drain': 1439, 'dudeen': 1440, 'puff': 1441, 'whisperings': 1442, 'barrin': 1443, 'chocolate': 1444, 'feegee': 1445, 'sort': 1446, 'moonshiny': 1447, 'stuff': 1448, 'addle': 1449, 'brain': 1450, 'ringin': 1451, 'glamour': 1452, 'gas': 1453, 'guff': 1454, 'whisper': 1455, 'oil': 1456, 'remarkable': 1457, 'policeman': 1458, 'bluff': 1459, 'maintain': 1460, 'guril': 1461, 'sic': 1462, 'passage': 1463, 'rough': 1464, 'borne': 1465, 'breeze': 1466, 'boundless': 1467, 'stupendous': 1468, 'roll': 1469, 'thundering': 1470, 'motion': 1471, 'mermaids': 1472, 'fierce': 1473, 'tempest': 1474, 'gathers': 1475, 'oneill': 1476, 'odonnell': 1477, 'lucan': 1478, 'oconnell': 1479, 'brian': 1480, 'drove': 1481, 'danes': 1482, 'patrick': 1483, 'vermin': 1484, 'whose': 1485, 'benburb': 1486, 'blackwater': 1487, 'owen': 1488, 'roe': 1489, 'munroe': 1490, 'lambs': 1491, 'skip': 1492, 'views': 1493, 'enchanting': 1494, 'rostrevor': 1495, 'groves': 1496, 'lakes': 1497, 'ride': 1498, 'tide': 1499, 'majestic': 1500, 'shannon': 1501, 'sail': 1502, 'loch': 1503, 'neagh': 1504, 'ross': 1505, 'gorey': 1506, 'saxon': 1507, 'tory': 1508, 'soil': 1509, 'sanctified': 1510, 'enemies': 1511, 'links': 1512, 'encumbered': 1513, 'resound': 1514, 'hosannahs': 1515, 'bide': 1516, 'hushed': 1517, 'lying': 1518, 'kneel': 1519, 'ave': 1520, 'tread': 1521, 'fail': 1522, 'simply': 1523, 'gasworks': 1524, 'croft': 1525, 'dreamed': 1526, 'canal': 1527, 'factory': 1528, 'clouds': 1529, 'drifting': 1530, 'prowling': 1531, 'beat': 1532, 'springs': 1533, 'siren': 1534, 'docks': 1535, 'train': 1536, 'smelled': 1537, 'smokey': 1538, 'sharp': 1539, 'axe': 1540, 'steel': 1541, 'tempered': 1542, 'chop': 1543, 't': 1544, 'agree': 1545, 'leaning': 1546, 'weirs': 1547, 'ray': 1548, 'glow': 1549, 'changeless': 1550, 'constant': 1551, 'bounding': 1552, 'castles': 1553, 'sacked': 1554, 'scattered': 1555, 'fixed': 1556, 'endearing': 1557, 'gifts': 1558, 'fading': 1559, 'wouldst': 1560, 'adored': 1561, 'loveliness': 1562, 'ruin': 1563, 'itself': 1564, 'verdantly': 1565, 'unprofaned': 1566, 'fervor': 1567, 'faith': 1568, 'forgets': 1569, 'sunflower': 1570, 'rag': 1571, 'games': 1572, 'hold': 1573, 'defend': 1574, 'veteran': 1575, 'volunteers': 1576, 'pat': 1577, 'pearse': 1578, 'clark': 1579, 'macdonagh': 1580, 'macdiarmada': 1581, 'mcbryde': 1582, 'james': 1583, 'connolly': 1584, 'placed': 1585, 'machine': 1586, 'ranting': 1587, 'hour': 1588, 'bullet': 1589, 'stuck': 1590, 'craw': 1591, 'poisoning': 1592, 'ceannt': 1593, 'lions': 1594, 'union': 1595, 'poured': 1596, 'dismay': 1597, 'horror': 1598, 'englishmen': 1599, 'khaki': 1600, 'renown': 1601, 'fame': 1602, 'forefathers': 1603, 'blaze': 1604, 'priests': 1605, 'offer': 1606, 'charmin': 1607, 'variety': 1608, 'renownd': 1609, 'learnin': 1610, 'piety': 1611, 'advance': 1612, 'widout': 1613, 'impropriety': 1614, 'flowr': 1615, 'cho': 1616, 'powrfulest': 1617, 'preacher': 1618, 'tenderest': 1619, 'teacher': 1620, 'kindliest': 1621, 'donegal': 1622, 'talk': 1623, 'provost': 1624, 'trinity': 1625, 'famous': 1626, 'greek': 1627, 'latinity': 1628, 'divils': 1629, 'divinity': 1630, 'd': 1631, 'likes': 1632, 'logic': 1633, 'mythology': 1634, 'thayology': 1635, 'conchology': 1636, 'sinners': 1637, 'wishful': 1638, 'childer': 1639, 'avick': 1640, 'gad': 1641, 'flock': 1642, 'grandest': 1643, 'control': 1644, 'checking': 1645, 'coaxin': 1646, 'onaisy': 1647, 'lifting': 1648, 'avoidin': 1649, 'frivolity': 1650, 'seasons': 1651, 'innocent': 1652, 'jollity': 1653, 'playboy': 1654, 'claim': 1655, 'equality': 1656, 'comicality': 1657, 'bishop': 1658, 'lave': 1659, 'gaiety': 1660, 'laity': 1661, 'clergy': 1662, 'jewels': 1663, 'plundering': 1664, 'pillage': 1665, 'starved': 1666, 'cries': 1667, 'thems': 1668, 'bondage': 1669, 'fourth': 1670, 'tabhair': 1671, 'dom': 1672, 'lã¡mh': 1673, 'harmony': 1674, 'east': 1675, 'destroy': 1676, 'command': 1677, 'gesture': 1678, 'troubles': 1679, 'weak': 1680, 'peoples': 1681, 'creeds': 1682, 'lets': 1683, 'needs': 1684, 'passion': 1685, 'fashion': 1686, 'guide': 1687, 'share': 1688, 'sparkling': 1689, 'meeting': 1690, 'iull': 1691, 'contented': 1692, 'ache': 1693, 'painful': 1694, 'wrote': 1695, 'twisted': 1696, 'twined': 1697, 'cheek': 1698, 'bedim': 1699, 'holds': 1700, 'smiles': 1701, 'scarcely': 1702, 'darkning': 1703, 'beyond': 1704, 'yearn': 1705, 'laughs': 1706, 'humble': 1707, 'brightest': 1708, 'gleam': 1709, 'forgot': 1710, 'pulled': 1711, 'comb': 1712, 'counting': 1713, 'knock': 1714, 'murray': 1715, 'fellow': 1716, 'hail': 1717, 'tumblin': 1718, 'apple': 1719, 'pie': 1720, 'gets': 1721, 'doleful': 1722, 'enemy': 1723, 'nearly': 1724, 'slew': 1725, 'queer': 1726, 'mild': 1727, 'legs': 1728, 'indeed': 1729, 'island': 1730, 'sulloon': 1731, 'flesh': 1732, 'yere': 1733, 'armless': 1734, 'boneless': 1735, 'chickenless': 1736, 'egg': 1737, 'yell': 1738, 'bowl': 1739, 'rolling': 1740, 'swearing': 1741, 'rattled': 1742, 'saber': 1743, 'deceiver': 1744, 'rig': 1745, 'um': 1746, 'du': 1747, 'rum': 1748, 'jar': 1749, 'shinin': 1750, 'coins': 1751, 'promised': 1752, 'vowed': 1753, 'devils': 1754, 'awakened': 1755, 'six': 1756, 'guards': 1757, 'numbers': 1758, 'odd': 1759, 'flew': 1760, 'mistaken': 1761, 'mollys': 1762, 'robbing': 1763, 'sentry': 1764, 'sligo': 1765, 'fishin': 1766, 'bowlin': 1767, 'others': 1768, 'railroad': 1769, 'ties': 1770, 'crossings': 1771, 'swamps': 1772, 'elevations': 1773, 'resolved': 1774, 'sunset': 1775, 'higher': 1776, 'win': 1777, 'allegators': 1778, 'wood': 1779, 'treated': 1780, 'shoulders': 1781, 'paint': 1782, 'picture': 1783, 'vain': 1784, 'returned': 1785, 'cottage': 1786, 'sociable': 1787, 'foaming': 1788, 'n': 1789, 'jeremy': 1790, 'lanigan': 1791, 'battered': 1792, 'hadnt': 1793, 'pound': 1794, 'farm': 1795, 'acres': 1796, 'party': 1797, 'listen': 1798, 'glisten': 1799, 'rows': 1800, 'ructions': 1801, 'invitation': 1802, 'minute': 1803, 'bees': 1804, 'cask': 1805, 'judy': 1806, 'odaly': 1807, 'milliner': 1808, 'wink': 1809, 'peggy': 1810, 'mcgilligan': 1811, 'lashings': 1812, 'punch': 1813, 'cakes': 1814, 'bacon': 1815, 'tea': 1816, 'nolans': 1817, 'dolans': 1818, 'ogradys': 1819, 'sounded': 1820, 'taras': 1821, 'hall': 1822, 'nelly': 1823, 'gray': 1824, 'rat': 1825, 'catchers': 1826, 'doing': 1827, 'kinds': 1828, 'nonsensical': 1829, 'polkas': 1830, 'whirligig': 1831, 'julia': 1832, 'banished': 1833, 'nonsense': 1834, 'twist': 1835, 'jig': 1836, 'mavrone': 1837, 'mad': 1838, 'ceiling': 1839, 'brooks': 1840, 'academy': 1841, 'learning': 1842, 'learn': 1843, 'couples': 1844, 'groups': 1845, 'accident': 1846, 'happened': 1847, 'terrance': 1848, 'mccarthy': 1849, 'finnertys': 1850, 'hoops': 1851, 'cried': 1852, 'meelia': 1853, 'murther': 1854, 'gathered': 1855, 'carmody': 1856, 'further': 1857, 'satisfaction': 1858, 'midst': 1859, 'kerrigan': 1860, 'declared': 1861, 'painted': 1862, 'suppose': 1863, 'morgan': 1864, 'powerful': 1865, 'stretched': 1866, 'smashed': 1867, 'chaneys': 1868, 'runctions': 1869, 'lick': 1870, 'phelim': 1871, 'mchugh': 1872, 'replied': 1873, 'introduction': 1874, 'kicked': 1875, 'terrible': 1876, 'hullabaloo': 1877, 'piper': 1878, 'strangled': 1879, 'squeezed': 1880, 'bellows': 1881, 'chanters': 1882, 'entangled': 1883, 'gaily': 1884, 'mairis': 1885, 'hillways': 1886, 'myrtle': 1887, 'bracken': 1888, 'sheilings': 1889, 'sake': 1890, 'rowans': 1891, 'herring': 1892, 'meal': 1893, 'peat': 1894, 'creel': 1895, 'bairns': 1896, 'weel': 1897, 'toast': 1898, 'soar': 1899, 'blackbird': 1900, 'note': 1901, 'linnet': 1902, 'lure': 1903, 'cozy': 1904, 'catch': 1905, 'company': 1906, 'harm': 1907, 'wit': 1908, 'recall': 1909, 'leisure': 1910, 'awhile': 1911, 'sorely': 1912, 'ruby': 1913, 'enthralled': 1914, 'sorry': 1915, 'theyd': 1916, 'falls': 1917, 'lot': 1918, 'tuned': 1919, 'bough': 1920, 'cow': 1921, 'chanting': 1922, 'melodious': 1923, 'scarce': 1924, 'soothed': 1925, 'solace': 1926, 'courtesy': 1927, 'salute': 1928, 'amiable': 1929, 'captive': 1930, 'slave': 1931, 'future': 1932, 'banter': 1933, 'enamour': 1934, 'indies': 1935, 'afford': 1936, 'transparently': 1937, 'flame': 1938, 'add': 1939, 'fuel': 1940, 'grant': 1941, 'desire': 1942, 'expire': 1943, 'wealth': 1944, 'damer': 1945, 'african': 1946, 'devonshire': 1947, 'lamp': 1948, 'alladin': 1949, 'genie': 1950, 'also': 1951, 'withdraw': 1952, 'tease': 1953, 'single': 1954, 'airy': 1955, 'embarrass': 1956, 'besides': 1957, 'almanack': 1958, 'useless': 1959, 'date': 1960, 'ware': 1961, 'rate': 1962, 'fragrance': 1963, 'loses': 1964, 'consumed': 1965, 'october': 1966, 'knowing': 1967, 'steer': 1968, 'blast': 1969, 'danger': 1970, 'farthing': 1971, 'affection': 1972, 'enjoy': 1973, 'choose': 1974, 'killarneys': 1975, 'sister': 1976, 'pains': 1977, 'loss': 1978, 'tuam': 1979, 'saluted': 1980, 'drank': 1981, 'pint': 1982, 'smother': 1983, 'reap': 1984, 'cut': 1985, 'goblins': 1986, 'bought': 1987, 'brogues': 1988, 'rattling': 1989, 'bogs': 1990, 'frightning': 1991, 'dogs': 1992, 'hunt': 1993, 'hare': 1994, 'follol': 1995, 'rah': 1996, 'mullingar': 1997, 'rested': 1998, 'limbs': 1999, 'blithe': 2000, 'heartfrom': 2001, 'paddys': 2002, 'cure': 2003, 'lassies': 2004, 'laughing': 2005, 'curious': 2006, 'style': 2007, 'twould': 2008, 'bubblin': 2009, 'hired': 2010, 'wages': 2011, 'required': 2012, 'almost': 2013, 'deprived': 2014, 'stroll': 2015, 'quality': 2016, 'locality': 2017, 'something': 2018, 'wobblin': 2019, 'enquiring': 2020, 'rogue': 2021, 'brogue': 2022, 'wasnt': 2023, 'vogue': 2024, 'spirits': 2025, 'falling': 2026, 'jumped': 2027, 'aboard': 2028, 'pigs': 2029, 'rigs': 2030, 'jigs': 2031, 'bubbling': 2032, 'holyhead': 2033, 'wished': 2034, 'instead': 2035, 'bouys': 2036, 'liverpool': 2037, 'safely': 2038, 'fool': 2039, 'boil': 2040, 'temper': 2041, 'losing': 2042, 'abusing': 2043, 'shillelagh': 2044, 'nigh': 2045, 'hobble': 2046, 'load': 2047, 'hurray': 2048, 'joined': 2049, 'affray': 2050, 'quitely': 2051, 'cleared': 2052, 'host': 2053, 'march': 2054, 'faces': 2055, 'farmstead': 2056, 'fishers': 2057, 'ban': 2058, 'vengeance': 2059, 'hapless': 2060, 'about': 2061, 'hemp': 2062, 'rope': 2063, 'clung': 2064, 'grim': 2065, 'array': 2066, 'earnest': 2067, 'stalwart': 2068, 'stainless': 2069, 'banner': 2070, 'marching': 2071, 'torn': 2072, 'furious': 2073, 'odds': 2074, 'keen': 2075, 'toomebridge': 2076, 'treads': 2077, 'upwards': 2078, 'traveled': 2079, 'quarters': 2080, 'below': 2081, 'hogshead': 2082, 'stack': 2083, 'stagger': 2084, 'dig': 2085, 'hole': 2086, 'couple': 2087, 'scratch': 2088, 'consolation': 2089, 'tyrant': 2090, 'remorseless': 2091, 'foe': 2092, 'lift': 2093, 'stranded': 2094, 'prince': 2095, 'edward': 2096, 'coffee': 2097, 'trace': 2098, 'fiddlin': 2099, 'dime': 2100, 'shy': 2101, 'hello': 2102, 'wintry': 2103, 'yellow': 2104, 'somewhere': 2105, 'written': 2106, 'begin': 2107, 'tap': 2108, 'caught': 2109, 'leap': 2110, 'clumsy': 2111, 'graceful': 2112, 'fiddlers': 2113, 'everywhere': 2114, 'boots': 2115, 'laughtcr': 2116, 'suits': 2117, 'easter': 2118, 'gowns': 2119, 'sailors': 2120, 'pianos': 2121, 'setting': 2122, 'someones': 2123, 'hats': 2124, 'rack': 2125, 'chair': 2126, 'wooden': 2127, 'feels': 2128, 'touch': 2129, 'awaitin': 2130, 'thc': 2131, 'fiddles': 2132, 'closet': 2133, 'strings': 2134, 'tbe': 2135, 'covers': 2136, 'buttoned': 2137, 'sometimes': 2138, 'melody': 2139, 'passes': 2140, 'slight': 2141, 'lack': 2142, 'moved': 2143, 'homeward': 2144, 'swan': 2145, 'moves': 2146, 'goods': 2147, 'gear': 2148, 'din': 2149, 'rude': 2150, 'wherein': 2151, 'dwell': 2152, 'abandon': 2153, 'energy': 2154, 'blight': 2155, 'praties': 2156, 'sheep': 2157, 'cattle': 2158, 'taxes': 2159, 'unpaid': 2160, 'redeem': 2161, 'bleak': 2162, 'landlord': 2163, 'sheriff': 2164, 'spleen': 2165, 'heaved': 2166, 'sigh': 2167, 'bade': 2168, 'goodbye': 2169, 'stony': 2170, 'anguish': 2171, 'seeing': 2172, 'feeble': 2173, 'frame': 2174, 'wrapped': 2175, 'cï¿½ta': 2176, 'mï¿½r': 2177, 'unseen': 2178, 'stern': 2179, 'rally': 2180, 'cheer': 2181, 'revenge': 2182, 'waking': 2183, 'wisdom': 2184, 'dwelling': 2185, 'battleshield': 2186, 'dignity': 2187, 'shelter': 2188, 'heed': 2189, 'inheritance': 2190, 'heavem': 2191, 'heaven': 2192, 'victory': 2193, 'reach': 2194, 'whatever': 2195, 'befall': 2196, 'ruler': 2197, 'pleasant': 2198, 'rambling': 2199, 'board': 2200, 'followed': 2201, 'shortly': 2202, 'anchor': 2203, '23rd': 2204, 'lrelands': 2205, 'daughters': 2206, 'crowds': 2207, 'assembled': 2208, 'fulfill': 2209, 'jovial': 2210, 'conversations': 2211, 'neighbors': 2212, 'turning': 2213, 'tailor': 2214, 'quigley': 2215, 'bould': 2216, 'britches': 2217, 'lived': 2218, 'flying': 2219, 'dove': 2220, 'hiii': 2221, 'dreamt': 2222, 'joking': 2223, 'manys': 2224, 'cock': 2225, 'shrill': 2226, 'awoke': 2227, 'california': 2228, 'miles': 2229, 'banbridge': 2230, 'july': 2231, 'boreen': 2232, 'sheen': 2233, 'coaxing': 2234, 'elf': 2235, 'shake': 2236, 'bantry': 2237, 'onward': 2238, 'sped': 2239, 'gazed': 2240, 'passerby': 2241, 'gem': 2242, 'irelands': 2243, 'travelled': 2244, 'hit': 2245, 'career': 2246, 'square': 2247, 'surrendered': 2248, 'tenant': 2249, 'shawl': 2250, 'gown': 2251, 'crossroads': 2252, 'dress': 2253, 'try': 2254, 'sheeps': 2255, 'deludhering': 2256, 'yoke': 2257, 'rust': 2258, 'plow': 2259, 'fireside': 2260, 'sits': 2261, 'whistle': 2262, 'changing': 2263, 'fright': 2264, 'downfall': 2265, 'cornwall': 2266, 'parlour': 2267, 'passing': 2268, 'william': 2269, 'betray': 2270, 'guinea': 2271, 'walking': 2272, 'mounted': 2273, 'platform': 2274, 'deny': 2275, 'walked': 2276, 'margin': 2277, 'lough': 2278, 'leane': 2279, 'bloomed': 2280, 'whom': 2281, 'cap': 2282, 'cloak': 2283, 'glossy': 2284, 'pail': 2285, 'palm': 2286, 'venus': 2287, 'bank': 2288, 'travelians': 2289, 'babes': 2290, 'freebirds': 2291, 'grew': 2292, 'matters': 2293, 'famine': 2294, 'rebelled': 2295, 'windswept': 2296, 'harbour': 2297, 'botany': 2298, 'whilst': 2299, 'wan': 2300, 'cloud': 2301, 'shannons': 2302, 'returnd': 2303, 'doubts': 2304, 'fears': 2305, 'aching': 2306, 'seemd': 2307, 'mingling': 2308, 'flood': 2309, 'path': 2310, 'wrath': 2311, 'lamenting': 2312, 'sudden': 2313, 'kissd': 2314, 'showrs': 2315, 'flowing': 2316, 'laughd': 2317, 'beam': 2318, 'soared': 2319, 'aloft': 2320, 'phantom': 2321, 'outspread': 2322, 'throbbing': 2323, 'hid': 2324, 'treasures': 2325, 'pots': 2326, 'tin': 2327, 'cans': 2328, 'mash': 2329, 'bran': 2330, 'barney': 2331, 'peeled': 2332, 'searching': 2333, 'connemara': 2334, 'butcher': 2335, 'quart': 2336, 'bottle': 2337, 'help': 2338, 'gate': 2339, 'glory': 2340, 'lane': 2341, 'village': 2342, 'church': 2343, 'spire': 2344, 'graveyard': 2345, 'baby': 2346, 'blessing': 2347, 'hoping': 2348, 'trust': 2349, 'strength': 2350, 'thank': 2351, 'bidding': 2352, 'bread': 2353, 'shines': 2354, 'fifty': 2355, 'often': 2356, 'shut': 2357, 'frisky': 2358, 'pig': 2359, 'whisky': 2360, 'uncle': 2361, 'enlisted': 2362, 'trudged': 2363, 'bosom': 2364, 'daisy': 2365, 'drubbing': 2366, 'shirts': 2367, 'battle': 2368, 'blows': 2369, 'pate': 2370, 'bothered': 2371, 'rarely': 2372, 'dropped': 2373, 'honest': 2374, 'thinks': 2375, 'eight': 2376, 'score': 2377, 'basin': 2378, 'zoo': 2379, 'everybody': 2380, 'calls': 2381, 'trades': 2382, 'dinner': 2383, 'slip': 2384, 'corner': 2385, 'barn': 2386, 'currabawn': 2387, 'shocking': 2388, 'wet': 2389, 'raindrops': 2390, 'rats': 2391, 'peek': 2392, 'waken': 2393, 'spotted': 2394, 'apron': 2395, 'calico': 2396, 'blouse': 2397, 'frighten': 2398, 'afraid': 2399, 'flaxen': 2400, 'haired': 2401, 'rags': 2402, 'tags': 2403, 'leggins': 2404, 'collar': 2405, 'tie': 2406, 'goggles': 2407, 'fashioned': 2408, 'bag': 2409, 'bulging': 2410, 'sack': 2411, 'peeping': 2412, 'skin': 2413, 'rink': 2414, 'doodle': 2415, 'getting': 2416, 'raked': 2417, 'gladness': 2418, 'tuning': 2419, 'fills': 2420, 'eily': 2421, 'prouder': 2422, 'thady': 2423, 'boldly': 2424, 'lasses': 2425, 'fled': 2426, 'silent': 2427, 'glad': 2428, 'echo': 2429, 'companions': 2430, 'soars': 2431, 'enchanted': 2432, 'granted': 2433, 'adoration': 2434, 'gives': 2435, 'joyous': 2436, 'elation': 2437, 'covered': 2438, 'winter': 2439, 'riding': 2440, 'cherry': 2441, 'coal': 2442, 'falter': 2443, 'bowed': 2444, 'bonnet': 2445, 'courteous': 2446, 'looks': 2447, 'engaging': 2448, 'sell': 2449, 'purse': 2450, 'yearly': 2451, 'need': 2452, 'market': 2453, 'gain': 2454, 'dearly': 2455, 'tarry': 2456, 'although': 2457, 'parlay': 2458, 'ranks': 2459, 'girded': 2460, 'slung': 2461, 'warrior': 2462, 'bard': 2463, 'betrays': 2464, 'rights': 2465, 'faithful': 2466, 'chords': 2467, 'asunder': 2468, 'sully': 2469, 'bravry': 2470, 'londons': 2471, 'sight': 2472, 'workin': 2473, 'sow': 2474, 'wheat': 2475, 'gangs': 2476, 'sweep': 2477, 'expressed': 2478, 'london': 2479, 'top': 2480, 'dresses': 2481, 'bath': 2482, 'startin': 2483, 'fashions': 2484, 'mccree': 2485, 'nature': 2486, 'designed': 2487, 'complexions': 2488, 'cream': 2489, 'regard': 2490, 'sip': 2491, 'colors': 2492, 'wait': 2493, 'waitin': 2494, 'sweeps': 2495, 'beauing': 2496, 'belling': 2497, 'windows': 2498, 'cursing': 2499, 'faster': 2500, 'waiters': 2501, 'bailiffs': 2502, 'duns': 2503, 'bacchus': 2504, 'begotten': 2505, 'politicians': 2506, 'funds': 2507, 'dadda': 2508, 'living': 2509, 'drives': 2510, 'having': 2511, 'racking': 2512, 'tenants': 2513, 'stewards': 2514, 'teasing': 2515, 'raising': 2516, 'wishing': 2517, 'sunny': 2518, 'doves': 2519, 'coo': 2520, 'neath': 2521, 'sunbeam': 2522, 'robin': 2523, 'waters': 2524, 'larks': 2525, 'join': 2526, 'breaks': 2527, 'oftimes': 2528, 'lilies': 2529, 'declining': 2530, 'vale': 2531, 'shades': 2532, 'mantle': 2533, 'spreading': 2534, 'listening': 2535, 'shedding': 2536, 'beginning': 2537, 'spinning': 2538, 'blind': 2539, 'drowsily': 2540, 'knitting': 2541, 'cheerily': 2542, 'noiselessly': 2543, 'whirring': 2544, 'foots': 2545, 'stirring': 2546, 'sprightly': 2547, 'chara': 2548, 'tapping': 2549, 'ivy': 2550, 'flapping': 2551, 'somebody': 2552, 'sighing': 2553, 'autumn': 2554, 'noise': 2555, 'chirping': 2556, 'holly': 2557, 'shoving': 2558, 'wrong': 2559, 'coolin': 2560, 'casement': 2561, 'rove': 2562, 'moons': 2563, 'brightly': 2564, 'shakes': 2565, 'lays': 2566, 'longs': 2567, 'lingers': 2568, 'glance': 2569, 'puts': 2570, 'lazily': 2571, 'easily': 2572, 'lowly': 2573, 'reels': 2574, 'noiseless': 2575, 'leaps': 2576, 'ere': 2577, 'lovers': 2578, 'roved': 2579, 'verdant': 2580, 'braes': 2581, 'skreen': 2582, 'countrie': 2583, 'foreign': 2584, 'strand': 2585, 'dewy': 2586, 'climb': 2587, 'rob': 2588, 'boat': 2589, 'sails': 2590, 'loaded': 2591, 'sink': 2592, 'leaned': 2593, 'oak': 2594, 'trusty': 2595, 'false': 2596, 'reached': 2597, 'pricked': 2598, 'waxes': 2599, 'fades': 2600, 'wholl': 2601, 'cockle': 2602, 'gloom': 2603, 'news': 2604, 'forbid': 2605, 'patricks': 2606, 'napper': 2607, 'tandy': 2608, 'hows': 2609, 'distressful': 2610, 'englands': 2611, 'remind': 2612, 'pull': 2613, 'throw': 2614, 'sod': 2615, 'root': 2616, 'underfoot': 2617, 'laws': 2618, 'blades': 2619, 'growin': 2620, 'dare': 2621, 'show': 2622, 'caubeen': 2623, 'year': 2624, 'returning': 2625, 'store': 2626, 'ale': 2627, 'frequent': 2628, 'landlady': 2629, 'credit': 2630, 'custom': 2631, 'sovereigns': 2632, 'landladys': 2633, 'wines': 2634, 'confess': 2635, 'pardon': 2636, 'prodigal': 2637, 'caress': 2638, 'forgive': 2639, 'ofttimes': 2640, 'wondering': 2641, 'powr': 2642, 'beguile': 2643, 'teardrop': 2644, 'lilting': 2645, 'laughters': 2646, 'twinkle': 2647, 'lilt': 2648, 'seems': 2649, 'linnets': 2650, 'real': 2651, 'regret': 2652, 'throughout': 2653, 'youths': 2654, 'chance': 2655, 'spied': 2656, 'receiver': 2657, 'counted': 2658, 'penny': 2659, 'bu': 2660, 'rungum': 2661, 'chamber': 2662, 'course': 2663, 'charges': 2664, 'filled': 2665, 'ready': 2666, 'footmen': 2667, 'likewise': 2668, 'draw': 2669, 'pistol': 2670, 'couldnt': 2671, 'shoot': 2672, 'robbin': 2673, 'jailer': 2674, 'tight': 2675, 'fisted': 2676, 'army': 2677, 'stationed': 2678, 'cork': 2679, 'roamin': 2680, 'swear': 2681, 'treat': 2682, 'sportin': 2683, 'hurley': 2684, 'bollin': 2685, 'maids': 2686, 'summertime': 2687, 'pluck': 2688, 'yon': 2689}\n",
            "2690\n"
          ]
        }
      ],
      "source": [
        "tokenizer = Tokenizer()\r\n",
        "\r\n",
        "data = open(r'D:\\codebase\\coursera\\dlaicourse\\TensorFlow In Practice\\Course 3 - NLP\\irish-lyrics-eof.txt').read()\r\n",
        "\r\n",
        "corpus = data.lower().split(\"\\n\")\r\n",
        "\r\n",
        "tokenizer.fit_on_texts(corpus)\r\n",
        "total_words = len(tokenizer.word_index) + 1\r\n",
        "\r\n",
        "print(tokenizer.word_index)\r\n",
        "print(total_words)\r\n"
<<<<<<< HEAD
>>>>>>> 34e6b21abfc5b069204bb7f9f57f96b96d215fc6
=======
>>>>>>> origin/main
      ]
    },
    {
      "cell_type": "code",
<<<<<<< HEAD
<<<<<<< HEAD
      "execution_count": 5,
=======
      "execution_count": 9,
>>>>>>> 34e6b21abfc5b069204bb7f9f57f96b96d215fc6
=======
      "execution_count": 9,
>>>>>>> origin/main
      "metadata": {
        "colab": {},
        "colab_type": "code",
        "id": "soPGVheskaQP"
      },
      "outputs": [],
      "source": [
        "input_sequences = []\n",
        "for line in corpus:\n",
        "\ttoken_list = tokenizer.texts_to_sequences([line])[0]\n",
        "\tfor i in range(1, len(token_list)):\n",
        "\t\tn_gram_sequence = token_list[:i+1]\n",
        "\t\tinput_sequences.append(n_gram_sequence)\n",
        "\n",
        "# pad sequences \n",
        "max_sequence_len = max([len(x) for x in input_sequences])\n",
        "input_sequences = np.array(pad_sequences(input_sequences, maxlen=max_sequence_len, padding='pre'))\n",
        "\n",
        "# create predictors and label\n",
        "xs, labels = input_sequences[:,:-1],input_sequences[:,-1]\n",
        "\n",
        "ys = tf.keras.utils.to_categorical(labels, num_classes=total_words)"
      ]
    },
    {
      "cell_type": "code",
<<<<<<< HEAD
<<<<<<< HEAD
      "execution_count": 6,
=======
      "execution_count": 10,
>>>>>>> 34e6b21abfc5b069204bb7f9f57f96b96d215fc6
=======
      "execution_count": 10,
>>>>>>> origin/main
      "metadata": {
        "colab": {},
        "colab_type": "code",
        "id": "pJtwVB2NbOAP"
      },
      "outputs": [
        {
          "name": "stdout",
          "output_type": "stream",
          "text": [
            "8\n",
            "1\n",
            "71\n",
            "6\n",
            "713\n",
            "39\n",
            "1790\n",
            "1791\n"
          ]
        }
      ],
      "source": [
        "print(tokenizer.word_index['in'])\n",
        "print(tokenizer.word_index['the'])\n",
        "print(tokenizer.word_index['town'])\n",
        "print(tokenizer.word_index['of'])\n",
        "print(tokenizer.word_index['athy'])\n",
        "print(tokenizer.word_index['one'])\n",
        "print(tokenizer.word_index['jeremy'])\n",
        "print(tokenizer.word_index['lanigan'])"
      ]
    },
    {
      "cell_type": "code",
<<<<<<< HEAD
<<<<<<< HEAD
      "execution_count": 7,
=======
      "execution_count": 11,
>>>>>>> 34e6b21abfc5b069204bb7f9f57f96b96d215fc6
=======
      "execution_count": 11,
>>>>>>> origin/main
      "metadata": {
        "colab": {},
        "colab_type": "code",
        "id": "49Cv68JOakwv"
      },
      "outputs": [
        {
          "name": "stdout",
          "output_type": "stream",
          "text": [
            "[0 0 0 0 0 0 0 0 0 0 0 0 0 0 2]\n"
          ]
        }
      ],
      "source": [
        "print(xs[6])"
      ]
    },
    {
      "cell_type": "code",
<<<<<<< HEAD
<<<<<<< HEAD
      "execution_count": 8,
=======
      "execution_count": 12,
>>>>>>> 34e6b21abfc5b069204bb7f9f57f96b96d215fc6
=======
      "execution_count": 12,
>>>>>>> origin/main
      "metadata": {
        "colab": {},
        "colab_type": "code",
        "id": "iY-jwvfgbEF8"
      },
      "outputs": [
        {
          "name": "stdout",
          "output_type": "stream",
          "text": [
            "[0. 0. 0. ... 0. 0. 0.]\n"
          ]
        }
      ],
      "source": [
        "print(ys[6])"
      ]
    },
    {
      "cell_type": "code",
<<<<<<< HEAD
<<<<<<< HEAD
      "execution_count": 9,
=======
      "execution_count": 13,
>>>>>>> 34e6b21abfc5b069204bb7f9f57f96b96d215fc6
=======
      "execution_count": 13,
>>>>>>> origin/main
      "metadata": {
        "colab": {},
        "colab_type": "code",
        "id": "wtzlUMYadhKt"
      },
      "outputs": [
        {
          "name": "stdout",
          "output_type": "stream",
          "text": [
            "[   0    0    0    0    0    0    0    0    0   51   12   96 1217   48\n",
            "    2]\n",
            "[0. 0. 0. ... 0. 0. 0.]\n"
          ]
        }
      ],
      "source": [
        "print(xs[5])\n",
        "print(ys[5])"
      ]
    },
    {
      "cell_type": "code",
<<<<<<< HEAD
<<<<<<< HEAD
      "execution_count": null,
=======
      "execution_count": 14,
>>>>>>> 34e6b21abfc5b069204bb7f9f57f96b96d215fc6
=======
      "execution_count": 14,
>>>>>>> origin/main
      "metadata": {
        "colab": {},
        "colab_type": "code",
        "id": "H4myRpB1c4Gg"
      },
<<<<<<< HEAD
<<<<<<< HEAD
      "outputs": [],
=======
=======
>>>>>>> origin/main
      "outputs": [
        {
          "name": "stdout",
          "output_type": "stream",
          "text": [
            "{'the': 1, 'and': 2, 'i': 3, 'to': 4, 'a': 5, 'of': 6, 'my': 7, 'in': 8, 'me': 9, 'for': 10, 'you': 11, 'all': 12, 'was': 13, 'she': 14, 'that': 15, 'on': 16, 'with': 17, 'her': 18, 'but': 19, 'as': 20, 'when': 21, 'love': 22, 'is': 23, 'your': 24, 'it': 25, 'will': 26, 'from': 27, 'by': 28, 'they': 29, 'be': 30, 'are': 31, 'so': 32, 'he': 33, 'old': 34, 'no': 35, 'oh': 36, 'ill': 37, 'at': 38, 'one': 39, 'his': 40, 'there': 41, 'were': 42, 'heart': 43, 'down': 44, 'now': 45, 'we': 46, 'where': 47, 'young': 48, 'never': 49, 'go': 50, 'come': 51, 'then': 52, 'did': 53, 'not': 54, 'said': 55, 'away': 56, 'their': 57, 'sweet': 58, 'them': 59, 'green': 60, 'if': 61, 'take': 62, 'our': 63, 'like': 64, 'night': 65, 'day': 66, 'o': 67, 'out': 68, 'fair': 69, 'this': 70, 'town': 71, 'have': 72, 'can': 73, 'true': 74, 'its': 75, 'thou': 76, 'see': 77, 'dear': 78, 'more': 79, 'theres': 80, 'or': 81, 'had': 82, 'would': 83, 'over': 84, 'hear': 85, 'up': 86, 'ive': 87, 'through': 88, 'home': 89, 'again': 90, 'well': 91, 'oer': 92, 'land': 93, 'good': 94, 'im': 95, 'ye': 96, 'sea': 97, 'left': 98, 'still': 99, 'father': 100, 'long': 101, 'rose': 102, 'could': 103, 'morning': 104, 'wild': 105, 'who': 106, 'eyes': 107, 'came': 108, 'while': 109, 'too': 110, 'back': 111, 'little': 112, 'an': 113, 'took': 114, 'him': 115, 'bow': 116, 'first': 117, 'let': 118, 'man': 119, 'shall': 120, 'know': 121, 'get': 122, 'high': 123, 'gone': 124, 'say': 125, 'ever': 126, 'some': 127, 'mary': 128, 'hand': 129, 'till': 130, 'put': 131, 'own': 132, 'time': 133, 'heard': 134, 'dead': 135, 'may': 136, 'bright': 137, 'mountain': 138, 'early': 139, 'rosin': 140, 'gave': 141, 'thee': 142, 'only': 143, 'far': 144, 'maid': 145, 'must': 146, 'find': 147, 'girl': 148, 'sure': 149, 'round': 150, 'dublin': 151, 'once': 152, 'world': 153, 'delight': 154, 'last': 155, 'johnny': 156, 'seen': 157, 'has': 158, 'fine': 159, 'road': 160, 'mother': 161, 'tis': 162, 'what': 163, 'way': 164, 'moon': 165, 'soul': 166, 'neer': 167, 'id': 168, 'just': 169, 'thats': 170, 'days': 171, 'darling': 172, 'went': 173, 'white': 174, 'die': 175, 'than': 176, 'hair': 177, 'goes': 178, 'meet': 179, 'today': 180, 'do': 181, 'girls': 182, 'shes': 183, 'thyme': 184, 'thy': 185, 'sing': 186, 'pretty': 187, 'new': 188, 'poor': 189, 'into': 190, 'life': 191, 'irish': 192, 'give': 193, 'boy': 194, 'youre': 195, 'make': 196, 'passed': 197, 'lovely': 198, 'black': 199, 'youll': 200, 'died': 201, 'red': 202, 'smile': 203, 'keep': 204, 'loves': 205, 'free': 206, 'leave': 207, 'friends': 208, 'each': 209, 'saw': 210, 'behind': 211, 'song': 212, 'ra': 213, 'dont': 214, 'arms': 215, 'am': 216, 'sun': 217, 'saying': 218, 'made': 219, 'wish': 220, 'cold': 221, 'met': 222, 'before': 223, 'should': 224, 'rocky': 225, 'light': 226, 'wid': 227, 'boys': 228, 'best': 229, 'fields': 230, 'since': 231, 'ball': 232, 'water': 233, 'casey': 234, 'mind': 235, 'along': 236, 'loved': 237, 'place': 238, 'ireland': 239, 'next': 240, 'three': 241, 'many': 242, 'years': 243, 'door': 244, 'us': 245, 'drink': 246, 'got': 247, 'might': 248, 'live': 249, 'roses': 250, 'play': 251, 'soon': 252, 'ground': 253, 'times': 254, 'spent': 255, 'going': 256, 'tree': 257, 'barley': 258, 'grass': 259, 'kind': 260, 'twas': 261, 'bridge': 262, 'around': 263, 'blue': 264, 'tell': 265, 'row': 266, 'how': 267, 'money': 268, 'merry': 269, 'stepped': 270, 'corporal': 271, 'always': 272, 'though': 273, 'near': 274, 'taken': 275, 'ones': 276, 'daughter': 277, 'forever': 278, 'loo': 279, 'shining': 280, 'plenty': 281, 'hes': 282, 'ship': 283, 'banks': 284, 'think': 285, 'very': 286, 'stand': 287, 'heres': 288, 'snow': 289, 'mountains': 290, 'molly': 291, 'wheel': 292, 'street': 293, 'erin': 294, 'side': 295, 'feet': 296, 'star': 297, 'look': 298, 'brave': 299, 'woman': 300, 'sons': 301, 'two': 302, 'says': 303, 'asked': 304, 'lanigans': 305, 'singing': 306, 'men': 307, 'toome': 308, 'stole': 309, 'god': 310, 'hill': 311, 'lonely': 312, 'lover': 313, 'tears': 314, 'fathers': 315, 'low': 316, 'voice': 317, 'quite': 318, 'able': 319, 'nice': 320, 'laid': 321, 'comrades': 322, 'wind': 323, 'another': 324, 'sit': 325, 'face': 326, 'band': 327, 'call': 328, 'colleen': 329, 'until': 330, 'hills': 331, 'mine': 332, 'above': 333, 'upon': 334, 'eer': 335, 'youve': 336, 'fly': 337, 'been': 338, 'late': 339, 'alive': 340, 'ballyjamesduff': 341, 'looked': 342, 'great': 343, 'why': 344, 'every': 345, 'proud': 346, 'found': 347, 'bragh': 348, 'such': 349, 'birds': 350, 'wedding': 351, 'welcome': 352, 'dancing': 353, 'da': 354, 'fell': 355, 'thinking': 356, 'roddy': 357, 'mccorley': 358, 'smiling': 359, 'mallow': 360, 'blooming': 361, 'thought': 362, 'peace': 363, 'soft': 364, 'pure': 365, 'harp': 366, 'dream': 367, 'alas': 368, 'yet': 369, 'clear': 370, 'art': 371, 'off': 372, 'hope': 373, 'fought': 374, 'mothers': 375, 'shore': 376, 'ago': 377, 'fol': 378, 'de': 379, 'house': 380, 'married': 381, 'bound': 382, 'danced': 383, 'devil': 384, 'dawning': 385, 'makes': 386, 'same': 387, 'sat': 388, 'any': 389, 'glass': 390, 'gay': 391, 'relations': 392, 'evening': 393, 'watched': 394, 'right': 395, 'fellows': 396, 'whiskey': 397, 'bonnie': 398, 'grows': 399, 'women': 400, 'flowers': 401, 'beauty': 402, 'cannot': 403, 'handsome': 404, 'happy': 405, 'gold': 406, 'rover': 407, 'none': 408, 'doneen': 409, 'summers': 410, 'people': 411, 'set': 412, 'paddy': 413, 'morn': 414, 'most': 415, 'easy': 416, 'struck': 417, 'beautiful': 418, 'those': 419, 'golden': 420, 'run': 421, 'pipes': 422, 'glen': 423, 'dying': 424, 'here': 425, 'wall': 426, 'across': 427, 'fire': 428, 'eileen': 429, 'longer': 430, 'cheeks': 431, 'valley': 432, 'both': 433, 'dew': 434, 'care': 435, 'bride': 436, 'nothing': 437, 'wont': 438, 'theyre': 439, 'colonel': 440, 'maiden': 441, 'shed': 442, 'til': 443, 'brown': 444, 'breast': 445, 'corn': 446, 'sinking': 447, 'began': 448, 'name': 449, 'cruel': 450, 'sound': 451, 'spancil': 452, 'county': 453, 'lies': 454, 'color': 455, 'thing': 456, 'decay': 457, 'sleep': 458, 'hours': 459, 'loving': 460, 'weary': 461, 'ringing': 462, 'please': 463, 'forget': 464, 'lie': 465, 'ran': 466, 'tore': 467, 'country': 468, 'fear': 469, 'fortune': 470, 'kissed': 471, 'alone': 472, 'ould': 473, 'cry': 474, 'dreams': 475, 'used': 476, 'horse': 477, 'break': 478, 'bells': 479, 'didnt': 480, 'weeks': 481, 'without': 482, 'raw': 483, 'nor': 484, 'twenty': 485, 'tune': 486, 'hed': 487, 'roving': 488, 'leaves': 489, 'cant': 490, 'death': 491, 'ten': 492, 'prison': 493, 'judge': 494, 'against': 495, 'lads': 496, 'shell': 497, 'fill': 498, 'valleys': 499, 'other': 500, 'pale': 501, 'joy': 502, 'wide': 503, 'bring': 504, 'ah': 505, 'cliffs': 506, 'city': 507, 'end': 508, 'turn': 509, 'sky': 510, 'born': 511, 'knew': 512, 'smiled': 513, 'rosie': 514, 'comes': 515, 'sayin': 516, 'lord': 517, 'dungannon': 518, 'blood': 519, 'air': 520, 'danny': 521, 'calling': 522, 'sunshine': 523, 'spring': 524, 'bid': 525, 'grow': 526, 'truth': 527, 'tear': 528, 'rings': 529, 'guns': 530, 'bay': 531, 'oflynn': 532, 'och': 533, 'stick': 534, 'rest': 535, 'four': 536, 'jewel': 537, 'tried': 538, 'grief': 539, 'answer': 540, 'kathleen': 541, 'fond': 542, 'eye': 543, 'goin': 544, 'pistols': 545, 'musha': 546, 'whack': 547, 'creole': 548, 'together': 549, 'room': 550, 'fall': 551, 'swore': 552, 'being': 553, 'step': 554, 'lark': 555, 'cailã\\xadn': 556, 'deas': 557, 'crãºite': 558, 'na': 559, 'mbã³': 560, 'sir': 561, 'isle': 562, 'waiting': 563, 'magic': 564, 'skibbereen': 565, 'loud': 566, 'raise': 567, 'bent': 568, 'aged': 569, 'summer': 570, 'jenny': 571, 'excise': 572, 'rigadoo': 573, 'auld': 574, 'hearts': 575, 'nay': 576, 'stool': 577, 'farrell': 578, 'garden': 579, 'precious': 580, 'child': 581, 'slumber': 582, 'sleeping': 583, 'watch': 584, 'gently': 585, 'minstrel': 586, 'praise': 587, 'bell': 588, 'shaken': 589, 'immortal': 590, 'pray': 591, 'stay': 592, 'spoke': 593, 'cross': 594, 'brothers': 595, 'much': 596, 'past': 597, 'killarney': 598, 'sang': 599, 'tones': 600, 'ral': 601, 'wander': 602, 'cot': 603, 'feel': 604, 'yore': 605, 'answered': 606, 'divil': 607, 'middle': 608, 'bit': 609, 'led': 610, 'soldiers': 611, 'lily': 612, 'bed': 613, 'lassie': 614, 'clothes': 615, 'return': 616, 'broken': 617, 'derry': 618, 'sighed': 619, 'english': 620, 'tomorrow': 621, 'souls': 622, 'van': 623, 'diemans': 624, 'law': 625, 'neither': 626, 'winds': 627, 'rather': 628, 'doesnt': 629, 'rosy': 630, 'neatest': 631, 'hands': 632, 'whereon': 633, 'stands': 634, 'write': 635, 'thousand': 636, 'fare': 637, 'youd': 638, 'velvet': 639, 'neat': 640, 'landed': 641, 'health': 642, 'kellswater': 643, 'quiet': 644, 'stars': 645, 'beside': 646, 'warm': 647, 'sunday': 648, 'grey': 649, 'ocean': 650, 'sad': 651, 'spend': 652, 'kilkenny': 653, 'silver': 654, 'view': 655, 'west': 656, 'plain': 657, 'barrow': 658, 'broad': 659, 'narrow': 660, 'crying': 661, 'wonder': 662, 'save': 663, 'stop': 664, 'tender': 665, 'told': 666, 'lip': 667, 'dance': 668, 'foot': 669, 'kilrain': 670, 'saint': 671, 'visit': 672, 'mossy': 673, 'wexford': 674, 'irishmen': 675, 'shadow': 676, 'tho': 677, 'salley': 678, 'gardens': 679, 'foolish': 680, 'youth': 681, 'fade': 682, 'war': 683, 'believe': 684, 'which': 685, 'change': 686, 'entwine': 687, 'turns': 688, 'turned': 689, 'crown': 690, 'played': 691, 'captain': 692, 'blow': 693, 'children': 694, 'slainte': 695, 'gentle': 696, 'heavens': 697, 'bloom': 698, 'grand': 699, 'bush': 700, 'nest': 701, 'rich': 702, 'parting': 703, 'better': 704, 'window': 705, 'haste': 706, 'fresh': 707, 'stream': 708, 'rays': 709, 'ma': 710, 'ring': 711, 'lad': 712, 'athy': 713, 'drop': 714, 'hardly': 715, 'done': 716, 'arm': 717, 'leg': 718, 'beg': 719, 'drew': 720, 'bold': 721, 'drawn': 722, 'jail': 723, 'writin': 724, 'farewell': 725, 'tired': 726, 'lake': 727, 'want': 728, 'ringlets': 729, 'myself': 730, 'songs': 731, 'reel': 732, 'steps': 733, 'hearty': 734, 'fainted': 735, 'called': 736, 'under': 737, 'toe': 738, 'mairi': 739, 'fairest': 740, 'darlin': 741, 'bird': 742, 'memory': 743, 'lips': 744, 'sweetly': 745, 'morrow': 746, 'consent': 747, 'else': 748, 'sold': 749, 'stout': 750, 'pair': 751, 'drinking': 752, 'meself': 753, 'fray': 754, 'pike': 755, 'coat': 756, 'beneath': 757, 'rent': 758, 'part': 759, 'half': 760, 'head': 761, 'friend': 762, 'standing': 763, 'floor': 764, 'bare': 765, 'wed': 766, 'son': 767, 'pride': 768, 'vision': 769, 'sword': 770, 'after': 771, 'won': 772, 'farmers': 773, 'flower': 774, 'nut': 775, 'surely': 776, 'stood': 777, 'wandered': 778, 'athenry': 779, 'rising': 780, 'beating': 781, 'form': 782, 'dhu': 783, 'buy': 784, 'laughter': 785, 'wear': 786, 'raking': 787, 'rakes': 788, 'claret': 789, 'shure': 790, 'tralee': 791, 'slower': 792, 'lower': 793, 'deep': 794, 'wearin': 795, 'duram': 796, 'takes': 797, 'beware': 798, 'steal': 799, 'brings': 800, 'things': 801, 'joys': 802, 'bunch': 803, 'sailor': 804, 'chanced': 805, 'pass': 806, 'angels': 807, 'send': 808, 'drowsy': 809, 'keeping': 810, 'spirit': 811, 'stealing': 812, 'feeling': 813, 'roam': 814, 'presence': 815, 'heavenward': 816, 'dust': 817, 'dim': 818, 'journey': 819, 'waves': 820, 'frightened': 821, 'leaving': 822, 'struggle': 823, 'parents': 824, 'courage': 825, 'weeping': 826, 'pain': 827, 'mist': 828, 'felt': 829, 'roared': 830, 'making': 831, 'fever': 832, 'moment': 833, 'distance': 834, 'wailing': 835, 'oft': 836, 'held': 837, 'fast': 838, 'cabin': 839, 'honey': 840, 'diddle': 841, 'clearly': 842, 'open': 843, 'opened': 844, 'table': 845, 'wine': 846, 'lay': 847, 'shells': 848, 'sailed': 849, 'drown': 850, 'fetters': 851, 'chains': 852, 'wives': 853, 'sorrow': 854, 'thoughts': 855, 'cursed': 856, 'hell': 857, 'five': 858, 'buried': 859, 'lost': 860, 'endless': 861, 'slavery': 862, 'gun': 863, 'rain': 864, 'cares': 865, 'ghosts': 866, 'runaway': 867, 'twill': 868, 'month': 869, 'meadows': 870, 'prettiest': 871, 'winters': 872, 'satisfied': 873, 'few': 874, 'short': 875, 'lines': 876, 'shone': 877, 'shoulder': 878, 'belfast': 879, 'trade': 880, 'bad': 881, 'caused': 882, 'stray': 883, 'meaning': 884, 'damsel': 885, 'appear': 886, 'seven': 887, 'sentence': 888, 'jolly': 889, 'whenever': 890, 'wee': 891, 'wife': 892, 'lives': 893, 'martha': 894, 'courted': 895, 'bridgit': 896, 'omalley': 897, 'desolation': 898, 'thorn': 899, 'gaze': 900, 'stone': 901, 'approaching': 902, 'sets': 903, 'carrigfergus': 904, 'nights': 905, 'swim': 906, 'wings': 907, 'sober': 908, 'travel': 909, 'native': 910, 'places': 911, 'slopes': 912, 'hares': 913, 'lofty': 914, 'malone': 915, 'wheeled': 916, 'streets': 917, 'enough': 918, 'reilly': 919, 'tough': 920, 'whispers': 921, 'phil': 922, 'threw': 923, 'straight': 924, 'belles': 925, 'moor': 926, 'brand': 927, 'shapes': 928, 'work': 929, 'vow': 930, 'blarney': 931, 'paid': 932, 'bower': 933, 'remain': 934, 'charming': 935, 'storied': 936, 'chieftains': 937, 'slaughter': 938, 'bann': 939, 'boyne': 940, 'liffey': 941, 'gallant': 942, 'awake': 943, 'greet': 944, 'meadow': 945, 'sweeter': 946, 'dirty': 947, 'cats': 948, 'crossed': 949, 'field': 950, 'river': 951, 'full': 952, 'aroon': 953, 'sends': 954, 'woe': 955, 'chain': 956, 'main': 957, 'charms': 958, 'fondly': 959, 'fleet': 960, 'fairy': 961, 'thine': 962, 'known': 963, 'truly': 964, 'close': 965, 'story': 966, 'flag': 967, 'sweetest': 968, 'honor': 969, 'playing': 970, 'mauser': 971, 'music': 972, 'tom': 973, 'hurrah': 974, 'big': 975, 'lead': 976, 'south': 977, 'generation': 978, 'freedom': 979, 'agin': 980, 'creature': 981, 'dad': 982, 'venture': 983, 'word': 984, 'wonderful': 985, 'crazy': 986, 'lazy': 987, 'grave': 988, 'jest': 989, 'remark': 990, 'strangers': 991, 'strong': 992, 'shook': 993, 'walk': 994, 'north': 995, 'ours': 996, 'cease': 997, 'strife': 998, 'whats': 999, 'lilacs': 1000, 'prove': 1001, 'sweetheart': 1002, 'letters': 1003, 'sent': 1004, 'speak': 1005, 'brow': 1006, 'albert': 1007, 'mooney': 1008, 'fighting': 1009, 'fingers': 1010, 'toes': 1011, 'john': 1012, 'hurroo': 1013, 'drums': 1014, 'beguiled': 1015, 'carry': 1016, 'bone': 1017, 'havent': 1018, 'walkin': 1019, 'kilgary': 1020, 'pepper': 1021, 'countin': 1022, 'forth': 1023, 'deliver': 1024, 'daddy': 1025, 'em': 1026, 'deceive': 1027, 'between': 1028, 'even': 1029, 'prisoner': 1030, 'fists': 1031, 'knocked': 1032, 'carriages': 1033, 'rollin': 1034, 'juice': 1035, 'courtin': 1036, 'ponchartrain': 1037, 'does': 1038, 'stranger': 1039, 'marry': 1040, 'adieu': 1041, 'ask': 1042, 'tipped': 1043, 'arrived': 1044, 'ladies': 1045, 'potatoes': 1046, 'courting': 1047, 'miss': 1048, 'small': 1049, 'ned': 1050, 'ribbons': 1051, 'heel': 1052, 'bonny': 1053, 'pipe': 1054, 'thrush': 1055, 'sweethearts': 1056, 'unto': 1057, 'rise': 1058, 'softly': 1059, 'milking': 1060, 'rare': 1061, 'pity': 1062, 'treasure': 1063, 'noon': 1064, 'sailing': 1065, 'banish': 1066, 'riches': 1067, 'comfort': 1068, 'yonder': 1069, 'flows': 1070, 'fairer': 1071, 'lass': 1072, 'woods': 1073, 'strayed': 1074, 'locks': 1075, 'breaking': 1076, 'june': 1077, 'started': 1078, 'hearted': 1079, 'beer': 1080, 'daylight': 1081, 'among': 1082, 'bundle': 1083, 'connaught': 1084, 'quay': 1085, 'erins': 1086, 'galway': 1087, 'fearless': 1088, 'bravely': 1089, 'marches': 1090, 'fate': 1091, 'neck': 1092, 'trod': 1093, 'marched': 1094, 'antrim': 1095, 'sash': 1096, 'flashed': 1097, 'hath': 1098, 'foemans': 1099, 'fight': 1100, 'heavy': 1101, 'bore': 1102, 'mans': 1103, 'counter': 1104, 'dozen': 1105, 'gallon': 1106, 'bottles': 1107, 'diamond': 1108, 'resemble': 1109, 'tiny': 1110, 'friendly': 1111, 'weather': 1112, 'inside': 1113, 'remember': 1114, 'someone': 1115, 'hat': 1116, 'body': 1117, 'dancers': 1118, 'hanging': 1119, 'empty': 1120, 'shoes': 1121, 'broke': 1122, 'december': 1123, 'move': 1124, 'reason': 1125, 'roof': 1126, 'naught': 1127, 'tower': 1128, 'power': 1129, 'king': 1130, 'dreaming': 1131, 'crew': 1132, 'whos': 1133, 'mccann': 1134, 'smoke': 1135, 'notes': 1136, 'yeoman': 1137, 'cavalry': 1138, 'guard': 1139, 'forced': 1140, 'brother': 1141, 'cousin': 1142, 'blame': 1143, 'croppy': 1144, 'dressed': 1145, 'trees': 1146, 'wore': 1147, 'words': 1148, 'swiftly': 1149, 'dawn': 1150, 'lovd': 1151, 'voices': 1152, 'moaning': 1153, 'dark': 1154, 'gather': 1155, 'tay': 1156, 'swinging': 1157, 'drinkin': 1158, 'sitting': 1159, 'stile': 1160, 'springing': 1161, 'yours': 1162, 'kept': 1163, 'aisey': 1164, 'rub': 1165, 'dub': 1166, 'dow': 1167, 'shelah': 1168, 'fairly': 1169, 'beggarman': 1170, 'begging': 1171, 'slept': 1172, 'holes': 1173, 'coming': 1174, 'thru': 1175, 'boo': 1176, 'lady': 1177, 'kerry': 1178, 'pipers': 1179, 'laugh': 1180, 'beaming': 1181, 'guineas': 1182, 'least': 1183, 'diggin': 1184, 'mourne': 1185, 'spending': 1186, 'mellow': 1187, 'plying': 1188, 'slowly': 1189, 'mooncoin': 1190, 'flow': 1191, 'sounds': 1192, 'shine': 1193, 'cool': 1194, 'crystal': 1195, 'fountain': 1196, 'moonlight': 1197, 'grandmother': 1198, 'crooning': 1199, 'merrily': 1200, 'spins': 1201, 'lightly': 1202, 'moving': 1203, 'lattice': 1204, 'grove': 1205, 'swings': 1206, 'finger': 1207, 'shamrock': 1208, 'pocket': 1209, 'springtime': 1210, 'gilgarra': 1211, 'rapier': 1212, 'ringum': 1213, 'mornin': 1214, 'heather': 1215, 'build': 1216, 'maidens': 1217, 'prime': 1218, 'nlyme': 1219, 'flavours': 1220, 'lusty': 1221, 'reminded': 1222, 'attend': 1223, 'guardian': 1224, 'creeping': 1225, 'dale': 1226, 'vigil': 1227, 'visions': 1228, 'revealing': 1229, 'breathes': 1230, 'holy': 1231, 'strains': 1232, 'hover': 1233, 'hark': 1234, 'solemn': 1235, 'winging': 1236, 'earthly': 1237, 'shalt': 1238, 'awaken': 1239, 'destiny': 1240, 'emigrants': 1241, 'amid': 1242, 'longing': 1243, 'parted': 1244, 'townland': 1245, 'vessel': 1246, 'crowded': 1247, 'disquieted': 1248, 'folk': 1249, 'escape': 1250, 'hardship': 1251, 'sustaining': 1252, 'glimpse': 1253, 'faded': 1254, 'strangely': 1255, 'seas': 1256, 'anger': 1257, 'desperate': 1258, 'plight': 1259, 'worsened': 1260, 'delirium': 1261, 'possessed': 1262, 'clouded': 1263, 'prayers': 1264, 'begged': 1265, 'forgiveness': 1266, 'seeking': 1267, 'distant': 1268, 'mither': 1269, 'simple': 1270, 'ditty': 1271, 'ld': 1272, 'li': 1273, 'hush': 1274, 'lullaby': 1275, 'huggin': 1276, 'hummin': 1277, 'rock': 1278, 'asleep': 1279, 'outside': 1280, 'modestly': 1281, 'ry': 1282, 'ay': 1283, 'di': 1284, 're': 1285, 'dai': 1286, 'rie': 1287, 'shc': 1288, 'bridle': 1289, 'stable': 1290, 'oats': 1291, 'eat': 1292, 'soldier': 1293, 'aisy': 1294, 'arose': 1295, 'christmas': 1296, '1803': 1297, 'australia': 1298, 'marks': 1299, 'carried': 1300, 'rusty': 1301, 'iron': 1302, 'wains': 1303, 'mainsails': 1304, 'unfurled': 1305, 'curses': 1306, 'hurled': 1307, 'swell': 1308, 'moth': 1309, 'firelights': 1310, 'horses': 1311, 'rode': 1312, 'taking': 1313, 'hades': 1314, 'twilight': 1315, 'forty': 1316, 'slime': 1317, 'climate': 1318, 'bravery': 1319, 'ended': 1320, 'bond': 1321, 'rebel': 1322, 'iii': 1323, 'violin': 1324, 'clay': 1325, 'sooner': 1326, 'sport': 1327, 'colour': 1328, 'knows': 1329, 'earth': 1330, 'serve': 1331, 'clyde': 1332, 'mourn': 1333, 'weep': 1334, 'suffer': 1335, 'diamonds': 1336, 'queen': 1337, 'hung': 1338, 'tied': 1339, 'apprenticed': 1340, 'happiness': 1341, 'misfortune': 1342, 'follow': 1343, 'strolling': 1344, 'selling': 1345, 'bar': 1346, 'customer': 1347, 'slipped': 1348, 'luck': 1349, 'jury': 1350, 'trial': 1351, 'case': 1352, 'warning': 1353, 'liquor': 1354, 'porter': 1355, 'pleasures': 1356, 'fishing': 1357, 'farming': 1358, 'glens': 1359, 'softest': 1360, 'dripping': 1361, 'snare': 1362, 'lose': 1363, 'court': 1364, 'primrose': 1365, 'bee': 1366, 'hopeless': 1367, 'wonders': 1368, 'admiration': 1369, 'haunt': 1370, 'wherever': 1371, 'sands': 1372, 'purer': 1373, 'within': 1374, 'grieve': 1375, 'drumslieve': 1376, 'ballygrant': 1377, 'deepest': 1378, 'boatsman': 1379, 'ferry': 1380, 'childhood': 1381, 'reflections': 1382, 'boyhood': 1383, 'melting': 1384, 'roaming': 1385, 'reported': 1386, 'marble': 1387, 'stones': 1388, 'ink': 1389, 'support': 1390, 'drunk': 1391, 'seldom': 1392, 'sick': 1393, 'numbered': 1394, 'foam': 1395, 'compare': 1396, 'sights': 1397, 'coast': 1398, 'clare': 1399, 'kilkee': 1400, 'kilrush': 1401, 'watching': 1402, 'pheasants': 1403, 'homes': 1404, 'streams': 1405, 'dublins': 1406, 'cockles': 1407, 'mussels': 1408, 'fish': 1409, 'monger': 1410, 'ghost': 1411, 'wheels': 1412, 'eden': 1413, 'vanished': 1414, 'finea': 1415, 'halfway': 1416, 'cootehill': 1417, 'gruff': 1418, 'whispering': 1419, 'crow': 1420, 'newborn': 1421, 'babies': 1422, 'huff': 1423, 'start': 1424, 'sorrowful': 1425, 'squall': 1426, 'babys': 1427, 'toil': 1428, 'worn': 1429, 'fore': 1430, 'flute': 1431, 'yer': 1432, 'boot': 1433, 'magee': 1434, 'scruff': 1435, 'slanderin': 1436, 'marchin': 1437, 'assisted': 1438, 'drain': 1439, 'dudeen': 1440, 'puff': 1441, 'whisperings': 1442, 'barrin': 1443, 'chocolate': 1444, 'feegee': 1445, 'sort': 1446, 'moonshiny': 1447, 'stuff': 1448, 'addle': 1449, 'brain': 1450, 'ringin': 1451, 'glamour': 1452, 'gas': 1453, 'guff': 1454, 'whisper': 1455, 'oil': 1456, 'remarkable': 1457, 'policeman': 1458, 'bluff': 1459, 'maintain': 1460, 'guril': 1461, 'sic': 1462, 'passage': 1463, 'rough': 1464, 'borne': 1465, 'breeze': 1466, 'boundless': 1467, 'stupendous': 1468, 'roll': 1469, 'thundering': 1470, 'motion': 1471, 'mermaids': 1472, 'fierce': 1473, 'tempest': 1474, 'gathers': 1475, 'oneill': 1476, 'odonnell': 1477, 'lucan': 1478, 'oconnell': 1479, 'brian': 1480, 'drove': 1481, 'danes': 1482, 'patrick': 1483, 'vermin': 1484, 'whose': 1485, 'benburb': 1486, 'blackwater': 1487, 'owen': 1488, 'roe': 1489, 'munroe': 1490, 'lambs': 1491, 'skip': 1492, 'views': 1493, 'enchanting': 1494, 'rostrevor': 1495, 'groves': 1496, 'lakes': 1497, 'ride': 1498, 'tide': 1499, 'majestic': 1500, 'shannon': 1501, 'sail': 1502, 'loch': 1503, 'neagh': 1504, 'ross': 1505, 'gorey': 1506, 'saxon': 1507, 'tory': 1508, 'soil': 1509, 'sanctified': 1510, 'enemies': 1511, 'links': 1512, 'encumbered': 1513, 'resound': 1514, 'hosannahs': 1515, 'bide': 1516, 'hushed': 1517, 'lying': 1518, 'kneel': 1519, 'ave': 1520, 'tread': 1521, 'fail': 1522, 'simply': 1523, 'gasworks': 1524, 'croft': 1525, 'dreamed': 1526, 'canal': 1527, 'factory': 1528, 'clouds': 1529, 'drifting': 1530, 'prowling': 1531, 'beat': 1532, 'springs': 1533, 'siren': 1534, 'docks': 1535, 'train': 1536, 'smelled': 1537, 'smokey': 1538, 'sharp': 1539, 'axe': 1540, 'steel': 1541, 'tempered': 1542, 'chop': 1543, 't': 1544, 'agree': 1545, 'leaning': 1546, 'weirs': 1547, 'ray': 1548, 'glow': 1549, 'changeless': 1550, 'constant': 1551, 'bounding': 1552, 'castles': 1553, 'sacked': 1554, 'scattered': 1555, 'fixed': 1556, 'endearing': 1557, 'gifts': 1558, 'fading': 1559, 'wouldst': 1560, 'adored': 1561, 'loveliness': 1562, 'ruin': 1563, 'itself': 1564, 'verdantly': 1565, 'unprofaned': 1566, 'fervor': 1567, 'faith': 1568, 'forgets': 1569, 'sunflower': 1570, 'rag': 1571, 'games': 1572, 'hold': 1573, 'defend': 1574, 'veteran': 1575, 'volunteers': 1576, 'pat': 1577, 'pearse': 1578, 'clark': 1579, 'macdonagh': 1580, 'macdiarmada': 1581, 'mcbryde': 1582, 'james': 1583, 'connolly': 1584, 'placed': 1585, 'machine': 1586, 'ranting': 1587, 'hour': 1588, 'bullet': 1589, 'stuck': 1590, 'craw': 1591, 'poisoning': 1592, 'ceannt': 1593, 'lions': 1594, 'union': 1595, 'poured': 1596, 'dismay': 1597, 'horror': 1598, 'englishmen': 1599, 'khaki': 1600, 'renown': 1601, 'fame': 1602, 'forefathers': 1603, 'blaze': 1604, 'priests': 1605, 'offer': 1606, 'charmin': 1607, 'variety': 1608, 'renownd': 1609, 'learnin': 1610, 'piety': 1611, 'advance': 1612, 'widout': 1613, 'impropriety': 1614, 'flowr': 1615, 'cho': 1616, 'powrfulest': 1617, 'preacher': 1618, 'tenderest': 1619, 'teacher': 1620, 'kindliest': 1621, 'donegal': 1622, 'talk': 1623, 'provost': 1624, 'trinity': 1625, 'famous': 1626, 'greek': 1627, 'latinity': 1628, 'divils': 1629, 'divinity': 1630, 'd': 1631, 'likes': 1632, 'logic': 1633, 'mythology': 1634, 'thayology': 1635, 'conchology': 1636, 'sinners': 1637, 'wishful': 1638, 'childer': 1639, 'avick': 1640, 'gad': 1641, 'flock': 1642, 'grandest': 1643, 'control': 1644, 'checking': 1645, 'coaxin': 1646, 'onaisy': 1647, 'lifting': 1648, 'avoidin': 1649, 'frivolity': 1650, 'seasons': 1651, 'innocent': 1652, 'jollity': 1653, 'playboy': 1654, 'claim': 1655, 'equality': 1656, 'comicality': 1657, 'bishop': 1658, 'lave': 1659, 'gaiety': 1660, 'laity': 1661, 'clergy': 1662, 'jewels': 1663, 'plundering': 1664, 'pillage': 1665, 'starved': 1666, 'cries': 1667, 'thems': 1668, 'bondage': 1669, 'fourth': 1670, 'tabhair': 1671, 'dom': 1672, 'lã¡mh': 1673, 'harmony': 1674, 'east': 1675, 'destroy': 1676, 'command': 1677, 'gesture': 1678, 'troubles': 1679, 'weak': 1680, 'peoples': 1681, 'creeds': 1682, 'lets': 1683, 'needs': 1684, 'passion': 1685, 'fashion': 1686, 'guide': 1687, 'share': 1688, 'sparkling': 1689, 'meeting': 1690, 'iull': 1691, 'contented': 1692, 'ache': 1693, 'painful': 1694, 'wrote': 1695, 'twisted': 1696, 'twined': 1697, 'cheek': 1698, 'bedim': 1699, 'holds': 1700, 'smiles': 1701, 'scarcely': 1702, 'darkning': 1703, 'beyond': 1704, 'yearn': 1705, 'laughs': 1706, 'humble': 1707, 'brightest': 1708, 'gleam': 1709, 'forgot': 1710, 'pulled': 1711, 'comb': 1712, 'counting': 1713, 'knock': 1714, 'murray': 1715, 'fellow': 1716, 'hail': 1717, 'tumblin': 1718, 'apple': 1719, 'pie': 1720, 'gets': 1721, 'doleful': 1722, 'enemy': 1723, 'nearly': 1724, 'slew': 1725, 'queer': 1726, 'mild': 1727, 'legs': 1728, 'indeed': 1729, 'island': 1730, 'sulloon': 1731, 'flesh': 1732, 'yere': 1733, 'armless': 1734, 'boneless': 1735, 'chickenless': 1736, 'egg': 1737, 'yell': 1738, 'bowl': 1739, 'rolling': 1740, 'swearing': 1741, 'rattled': 1742, 'saber': 1743, 'deceiver': 1744, 'rig': 1745, 'um': 1746, 'du': 1747, 'rum': 1748, 'jar': 1749, 'shinin': 1750, 'coins': 1751, 'promised': 1752, 'vowed': 1753, 'devils': 1754, 'awakened': 1755, 'six': 1756, 'guards': 1757, 'numbers': 1758, 'odd': 1759, 'flew': 1760, 'mistaken': 1761, 'mollys': 1762, 'robbing': 1763, 'sentry': 1764, 'sligo': 1765, 'fishin': 1766, 'bowlin': 1767, 'others': 1768, 'railroad': 1769, 'ties': 1770, 'crossings': 1771, 'swamps': 1772, 'elevations': 1773, 'resolved': 1774, 'sunset': 1775, 'higher': 1776, 'win': 1777, 'allegators': 1778, 'wood': 1779, 'treated': 1780, 'shoulders': 1781, 'paint': 1782, 'picture': 1783, 'vain': 1784, 'returned': 1785, 'cottage': 1786, 'sociable': 1787, 'foaming': 1788, 'n': 1789, 'jeremy': 1790, 'lanigan': 1791, 'battered': 1792, 'hadnt': 1793, 'pound': 1794, 'farm': 1795, 'acres': 1796, 'party': 1797, 'listen': 1798, 'glisten': 1799, 'rows': 1800, 'ructions': 1801, 'invitation': 1802, 'minute': 1803, 'bees': 1804, 'cask': 1805, 'judy': 1806, 'odaly': 1807, 'milliner': 1808, 'wink': 1809, 'peggy': 1810, 'mcgilligan': 1811, 'lashings': 1812, 'punch': 1813, 'cakes': 1814, 'bacon': 1815, 'tea': 1816, 'nolans': 1817, 'dolans': 1818, 'ogradys': 1819, 'sounded': 1820, 'taras': 1821, 'hall': 1822, 'nelly': 1823, 'gray': 1824, 'rat': 1825, 'catchers': 1826, 'doing': 1827, 'kinds': 1828, 'nonsensical': 1829, 'polkas': 1830, 'whirligig': 1831, 'julia': 1832, 'banished': 1833, 'nonsense': 1834, 'twist': 1835, 'jig': 1836, 'mavrone': 1837, 'mad': 1838, 'ceiling': 1839, 'brooks': 1840, 'academy': 1841, 'learning': 1842, 'learn': 1843, 'couples': 1844, 'groups': 1845, 'accident': 1846, 'happened': 1847, 'terrance': 1848, 'mccarthy': 1849, 'finnertys': 1850, 'hoops': 1851, 'cried': 1852, 'meelia': 1853, 'murther': 1854, 'gathered': 1855, 'carmody': 1856, 'further': 1857, 'satisfaction': 1858, 'midst': 1859, 'kerrigan': 1860, 'declared': 1861, 'painted': 1862, 'suppose': 1863, 'morgan': 1864, 'powerful': 1865, 'stretched': 1866, 'smashed': 1867, 'chaneys': 1868, 'runctions': 1869, 'lick': 1870, 'phelim': 1871, 'mchugh': 1872, 'replied': 1873, 'introduction': 1874, 'kicked': 1875, 'terrible': 1876, 'hullabaloo': 1877, 'piper': 1878, 'strangled': 1879, 'squeezed': 1880, 'bellows': 1881, 'chanters': 1882, 'entangled': 1883, 'gaily': 1884, 'mairis': 1885, 'hillways': 1886, 'myrtle': 1887, 'bracken': 1888, 'sheilings': 1889, 'sake': 1890, 'rowans': 1891, 'herring': 1892, 'meal': 1893, 'peat': 1894, 'creel': 1895, 'bairns': 1896, 'weel': 1897, 'toast': 1898, 'soar': 1899, 'blackbird': 1900, 'note': 1901, 'linnet': 1902, 'lure': 1903, 'cozy': 1904, 'catch': 1905, 'company': 1906, 'harm': 1907, 'wit': 1908, 'recall': 1909, 'leisure': 1910, 'awhile': 1911, 'sorely': 1912, 'ruby': 1913, 'enthralled': 1914, 'sorry': 1915, 'theyd': 1916, 'falls': 1917, 'lot': 1918, 'tuned': 1919, 'bough': 1920, 'cow': 1921, 'chanting': 1922, 'melodious': 1923, 'scarce': 1924, 'soothed': 1925, 'solace': 1926, 'courtesy': 1927, 'salute': 1928, 'amiable': 1929, 'captive': 1930, 'slave': 1931, 'future': 1932, 'banter': 1933, 'enamour': 1934, 'indies': 1935, 'afford': 1936, 'transparently': 1937, 'flame': 1938, 'add': 1939, 'fuel': 1940, 'grant': 1941, 'desire': 1942, 'expire': 1943, 'wealth': 1944, 'damer': 1945, 'african': 1946, 'devonshire': 1947, 'lamp': 1948, 'alladin': 1949, 'genie': 1950, 'also': 1951, 'withdraw': 1952, 'tease': 1953, 'single': 1954, 'airy': 1955, 'embarrass': 1956, 'besides': 1957, 'almanack': 1958, 'useless': 1959, 'date': 1960, 'ware': 1961, 'rate': 1962, 'fragrance': 1963, 'loses': 1964, 'consumed': 1965, 'october': 1966, 'knowing': 1967, 'steer': 1968, 'blast': 1969, 'danger': 1970, 'farthing': 1971, 'affection': 1972, 'enjoy': 1973, 'choose': 1974, 'killarneys': 1975, 'sister': 1976, 'pains': 1977, 'loss': 1978, 'tuam': 1979, 'saluted': 1980, 'drank': 1981, 'pint': 1982, 'smother': 1983, 'reap': 1984, 'cut': 1985, 'goblins': 1986, 'bought': 1987, 'brogues': 1988, 'rattling': 1989, 'bogs': 1990, 'frightning': 1991, 'dogs': 1992, 'hunt': 1993, 'hare': 1994, 'follol': 1995, 'rah': 1996, 'mullingar': 1997, 'rested': 1998, 'limbs': 1999, 'blithe': 2000, 'heartfrom': 2001, 'paddys': 2002, 'cure': 2003, 'lassies': 2004, 'laughing': 2005, 'curious': 2006, 'style': 2007, 'twould': 2008, 'bubblin': 2009, 'hired': 2010, 'wages': 2011, 'required': 2012, 'almost': 2013, 'deprived': 2014, 'stroll': 2015, 'quality': 2016, 'locality': 2017, 'something': 2018, 'wobblin': 2019, 'enquiring': 2020, 'rogue': 2021, 'brogue': 2022, 'wasnt': 2023, 'vogue': 2024, 'spirits': 2025, 'falling': 2026, 'jumped': 2027, 'aboard': 2028, 'pigs': 2029, 'rigs': 2030, 'jigs': 2031, 'bubbling': 2032, 'holyhead': 2033, 'wished': 2034, 'instead': 2035, 'bouys': 2036, 'liverpool': 2037, 'safely': 2038, 'fool': 2039, 'boil': 2040, 'temper': 2041, 'losing': 2042, 'abusing': 2043, 'shillelagh': 2044, 'nigh': 2045, 'hobble': 2046, 'load': 2047, 'hurray': 2048, 'joined': 2049, 'affray': 2050, 'quitely': 2051, 'cleared': 2052, 'host': 2053, 'march': 2054, 'faces': 2055, 'farmstead': 2056, 'fishers': 2057, 'ban': 2058, 'vengeance': 2059, 'hapless': 2060, 'about': 2061, 'hemp': 2062, 'rope': 2063, 'clung': 2064, 'grim': 2065, 'array': 2066, 'earnest': 2067, 'stalwart': 2068, 'stainless': 2069, 'banner': 2070, 'marching': 2071, 'torn': 2072, 'furious': 2073, 'odds': 2074, 'keen': 2075, 'toomebridge': 2076, 'treads': 2077, 'upwards': 2078, 'traveled': 2079, 'quarters': 2080, 'below': 2081, 'hogshead': 2082, 'stack': 2083, 'stagger': 2084, 'dig': 2085, 'hole': 2086, 'couple': 2087, 'scratch': 2088, 'consolation': 2089, 'tyrant': 2090, 'remorseless': 2091, 'foe': 2092, 'lift': 2093, 'stranded': 2094, 'prince': 2095, 'edward': 2096, 'coffee': 2097, 'trace': 2098, 'fiddlin': 2099, 'dime': 2100, 'shy': 2101, 'hello': 2102, 'wintry': 2103, 'yellow': 2104, 'somewhere': 2105, 'written': 2106, 'begin': 2107, 'tap': 2108, 'caught': 2109, 'leap': 2110, 'clumsy': 2111, 'graceful': 2112, 'fiddlers': 2113, 'everywhere': 2114, 'boots': 2115, 'laughtcr': 2116, 'suits': 2117, 'easter': 2118, 'gowns': 2119, 'sailors': 2120, 'pianos': 2121, 'setting': 2122, 'someones': 2123, 'hats': 2124, 'rack': 2125, 'chair': 2126, 'wooden': 2127, 'feels': 2128, 'touch': 2129, 'awaitin': 2130, 'thc': 2131, 'fiddles': 2132, 'closet': 2133, 'strings': 2134, 'tbe': 2135, 'covers': 2136, 'buttoned': 2137, 'sometimes': 2138, 'melody': 2139, 'passes': 2140, 'slight': 2141, 'lack': 2142, 'moved': 2143, 'homeward': 2144, 'swan': 2145, 'moves': 2146, 'goods': 2147, 'gear': 2148, 'din': 2149, 'rude': 2150, 'wherein': 2151, 'dwell': 2152, 'abandon': 2153, 'energy': 2154, 'blight': 2155, 'praties': 2156, 'sheep': 2157, 'cattle': 2158, 'taxes': 2159, 'unpaid': 2160, 'redeem': 2161, 'bleak': 2162, 'landlord': 2163, 'sheriff': 2164, 'spleen': 2165, 'heaved': 2166, 'sigh': 2167, 'bade': 2168, 'goodbye': 2169, 'stony': 2170, 'anguish': 2171, 'seeing': 2172, 'feeble': 2173, 'frame': 2174, 'wrapped': 2175, 'cï¿½ta': 2176, 'mï¿½r': 2177, 'unseen': 2178, 'stern': 2179, 'rally': 2180, 'cheer': 2181, 'revenge': 2182, 'waking': 2183, 'wisdom': 2184, 'dwelling': 2185, 'battleshield': 2186, 'dignity': 2187, 'shelter': 2188, 'heed': 2189, 'inheritance': 2190, 'heavem': 2191, 'heaven': 2192, 'victory': 2193, 'reach': 2194, 'whatever': 2195, 'befall': 2196, 'ruler': 2197, 'pleasant': 2198, 'rambling': 2199, 'board': 2200, 'followed': 2201, 'shortly': 2202, 'anchor': 2203, '23rd': 2204, 'lrelands': 2205, 'daughters': 2206, 'crowds': 2207, 'assembled': 2208, 'fulfill': 2209, 'jovial': 2210, 'conversations': 2211, 'neighbors': 2212, 'turning': 2213, 'tailor': 2214, 'quigley': 2215, 'bould': 2216, 'britches': 2217, 'lived': 2218, 'flying': 2219, 'dove': 2220, 'hiii': 2221, 'dreamt': 2222, 'joking': 2223, 'manys': 2224, 'cock': 2225, 'shrill': 2226, 'awoke': 2227, 'california': 2228, 'miles': 2229, 'banbridge': 2230, 'july': 2231, 'boreen': 2232, 'sheen': 2233, 'coaxing': 2234, 'elf': 2235, 'shake': 2236, 'bantry': 2237, 'onward': 2238, 'sped': 2239, 'gazed': 2240, 'passerby': 2241, 'gem': 2242, 'irelands': 2243, 'travelled': 2244, 'hit': 2245, 'career': 2246, 'square': 2247, 'surrendered': 2248, 'tenant': 2249, 'shawl': 2250, 'gown': 2251, 'crossroads': 2252, 'dress': 2253, 'try': 2254, 'sheeps': 2255, 'deludhering': 2256, 'yoke': 2257, 'rust': 2258, 'plow': 2259, 'fireside': 2260, 'sits': 2261, 'whistle': 2262, 'changing': 2263, 'fright': 2264, 'downfall': 2265, 'cornwall': 2266, 'parlour': 2267, 'passing': 2268, 'william': 2269, 'betray': 2270, 'guinea': 2271, 'walking': 2272, 'mounted': 2273, 'platform': 2274, 'deny': 2275, 'walked': 2276, 'margin': 2277, 'lough': 2278, 'leane': 2279, 'bloomed': 2280, 'whom': 2281, 'cap': 2282, 'cloak': 2283, 'glossy': 2284, 'pail': 2285, 'palm': 2286, 'venus': 2287, 'bank': 2288, 'travelians': 2289, 'babes': 2290, 'freebirds': 2291, 'grew': 2292, 'matters': 2293, 'famine': 2294, 'rebelled': 2295, 'windswept': 2296, 'harbour': 2297, 'botany': 2298, 'whilst': 2299, 'wan': 2300, 'cloud': 2301, 'shannons': 2302, 'returnd': 2303, 'doubts': 2304, 'fears': 2305, 'aching': 2306, 'seemd': 2307, 'mingling': 2308, 'flood': 2309, 'path': 2310, 'wrath': 2311, 'lamenting': 2312, 'sudden': 2313, 'kissd': 2314, 'showrs': 2315, 'flowing': 2316, 'laughd': 2317, 'beam': 2318, 'soared': 2319, 'aloft': 2320, 'phantom': 2321, 'outspread': 2322, 'throbbing': 2323, 'hid': 2324, 'treasures': 2325, 'pots': 2326, 'tin': 2327, 'cans': 2328, 'mash': 2329, 'bran': 2330, 'barney': 2331, 'peeled': 2332, 'searching': 2333, 'connemara': 2334, 'butcher': 2335, 'quart': 2336, 'bottle': 2337, 'help': 2338, 'gate': 2339, 'glory': 2340, 'lane': 2341, 'village': 2342, 'church': 2343, 'spire': 2344, 'graveyard': 2345, 'baby': 2346, 'blessing': 2347, 'hoping': 2348, 'trust': 2349, 'strength': 2350, 'thank': 2351, 'bidding': 2352, 'bread': 2353, 'shines': 2354, 'fifty': 2355, 'often': 2356, 'shut': 2357, 'frisky': 2358, 'pig': 2359, 'whisky': 2360, 'uncle': 2361, 'enlisted': 2362, 'trudged': 2363, 'bosom': 2364, 'daisy': 2365, 'drubbing': 2366, 'shirts': 2367, 'battle': 2368, 'blows': 2369, 'pate': 2370, 'bothered': 2371, 'rarely': 2372, 'dropped': 2373, 'honest': 2374, 'thinks': 2375, 'eight': 2376, 'score': 2377, 'basin': 2378, 'zoo': 2379, 'everybody': 2380, 'calls': 2381, 'trades': 2382, 'dinner': 2383, 'slip': 2384, 'corner': 2385, 'barn': 2386, 'currabawn': 2387, 'shocking': 2388, 'wet': 2389, 'raindrops': 2390, 'rats': 2391, 'peek': 2392, 'waken': 2393, 'spotted': 2394, 'apron': 2395, 'calico': 2396, 'blouse': 2397, 'frighten': 2398, 'afraid': 2399, 'flaxen': 2400, 'haired': 2401, 'rags': 2402, 'tags': 2403, 'leggins': 2404, 'collar': 2405, 'tie': 2406, 'goggles': 2407, 'fashioned': 2408, 'bag': 2409, 'bulging': 2410, 'sack': 2411, 'peeping': 2412, 'skin': 2413, 'rink': 2414, 'doodle': 2415, 'getting': 2416, 'raked': 2417, 'gladness': 2418, 'tuning': 2419, 'fills': 2420, 'eily': 2421, 'prouder': 2422, 'thady': 2423, 'boldly': 2424, 'lasses': 2425, 'fled': 2426, 'silent': 2427, 'glad': 2428, 'echo': 2429, 'companions': 2430, 'soars': 2431, 'enchanted': 2432, 'granted': 2433, 'adoration': 2434, 'gives': 2435, 'joyous': 2436, 'elation': 2437, 'covered': 2438, 'winter': 2439, 'riding': 2440, 'cherry': 2441, 'coal': 2442, 'falter': 2443, 'bowed': 2444, 'bonnet': 2445, 'courteous': 2446, 'looks': 2447, 'engaging': 2448, 'sell': 2449, 'purse': 2450, 'yearly': 2451, 'need': 2452, 'market': 2453, 'gain': 2454, 'dearly': 2455, 'tarry': 2456, 'although': 2457, 'parlay': 2458, 'ranks': 2459, 'girded': 2460, 'slung': 2461, 'warrior': 2462, 'bard': 2463, 'betrays': 2464, 'rights': 2465, 'faithful': 2466, 'chords': 2467, 'asunder': 2468, 'sully': 2469, 'bravry': 2470, 'londons': 2471, 'sight': 2472, 'workin': 2473, 'sow': 2474, 'wheat': 2475, 'gangs': 2476, 'sweep': 2477, 'expressed': 2478, 'london': 2479, 'top': 2480, 'dresses': 2481, 'bath': 2482, 'startin': 2483, 'fashions': 2484, 'mccree': 2485, 'nature': 2486, 'designed': 2487, 'complexions': 2488, 'cream': 2489, 'regard': 2490, 'sip': 2491, 'colors': 2492, 'wait': 2493, 'waitin': 2494, 'sweeps': 2495, 'beauing': 2496, 'belling': 2497, 'windows': 2498, 'cursing': 2499, 'faster': 2500, 'waiters': 2501, 'bailiffs': 2502, 'duns': 2503, 'bacchus': 2504, 'begotten': 2505, 'politicians': 2506, 'funds': 2507, 'dadda': 2508, 'living': 2509, 'drives': 2510, 'having': 2511, 'racking': 2512, 'tenants': 2513, 'stewards': 2514, 'teasing': 2515, 'raising': 2516, 'wishing': 2517, 'sunny': 2518, 'doves': 2519, 'coo': 2520, 'neath': 2521, 'sunbeam': 2522, 'robin': 2523, 'waters': 2524, 'larks': 2525, 'join': 2526, 'breaks': 2527, 'oftimes': 2528, 'lilies': 2529, 'declining': 2530, 'vale': 2531, 'shades': 2532, 'mantle': 2533, 'spreading': 2534, 'listening': 2535, 'shedding': 2536, 'beginning': 2537, 'spinning': 2538, 'blind': 2539, 'drowsily': 2540, 'knitting': 2541, 'cheerily': 2542, 'noiselessly': 2543, 'whirring': 2544, 'foots': 2545, 'stirring': 2546, 'sprightly': 2547, 'chara': 2548, 'tapping': 2549, 'ivy': 2550, 'flapping': 2551, 'somebody': 2552, 'sighing': 2553, 'autumn': 2554, 'noise': 2555, 'chirping': 2556, 'holly': 2557, 'shoving': 2558, 'wrong': 2559, 'coolin': 2560, 'casement': 2561, 'rove': 2562, 'moons': 2563, 'brightly': 2564, 'shakes': 2565, 'lays': 2566, 'longs': 2567, 'lingers': 2568, 'glance': 2569, 'puts': 2570, 'lazily': 2571, 'easily': 2572, 'lowly': 2573, 'reels': 2574, 'noiseless': 2575, 'leaps': 2576, 'ere': 2577, 'lovers': 2578, 'roved': 2579, 'verdant': 2580, 'braes': 2581, 'skreen': 2582, 'countrie': 2583, 'foreign': 2584, 'strand': 2585, 'dewy': 2586, 'climb': 2587, 'rob': 2588, 'boat': 2589, 'sails': 2590, 'loaded': 2591, 'sink': 2592, 'leaned': 2593, 'oak': 2594, 'trusty': 2595, 'false': 2596, 'reached': 2597, 'pricked': 2598, 'waxes': 2599, 'fades': 2600, 'wholl': 2601, 'cockle': 2602, 'gloom': 2603, 'news': 2604, 'forbid': 2605, 'patricks': 2606, 'napper': 2607, 'tandy': 2608, 'hows': 2609, 'distressful': 2610, 'englands': 2611, 'remind': 2612, 'pull': 2613, 'throw': 2614, 'sod': 2615, 'root': 2616, 'underfoot': 2617, 'laws': 2618, 'blades': 2619, 'growin': 2620, 'dare': 2621, 'show': 2622, 'caubeen': 2623, 'year': 2624, 'returning': 2625, 'store': 2626, 'ale': 2627, 'frequent': 2628, 'landlady': 2629, 'credit': 2630, 'custom': 2631, 'sovereigns': 2632, 'landladys': 2633, 'wines': 2634, 'confess': 2635, 'pardon': 2636, 'prodigal': 2637, 'caress': 2638, 'forgive': 2639, 'ofttimes': 2640, 'wondering': 2641, 'powr': 2642, 'beguile': 2643, 'teardrop': 2644, 'lilting': 2645, 'laughters': 2646, 'twinkle': 2647, 'lilt': 2648, 'seems': 2649, 'linnets': 2650, 'real': 2651, 'regret': 2652, 'throughout': 2653, 'youths': 2654, 'chance': 2655, 'spied': 2656, 'receiver': 2657, 'counted': 2658, 'penny': 2659, 'bu': 2660, 'rungum': 2661, 'chamber': 2662, 'course': 2663, 'charges': 2664, 'filled': 2665, 'ready': 2666, 'footmen': 2667, 'likewise': 2668, 'draw': 2669, 'pistol': 2670, 'couldnt': 2671, 'shoot': 2672, 'robbin': 2673, 'jailer': 2674, 'tight': 2675, 'fisted': 2676, 'army': 2677, 'stationed': 2678, 'cork': 2679, 'roamin': 2680, 'swear': 2681, 'treat': 2682, 'sportin': 2683, 'hurley': 2684, 'bollin': 2685, 'maids': 2686, 'summertime': 2687, 'pluck': 2688, 'yon': 2689}\n"
          ]
        }
      ],
<<<<<<< HEAD
>>>>>>> 34e6b21abfc5b069204bb7f9f57f96b96d215fc6
=======
>>>>>>> origin/main
      "source": [
        "print(tokenizer.word_index)"
      ]
    },
    {
      "cell_type": "code",
<<<<<<< HEAD
<<<<<<< HEAD
      "execution_count": 11,
=======
      "execution_count": 15,
>>>>>>> 34e6b21abfc5b069204bb7f9f57f96b96d215fc6
=======
      "execution_count": 15,
>>>>>>> origin/main
      "metadata": {
        "colab": {},
        "colab_type": "code",
        "id": "w9vH8Y59ajYL"
      },
      "outputs": [
        {
<<<<<<< HEAD
<<<<<<< HEAD
          "name": "stderr",
          "output_type": "stream",
          "text": [
            "c:\\Users\\goofy\\AppData\\Local\\Programs\\Python\\Python38\\lib\\site-packages\\keras\\optimizer_v2\\adam.py:105: UserWarning: The `lr` argument is deprecated, use `learning_rate` instead.\n",
            "  super(Adam, self).__init__(name, **kwargs)\n"
          ]
        },
        {
=======
>>>>>>> 34e6b21abfc5b069204bb7f9f57f96b96d215fc6
=======
>>>>>>> origin/main
          "name": "stdout",
          "output_type": "stream",
          "text": [
            "Epoch 1/100\n",
<<<<<<< HEAD
<<<<<<< HEAD
            "374/377 [============================>.] - ETA: 0s - loss: 6.6503 - accuracy: 0.0733WARNING:tensorflow:Early stopping conditioned on metric `val_loss` which is not available. Available metrics are: loss,accuracy\n",
            "377/377 [==============================] - 8s 9ms/step - loss: 6.6493 - accuracy: 0.0734\n",
            "Epoch 2/100\n",
            "375/377 [============================>.] - ETA: 0s - loss: 5.7870 - accuracy: 0.1120WARNING:tensorflow:Early stopping conditioned on metric `val_loss` which is not available. Available metrics are: loss,accuracy\n",
            "377/377 [==============================] - 3s 9ms/step - loss: 5.7845 - accuracy: 0.1124\n",
            "Epoch 3/100\n",
            "374/377 [============================>.] - ETA: 0s - loss: 4.9062 - accuracy: 0.1630WARNING:tensorflow:Early stopping conditioned on metric `val_loss` which is not available. Available metrics are: loss,accuracy\n",
            "377/377 [==============================] - 3s 9ms/step - loss: 4.9077 - accuracy: 0.1629\n",
            "Epoch 4/100\n",
            "374/377 [============================>.] - ETA: 0s - loss: 4.0040 - accuracy: 0.2376WARNING:tensorflow:Early stopping conditioned on metric `val_loss` which is not available. Available metrics are: loss,accuracy\n",
            "377/377 [==============================] - 3s 9ms/step - loss: 4.0047 - accuracy: 0.2376\n",
            "Epoch 5/100\n",
            "373/377 [============================>.] - ETA: 0s - loss: 3.1381 - accuracy: 0.3350WARNING:tensorflow:Early stopping conditioned on metric `val_loss` which is not available. Available metrics are: loss,accuracy\n",
            "377/377 [==============================] - 3s 9ms/step - loss: 3.1398 - accuracy: 0.3348\n",
            "Epoch 6/100\n",
            "376/377 [============================>.] - ETA: 0s - loss: 2.4705 - accuracy: 0.4456WARNING:tensorflow:Early stopping conditioned on metric `val_loss` which is not available. Available metrics are: loss,accuracy\n",
            "377/377 [==============================] - 3s 9ms/step - loss: 2.4710 - accuracy: 0.4456\n",
            "Epoch 7/100\n",
            "374/377 [============================>.] - ETA: 0s - loss: 1.9890 - accuracy: 0.5330WARNING:tensorflow:Early stopping conditioned on metric `val_loss` which is not available. Available metrics are: loss,accuracy\n",
            "377/377 [==============================] - 3s 9ms/step - loss: 1.9888 - accuracy: 0.5326\n",
            "Epoch 8/100\n",
            "375/377 [============================>.] - ETA: 0s - loss: 1.6199 - accuracy: 0.6127WARNING:tensorflow:Early stopping conditioned on metric `val_loss` which is not available. Available metrics are: loss,accuracy\n",
            "377/377 [==============================] - 3s 9ms/step - loss: 1.6207 - accuracy: 0.6123\n",
            "Epoch 9/100\n",
            "375/377 [============================>.] - ETA: 0s - loss: 1.3817 - accuracy: 0.6677WARNING:tensorflow:Early stopping conditioned on metric `val_loss` which is not available. Available metrics are: loss,accuracy\n",
            "377/377 [==============================] - 3s 9ms/step - loss: 1.3836 - accuracy: 0.6672\n",
            "Epoch 10/100\n",
            "375/377 [============================>.] - ETA: 0s - loss: 1.2256 - accuracy: 0.7012WARNING:tensorflow:Early stopping conditioned on metric `val_loss` which is not available. Available metrics are: loss,accuracy\n",
            "377/377 [==============================] - 3s 9ms/step - loss: 1.2262 - accuracy: 0.7010\n",
            "Epoch 11/100\n",
            "377/377 [==============================] - ETA: 0s - loss: 1.1100 - accuracy: 0.7314WARNING:tensorflow:Early stopping conditioned on metric `val_loss` which is not available. Available metrics are: loss,accuracy\n",
            "377/377 [==============================] - 3s 9ms/step - loss: 1.1100 - accuracy: 0.7314\n",
            "Epoch 12/100\n",
            "377/377 [==============================] - ETA: 0s - loss: 1.0815 - accuracy: 0.7330WARNING:tensorflow:Early stopping conditioned on metric `val_loss` which is not available. Available metrics are: loss,accuracy\n",
            "377/377 [==============================] - 3s 9ms/step - loss: 1.0815 - accuracy: 0.7330\n",
            "Epoch 13/100\n",
            "376/377 [============================>.] - ETA: 0s - loss: 1.0574 - accuracy: 0.7355WARNING:tensorflow:Early stopping conditioned on metric `val_loss` which is not available. Available metrics are: loss,accuracy\n",
            "377/377 [==============================] - 3s 9ms/step - loss: 1.0578 - accuracy: 0.7353\n",
            "Epoch 14/100\n",
            "373/377 [============================>.] - ETA: 0s - loss: 1.1154 - accuracy: 0.7204WARNING:tensorflow:Early stopping conditioned on metric `val_loss` which is not available. Available metrics are: loss,accuracy\n",
            "377/377 [==============================] - 3s 9ms/step - loss: 1.1183 - accuracy: 0.7196\n",
            "Epoch 15/100\n",
            "372/377 [============================>.] - ETA: 0s - loss: 1.1652 - accuracy: 0.7016WARNING:tensorflow:Early stopping conditioned on metric `val_loss` which is not available. Available metrics are: loss,accuracy\n",
            "377/377 [==============================] - 3s 9ms/step - loss: 1.1698 - accuracy: 0.7006\n",
            "Epoch 16/100\n",
            "374/377 [============================>.] - ETA: 0s - loss: 1.1928 - accuracy: 0.6952WARNING:tensorflow:Early stopping conditioned on metric `val_loss` which is not available. Available metrics are: loss,accuracy\n",
            "377/377 [==============================] - 3s 9ms/step - loss: 1.1949 - accuracy: 0.6945\n",
            "Epoch 17/100\n",
            "373/377 [============================>.] - ETA: 0s - loss: 1.1286 - accuracy: 0.7087WARNING:tensorflow:Early stopping conditioned on metric `val_loss` which is not available. Available metrics are: loss,accuracy\n",
            "377/377 [==============================] - 3s 9ms/step - loss: 1.1305 - accuracy: 0.7085\n",
            "Epoch 18/100\n",
            "374/377 [============================>.] - ETA: 0s - loss: 0.9986 - accuracy: 0.7435WARNING:tensorflow:Early stopping conditioned on metric `val_loss` which is not available. Available metrics are: loss,accuracy\n",
            "377/377 [==============================] - 4s 9ms/step - loss: 0.9977 - accuracy: 0.7437\n",
            "Epoch 19/100\n",
            "374/377 [============================>.] - ETA: 0s - loss: 0.8950 - accuracy: 0.7697WARNING:tensorflow:Early stopping conditioned on metric `val_loss` which is not available. Available metrics are: loss,accuracy\n",
            "377/377 [==============================] - 3s 9ms/step - loss: 0.8955 - accuracy: 0.7692\n",
            "Epoch 20/100\n",
            "372/377 [============================>.] - ETA: 0s - loss: 0.8362 - accuracy: 0.7874WARNING:tensorflow:Early stopping conditioned on metric `val_loss` which is not available. Available metrics are: loss,accuracy\n",
            "377/377 [==============================] - 3s 9ms/step - loss: 0.8355 - accuracy: 0.7878\n",
            "Epoch 21/100\n",
            "374/377 [============================>.] - ETA: 0s - loss: 0.8058 - accuracy: 0.7954WARNING:tensorflow:Early stopping conditioned on metric `val_loss` which is not available. Available metrics are: loss,accuracy\n",
            "377/377 [==============================] - 3s 9ms/step - loss: 0.8077 - accuracy: 0.7949\n",
            "Epoch 22/100\n",
            "377/377 [==============================] - ETA: 0s - loss: 0.8817 - accuracy: 0.7687WARNING:tensorflow:Early stopping conditioned on metric `val_loss` which is not available. Available metrics are: loss,accuracy\n",
            "377/377 [==============================] - 3s 9ms/step - loss: 0.8817 - accuracy: 0.7687\n",
            "Epoch 23/100\n",
            "375/377 [============================>.] - ETA: 0s - loss: 1.0422 - accuracy: 0.7303WARNING:tensorflow:Early stopping conditioned on metric `val_loss` which is not available. Available metrics are: loss,accuracy\n",
            "377/377 [==============================] - 4s 9ms/step - loss: 1.0441 - accuracy: 0.7298\n",
            "Epoch 24/100\n",
            "373/377 [============================>.] - ETA: 0s - loss: 1.3700 - accuracy: 0.6565WARNING:tensorflow:Early stopping conditioned on metric `val_loss` which is not available. Available metrics are: loss,accuracy\n",
            "377/377 [==============================] - 3s 9ms/step - loss: 1.3705 - accuracy: 0.6566\n",
            "Epoch 25/100\n",
            "372/377 [============================>.] - ETA: 0s - loss: 1.2898 - accuracy: 0.6683WARNING:tensorflow:Early stopping conditioned on metric `val_loss` which is not available. Available metrics are: loss,accuracy\n",
            "377/377 [==============================] - 3s 9ms/step - loss: 1.2912 - accuracy: 0.6681\n",
            "Epoch 26/100\n",
            "375/377 [============================>.] - ETA: 0s - loss: 1.0434 - accuracy: 0.7256WARNING:tensorflow:Early stopping conditioned on metric `val_loss` which is not available. Available metrics are: loss,accuracy\n",
            "377/377 [==============================] - 3s 9ms/step - loss: 1.0439 - accuracy: 0.7255\n",
            "Epoch 27/100\n",
            "376/377 [============================>.] - ETA: 0s - loss: 0.9210 - accuracy: 0.7621WARNING:tensorflow:Early stopping conditioned on metric `val_loss` which is not available. Available metrics are: loss,accuracy\n",
            "377/377 [==============================] - 3s 9ms/step - loss: 0.9207 - accuracy: 0.7621\n",
            "Epoch 28/100\n",
            "377/377 [==============================] - ETA: 0s - loss: 0.8573 - accuracy: 0.7769WARNING:tensorflow:Early stopping conditioned on metric `val_loss` which is not available. Available metrics are: loss,accuracy\n",
            "377/377 [==============================] - 3s 9ms/step - loss: 0.8573 - accuracy: 0.7769\n",
            "Epoch 29/100\n",
            "372/377 [============================>.] - ETA: 0s - loss: 0.7807 - accuracy: 0.7986WARNING:tensorflow:Early stopping conditioned on metric `val_loss` which is not available. Available metrics are: loss,accuracy\n",
            "377/377 [==============================] - 4s 9ms/step - loss: 0.7804 - accuracy: 0.7989\n",
            "Epoch 30/100\n",
            "376/377 [============================>.] - ETA: 0s - loss: 0.7531 - accuracy: 0.8055WARNING:tensorflow:Early stopping conditioned on metric `val_loss` which is not available. Available metrics are: loss,accuracy\n",
            "377/377 [==============================] - 3s 9ms/step - loss: 0.7528 - accuracy: 0.8056\n",
            "Epoch 31/100\n",
            "374/377 [============================>.] - ETA: 0s - loss: 0.7599 - accuracy: 0.8061WARNING:tensorflow:Early stopping conditioned on metric `val_loss` which is not available. Available metrics are: loss,accuracy\n",
            "377/377 [==============================] - 3s 9ms/step - loss: 0.7613 - accuracy: 0.8058\n",
            "Epoch 32/100\n",
            "374/377 [============================>.] - ETA: 0s - loss: 0.8120 - accuracy: 0.7868WARNING:tensorflow:Early stopping conditioned on metric `val_loss` which is not available. Available metrics are: loss,accuracy\n",
            "377/377 [==============================] - 3s 9ms/step - loss: 0.8129 - accuracy: 0.7866\n",
            "Epoch 33/100\n",
            "373/377 [============================>.] - ETA: 0s - loss: 1.0803 - accuracy: 0.7281WARNING:tensorflow:Early stopping conditioned on metric `val_loss` which is not available. Available metrics are: loss,accuracy\n",
            "377/377 [==============================] - 3s 9ms/step - loss: 1.0840 - accuracy: 0.7272\n",
            "Epoch 34/100\n",
            "373/377 [============================>.] - ETA: 0s - loss: 1.4127 - accuracy: 0.6431WARNING:tensorflow:Early stopping conditioned on metric `val_loss` which is not available. Available metrics are: loss,accuracy\n",
            "377/377 [==============================] - 3s 9ms/step - loss: 1.4156 - accuracy: 0.6421\n",
            "Epoch 35/100\n",
            "375/377 [============================>.] - ETA: 0s - loss: 1.3481 - accuracy: 0.6576WARNING:tensorflow:Early stopping conditioned on metric `val_loss` which is not available. Available metrics are: loss,accuracy\n",
            "377/377 [==============================] - 3s 9ms/step - loss: 1.3523 - accuracy: 0.6568\n",
            "Epoch 36/100\n",
            "373/377 [============================>.] - ETA: 0s - loss: 1.1142 - accuracy: 0.7129WARNING:tensorflow:Early stopping conditioned on metric `val_loss` which is not available. Available metrics are: loss,accuracy\n",
            "377/377 [==============================] - 3s 9ms/step - loss: 1.1160 - accuracy: 0.7124\n",
            "Epoch 37/100\n",
            "372/377 [============================>.] - ETA: 0s - loss: 0.9500 - accuracy: 0.7523WARNING:tensorflow:Early stopping conditioned on metric `val_loss` which is not available. Available metrics are: loss,accuracy\n",
            "377/377 [==============================] - 4s 9ms/step - loss: 0.9528 - accuracy: 0.7517\n",
            "Epoch 38/100\n",
            "373/377 [============================>.] - ETA: 0s - loss: 0.8448 - accuracy: 0.7798WARNING:tensorflow:Early stopping conditioned on metric `val_loss` which is not available. Available metrics are: loss,accuracy\n",
            "377/377 [==============================] - 3s 9ms/step - loss: 0.8466 - accuracy: 0.7792\n",
            "Epoch 39/100\n",
            "373/377 [============================>.] - ETA: 0s - loss: 0.8067 - accuracy: 0.7905WARNING:tensorflow:Early stopping conditioned on metric `val_loss` which is not available. Available metrics are: loss,accuracy\n",
            "377/377 [==============================] - 3s 9ms/step - loss: 0.8056 - accuracy: 0.7903\n",
            "Epoch 40/100\n",
            "376/377 [============================>.] - ETA: 0s - loss: 0.7803 - accuracy: 0.7972WARNING:tensorflow:Early stopping conditioned on metric `val_loss` which is not available. Available metrics are: loss,accuracy\n",
            "377/377 [==============================] - 3s 9ms/step - loss: 0.7805 - accuracy: 0.7972\n",
            "Epoch 41/100\n",
            "376/377 [============================>.] - ETA: 0s - loss: 0.7975 - accuracy: 0.7934WARNING:tensorflow:Early stopping conditioned on metric `val_loss` which is not available. Available metrics are: loss,accuracy\n",
            "377/377 [==============================] - 3s 9ms/step - loss: 0.7977 - accuracy: 0.7932\n",
            "Epoch 42/100\n",
            "373/377 [============================>.] - ETA: 0s - loss: 0.8770 - accuracy: 0.7723WARNING:tensorflow:Early stopping conditioned on metric `val_loss` which is not available. Available metrics are: loss,accuracy\n",
            "377/377 [==============================] - 4s 9ms/step - loss: 0.8777 - accuracy: 0.7724\n",
            "Epoch 43/100\n",
            "374/377 [============================>.] - ETA: 0s - loss: 1.0131 - accuracy: 0.7345WARNING:tensorflow:Early stopping conditioned on metric `val_loss` which is not available. Available metrics are: loss,accuracy\n",
            "377/377 [==============================] - 3s 9ms/step - loss: 1.0136 - accuracy: 0.7338\n",
            "Epoch 44/100\n",
            "377/377 [==============================] - ETA: 0s - loss: 1.2128 - accuracy: 0.6903WARNING:tensorflow:Early stopping conditioned on metric `val_loss` which is not available. Available metrics are: loss,accuracy\n",
            "377/377 [==============================] - 4s 10ms/step - loss: 1.2128 - accuracy: 0.6903\n",
            "Epoch 45/100\n",
            "376/377 [============================>.] - ETA: 0s - loss: 1.1651 - accuracy: 0.6986WARNING:tensorflow:Early stopping conditioned on metric `val_loss` which is not available. Available metrics are: loss,accuracy\n",
            "377/377 [==============================] - 4s 11ms/step - loss: 1.1653 - accuracy: 0.6985\n",
            "Epoch 46/100\n",
            "377/377 [==============================] - ETA: 0s - loss: 1.0713 - accuracy: 0.7241WARNING:tensorflow:Early stopping conditioned on metric `val_loss` which is not available. Available metrics are: loss,accuracy\n",
            "377/377 [==============================] - 4s 11ms/step - loss: 1.0713 - accuracy: 0.7241\n",
            "Epoch 47/100\n",
            "373/377 [============================>.] - ETA: 0s - loss: 0.9441 - accuracy: 0.7524WARNING:tensorflow:Early stopping conditioned on metric `val_loss` which is not available. Available metrics are: loss,accuracy\n",
            "377/377 [==============================] - 4s 11ms/step - loss: 0.9434 - accuracy: 0.7525\n",
            "Epoch 48/100\n",
            "376/377 [============================>.] - ETA: 0s - loss: 0.8716 - accuracy: 0.7697WARNING:tensorflow:Early stopping conditioned on metric `val_loss` which is not available. Available metrics are: loss,accuracy\n",
            "377/377 [==============================] - 4s 11ms/step - loss: 0.8719 - accuracy: 0.7696\n",
            "Epoch 49/100\n",
            "376/377 [============================>.] - ETA: 0s - loss: 0.7822 - accuracy: 0.7947WARNING:tensorflow:Early stopping conditioned on metric `val_loss` which is not available. Available metrics are: loss,accuracy\n",
            "377/377 [==============================] - 4s 11ms/step - loss: 0.7822 - accuracy: 0.7947\n",
            "Epoch 50/100\n",
            "374/377 [============================>.] - ETA: 0s - loss: 0.7611 - accuracy: 0.8018WARNING:tensorflow:Early stopping conditioned on metric `val_loss` which is not available. Available metrics are: loss,accuracy\n",
            "377/377 [==============================] - 4s 11ms/step - loss: 0.7613 - accuracy: 0.8017\n",
            "Epoch 51/100\n",
            "373/377 [============================>.] - ETA: 0s - loss: 0.7688 - accuracy: 0.7974WARNING:tensorflow:Early stopping conditioned on metric `val_loss` which is not available. Available metrics are: loss,accuracy\n",
            "377/377 [==============================] - 5s 12ms/step - loss: 0.7688 - accuracy: 0.7976\n",
            "Epoch 52/100\n",
            "374/377 [============================>.] - ETA: 0s - loss: 0.8334 - accuracy: 0.7802WARNING:tensorflow:Early stopping conditioned on metric `val_loss` which is not available. Available metrics are: loss,accuracy\n",
            "377/377 [==============================] - 5s 12ms/step - loss: 0.8348 - accuracy: 0.7796\n",
            "Epoch 53/100\n",
            "376/377 [============================>.] - ETA: 0s - loss: 0.9814 - accuracy: 0.7448WARNING:tensorflow:Early stopping conditioned on metric `val_loss` which is not available. Available metrics are: loss,accuracy\n",
            "377/377 [==============================] - 4s 11ms/step - loss: 0.9820 - accuracy: 0.7446\n",
            "Epoch 54/100\n",
            "377/377 [==============================] - ETA: 0s - loss: 1.1262 - accuracy: 0.7064WARNING:tensorflow:Early stopping conditioned on metric `val_loss` which is not available. Available metrics are: loss,accuracy\n",
            "377/377 [==============================] - 5s 12ms/step - loss: 1.1262 - accuracy: 0.7064\n",
            "Epoch 55/100\n",
            "376/377 [============================>.] - ETA: 0s - loss: 1.1261 - accuracy: 0.7065WARNING:tensorflow:Early stopping conditioned on metric `val_loss` which is not available. Available metrics are: loss,accuracy\n",
            "377/377 [==============================] - 4s 12ms/step - loss: 1.1265 - accuracy: 0.7065\n",
            "Epoch 56/100\n",
            "376/377 [============================>.] - ETA: 0s - loss: 1.0429 - accuracy: 0.7260WARNING:tensorflow:Early stopping conditioned on metric `val_loss` which is not available. Available metrics are: loss,accuracy\n",
            "377/377 [==============================] - 5s 12ms/step - loss: 1.0433 - accuracy: 0.7259\n",
            "Epoch 57/100\n",
            "377/377 [==============================] - ETA: 0s - loss: 0.9753 - accuracy: 0.7411WARNING:tensorflow:Early stopping conditioned on metric `val_loss` which is not available. Available metrics are: loss,accuracy\n",
            "377/377 [==============================] - 4s 12ms/step - loss: 0.9753 - accuracy: 0.7411\n",
            "Epoch 58/100\n",
            "377/377 [==============================] - ETA: 0s - loss: 0.8617 - accuracy: 0.7726WARNING:tensorflow:Early stopping conditioned on metric `val_loss` which is not available. Available metrics are: loss,accuracy\n",
            "377/377 [==============================] - 4s 12ms/step - loss: 0.8617 - accuracy: 0.7726\n",
            "Epoch 59/100\n",
            "375/377 [============================>.] - ETA: 0s - loss: 0.7915 - accuracy: 0.7879WARNING:tensorflow:Early stopping conditioned on metric `val_loss` which is not available. Available metrics are: loss,accuracy\n",
            "377/377 [==============================] - 4s 12ms/step - loss: 0.7909 - accuracy: 0.7880\n",
            "Epoch 60/100\n",
            "376/377 [============================>.] - ETA: 0s - loss: 0.7775 - accuracy: 0.7967WARNING:tensorflow:Early stopping conditioned on metric `val_loss` which is not available. Available metrics are: loss,accuracy\n",
            "377/377 [==============================] - 5s 12ms/step - loss: 0.7777 - accuracy: 0.7966\n",
            "Epoch 61/100\n",
            "375/377 [============================>.] - ETA: 0s - loss: 0.8482 - accuracy: 0.7853WARNING:tensorflow:Early stopping conditioned on metric `val_loss` which is not available. Available metrics are: loss,accuracy\n",
            "377/377 [==============================] - 4s 11ms/step - loss: 0.8495 - accuracy: 0.7849\n",
            "Epoch 62/100\n",
            "375/377 [============================>.] - ETA: 0s - loss: 0.9650 - accuracy: 0.7523WARNING:tensorflow:Early stopping conditioned on metric `val_loss` which is not available. Available metrics are: loss,accuracy\n",
            "377/377 [==============================] - 4s 10ms/step - loss: 0.9661 - accuracy: 0.7522\n",
            "Epoch 63/100\n",
            "375/377 [============================>.] - ETA: 0s - loss: 1.0326 - accuracy: 0.7306WARNING:tensorflow:Early stopping conditioned on metric `val_loss` which is not available. Available metrics are: loss,accuracy\n",
            "377/377 [==============================] - 3s 9ms/step - loss: 1.0340 - accuracy: 0.7303\n",
            "Epoch 64/100\n",
            "373/377 [============================>.] - ETA: 0s - loss: 1.0520 - accuracy: 0.7244WARNING:tensorflow:Early stopping conditioned on metric `val_loss` which is not available. Available metrics are: loss,accuracy\n",
            "377/377 [==============================] - 3s 9ms/step - loss: 1.0540 - accuracy: 0.7242\n",
            "Epoch 65/100\n",
            "373/377 [============================>.] - ETA: 0s - loss: 1.0195 - accuracy: 0.7314WARNING:tensorflow:Early stopping conditioned on metric `val_loss` which is not available. Available metrics are: loss,accuracy\n",
            "377/377 [==============================] - 3s 9ms/step - loss: 1.0215 - accuracy: 0.7309\n",
            "Epoch 66/100\n",
            "372/377 [============================>.] - ETA: 0s - loss: 0.9709 - accuracy: 0.7491WARNING:tensorflow:Early stopping conditioned on metric `val_loss` which is not available. Available metrics are: loss,accuracy\n",
            "377/377 [==============================] - 3s 9ms/step - loss: 0.9760 - accuracy: 0.7480\n",
            "Epoch 67/100\n",
            "374/377 [============================>.] - ETA: 0s - loss: 0.8867 - accuracy: 0.7650WARNING:tensorflow:Early stopping conditioned on metric `val_loss` which is not available. Available metrics are: loss,accuracy\n",
            "377/377 [==============================] - 3s 9ms/step - loss: 0.8892 - accuracy: 0.7645\n",
            "Epoch 68/100\n",
            "372/377 [============================>.] - ETA: 0s - loss: 0.8109 - accuracy: 0.7863WARNING:tensorflow:Early stopping conditioned on metric `val_loss` which is not available. Available metrics are: loss,accuracy\n",
            "377/377 [==============================] - 3s 9ms/step - loss: 0.8125 - accuracy: 0.7859\n",
            "Epoch 69/100\n",
            "375/377 [============================>.] - ETA: 0s - loss: 0.7900 - accuracy: 0.7925WARNING:tensorflow:Early stopping conditioned on metric `val_loss` which is not available. Available metrics are: loss,accuracy\n",
            "377/377 [==============================] - 3s 9ms/step - loss: 0.7906 - accuracy: 0.7925\n",
            "Epoch 70/100\n",
            "376/377 [============================>.] - ETA: 0s - loss: 0.7867 - accuracy: 0.7939WARNING:tensorflow:Early stopping conditioned on metric `val_loss` which is not available. Available metrics are: loss,accuracy\n",
            "377/377 [==============================] - 4s 9ms/step - loss: 0.7870 - accuracy: 0.7939\n",
            "Epoch 71/100\n",
            "374/377 [============================>.] - ETA: 0s - loss: 0.8175 - accuracy: 0.7848WARNING:tensorflow:Early stopping conditioned on metric `val_loss` which is not available. Available metrics are: loss,accuracy\n",
            "377/377 [==============================] - 4s 9ms/step - loss: 0.8180 - accuracy: 0.7844\n",
            "Epoch 72/100\n",
            "373/377 [============================>.] - ETA: 0s - loss: 0.8333 - accuracy: 0.7802WARNING:tensorflow:Early stopping conditioned on metric `val_loss` which is not available. Available metrics are: loss,accuracy\n",
            "377/377 [==============================] - 3s 9ms/step - loss: 0.8370 - accuracy: 0.7796\n",
            "Epoch 73/100\n",
            "372/377 [============================>.] - ETA: 0s - loss: 0.8842 - accuracy: 0.7666WARNING:tensorflow:Early stopping conditioned on metric `val_loss` which is not available. Available metrics are: loss,accuracy\n",
            "377/377 [==============================] - 3s 9ms/step - loss: 0.8859 - accuracy: 0.7664\n",
            "Epoch 74/100\n",
            "376/377 [============================>.] - ETA: 0s - loss: 0.9453 - accuracy: 0.7571WARNING:tensorflow:Early stopping conditioned on metric `val_loss` which is not available. Available metrics are: loss,accuracy\n",
            "377/377 [==============================] - 3s 9ms/step - loss: 0.9454 - accuracy: 0.7570\n",
            "Epoch 75/100\n",
            "374/377 [============================>.] - ETA: 0s - loss: 0.9513 - accuracy: 0.7511WARNING:tensorflow:Early stopping conditioned on metric `val_loss` which is not available. Available metrics are: loss,accuracy\n",
            "377/377 [==============================] - 3s 9ms/step - loss: 0.9517 - accuracy: 0.7510\n",
            "Epoch 76/100\n",
            "375/377 [============================>.] - ETA: 0s - loss: 0.9488 - accuracy: 0.7493WARNING:tensorflow:Early stopping conditioned on metric `val_loss` which is not available. Available metrics are: loss,accuracy\n",
            "377/377 [==============================] - 4s 9ms/step - loss: 0.9493 - accuracy: 0.7492\n",
            "Epoch 77/100\n",
            "375/377 [============================>.] - ETA: 0s - loss: 0.9498 - accuracy: 0.7541WARNING:tensorflow:Early stopping conditioned on metric `val_loss` which is not available. Available metrics are: loss,accuracy\n",
            "377/377 [==============================] - 3s 9ms/step - loss: 0.9504 - accuracy: 0.7540\n",
            "Epoch 78/100\n",
            "373/377 [============================>.] - ETA: 0s - loss: 0.9083 - accuracy: 0.7605WARNING:tensorflow:Early stopping conditioned on metric `val_loss` which is not available. Available metrics are: loss,accuracy\n",
            "377/377 [==============================] - 3s 9ms/step - loss: 0.9103 - accuracy: 0.7600\n",
            "Epoch 79/100\n",
            "375/377 [============================>.] - ETA: 0s - loss: 0.9195 - accuracy: 0.7597WARNING:tensorflow:Early stopping conditioned on metric `val_loss` which is not available. Available metrics are: loss,accuracy\n",
            "377/377 [==============================] - 4s 9ms/step - loss: 0.9218 - accuracy: 0.7593\n",
            "Epoch 80/100\n",
            "376/377 [============================>.] - ETA: 0s - loss: 0.8700 - accuracy: 0.7679WARNING:tensorflow:Early stopping conditioned on metric `val_loss` which is not available. Available metrics are: loss,accuracy\n",
            "377/377 [==============================] - 3s 9ms/step - loss: 0.8701 - accuracy: 0.7678\n",
            "Epoch 81/100\n",
            "377/377 [==============================] - ETA: 0s - loss: 0.8403 - accuracy: 0.7773WARNING:tensorflow:Early stopping conditioned on metric `val_loss` which is not available. Available metrics are: loss,accuracy\n",
            "377/377 [==============================] - 3s 9ms/step - loss: 0.8403 - accuracy: 0.7773\n",
            "Epoch 82/100\n",
            "377/377 [==============================] - ETA: 0s - loss: 0.8369 - accuracy: 0.7772WARNING:tensorflow:Early stopping conditioned on metric `val_loss` which is not available. Available metrics are: loss,accuracy\n",
            "377/377 [==============================] - 3s 9ms/step - loss: 0.8369 - accuracy: 0.7772\n",
            "Epoch 83/100\n",
            "375/377 [============================>.] - ETA: 0s - loss: 0.8434 - accuracy: 0.7797WARNING:tensorflow:Early stopping conditioned on metric `val_loss` which is not available. Available metrics are: loss,accuracy\n",
            "377/377 [==============================] - 3s 9ms/step - loss: 0.8433 - accuracy: 0.7797\n",
            "Epoch 84/100\n",
            "376/377 [============================>.] - ETA: 0s - loss: 0.8385 - accuracy: 0.7798WARNING:tensorflow:Early stopping conditioned on metric `val_loss` which is not available. Available metrics are: loss,accuracy\n",
            "377/377 [==============================] - 3s 9ms/step - loss: 0.8381 - accuracy: 0.7799\n",
            "Epoch 85/100\n",
            "372/377 [============================>.] - ETA: 0s - loss: 0.8357 - accuracy: 0.7786WARNING:tensorflow:Early stopping conditioned on metric `val_loss` which is not available. Available metrics are: loss,accuracy\n",
            "377/377 [==============================] - 3s 9ms/step - loss: 0.8403 - accuracy: 0.7777\n",
            "Epoch 86/100\n",
            "376/377 [============================>.] - ETA: 0s - loss: 0.8532 - accuracy: 0.7736WARNING:tensorflow:Early stopping conditioned on metric `val_loss` which is not available. Available metrics are: loss,accuracy\n",
            "377/377 [==============================] - 3s 9ms/step - loss: 0.8529 - accuracy: 0.7736\n",
            "Epoch 87/100\n",
            "374/377 [============================>.] - ETA: 0s - loss: 0.8718 - accuracy: 0.7710WARNING:tensorflow:Early stopping conditioned on metric `val_loss` which is not available. Available metrics are: loss,accuracy\n",
            "377/377 [==============================] - 3s 9ms/step - loss: 0.8717 - accuracy: 0.7708\n",
            "Epoch 88/100\n",
            "373/377 [============================>.] - ETA: 0s - loss: 0.8978 - accuracy: 0.7662WARNING:tensorflow:Early stopping conditioned on metric `val_loss` which is not available. Available metrics are: loss,accuracy\n",
            "377/377 [==============================] - 4s 9ms/step - loss: 0.8995 - accuracy: 0.7656\n",
            "Epoch 89/100\n",
            "377/377 [==============================] - ETA: 0s - loss: 0.9268 - accuracy: 0.7592WARNING:tensorflow:Early stopping conditioned on metric `val_loss` which is not available. Available metrics are: loss,accuracy\n",
            "377/377 [==============================] - 3s 9ms/step - loss: 0.9268 - accuracy: 0.7592\n",
            "Epoch 90/100\n",
            "377/377 [==============================] - ETA: 0s - loss: 0.9546 - accuracy: 0.7561WARNING:tensorflow:Early stopping conditioned on metric `val_loss` which is not available. Available metrics are: loss,accuracy\n",
            "377/377 [==============================] - 4s 11ms/step - loss: 0.9546 - accuracy: 0.7561\n",
            "Epoch 91/100\n",
            "376/377 [============================>.] - ETA: 0s - loss: 0.9460 - accuracy: 0.7543WARNING:tensorflow:Early stopping conditioned on metric `val_loss` which is not available. Available metrics are: loss,accuracy\n",
            "377/377 [==============================] - 5s 12ms/step - loss: 0.9456 - accuracy: 0.7544\n",
            "Epoch 92/100\n",
            "376/377 [============================>.] - ETA: 0s - loss: 0.9323 - accuracy: 0.7539WARNING:tensorflow:Early stopping conditioned on metric `val_loss` which is not available. Available metrics are: loss,accuracy\n",
            "377/377 [==============================] - 4s 12ms/step - loss: 0.9327 - accuracy: 0.7538\n",
            "Epoch 93/100\n",
            "377/377 [==============================] - ETA: 0s - loss: 0.8990 - accuracy: 0.7642WARNING:tensorflow:Early stopping conditioned on metric `val_loss` which is not available. Available metrics are: loss,accuracy\n",
            "377/377 [==============================] - 4s 11ms/step - loss: 0.8990 - accuracy: 0.7642\n",
            "Epoch 94/100\n",
            "374/377 [============================>.] - ETA: 0s - loss: 0.8665 - accuracy: 0.7696WARNING:tensorflow:Early stopping conditioned on metric `val_loss` which is not available. Available metrics are: loss,accuracy\n",
            "377/377 [==============================] - 4s 11ms/step - loss: 0.8683 - accuracy: 0.7694\n",
            "Epoch 95/100\n",
            "377/377 [==============================] - ETA: 0s - loss: 0.9251 - accuracy: 0.7598WARNING:tensorflow:Early stopping conditioned on metric `val_loss` which is not available. Available metrics are: loss,accuracy\n",
            "377/377 [==============================] - 4s 11ms/step - loss: 0.9251 - accuracy: 0.7598\n",
            "Epoch 96/100\n",
            "377/377 [==============================] - ETA: 0s - loss: 0.9171 - accuracy: 0.7615WARNING:tensorflow:Early stopping conditioned on metric `val_loss` which is not available. Available metrics are: loss,accuracy\n",
            "377/377 [==============================] - 4s 12ms/step - loss: 0.9171 - accuracy: 0.7615\n",
            "Epoch 97/100\n",
            " 49/377 [==>...........................] - ETA: 3s - loss: 0.6583 - accuracy: 0.8202"
=======
=======
>>>>>>> origin/main
            "372/377 [============================>.] - ETA: 0s - loss: 6.6039 - accuracy: 0.0748WARNING:tensorflow:Early stopping conditioned on metric `val_loss` which is not available. Available metrics are: loss,accuracy\n",
            "377/377 [==============================] - 2s 6ms/step - loss: 6.6060 - accuracy: 0.0748\n",
            "Epoch 2/100\n",
            "374/377 [============================>.] - ETA: 0s - loss: 5.6547 - accuracy: 0.1240WARNING:tensorflow:Early stopping conditioned on metric `val_loss` which is not available. Available metrics are: loss,accuracy\n",
            "377/377 [==============================] - 2s 6ms/step - loss: 5.6575 - accuracy: 0.1240\n",
            "Epoch 3/100\n",
            "377/377 [==============================] - ETA: 0s - loss: 4.7009 - accuracy: 0.1806WARNING:tensorflow:Early stopping conditioned on metric `val_loss` which is not available. Available metrics are: loss,accuracy\n",
            "377/377 [==============================] - 2s 6ms/step - loss: 4.7009 - accuracy: 0.1806\n",
            "Epoch 4/100\n",
            "369/377 [============================>.] - ETA: 0s - loss: 3.7608 - accuracy: 0.2589WARNING:tensorflow:Early stopping conditioned on metric `val_loss` which is not available. Available metrics are: loss,accuracy\n",
            "377/377 [==============================] - 2s 6ms/step - loss: 3.7637 - accuracy: 0.2579\n",
            "Epoch 5/100\n",
            "370/377 [============================>.] - ETA: 0s - loss: 2.9881 - accuracy: 0.3542WARNING:tensorflow:Early stopping conditioned on metric `val_loss` which is not available. Available metrics are: loss,accuracy\n",
            "377/377 [==============================] - 2s 6ms/step - loss: 2.9945 - accuracy: 0.3536\n",
            "Epoch 6/100\n",
            "369/377 [============================>.] - ETA: 0s - loss: 2.3709 - accuracy: 0.4573WARNING:tensorflow:Early stopping conditioned on metric `val_loss` which is not available. Available metrics are: loss,accuracy\n",
            "377/377 [==============================] - 2s 6ms/step - loss: 2.3802 - accuracy: 0.4556\n",
            "Epoch 7/100\n",
            "370/377 [============================>.] - ETA: 0s - loss: 1.9043 - accuracy: 0.5502WARNING:tensorflow:Early stopping conditioned on metric `val_loss` which is not available. Available metrics are: loss,accuracy\n",
            "377/377 [==============================] - 2s 6ms/step - loss: 1.9141 - accuracy: 0.5478\n",
            "Epoch 8/100\n",
            "376/377 [============================>.] - ETA: 0s - loss: 1.5850 - accuracy: 0.6209WARNING:tensorflow:Early stopping conditioned on metric `val_loss` which is not available. Available metrics are: loss,accuracy\n",
            "377/377 [==============================] - 2s 6ms/step - loss: 1.5849 - accuracy: 0.6210\n",
            "Epoch 9/100\n",
            "370/377 [============================>.] - ETA: 0s - loss: 1.3503 - accuracy: 0.6737WARNING:tensorflow:Early stopping conditioned on metric `val_loss` which is not available. Available metrics are: loss,accuracy\n",
            "377/377 [==============================] - 2s 6ms/step - loss: 1.3525 - accuracy: 0.6735\n",
            "Epoch 10/100\n",
            "370/377 [============================>.] - ETA: 0s - loss: 1.2321 - accuracy: 0.6942WARNING:tensorflow:Early stopping conditioned on metric `val_loss` which is not available. Available metrics are: loss,accuracy\n",
            "377/377 [==============================] - 2s 6ms/step - loss: 1.2376 - accuracy: 0.6920\n",
            "Epoch 11/100\n",
            "370/377 [============================>.] - ETA: 0s - loss: 1.1347 - accuracy: 0.7188WARNING:tensorflow:Early stopping conditioned on metric `val_loss` which is not available. Available metrics are: loss,accuracy\n",
            "377/377 [==============================] - 2s 6ms/step - loss: 1.1400 - accuracy: 0.7171\n",
            "Epoch 12/100\n",
            "369/377 [============================>.] - ETA: 0s - loss: 1.1109 - accuracy: 0.7238WARNING:tensorflow:Early stopping conditioned on metric `val_loss` which is not available. Available metrics are: loss,accuracy\n",
            "377/377 [==============================] - 2s 6ms/step - loss: 1.1175 - accuracy: 0.7226\n",
            "Epoch 13/100\n",
            "377/377 [==============================] - ETA: 0s - loss: 1.1054 - accuracy: 0.7203WARNING:tensorflow:Early stopping conditioned on metric `val_loss` which is not available. Available metrics are: loss,accuracy\n",
            "377/377 [==============================] - 2s 6ms/step - loss: 1.1054 - accuracy: 0.7203\n",
            "Epoch 14/100\n",
            "369/377 [============================>.] - ETA: 0s - loss: 1.2119 - accuracy: 0.6933WARNING:tensorflow:Early stopping conditioned on metric `val_loss` which is not available. Available metrics are: loss,accuracy\n",
            "377/377 [==============================] - 2s 6ms/step - loss: 1.2173 - accuracy: 0.6925\n",
            "Epoch 15/100\n",
            "370/377 [============================>.] - ETA: 0s - loss: 1.2718 - accuracy: 0.6726WARNING:tensorflow:Early stopping conditioned on metric `val_loss` which is not available. Available metrics are: loss,accuracy\n",
            "377/377 [==============================] - 2s 6ms/step - loss: 1.2791 - accuracy: 0.6707\n",
            "Epoch 16/100\n",
            "370/377 [============================>.] - ETA: 0s - loss: 1.1859 - accuracy: 0.6932WARNING:tensorflow:Early stopping conditioned on metric `val_loss` which is not available. Available metrics are: loss,accuracy\n",
            "377/377 [==============================] - 2s 6ms/step - loss: 1.1900 - accuracy: 0.6922\n",
            "Epoch 17/100\n",
            "370/377 [============================>.] - ETA: 0s - loss: 1.0650 - accuracy: 0.7261WARNING:tensorflow:Early stopping conditioned on metric `val_loss` which is not available. Available metrics are: loss,accuracy\n",
            "377/377 [==============================] - 2s 6ms/step - loss: 1.0709 - accuracy: 0.7249\n",
            "Epoch 18/100\n",
            "370/377 [============================>.] - ETA: 0s - loss: 0.9790 - accuracy: 0.7510WARNING:tensorflow:Early stopping conditioned on metric `val_loss` which is not available. Available metrics are: loss,accuracy\n",
            "377/377 [==============================] - 2s 6ms/step - loss: 0.9851 - accuracy: 0.7495\n",
            "Epoch 19/100\n",
            "371/377 [============================>.] - ETA: 0s - loss: 0.9374 - accuracy: 0.7572WARNING:tensorflow:Early stopping conditioned on metric `val_loss` which is not available. Available metrics are: loss,accuracy\n",
            "377/377 [==============================] - 2s 6ms/step - loss: 0.9428 - accuracy: 0.7558\n",
            "Epoch 20/100\n",
            "375/377 [============================>.] - ETA: 0s - loss: 0.9589 - accuracy: 0.7512WARNING:tensorflow:Early stopping conditioned on metric `val_loss` which is not available. Available metrics are: loss,accuracy\n",
            "377/377 [==============================] - 2s 6ms/step - loss: 0.9602 - accuracy: 0.7509\n",
            "Epoch 21/100\n",
            "369/377 [============================>.] - ETA: 0s - loss: 1.1961 - accuracy: 0.6983WARNING:tensorflow:Early stopping conditioned on metric `val_loss` which is not available. Available metrics are: loss,accuracy\n",
            "377/377 [==============================] - 2s 6ms/step - loss: 1.2027 - accuracy: 0.6969\n",
            "Epoch 22/100\n",
            "370/377 [============================>.] - ETA: 0s - loss: 1.2768 - accuracy: 0.6726WARNING:tensorflow:Early stopping conditioned on metric `val_loss` which is not available. Available metrics are: loss,accuracy\n",
            "377/377 [==============================] - 2s 6ms/step - loss: 1.2825 - accuracy: 0.6710\n",
            "Epoch 23/100\n",
            "374/377 [============================>.] - ETA: 0s - loss: 1.2165 - accuracy: 0.6859WARNING:tensorflow:Early stopping conditioned on metric `val_loss` which is not available. Available metrics are: loss,accuracy\n",
            "377/377 [==============================] - 2s 6ms/step - loss: 1.2193 - accuracy: 0.6852\n",
            "Epoch 24/100\n",
            "370/377 [============================>.] - ETA: 0s - loss: 1.0928 - accuracy: 0.7174WARNING:tensorflow:Early stopping conditioned on metric `val_loss` which is not available. Available metrics are: loss,accuracy\n",
            "377/377 [==============================] - 2s 6ms/step - loss: 1.0999 - accuracy: 0.7153\n",
            "Epoch 25/100\n",
            "377/377 [==============================] - ETA: 0s - loss: 1.0056 - accuracy: 0.7387WARNING:tensorflow:Early stopping conditioned on metric `val_loss` which is not available. Available metrics are: loss,accuracy\n",
            "377/377 [==============================] - 2s 6ms/step - loss: 1.0056 - accuracy: 0.7387\n",
            "Epoch 26/100\n",
            "370/377 [============================>.] - ETA: 0s - loss: 0.9423 - accuracy: 0.7533WARNING:tensorflow:Early stopping conditioned on metric `val_loss` which is not available. Available metrics are: loss,accuracy\n",
            "377/377 [==============================] - 2s 6ms/step - loss: 0.9463 - accuracy: 0.7525\n",
            "Epoch 27/100\n",
            "372/377 [============================>.] - ETA: 0s - loss: 0.8694 - accuracy: 0.7801WARNING:tensorflow:Early stopping conditioned on metric `val_loss` which is not available. Available metrics are: loss,accuracy\n",
            "377/377 [==============================] - 2s 6ms/step - loss: 0.8714 - accuracy: 0.7795\n",
            "Epoch 28/100\n",
            "371/377 [============================>.] - ETA: 0s - loss: 0.8178 - accuracy: 0.7885WARNING:tensorflow:Early stopping conditioned on metric `val_loss` which is not available. Available metrics are: loss,accuracy\n",
            "377/377 [==============================] - 2s 6ms/step - loss: 0.8228 - accuracy: 0.7873\n",
            "Epoch 29/100\n",
            "371/377 [============================>.] - ETA: 0s - loss: 0.8767 - accuracy: 0.7699WARNING:tensorflow:Early stopping conditioned on metric `val_loss` which is not available. Available metrics are: loss,accuracy\n",
            "377/377 [==============================] - 2s 6ms/step - loss: 0.8824 - accuracy: 0.7684\n",
            "Epoch 30/100\n",
            "374/377 [============================>.] - ETA: 0s - loss: 1.0497 - accuracy: 0.7259WARNING:tensorflow:Early stopping conditioned on metric `val_loss` which is not available. Available metrics are: loss,accuracy\n",
            "377/377 [==============================] - 2s 6ms/step - loss: 1.0528 - accuracy: 0.7252\n",
            "Epoch 31/100\n",
            "370/377 [============================>.] - ETA: 0s - loss: 1.1933 - accuracy: 0.6915WARNING:tensorflow:Early stopping conditioned on metric `val_loss` which is not available. Available metrics are: loss,accuracy\n",
            "377/377 [==============================] - 2s 6ms/step - loss: 1.2003 - accuracy: 0.6899\n",
            "Epoch 32/100\n",
            "369/377 [============================>.] - ETA: 0s - loss: 1.1846 - accuracy: 0.6907WARNING:tensorflow:Early stopping conditioned on metric `val_loss` which is not available. Available metrics are: loss,accuracy\n",
            "377/377 [==============================] - 2s 6ms/step - loss: 1.1879 - accuracy: 0.6901\n",
            "Epoch 33/100\n",
            "375/377 [============================>.] - ETA: 0s - loss: 1.0676 - accuracy: 0.7216WARNING:tensorflow:Early stopping conditioned on metric `val_loss` which is not available. Available metrics are: loss,accuracy\n",
            "377/377 [==============================] - 2s 6ms/step - loss: 1.0686 - accuracy: 0.7213\n",
            "Epoch 34/100\n",
            "376/377 [============================>.] - ETA: 0s - loss: 0.9824 - accuracy: 0.7432WARNING:tensorflow:Early stopping conditioned on metric `val_loss` which is not available. Available metrics are: loss,accuracy\n",
            "377/377 [==============================] - 2s 6ms/step - loss: 0.9823 - accuracy: 0.7432\n",
            "Epoch 35/100\n",
            "372/377 [============================>.] - ETA: 0s - loss: 0.9079 - accuracy: 0.7617WARNING:tensorflow:Early stopping conditioned on metric `val_loss` which is not available. Available metrics are: loss,accuracy\n",
            "377/377 [==============================] - 2s 6ms/step - loss: 0.9120 - accuracy: 0.7608\n",
            "Epoch 36/100\n",
            "375/377 [============================>.] - ETA: 0s - loss: 0.8584 - accuracy: 0.7754WARNING:tensorflow:Early stopping conditioned on metric `val_loss` which is not available. Available metrics are: loss,accuracy\n",
            "377/377 [==============================] - 2s 6ms/step - loss: 0.8579 - accuracy: 0.7755\n",
            "Epoch 37/100\n",
            "373/377 [============================>.] - ETA: 0s - loss: 0.8342 - accuracy: 0.7806WARNING:tensorflow:Early stopping conditioned on metric `val_loss` which is not available. Available metrics are: loss,accuracy\n",
            "377/377 [==============================] - 2s 6ms/step - loss: 0.8371 - accuracy: 0.7799\n",
            "Epoch 38/100\n",
            "377/377 [==============================] - ETA: 0s - loss: 0.8438 - accuracy: 0.7810WARNING:tensorflow:Early stopping conditioned on metric `val_loss` which is not available. Available metrics are: loss,accuracy\n",
            "377/377 [==============================] - 2s 6ms/step - loss: 0.8438 - accuracy: 0.7810\n",
            "Epoch 39/100\n",
            "376/377 [============================>.] - ETA: 0s - loss: 0.9158 - accuracy: 0.7605WARNING:tensorflow:Early stopping conditioned on metric `val_loss` which is not available. Available metrics are: loss,accuracy\n",
            "377/377 [==============================] - 2s 6ms/step - loss: 0.9160 - accuracy: 0.7603\n",
            "Epoch 40/100\n",
            "377/377 [==============================] - ETA: 0s - loss: 1.0681 - accuracy: 0.7242WARNING:tensorflow:Early stopping conditioned on metric `val_loss` which is not available. Available metrics are: loss,accuracy\n",
            "377/377 [==============================] - 2s 6ms/step - loss: 1.0681 - accuracy: 0.7242\n",
            "Epoch 41/100\n",
            "372/377 [============================>.] - ETA: 0s - loss: 1.1091 - accuracy: 0.7082WARNING:tensorflow:Early stopping conditioned on metric `val_loss` which is not available. Available metrics are: loss,accuracy\n",
            "377/377 [==============================] - 2s 6ms/step - loss: 1.1125 - accuracy: 0.7073\n",
            "Epoch 42/100\n",
            "372/377 [============================>.] - ETA: 0s - loss: 1.1603 - accuracy: 0.6979WARNING:tensorflow:Early stopping conditioned on metric `val_loss` which is not available. Available metrics are: loss,accuracy\n",
            "377/377 [==============================] - 2s 6ms/step - loss: 1.1607 - accuracy: 0.6977\n",
            "Epoch 43/100\n",
            "371/377 [============================>.] - ETA: 0s - loss: 1.0645 - accuracy: 0.7162WARNING:tensorflow:Early stopping conditioned on metric `val_loss` which is not available. Available metrics are: loss,accuracy\n",
            "377/377 [==============================] - 2s 6ms/step - loss: 1.0679 - accuracy: 0.7153\n",
            "Epoch 44/100\n",
            "369/377 [============================>.] - ETA: 0s - loss: 0.9315 - accuracy: 0.7538WARNING:tensorflow:Early stopping conditioned on metric `val_loss` which is not available. Available metrics are: loss,accuracy\n",
            "377/377 [==============================] - 2s 6ms/step - loss: 0.9353 - accuracy: 0.7526\n",
            "Epoch 45/100\n",
            "369/377 [============================>.] - ETA: 0s - loss: 0.8443 - accuracy: 0.7777WARNING:tensorflow:Early stopping conditioned on metric `val_loss` which is not available. Available metrics are: loss,accuracy\n",
            "377/377 [==============================] - 2s 6ms/step - loss: 0.8483 - accuracy: 0.7770\n",
            "Epoch 46/100\n",
            "373/377 [============================>.] - ETA: 0s - loss: 0.8168 - accuracy: 0.7852WARNING:tensorflow:Early stopping conditioned on metric `val_loss` which is not available. Available metrics are: loss,accuracy\n",
            "377/377 [==============================] - 2s 6ms/step - loss: 0.8170 - accuracy: 0.7853\n",
            "Epoch 47/100\n",
            "373/377 [============================>.] - ETA: 0s - loss: 0.7839 - accuracy: 0.7946WARNING:tensorflow:Early stopping conditioned on metric `val_loss` which is not available. Available metrics are: loss,accuracy\n",
            "377/377 [==============================] - 2s 6ms/step - loss: 0.7854 - accuracy: 0.7944\n",
            "Epoch 48/100\n",
            "372/377 [============================>.] - ETA: 0s - loss: 0.8261 - accuracy: 0.7791WARNING:tensorflow:Early stopping conditioned on metric `val_loss` which is not available. Available metrics are: loss,accuracy\n",
            "377/377 [==============================] - 2s 6ms/step - loss: 0.8289 - accuracy: 0.7785\n",
            "Epoch 49/100\n",
            "372/377 [============================>.] - ETA: 0s - loss: 0.8972 - accuracy: 0.7617WARNING:tensorflow:Early stopping conditioned on metric `val_loss` which is not available. Available metrics are: loss,accuracy\n",
            "377/377 [==============================] - 2s 6ms/step - loss: 0.9011 - accuracy: 0.7607\n",
            "Epoch 50/100\n",
            "371/377 [============================>.] - ETA: 0s - loss: 1.0378 - accuracy: 0.7262WARNING:tensorflow:Early stopping conditioned on metric `val_loss` which is not available. Available metrics are: loss,accuracy\n",
            "377/377 [==============================] - 2s 6ms/step - loss: 1.0432 - accuracy: 0.7246\n",
            "Epoch 51/100\n",
            "374/377 [============================>.] - ETA: 0s - loss: 1.1195 - accuracy: 0.7045WARNING:tensorflow:Early stopping conditioned on metric `val_loss` which is not available. Available metrics are: loss,accuracy\n",
            "377/377 [==============================] - 2s 6ms/step - loss: 1.1222 - accuracy: 0.7041\n",
            "Epoch 52/100\n",
            "376/377 [============================>.] - ETA: 0s - loss: 1.1195 - accuracy: 0.7046WARNING:tensorflow:Early stopping conditioned on metric `val_loss` which is not available. Available metrics are: loss,accuracy\n",
            "377/377 [==============================] - 2s 6ms/step - loss: 1.1190 - accuracy: 0.7048\n",
            "Epoch 53/100\n",
            "372/377 [============================>.] - ETA: 0s - loss: 0.9962 - accuracy: 0.7379WARNING:tensorflow:Early stopping conditioned on metric `val_loss` which is not available. Available metrics are: loss,accuracy\n",
            "377/377 [==============================] - 2s 6ms/step - loss: 0.9975 - accuracy: 0.7372\n",
            "Epoch 54/100\n",
            "372/377 [============================>.] - ETA: 0s - loss: 0.8641 - accuracy: 0.7693WARNING:tensorflow:Early stopping conditioned on metric `val_loss` which is not available. Available metrics are: loss,accuracy\n",
            "377/377 [==============================] - 2s 6ms/step - loss: 0.8650 - accuracy: 0.7691\n",
            "Epoch 55/100\n",
            "372/377 [============================>.] - ETA: 0s - loss: 0.8179 - accuracy: 0.7861WARNING:tensorflow:Early stopping conditioned on metric `val_loss` which is not available. Available metrics are: loss,accuracy\n",
            "377/377 [==============================] - 2s 6ms/step - loss: 0.8188 - accuracy: 0.7859\n",
            "Epoch 56/100\n",
            "369/377 [============================>.] - ETA: 0s - loss: 0.8457 - accuracy: 0.7778WARNING:tensorflow:Early stopping conditioned on metric `val_loss` which is not available. Available metrics are: loss,accuracy\n",
            "377/377 [==============================] - 2s 6ms/step - loss: 0.8489 - accuracy: 0.7768\n",
            "Epoch 57/100\n",
            "369/377 [============================>.] - ETA: 0s - loss: 0.8658 - accuracy: 0.7703WARNING:tensorflow:Early stopping conditioned on metric `val_loss` which is not available. Available metrics are: loss,accuracy\n",
            "377/377 [==============================] - 2s 6ms/step - loss: 0.8682 - accuracy: 0.7691\n",
            "Epoch 58/100\n",
            "369/377 [============================>.] - ETA: 0s - loss: 0.8746 - accuracy: 0.7640WARNING:tensorflow:Early stopping conditioned on metric `val_loss` which is not available. Available metrics are: loss,accuracy\n",
            "377/377 [==============================] - 2s 6ms/step - loss: 0.8777 - accuracy: 0.7627\n",
            "Epoch 59/100\n",
            "370/377 [============================>.] - ETA: 0s - loss: 0.9057 - accuracy: 0.7615WARNING:tensorflow:Early stopping conditioned on metric `val_loss` which is not available. Available metrics are: loss,accuracy\n",
            "377/377 [==============================] - 2s 6ms/step - loss: 0.9102 - accuracy: 0.7602\n",
            "Epoch 60/100\n",
            "370/377 [============================>.] - ETA: 0s - loss: 0.9189 - accuracy: 0.7537WARNING:tensorflow:Early stopping conditioned on metric `val_loss` which is not available. Available metrics are: loss,accuracy\n",
            "377/377 [==============================] - 2s 6ms/step - loss: 0.9248 - accuracy: 0.7522\n",
            "Epoch 61/100\n",
            "372/377 [============================>.] - ETA: 0s - loss: 0.9107 - accuracy: 0.7606WARNING:tensorflow:Early stopping conditioned on metric `val_loss` which is not available. Available metrics are: loss,accuracy\n",
            "377/377 [==============================] - 2s 6ms/step - loss: 0.9140 - accuracy: 0.7599\n",
            "Epoch 62/100\n",
            "372/377 [============================>.] - ETA: 0s - loss: 0.8862 - accuracy: 0.7637WARNING:tensorflow:Early stopping conditioned on metric `val_loss` which is not available. Available metrics are: loss,accuracy\n",
            "377/377 [==============================] - 2s 6ms/step - loss: 0.8885 - accuracy: 0.7633\n",
            "Epoch 63/100\n",
            "376/377 [============================>.] - ETA: 0s - loss: 0.9133 - accuracy: 0.7573WARNING:tensorflow:Early stopping conditioned on metric `val_loss` which is not available. Available metrics are: loss,accuracy\n",
            "377/377 [==============================] - 2s 6ms/step - loss: 0.9138 - accuracy: 0.7574\n",
            "Epoch 64/100\n",
            "370/377 [============================>.] - ETA: 0s - loss: 0.9171 - accuracy: 0.7570WARNING:tensorflow:Early stopping conditioned on metric `val_loss` which is not available. Available metrics are: loss,accuracy\n",
            "377/377 [==============================] - 2s 6ms/step - loss: 0.9196 - accuracy: 0.7561\n",
            "Epoch 65/100\n",
            "369/377 [============================>.] - ETA: 0s - loss: 0.9330 - accuracy: 0.7522WARNING:tensorflow:Early stopping conditioned on metric `val_loss` which is not available. Available metrics are: loss,accuracy\n",
            "377/377 [==============================] - 2s 6ms/step - loss: 0.9366 - accuracy: 0.7519\n",
            "Epoch 66/100\n",
            "369/377 [============================>.] - ETA: 0s - loss: 0.9182 - accuracy: 0.7568WARNING:tensorflow:Early stopping conditioned on metric `val_loss` which is not available. Available metrics are: loss,accuracy\n",
            "377/377 [==============================] - 2s 6ms/step - loss: 0.9227 - accuracy: 0.7558\n",
            "Epoch 67/100\n",
            "372/377 [============================>.] - ETA: 0s - loss: 0.8551 - accuracy: 0.7713WARNING:tensorflow:Early stopping conditioned on metric `val_loss` which is not available. Available metrics are: loss,accuracy\n",
            "377/377 [==============================] - 2s 6ms/step - loss: 0.8543 - accuracy: 0.7714\n",
            "Epoch 68/100\n",
            "375/377 [============================>.] - ETA: 0s - loss: 0.8779 - accuracy: 0.7700WARNING:tensorflow:Early stopping conditioned on metric `val_loss` which is not available. Available metrics are: loss,accuracy\n",
            "377/377 [==============================] - 2s 6ms/step - loss: 0.8789 - accuracy: 0.7697\n",
            "Epoch 69/100\n",
            "373/377 [============================>.] - ETA: 0s - loss: 0.8786 - accuracy: 0.7653WARNING:tensorflow:Early stopping conditioned on metric `val_loss` which is not available. Available metrics are: loss,accuracy\n",
            "377/377 [==============================] - 2s 6ms/step - loss: 0.8780 - accuracy: 0.7655\n",
            "Epoch 70/100\n",
            "377/377 [==============================] - ETA: 0s - loss: 0.8546 - accuracy: 0.7737WARNING:tensorflow:Early stopping conditioned on metric `val_loss` which is not available. Available metrics are: loss,accuracy\n",
            "377/377 [==============================] - 2s 6ms/step - loss: 0.8546 - accuracy: 0.7737\n",
            "Epoch 71/100\n",
            "375/377 [============================>.] - ETA: 0s - loss: 0.8335 - accuracy: 0.7813WARNING:tensorflow:Early stopping conditioned on metric `val_loss` which is not available. Available metrics are: loss,accuracy\n",
            "377/377 [==============================] - 2s 6ms/step - loss: 0.8363 - accuracy: 0.7808\n",
            "Epoch 72/100\n",
            "374/377 [============================>.] - ETA: 0s - loss: 0.8310 - accuracy: 0.7772WARNING:tensorflow:Early stopping conditioned on metric `val_loss` which is not available. Available metrics are: loss,accuracy\n",
            "377/377 [==============================] - 2s 6ms/step - loss: 0.8310 - accuracy: 0.7770\n",
            "Epoch 73/100\n",
            "372/377 [============================>.] - ETA: 0s - loss: 0.8814 - accuracy: 0.7664WARNING:tensorflow:Early stopping conditioned on metric `val_loss` which is not available. Available metrics are: loss,accuracy\n",
            "377/377 [==============================] - 2s 6ms/step - loss: 0.8842 - accuracy: 0.7656\n",
            "Epoch 74/100\n",
            "373/377 [============================>.] - ETA: 0s - loss: 0.9288 - accuracy: 0.7537WARNING:tensorflow:Early stopping conditioned on metric `val_loss` which is not available. Available metrics are: loss,accuracy\n",
            "377/377 [==============================] - 2s 6ms/step - loss: 0.9294 - accuracy: 0.7537\n",
            "Epoch 75/100\n",
            "374/377 [============================>.] - ETA: 0s - loss: 0.9883 - accuracy: 0.7470WARNING:tensorflow:Early stopping conditioned on metric `val_loss` which is not available. Available metrics are: loss,accuracy\n",
            "377/377 [==============================] - 2s 6ms/step - loss: 0.9891 - accuracy: 0.7471\n",
            "Epoch 76/100\n",
            "372/377 [============================>.] - ETA: 0s - loss: 0.9479 - accuracy: 0.7529WARNING:tensorflow:Early stopping conditioned on metric `val_loss` which is not available. Available metrics are: loss,accuracy\n",
            "377/377 [==============================] - 2s 6ms/step - loss: 0.9501 - accuracy: 0.7521\n",
            "Epoch 77/100\n",
            "374/377 [============================>.] - ETA: 0s - loss: 0.8780 - accuracy: 0.7645WARNING:tensorflow:Early stopping conditioned on metric `val_loss` which is not available. Available metrics are: loss,accuracy\n",
            "377/377 [==============================] - 2s 6ms/step - loss: 0.8808 - accuracy: 0.7640\n",
            "Epoch 78/100\n",
            "376/377 [============================>.] - ETA: 0s - loss: 0.8494 - accuracy: 0.7774WARNING:tensorflow:Early stopping conditioned on metric `val_loss` which is not available. Available metrics are: loss,accuracy\n",
            "377/377 [==============================] - 2s 6ms/step - loss: 0.8501 - accuracy: 0.7772\n",
            "Epoch 79/100\n",
            "370/377 [============================>.] - ETA: 0s - loss: 0.8579 - accuracy: 0.7745WARNING:tensorflow:Early stopping conditioned on metric `val_loss` which is not available. Available metrics are: loss,accuracy\n",
            "377/377 [==============================] - 2s 6ms/step - loss: 0.8593 - accuracy: 0.7741\n",
            "Epoch 80/100\n",
            "375/377 [============================>.] - ETA: 0s - loss: 0.8233 - accuracy: 0.7818WARNING:tensorflow:Early stopping conditioned on metric `val_loss` which is not available. Available metrics are: loss,accuracy\n",
            "377/377 [==============================] - 2s 6ms/step - loss: 0.8231 - accuracy: 0.7818\n",
            "Epoch 81/100\n",
            "376/377 [============================>.] - ETA: 0s - loss: 0.8246 - accuracy: 0.7801WARNING:tensorflow:Early stopping conditioned on metric `val_loss` which is not available. Available metrics are: loss,accuracy\n",
            "377/377 [==============================] - 2s 6ms/step - loss: 0.8244 - accuracy: 0.7801\n",
            "Epoch 82/100\n",
            "372/377 [============================>.] - ETA: 0s - loss: 0.8741 - accuracy: 0.7721WARNING:tensorflow:Early stopping conditioned on metric `val_loss` which is not available. Available metrics are: loss,accuracy\n",
            "377/377 [==============================] - 2s 6ms/step - loss: 0.8730 - accuracy: 0.7720\n",
            "Epoch 83/100\n",
            "376/377 [============================>.] - ETA: 0s - loss: 0.9084 - accuracy: 0.7639WARNING:tensorflow:Early stopping conditioned on metric `val_loss` which is not available. Available metrics are: loss,accuracy\n",
            "377/377 [==============================] - 3s 7ms/step - loss: 0.9082 - accuracy: 0.7639\n",
            "Epoch 84/100\n",
            "376/377 [============================>.] - ETA: 0s - loss: 0.9266 - accuracy: 0.7553WARNING:tensorflow:Early stopping conditioned on metric `val_loss` which is not available. Available metrics are: loss,accuracy\n",
            "377/377 [==============================] - 2s 7ms/step - loss: 0.9267 - accuracy: 0.7554\n",
            "Epoch 85/100\n",
            "370/377 [============================>.] - ETA: 0s - loss: 0.9097 - accuracy: 0.7608WARNING:tensorflow:Early stopping conditioned on metric `val_loss` which is not available. Available metrics are: loss,accuracy\n",
            "377/377 [==============================] - 2s 7ms/step - loss: 0.9133 - accuracy: 0.7603\n",
            "Epoch 86/100\n",
            "376/377 [============================>.] - ETA: 0s - loss: 0.8673 - accuracy: 0.7712WARNING:tensorflow:Early stopping conditioned on metric `val_loss` which is not available. Available metrics are: loss,accuracy\n",
            "377/377 [==============================] - 2s 6ms/step - loss: 0.8669 - accuracy: 0.7713\n",
            "Epoch 87/100\n",
            "377/377 [==============================] - ETA: 0s - loss: 0.8360 - accuracy: 0.7826WARNING:tensorflow:Early stopping conditioned on metric `val_loss` which is not available. Available metrics are: loss,accuracy\n",
            "377/377 [==============================] - 2s 7ms/step - loss: 0.8360 - accuracy: 0.7826\n",
            "Epoch 88/100\n",
            "377/377 [==============================] - ETA: 0s - loss: 0.7893 - accuracy: 0.7961WARNING:tensorflow:Early stopping conditioned on metric `val_loss` which is not available. Available metrics are: loss,accuracy\n",
            "377/377 [==============================] - 2s 7ms/step - loss: 0.7893 - accuracy: 0.7961\n",
            "Epoch 89/100\n",
            "377/377 [==============================] - ETA: 0s - loss: 0.7777 - accuracy: 0.7975WARNING:tensorflow:Early stopping conditioned on metric `val_loss` which is not available. Available metrics are: loss,accuracy\n",
            "377/377 [==============================] - 2s 7ms/step - loss: 0.7777 - accuracy: 0.7975\n",
            "Epoch 90/100\n",
            "377/377 [==============================] - ETA: 0s - loss: 0.8324 - accuracy: 0.7813WARNING:tensorflow:Early stopping conditioned on metric `val_loss` which is not available. Available metrics are: loss,accuracy\n",
            "377/377 [==============================] - 2s 6ms/step - loss: 0.8324 - accuracy: 0.7813\n",
            "Epoch 91/100\n",
            "377/377 [==============================] - ETA: 0s - loss: 0.8542 - accuracy: 0.7726WARNING:tensorflow:Early stopping conditioned on metric `val_loss` which is not available. Available metrics are: loss,accuracy\n",
            "377/377 [==============================] - 2s 7ms/step - loss: 0.8542 - accuracy: 0.7726\n",
            "Epoch 92/100\n",
            "372/377 [============================>.] - ETA: 0s - loss: 0.9529 - accuracy: 0.7597WARNING:tensorflow:Early stopping conditioned on metric `val_loss` which is not available. Available metrics are: loss,accuracy\n",
            "377/377 [==============================] - 2s 6ms/step - loss: 0.9546 - accuracy: 0.7593\n",
            "Epoch 93/100\n",
            "373/377 [============================>.] - ETA: 0s - loss: 0.9535 - accuracy: 0.7572WARNING:tensorflow:Early stopping conditioned on metric `val_loss` which is not available. Available metrics are: loss,accuracy\n",
            "377/377 [==============================] - 2s 6ms/step - loss: 0.9525 - accuracy: 0.7572\n",
            "Epoch 94/100\n",
            "373/377 [============================>.] - ETA: 0s - loss: 0.9707 - accuracy: 0.7559WARNING:tensorflow:Early stopping conditioned on metric `val_loss` which is not available. Available metrics are: loss,accuracy\n",
            "377/377 [==============================] - 2s 6ms/step - loss: 0.9716 - accuracy: 0.7556\n",
            "Epoch 95/100\n",
            "374/377 [============================>.] - ETA: 0s - loss: 0.9141 - accuracy: 0.7665WARNING:tensorflow:Early stopping conditioned on metric `val_loss` which is not available. Available metrics are: loss,accuracy\n",
            "377/377 [==============================] - 2s 6ms/step - loss: 0.9128 - accuracy: 0.7667\n",
            "Epoch 96/100\n",
            "375/377 [============================>.] - ETA: 0s - loss: 0.9158 - accuracy: 0.7648WARNING:tensorflow:Early stopping conditioned on metric `val_loss` which is not available. Available metrics are: loss,accuracy\n",
            "377/377 [==============================] - 2s 6ms/step - loss: 0.9151 - accuracy: 0.7648\n",
            "Epoch 97/100\n",
            "371/377 [============================>.] - ETA: 0s - loss: 0.8699 - accuracy: 0.7798WARNING:tensorflow:Early stopping conditioned on metric `val_loss` which is not available. Available metrics are: loss,accuracy\n",
            "377/377 [==============================] - 2s 6ms/step - loss: 0.8698 - accuracy: 0.7796\n",
            "Epoch 98/100\n",
            "374/377 [============================>.] - ETA: 0s - loss: 0.8165 - accuracy: 0.7904WARNING:tensorflow:Early stopping conditioned on metric `val_loss` which is not available. Available metrics are: loss,accuracy\n",
            "377/377 [==============================] - 2s 6ms/step - loss: 0.8193 - accuracy: 0.7899\n",
            "Epoch 99/100\n",
            "375/377 [============================>.] - ETA: 0s - loss: 0.8137 - accuracy: 0.7868WARNING:tensorflow:Early stopping conditioned on metric `val_loss` which is not available. Available metrics are: loss,accuracy\n",
            "377/377 [==============================] - 2s 6ms/step - loss: 0.8143 - accuracy: 0.7868\n",
            "Epoch 100/100\n",
            "374/377 [============================>.] - ETA: 0s - loss: 0.8406 - accuracy: 0.7850WARNING:tensorflow:Early stopping conditioned on metric `val_loss` which is not available. Available metrics are: loss,accuracy\n",
            "377/377 [==============================] - 2s 6ms/step - loss: 0.8423 - accuracy: 0.7845\n",
            "<tensorflow.python.keras.engine.sequential.Sequential object at 0x00000208E4B276C8>\n"
<<<<<<< HEAD
>>>>>>> 34e6b21abfc5b069204bb7f9f57f96b96d215fc6
=======
>>>>>>> origin/main
          ]
        }
      ],
      "source": [
<<<<<<< HEAD
<<<<<<< HEAD
        "model = Sequential()\n",
        "model.add(Embedding(total_words, 100, input_length=max_sequence_len-1))\n",
        "model.add(Bidirectional(LSTM(150)))\n",
        "model.add(Dense(total_words, activation='softmax'))\n",
        "adam = Adam(lr=0.01)\n",
        "model.compile(loss='categorical_crossentropy', optimizer=adam, metrics=['accuracy'])\n",
        "earlystop = EarlyStopping(monitor='val_loss', min_delta=0, patience=5, verbose=0, mode='auto')\n",
        "history = model.fit(xs, ys, epochs=100, verbose=1, callbacks= [earlystop] )\n",
        "#print model.summary()\n",
        "print(model)\n"
=======
=======
>>>>>>> origin/main
        "model = Sequential()\r\n",
        "model.add(Embedding(total_words, 100, input_length=max_sequence_len-1))\r\n",
        "model.add(Bidirectional(LSTM(150)))\r\n",
        "model.add(Dense(total_words, activation='softmax'))\r\n",
        "adam = Adam(lr=0.01)\r\n",
        "model.compile(loss='categorical_crossentropy', optimizer=adam, metrics=['accuracy'])\r\n",
        "earlystop = EarlyStopping(monitor='val_loss', min_delta=0, patience=5, verbose=0, mode='auto')\r\n",
        "history = model.fit(xs, ys, epochs=100, verbose=1, callbacks= [earlystop] )\r\n",
        "#print model.summary()\r\n",
        "print(model)\r\n"
<<<<<<< HEAD
>>>>>>> 34e6b21abfc5b069204bb7f9f57f96b96d215fc6
=======
>>>>>>> origin/main
      ]
    },
    {
      "cell_type": "code",
<<<<<<< HEAD
<<<<<<< HEAD
      "execution_count": null,
=======
      "execution_count": 16,
>>>>>>> 34e6b21abfc5b069204bb7f9f57f96b96d215fc6
=======
      "execution_count": 16,
>>>>>>> origin/main
      "metadata": {
        "colab": {},
        "colab_type": "code",
        "id": "3YXGelKThoTT"
      },
      "outputs": [],
      "source": [
        "import matplotlib.pyplot as plt\n",
        "\n",
        "\n",
        "def plot_graphs(history, string):\n",
        "  plt.plot(history.history[string])\n",
        "  plt.xlabel(\"Epochs\")\n",
        "  plt.ylabel(string)\n",
        "  plt.show()"
      ]
    },
    {
      "cell_type": "code",
<<<<<<< HEAD
<<<<<<< HEAD
      "execution_count": null,
=======
      "execution_count": 17,
>>>>>>> 34e6b21abfc5b069204bb7f9f57f96b96d215fc6
=======
      "execution_count": 17,
>>>>>>> origin/main
      "metadata": {
        "colab": {},
        "colab_type": "code",
        "id": "poeprYK8h-c7"
      },
      "outputs": [
        {
          "data": {
            "image/png": "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",
            "text/plain": [
              "<Figure size 432x288 with 1 Axes>"
            ]
          },
          "metadata": {
            "needs_background": "light"
          },
          "output_type": "display_data"
        }
      ],
      "source": [
        "plot_graphs(history, 'accuracy')\n"
      ]
    },
    {
      "cell_type": "code",
<<<<<<< HEAD
<<<<<<< HEAD
      "execution_count": null,
=======
      "execution_count": 18,
>>>>>>> 34e6b21abfc5b069204bb7f9f57f96b96d215fc6
=======
      "execution_count": 18,
>>>>>>> origin/main
      "metadata": {
        "colab": {},
        "colab_type": "code",
        "id": "6Vc6PHgxa6Hm"
      },
      "outputs": [
        {
          "name": "stdout",
          "output_type": "stream",
          "text": [
            "WARNING:tensorflow:From <ipython-input-18-622c613dd6ec>:7: Sequential.predict_classes (from tensorflow.python.keras.engine.sequential) is deprecated and will be removed after 2021-01-01.\n",
            "Instructions for updating:\n",
            "Please use instead:* `np.argmax(model.predict(x), axis=-1)`,   if your model does multi-class classification   (e.g. if it uses a `softmax` last-layer activation).* `(model.predict(x) > 0.5).astype(\"int32\")`,   if your model does binary classification   (e.g. if it uses a `sigmoid` last-layer activation).\n",
            "I've got a bad feeling about this proud old woman did say theres bread and moving away til your heart that then mother play somewhere nor time for someone now have none had make thee dead thou take delight in the eyes are peeled on drinking the same love till our wedding day when love easy as your hapless passed by and by the blood so grand day just that i met each one morning love light in fishin and solemn town gave and gone and mountain thyme my bonnie shall farewell to the tight shall mary when i am silver i would support her mary when\n"
          ]
        }
      ],
      "source": [
<<<<<<< HEAD
<<<<<<< HEAD
        "seed_text = \"I've got a bad feeling about this\"\n",
        "next_words = 100\n",
        "  \n",
        "for _ in range(next_words):\n",
        "\ttoken_list = tokenizer.texts_to_sequences([seed_text])[0]\n",
        "\ttoken_list = pad_sequences([token_list], maxlen=max_sequence_len-1, padding='pre')\n",
        "\tpredicted = model.predict_classes(token_list, verbose=0)\n",
        "\toutput_word = \"\"\n",
        "\tfor word, index in tokenizer.word_index.items():\n",
        "\t\tif index == predicted:\n",
        "\t\t\toutput_word = word\n",
        "\t\t\tbreak\n",
        "\tseed_text += \" \" + output_word\n",
=======
=======
>>>>>>> origin/main
        "seed_text = \"I've got a bad feeling about this\"\r\n",
        "next_words = 100\r\n",
        "  \r\n",
        "for _ in range(next_words):\r\n",
        "\ttoken_list = tokenizer.texts_to_sequences([seed_text])[0]\r\n",
        "\ttoken_list = pad_sequences([token_list], maxlen=max_sequence_len-1, padding='pre')\r\n",
        "\tpredicted = model.predict_classes(token_list, verbose=0)\r\n",
        "\toutput_word = \"\"\r\n",
        "\tfor word, index in tokenizer.word_index.items():\r\n",
        "\t\tif index == predicted:\r\n",
        "\t\t\toutput_word = word\r\n",
        "\t\t\tbreak\r\n",
        "\tseed_text += \" \" + output_word\r\n",
<<<<<<< HEAD
>>>>>>> 34e6b21abfc5b069204bb7f9f57f96b96d215fc6
=======
>>>>>>> origin/main
        "print(seed_text)"
      ]
    }
  ],
  "metadata": {
    "accelerator": "GPU",
    "colab": {
      "include_colab_link": true,
      "name": "Course 3 - Week 4 - Lesson 2 - Notebook.ipynb",
      "provenance": [],
      "toc_visible": true
    },
    "kernelspec": {
<<<<<<< HEAD
<<<<<<< HEAD
      "display_name": "Python 3.8.10 64-bit",
=======
      "display_name": "Python 3",
>>>>>>> 34e6b21abfc5b069204bb7f9f57f96b96d215fc6
=======
      "display_name": "Python 3",
>>>>>>> origin/main
      "language": "python",
      "name": "python3"
    },
    "language_info": {
      "codemirror_mode": {
        "name": "ipython",
        "version": 3
      },
      "file_extension": ".py",
      "mimetype": "text/x-python",
      "name": "python",
      "nbconvert_exporter": "python",
      "pygments_lexer": "ipython3",
<<<<<<< HEAD
<<<<<<< HEAD
      "version": "3.8.10"
    },
    "vscode": {
      "interpreter": {
        "hash": "c506d1f39c0ed203b21fe551da708c189199b4eb24b97c88a7b4d83b7442f034"
      }
=======
      "version": "3.7.9"
>>>>>>> 34e6b21abfc5b069204bb7f9f57f96b96d215fc6
=======
      "version": "3.7.9"
>>>>>>> origin/main
    }
  },
  "nbformat": 4,
  "nbformat_minor": 0
<<<<<<< HEAD
<<<<<<< HEAD
}
=======
}
>>>>>>> 34e6b21abfc5b069204bb7f9f57f96b96d215fc6
=======
}
>>>>>>> origin/main
