{
  "cells": [
    {
      "cell_type": "code",
      "execution_count": 1,
      "metadata": {
        "colab": {},
        "colab_type": "code",
        "id": "zX4Kg8DUTKWO"
      },
      "outputs": [],
      "source": [
        "#@title Licensed under the Apache License, Version 2.0 (the \"License\");\n",
        "# you may not use this file except in compliance with the License.\n",
        "# You may obtain a copy of the License at\n",
        "#\n",
        "# https://www.apache.org/licenses/LICENSE-2.0\n",
        "#\n",
        "# Unless required by applicable law or agreed to in writing, software\n",
        "# distributed under the License is distributed on an \"AS IS\" BASIS,\n",
        "# WITHOUT WARRANTIES OR CONDITIONS OF ANY KIND, either express or implied.\n",
        "# See the License for the specific language governing permissions and\n",
        "# limitations under the License."
      ]
    },
    {
      "cell_type": "markdown",
      "metadata": {
        "colab_type": "text",
        "id": "view-in-github"
      },
      "source": [
        "<a href=\"https://colab.research.google.com/github/lmoroney/dlaicourse/blob/master/TensorFlow%20In%20Practice/Course%203%20-%20NLP/Course%203%20-%20Week%204%20-%20Lesson%202%20-%20Notebook.ipynb\" target=\"_parent\"><img src=\"https://colab.research.google.com/assets/colab-badge.svg\" alt=\"Open In Colab\"/></a>"
      ]
    },
    {
      "cell_type": "code",
      "execution_count": 2,
      "metadata": {
        "colab": {},
        "colab_type": "code",
        "id": "BOwsuGQQY9OL"
      },
      "outputs": [],
      "source": [
        "import tensorflow as tf\n",
        "\n",
        "from tensorflow.keras.preprocessing.sequence import pad_sequences\n",
        "from tensorflow.keras.layers import Embedding, LSTM, Dense, Bidirectional\n",
        "from tensorflow.keras.callbacks import EarlyStopping\n",
        "from tensorflow.keras.preprocessing.text import Tokenizer\n",
        "from tensorflow.keras.models import Sequential\n",
        "from tensorflow.keras.optimizers import Adam\n",
        "import numpy as np "
      ]
    },
    {
      "cell_type": "markdown",
      "metadata": {
        "colab": {},
        "colab_type": "code",
        "id": "pylt5qZYsWPh"
      },
      "source": [
        "wget --no-check-certificate \\\n",
        "    https://storage.googleapis.com/laurencemoroney-blog.appspot.com/irish-lyrics-eof.txt \\\n",
        "    -O /tmp/irish-lyrics-eof.txt"
      ]
    },
    {
      "cell_type": "code",
      "execution_count": null,
      "metadata": {
        "colab": {},
        "colab_type": "code",
        "id": "PRnDnCW-Z7qv"
      },
      "outputs": [],
      "source": [
        "tokenizer = Tokenizer()\n",
        "\n",
        "data = open(r'D:\\codebase\\DeepLearning.AI-TensorFlow-Developer\\course_3\\irish-lyrics-eof.txt').read()\n",
        "\n",
        "corpus = data.lower().split(\"\\n\")\n",
        "\n",
        "tokenizer.fit_on_texts(corpus)\n",
        "total_words = len(tokenizer.word_index) + 1\n",
        "\n",
        "print(tokenizer.word_index)\n",
        "print(total_words)\n"
      ]
    },
    {
      "cell_type": "code",
      "execution_count": 5,
      "metadata": {
        "colab": {},
        "colab_type": "code",
        "id": "soPGVheskaQP"
      },
      "outputs": [],
      "source": [
        "input_sequences = []\n",
        "for line in corpus:\n",
        "\ttoken_list = tokenizer.texts_to_sequences([line])[0]\n",
        "\tfor i in range(1, len(token_list)):\n",
        "\t\tn_gram_sequence = token_list[:i+1]\n",
        "\t\tinput_sequences.append(n_gram_sequence)\n",
        "\n",
        "# pad sequences \n",
        "max_sequence_len = max([len(x) for x in input_sequences])\n",
        "input_sequences = np.array(pad_sequences(input_sequences, maxlen=max_sequence_len, padding='pre'))\n",
        "\n",
        "# create predictors and label\n",
        "xs, labels = input_sequences[:,:-1],input_sequences[:,-1]\n",
        "\n",
        "ys = tf.keras.utils.to_categorical(labels, num_classes=total_words)"
      ]
    },
    {
      "cell_type": "code",
      "execution_count": 6,
      "metadata": {
        "colab": {},
        "colab_type": "code",
        "id": "pJtwVB2NbOAP"
      },
      "outputs": [
        {
          "name": "stdout",
          "output_type": "stream",
          "text": [
            "8\n",
            "1\n",
            "71\n",
            "6\n",
            "713\n",
            "39\n",
            "1790\n",
            "1791\n"
          ]
        }
      ],
      "source": [
        "print(tokenizer.word_index['in'])\n",
        "print(tokenizer.word_index['the'])\n",
        "print(tokenizer.word_index['town'])\n",
        "print(tokenizer.word_index['of'])\n",
        "print(tokenizer.word_index['athy'])\n",
        "print(tokenizer.word_index['one'])\n",
        "print(tokenizer.word_index['jeremy'])\n",
        "print(tokenizer.word_index['lanigan'])"
      ]
    },
    {
      "cell_type": "code",
      "execution_count": 7,
      "metadata": {
        "colab": {},
        "colab_type": "code",
        "id": "49Cv68JOakwv"
      },
      "outputs": [
        {
          "name": "stdout",
          "output_type": "stream",
          "text": [
            "[0 0 0 0 0 0 0 0 0 0 0 0 0 0 2]\n"
          ]
        }
      ],
      "source": [
        "print(xs[6])"
      ]
    },
    {
      "cell_type": "code",
      "execution_count": 8,
      "metadata": {
        "colab": {},
        "colab_type": "code",
        "id": "iY-jwvfgbEF8"
      },
      "outputs": [
        {
          "name": "stdout",
          "output_type": "stream",
          "text": [
            "[0. 0. 0. ... 0. 0. 0.]\n"
          ]
        }
      ],
      "source": [
        "print(ys[6])"
      ]
    },
    {
      "cell_type": "code",
      "execution_count": 9,
      "metadata": {
        "colab": {},
        "colab_type": "code",
        "id": "wtzlUMYadhKt"
      },
      "outputs": [
        {
          "name": "stdout",
          "output_type": "stream",
          "text": [
            "[   0    0    0    0    0    0    0    0    0   51   12   96 1217   48\n",
            "    2]\n",
            "[0. 0. 0. ... 0. 0. 0.]\n"
          ]
        }
      ],
      "source": [
        "print(xs[5])\n",
        "print(ys[5])"
      ]
    },
    {
      "cell_type": "code",
      "execution_count": null,
      "metadata": {
        "colab": {},
        "colab_type": "code",
        "id": "H4myRpB1c4Gg"
      },
      "outputs": [],
      "source": [
        "print(tokenizer.word_index)"
      ]
    },
    {
      "cell_type": "code",
      "execution_count": 11,
      "metadata": {
        "colab": {},
        "colab_type": "code",
        "id": "w9vH8Y59ajYL"
      },
      "outputs": [
        {
          "name": "stderr",
          "output_type": "stream",
          "text": [
            "c:\\Users\\goofy\\AppData\\Local\\Programs\\Python\\Python38\\lib\\site-packages\\keras\\optimizer_v2\\adam.py:105: UserWarning: The `lr` argument is deprecated, use `learning_rate` instead.\n",
            "  super(Adam, self).__init__(name, **kwargs)\n"
          ]
        },
        {
          "name": "stdout",
          "output_type": "stream",
          "text": [
            "Epoch 1/100\n",
            "374/377 [============================>.] - ETA: 0s - loss: 6.6503 - accuracy: 0.0733WARNING:tensorflow:Early stopping conditioned on metric `val_loss` which is not available. Available metrics are: loss,accuracy\n",
            "377/377 [==============================] - 8s 9ms/step - loss: 6.6493 - accuracy: 0.0734\n",
            "Epoch 2/100\n",
            "375/377 [============================>.] - ETA: 0s - loss: 5.7870 - accuracy: 0.1120WARNING:tensorflow:Early stopping conditioned on metric `val_loss` which is not available. Available metrics are: loss,accuracy\n",
            "377/377 [==============================] - 3s 9ms/step - loss: 5.7845 - accuracy: 0.1124\n",
            "Epoch 3/100\n",
            "374/377 [============================>.] - ETA: 0s - loss: 4.9062 - accuracy: 0.1630WARNING:tensorflow:Early stopping conditioned on metric `val_loss` which is not available. Available metrics are: loss,accuracy\n",
            "377/377 [==============================] - 3s 9ms/step - loss: 4.9077 - accuracy: 0.1629\n",
            "Epoch 4/100\n",
            "374/377 [============================>.] - ETA: 0s - loss: 4.0040 - accuracy: 0.2376WARNING:tensorflow:Early stopping conditioned on metric `val_loss` which is not available. Available metrics are: loss,accuracy\n",
            "377/377 [==============================] - 3s 9ms/step - loss: 4.0047 - accuracy: 0.2376\n",
            "Epoch 5/100\n",
            "373/377 [============================>.] - ETA: 0s - loss: 3.1381 - accuracy: 0.3350WARNING:tensorflow:Early stopping conditioned on metric `val_loss` which is not available. Available metrics are: loss,accuracy\n",
            "377/377 [==============================] - 3s 9ms/step - loss: 3.1398 - accuracy: 0.3348\n",
            "Epoch 6/100\n",
            "376/377 [============================>.] - ETA: 0s - loss: 2.4705 - accuracy: 0.4456WARNING:tensorflow:Early stopping conditioned on metric `val_loss` which is not available. Available metrics are: loss,accuracy\n",
            "377/377 [==============================] - 3s 9ms/step - loss: 2.4710 - accuracy: 0.4456\n",
            "Epoch 7/100\n",
            "374/377 [============================>.] - ETA: 0s - loss: 1.9890 - accuracy: 0.5330WARNING:tensorflow:Early stopping conditioned on metric `val_loss` which is not available. Available metrics are: loss,accuracy\n",
            "377/377 [==============================] - 3s 9ms/step - loss: 1.9888 - accuracy: 0.5326\n",
            "Epoch 8/100\n",
            "375/377 [============================>.] - ETA: 0s - loss: 1.6199 - accuracy: 0.6127WARNING:tensorflow:Early stopping conditioned on metric `val_loss` which is not available. Available metrics are: loss,accuracy\n",
            "377/377 [==============================] - 3s 9ms/step - loss: 1.6207 - accuracy: 0.6123\n",
            "Epoch 9/100\n",
            "375/377 [============================>.] - ETA: 0s - loss: 1.3817 - accuracy: 0.6677WARNING:tensorflow:Early stopping conditioned on metric `val_loss` which is not available. Available metrics are: loss,accuracy\n",
            "377/377 [==============================] - 3s 9ms/step - loss: 1.3836 - accuracy: 0.6672\n",
            "Epoch 10/100\n",
            "375/377 [============================>.] - ETA: 0s - loss: 1.2256 - accuracy: 0.7012WARNING:tensorflow:Early stopping conditioned on metric `val_loss` which is not available. Available metrics are: loss,accuracy\n",
            "377/377 [==============================] - 3s 9ms/step - loss: 1.2262 - accuracy: 0.7010\n",
            "Epoch 11/100\n",
            "377/377 [==============================] - ETA: 0s - loss: 1.1100 - accuracy: 0.7314WARNING:tensorflow:Early stopping conditioned on metric `val_loss` which is not available. Available metrics are: loss,accuracy\n",
            "377/377 [==============================] - 3s 9ms/step - loss: 1.1100 - accuracy: 0.7314\n",
            "Epoch 12/100\n",
            "377/377 [==============================] - ETA: 0s - loss: 1.0815 - accuracy: 0.7330WARNING:tensorflow:Early stopping conditioned on metric `val_loss` which is not available. Available metrics are: loss,accuracy\n",
            "377/377 [==============================] - 3s 9ms/step - loss: 1.0815 - accuracy: 0.7330\n",
            "Epoch 13/100\n",
            "376/377 [============================>.] - ETA: 0s - loss: 1.0574 - accuracy: 0.7355WARNING:tensorflow:Early stopping conditioned on metric `val_loss` which is not available. Available metrics are: loss,accuracy\n",
            "377/377 [==============================] - 3s 9ms/step - loss: 1.0578 - accuracy: 0.7353\n",
            "Epoch 14/100\n",
            "373/377 [============================>.] - ETA: 0s - loss: 1.1154 - accuracy: 0.7204WARNING:tensorflow:Early stopping conditioned on metric `val_loss` which is not available. Available metrics are: loss,accuracy\n",
            "377/377 [==============================] - 3s 9ms/step - loss: 1.1183 - accuracy: 0.7196\n",
            "Epoch 15/100\n",
            "372/377 [============================>.] - ETA: 0s - loss: 1.1652 - accuracy: 0.7016WARNING:tensorflow:Early stopping conditioned on metric `val_loss` which is not available. Available metrics are: loss,accuracy\n",
            "377/377 [==============================] - 3s 9ms/step - loss: 1.1698 - accuracy: 0.7006\n",
            "Epoch 16/100\n",
            "374/377 [============================>.] - ETA: 0s - loss: 1.1928 - accuracy: 0.6952WARNING:tensorflow:Early stopping conditioned on metric `val_loss` which is not available. Available metrics are: loss,accuracy\n",
            "377/377 [==============================] - 3s 9ms/step - loss: 1.1949 - accuracy: 0.6945\n",
            "Epoch 17/100\n",
            "373/377 [============================>.] - ETA: 0s - loss: 1.1286 - accuracy: 0.7087WARNING:tensorflow:Early stopping conditioned on metric `val_loss` which is not available. Available metrics are: loss,accuracy\n",
            "377/377 [==============================] - 3s 9ms/step - loss: 1.1305 - accuracy: 0.7085\n",
            "Epoch 18/100\n",
            "374/377 [============================>.] - ETA: 0s - loss: 0.9986 - accuracy: 0.7435WARNING:tensorflow:Early stopping conditioned on metric `val_loss` which is not available. Available metrics are: loss,accuracy\n",
            "377/377 [==============================] - 4s 9ms/step - loss: 0.9977 - accuracy: 0.7437\n",
            "Epoch 19/100\n",
            "374/377 [============================>.] - ETA: 0s - loss: 0.8950 - accuracy: 0.7697WARNING:tensorflow:Early stopping conditioned on metric `val_loss` which is not available. Available metrics are: loss,accuracy\n",
            "377/377 [==============================] - 3s 9ms/step - loss: 0.8955 - accuracy: 0.7692\n",
            "Epoch 20/100\n",
            "372/377 [============================>.] - ETA: 0s - loss: 0.8362 - accuracy: 0.7874WARNING:tensorflow:Early stopping conditioned on metric `val_loss` which is not available. Available metrics are: loss,accuracy\n",
            "377/377 [==============================] - 3s 9ms/step - loss: 0.8355 - accuracy: 0.7878\n",
            "Epoch 21/100\n",
            "374/377 [============================>.] - ETA: 0s - loss: 0.8058 - accuracy: 0.7954WARNING:tensorflow:Early stopping conditioned on metric `val_loss` which is not available. Available metrics are: loss,accuracy\n",
            "377/377 [==============================] - 3s 9ms/step - loss: 0.8077 - accuracy: 0.7949\n",
            "Epoch 22/100\n",
            "377/377 [==============================] - ETA: 0s - loss: 0.8817 - accuracy: 0.7687WARNING:tensorflow:Early stopping conditioned on metric `val_loss` which is not available. Available metrics are: loss,accuracy\n",
            "377/377 [==============================] - 3s 9ms/step - loss: 0.8817 - accuracy: 0.7687\n",
            "Epoch 23/100\n",
            "375/377 [============================>.] - ETA: 0s - loss: 1.0422 - accuracy: 0.7303WARNING:tensorflow:Early stopping conditioned on metric `val_loss` which is not available. Available metrics are: loss,accuracy\n",
            "377/377 [==============================] - 4s 9ms/step - loss: 1.0441 - accuracy: 0.7298\n",
            "Epoch 24/100\n",
            "373/377 [============================>.] - ETA: 0s - loss: 1.3700 - accuracy: 0.6565WARNING:tensorflow:Early stopping conditioned on metric `val_loss` which is not available. Available metrics are: loss,accuracy\n",
            "377/377 [==============================] - 3s 9ms/step - loss: 1.3705 - accuracy: 0.6566\n",
            "Epoch 25/100\n",
            "372/377 [============================>.] - ETA: 0s - loss: 1.2898 - accuracy: 0.6683WARNING:tensorflow:Early stopping conditioned on metric `val_loss` which is not available. Available metrics are: loss,accuracy\n",
            "377/377 [==============================] - 3s 9ms/step - loss: 1.2912 - accuracy: 0.6681\n",
            "Epoch 26/100\n",
            "375/377 [============================>.] - ETA: 0s - loss: 1.0434 - accuracy: 0.7256WARNING:tensorflow:Early stopping conditioned on metric `val_loss` which is not available. Available metrics are: loss,accuracy\n",
            "377/377 [==============================] - 3s 9ms/step - loss: 1.0439 - accuracy: 0.7255\n",
            "Epoch 27/100\n",
            "376/377 [============================>.] - ETA: 0s - loss: 0.9210 - accuracy: 0.7621WARNING:tensorflow:Early stopping conditioned on metric `val_loss` which is not available. Available metrics are: loss,accuracy\n",
            "377/377 [==============================] - 3s 9ms/step - loss: 0.9207 - accuracy: 0.7621\n",
            "Epoch 28/100\n",
            "377/377 [==============================] - ETA: 0s - loss: 0.8573 - accuracy: 0.7769WARNING:tensorflow:Early stopping conditioned on metric `val_loss` which is not available. Available metrics are: loss,accuracy\n",
            "377/377 [==============================] - 3s 9ms/step - loss: 0.8573 - accuracy: 0.7769\n",
            "Epoch 29/100\n",
            "372/377 [============================>.] - ETA: 0s - loss: 0.7807 - accuracy: 0.7986WARNING:tensorflow:Early stopping conditioned on metric `val_loss` which is not available. Available metrics are: loss,accuracy\n",
            "377/377 [==============================] - 4s 9ms/step - loss: 0.7804 - accuracy: 0.7989\n",
            "Epoch 30/100\n",
            "376/377 [============================>.] - ETA: 0s - loss: 0.7531 - accuracy: 0.8055WARNING:tensorflow:Early stopping conditioned on metric `val_loss` which is not available. Available metrics are: loss,accuracy\n",
            "377/377 [==============================] - 3s 9ms/step - loss: 0.7528 - accuracy: 0.8056\n",
            "Epoch 31/100\n",
            "374/377 [============================>.] - ETA: 0s - loss: 0.7599 - accuracy: 0.8061WARNING:tensorflow:Early stopping conditioned on metric `val_loss` which is not available. Available metrics are: loss,accuracy\n",
            "377/377 [==============================] - 3s 9ms/step - loss: 0.7613 - accuracy: 0.8058\n",
            "Epoch 32/100\n",
            "374/377 [============================>.] - ETA: 0s - loss: 0.8120 - accuracy: 0.7868WARNING:tensorflow:Early stopping conditioned on metric `val_loss` which is not available. Available metrics are: loss,accuracy\n",
            "377/377 [==============================] - 3s 9ms/step - loss: 0.8129 - accuracy: 0.7866\n",
            "Epoch 33/100\n",
            "373/377 [============================>.] - ETA: 0s - loss: 1.0803 - accuracy: 0.7281WARNING:tensorflow:Early stopping conditioned on metric `val_loss` which is not available. Available metrics are: loss,accuracy\n",
            "377/377 [==============================] - 3s 9ms/step - loss: 1.0840 - accuracy: 0.7272\n",
            "Epoch 34/100\n",
            "373/377 [============================>.] - ETA: 0s - loss: 1.4127 - accuracy: 0.6431WARNING:tensorflow:Early stopping conditioned on metric `val_loss` which is not available. Available metrics are: loss,accuracy\n",
            "377/377 [==============================] - 3s 9ms/step - loss: 1.4156 - accuracy: 0.6421\n",
            "Epoch 35/100\n",
            "375/377 [============================>.] - ETA: 0s - loss: 1.3481 - accuracy: 0.6576WARNING:tensorflow:Early stopping conditioned on metric `val_loss` which is not available. Available metrics are: loss,accuracy\n",
            "377/377 [==============================] - 3s 9ms/step - loss: 1.3523 - accuracy: 0.6568\n",
            "Epoch 36/100\n",
            "373/377 [============================>.] - ETA: 0s - loss: 1.1142 - accuracy: 0.7129WARNING:tensorflow:Early stopping conditioned on metric `val_loss` which is not available. Available metrics are: loss,accuracy\n",
            "377/377 [==============================] - 3s 9ms/step - loss: 1.1160 - accuracy: 0.7124\n",
            "Epoch 37/100\n",
            "372/377 [============================>.] - ETA: 0s - loss: 0.9500 - accuracy: 0.7523WARNING:tensorflow:Early stopping conditioned on metric `val_loss` which is not available. Available metrics are: loss,accuracy\n",
            "377/377 [==============================] - 4s 9ms/step - loss: 0.9528 - accuracy: 0.7517\n",
            "Epoch 38/100\n",
            "373/377 [============================>.] - ETA: 0s - loss: 0.8448 - accuracy: 0.7798WARNING:tensorflow:Early stopping conditioned on metric `val_loss` which is not available. Available metrics are: loss,accuracy\n",
            "377/377 [==============================] - 3s 9ms/step - loss: 0.8466 - accuracy: 0.7792\n",
            "Epoch 39/100\n",
            "373/377 [============================>.] - ETA: 0s - loss: 0.8067 - accuracy: 0.7905WARNING:tensorflow:Early stopping conditioned on metric `val_loss` which is not available. Available metrics are: loss,accuracy\n",
            "377/377 [==============================] - 3s 9ms/step - loss: 0.8056 - accuracy: 0.7903\n",
            "Epoch 40/100\n",
            "376/377 [============================>.] - ETA: 0s - loss: 0.7803 - accuracy: 0.7972WARNING:tensorflow:Early stopping conditioned on metric `val_loss` which is not available. Available metrics are: loss,accuracy\n",
            "377/377 [==============================] - 3s 9ms/step - loss: 0.7805 - accuracy: 0.7972\n",
            "Epoch 41/100\n",
            "376/377 [============================>.] - ETA: 0s - loss: 0.7975 - accuracy: 0.7934WARNING:tensorflow:Early stopping conditioned on metric `val_loss` which is not available. Available metrics are: loss,accuracy\n",
            "377/377 [==============================] - 3s 9ms/step - loss: 0.7977 - accuracy: 0.7932\n",
            "Epoch 42/100\n",
            "373/377 [============================>.] - ETA: 0s - loss: 0.8770 - accuracy: 0.7723WARNING:tensorflow:Early stopping conditioned on metric `val_loss` which is not available. Available metrics are: loss,accuracy\n",
            "377/377 [==============================] - 4s 9ms/step - loss: 0.8777 - accuracy: 0.7724\n",
            "Epoch 43/100\n",
            "374/377 [============================>.] - ETA: 0s - loss: 1.0131 - accuracy: 0.7345WARNING:tensorflow:Early stopping conditioned on metric `val_loss` which is not available. Available metrics are: loss,accuracy\n",
            "377/377 [==============================] - 3s 9ms/step - loss: 1.0136 - accuracy: 0.7338\n",
            "Epoch 44/100\n",
            "377/377 [==============================] - ETA: 0s - loss: 1.2128 - accuracy: 0.6903WARNING:tensorflow:Early stopping conditioned on metric `val_loss` which is not available. Available metrics are: loss,accuracy\n",
            "377/377 [==============================] - 4s 10ms/step - loss: 1.2128 - accuracy: 0.6903\n",
            "Epoch 45/100\n",
            "376/377 [============================>.] - ETA: 0s - loss: 1.1651 - accuracy: 0.6986WARNING:tensorflow:Early stopping conditioned on metric `val_loss` which is not available. Available metrics are: loss,accuracy\n",
            "377/377 [==============================] - 4s 11ms/step - loss: 1.1653 - accuracy: 0.6985\n",
            "Epoch 46/100\n",
            "377/377 [==============================] - ETA: 0s - loss: 1.0713 - accuracy: 0.7241WARNING:tensorflow:Early stopping conditioned on metric `val_loss` which is not available. Available metrics are: loss,accuracy\n",
            "377/377 [==============================] - 4s 11ms/step - loss: 1.0713 - accuracy: 0.7241\n",
            "Epoch 47/100\n",
            "373/377 [============================>.] - ETA: 0s - loss: 0.9441 - accuracy: 0.7524WARNING:tensorflow:Early stopping conditioned on metric `val_loss` which is not available. Available metrics are: loss,accuracy\n",
            "377/377 [==============================] - 4s 11ms/step - loss: 0.9434 - accuracy: 0.7525\n",
            "Epoch 48/100\n",
            "376/377 [============================>.] - ETA: 0s - loss: 0.8716 - accuracy: 0.7697WARNING:tensorflow:Early stopping conditioned on metric `val_loss` which is not available. Available metrics are: loss,accuracy\n",
            "377/377 [==============================] - 4s 11ms/step - loss: 0.8719 - accuracy: 0.7696\n",
            "Epoch 49/100\n",
            "376/377 [============================>.] - ETA: 0s - loss: 0.7822 - accuracy: 0.7947WARNING:tensorflow:Early stopping conditioned on metric `val_loss` which is not available. Available metrics are: loss,accuracy\n",
            "377/377 [==============================] - 4s 11ms/step - loss: 0.7822 - accuracy: 0.7947\n",
            "Epoch 50/100\n",
            "374/377 [============================>.] - ETA: 0s - loss: 0.7611 - accuracy: 0.8018WARNING:tensorflow:Early stopping conditioned on metric `val_loss` which is not available. Available metrics are: loss,accuracy\n",
            "377/377 [==============================] - 4s 11ms/step - loss: 0.7613 - accuracy: 0.8017\n",
            "Epoch 51/100\n",
            "373/377 [============================>.] - ETA: 0s - loss: 0.7688 - accuracy: 0.7974WARNING:tensorflow:Early stopping conditioned on metric `val_loss` which is not available. Available metrics are: loss,accuracy\n",
            "377/377 [==============================] - 5s 12ms/step - loss: 0.7688 - accuracy: 0.7976\n",
            "Epoch 52/100\n",
            "374/377 [============================>.] - ETA: 0s - loss: 0.8334 - accuracy: 0.7802WARNING:tensorflow:Early stopping conditioned on metric `val_loss` which is not available. Available metrics are: loss,accuracy\n",
            "377/377 [==============================] - 5s 12ms/step - loss: 0.8348 - accuracy: 0.7796\n",
            "Epoch 53/100\n",
            "376/377 [============================>.] - ETA: 0s - loss: 0.9814 - accuracy: 0.7448WARNING:tensorflow:Early stopping conditioned on metric `val_loss` which is not available. Available metrics are: loss,accuracy\n",
            "377/377 [==============================] - 4s 11ms/step - loss: 0.9820 - accuracy: 0.7446\n",
            "Epoch 54/100\n",
            "377/377 [==============================] - ETA: 0s - loss: 1.1262 - accuracy: 0.7064WARNING:tensorflow:Early stopping conditioned on metric `val_loss` which is not available. Available metrics are: loss,accuracy\n",
            "377/377 [==============================] - 5s 12ms/step - loss: 1.1262 - accuracy: 0.7064\n",
            "Epoch 55/100\n",
            "376/377 [============================>.] - ETA: 0s - loss: 1.1261 - accuracy: 0.7065WARNING:tensorflow:Early stopping conditioned on metric `val_loss` which is not available. Available metrics are: loss,accuracy\n",
            "377/377 [==============================] - 4s 12ms/step - loss: 1.1265 - accuracy: 0.7065\n",
            "Epoch 56/100\n",
            "376/377 [============================>.] - ETA: 0s - loss: 1.0429 - accuracy: 0.7260WARNING:tensorflow:Early stopping conditioned on metric `val_loss` which is not available. Available metrics are: loss,accuracy\n",
            "377/377 [==============================] - 5s 12ms/step - loss: 1.0433 - accuracy: 0.7259\n",
            "Epoch 57/100\n",
            "377/377 [==============================] - ETA: 0s - loss: 0.9753 - accuracy: 0.7411WARNING:tensorflow:Early stopping conditioned on metric `val_loss` which is not available. Available metrics are: loss,accuracy\n",
            "377/377 [==============================] - 4s 12ms/step - loss: 0.9753 - accuracy: 0.7411\n",
            "Epoch 58/100\n",
            "377/377 [==============================] - ETA: 0s - loss: 0.8617 - accuracy: 0.7726WARNING:tensorflow:Early stopping conditioned on metric `val_loss` which is not available. Available metrics are: loss,accuracy\n",
            "377/377 [==============================] - 4s 12ms/step - loss: 0.8617 - accuracy: 0.7726\n",
            "Epoch 59/100\n",
            "375/377 [============================>.] - ETA: 0s - loss: 0.7915 - accuracy: 0.7879WARNING:tensorflow:Early stopping conditioned on metric `val_loss` which is not available. Available metrics are: loss,accuracy\n",
            "377/377 [==============================] - 4s 12ms/step - loss: 0.7909 - accuracy: 0.7880\n",
            "Epoch 60/100\n",
            "376/377 [============================>.] - ETA: 0s - loss: 0.7775 - accuracy: 0.7967WARNING:tensorflow:Early stopping conditioned on metric `val_loss` which is not available. Available metrics are: loss,accuracy\n",
            "377/377 [==============================] - 5s 12ms/step - loss: 0.7777 - accuracy: 0.7966\n",
            "Epoch 61/100\n",
            "375/377 [============================>.] - ETA: 0s - loss: 0.8482 - accuracy: 0.7853WARNING:tensorflow:Early stopping conditioned on metric `val_loss` which is not available. Available metrics are: loss,accuracy\n",
            "377/377 [==============================] - 4s 11ms/step - loss: 0.8495 - accuracy: 0.7849\n",
            "Epoch 62/100\n",
            "375/377 [============================>.] - ETA: 0s - loss: 0.9650 - accuracy: 0.7523WARNING:tensorflow:Early stopping conditioned on metric `val_loss` which is not available. Available metrics are: loss,accuracy\n",
            "377/377 [==============================] - 4s 10ms/step - loss: 0.9661 - accuracy: 0.7522\n",
            "Epoch 63/100\n",
            "375/377 [============================>.] - ETA: 0s - loss: 1.0326 - accuracy: 0.7306WARNING:tensorflow:Early stopping conditioned on metric `val_loss` which is not available. Available metrics are: loss,accuracy\n",
            "377/377 [==============================] - 3s 9ms/step - loss: 1.0340 - accuracy: 0.7303\n",
            "Epoch 64/100\n",
            "373/377 [============================>.] - ETA: 0s - loss: 1.0520 - accuracy: 0.7244WARNING:tensorflow:Early stopping conditioned on metric `val_loss` which is not available. Available metrics are: loss,accuracy\n",
            "377/377 [==============================] - 3s 9ms/step - loss: 1.0540 - accuracy: 0.7242\n",
            "Epoch 65/100\n",
            "373/377 [============================>.] - ETA: 0s - loss: 1.0195 - accuracy: 0.7314WARNING:tensorflow:Early stopping conditioned on metric `val_loss` which is not available. Available metrics are: loss,accuracy\n",
            "377/377 [==============================] - 3s 9ms/step - loss: 1.0215 - accuracy: 0.7309\n",
            "Epoch 66/100\n",
            "372/377 [============================>.] - ETA: 0s - loss: 0.9709 - accuracy: 0.7491WARNING:tensorflow:Early stopping conditioned on metric `val_loss` which is not available. Available metrics are: loss,accuracy\n",
            "377/377 [==============================] - 3s 9ms/step - loss: 0.9760 - accuracy: 0.7480\n",
            "Epoch 67/100\n",
            "374/377 [============================>.] - ETA: 0s - loss: 0.8867 - accuracy: 0.7650WARNING:tensorflow:Early stopping conditioned on metric `val_loss` which is not available. Available metrics are: loss,accuracy\n",
            "377/377 [==============================] - 3s 9ms/step - loss: 0.8892 - accuracy: 0.7645\n",
            "Epoch 68/100\n",
            "372/377 [============================>.] - ETA: 0s - loss: 0.8109 - accuracy: 0.7863WARNING:tensorflow:Early stopping conditioned on metric `val_loss` which is not available. Available metrics are: loss,accuracy\n",
            "377/377 [==============================] - 3s 9ms/step - loss: 0.8125 - accuracy: 0.7859\n",
            "Epoch 69/100\n",
            "375/377 [============================>.] - ETA: 0s - loss: 0.7900 - accuracy: 0.7925WARNING:tensorflow:Early stopping conditioned on metric `val_loss` which is not available. Available metrics are: loss,accuracy\n",
            "377/377 [==============================] - 3s 9ms/step - loss: 0.7906 - accuracy: 0.7925\n",
            "Epoch 70/100\n",
            "376/377 [============================>.] - ETA: 0s - loss: 0.7867 - accuracy: 0.7939WARNING:tensorflow:Early stopping conditioned on metric `val_loss` which is not available. Available metrics are: loss,accuracy\n",
            "377/377 [==============================] - 4s 9ms/step - loss: 0.7870 - accuracy: 0.7939\n",
            "Epoch 71/100\n",
            "374/377 [============================>.] - ETA: 0s - loss: 0.8175 - accuracy: 0.7848WARNING:tensorflow:Early stopping conditioned on metric `val_loss` which is not available. Available metrics are: loss,accuracy\n",
            "377/377 [==============================] - 4s 9ms/step - loss: 0.8180 - accuracy: 0.7844\n",
            "Epoch 72/100\n",
            "373/377 [============================>.] - ETA: 0s - loss: 0.8333 - accuracy: 0.7802WARNING:tensorflow:Early stopping conditioned on metric `val_loss` which is not available. Available metrics are: loss,accuracy\n",
            "377/377 [==============================] - 3s 9ms/step - loss: 0.8370 - accuracy: 0.7796\n",
            "Epoch 73/100\n",
            "372/377 [============================>.] - ETA: 0s - loss: 0.8842 - accuracy: 0.7666WARNING:tensorflow:Early stopping conditioned on metric `val_loss` which is not available. Available metrics are: loss,accuracy\n",
            "377/377 [==============================] - 3s 9ms/step - loss: 0.8859 - accuracy: 0.7664\n",
            "Epoch 74/100\n",
            "376/377 [============================>.] - ETA: 0s - loss: 0.9453 - accuracy: 0.7571WARNING:tensorflow:Early stopping conditioned on metric `val_loss` which is not available. Available metrics are: loss,accuracy\n",
            "377/377 [==============================] - 3s 9ms/step - loss: 0.9454 - accuracy: 0.7570\n",
            "Epoch 75/100\n",
            "374/377 [============================>.] - ETA: 0s - loss: 0.9513 - accuracy: 0.7511WARNING:tensorflow:Early stopping conditioned on metric `val_loss` which is not available. Available metrics are: loss,accuracy\n",
            "377/377 [==============================] - 3s 9ms/step - loss: 0.9517 - accuracy: 0.7510\n",
            "Epoch 76/100\n",
            "375/377 [============================>.] - ETA: 0s - loss: 0.9488 - accuracy: 0.7493WARNING:tensorflow:Early stopping conditioned on metric `val_loss` which is not available. Available metrics are: loss,accuracy\n",
            "377/377 [==============================] - 4s 9ms/step - loss: 0.9493 - accuracy: 0.7492\n",
            "Epoch 77/100\n",
            "375/377 [============================>.] - ETA: 0s - loss: 0.9498 - accuracy: 0.7541WARNING:tensorflow:Early stopping conditioned on metric `val_loss` which is not available. Available metrics are: loss,accuracy\n",
            "377/377 [==============================] - 3s 9ms/step - loss: 0.9504 - accuracy: 0.7540\n",
            "Epoch 78/100\n",
            "373/377 [============================>.] - ETA: 0s - loss: 0.9083 - accuracy: 0.7605WARNING:tensorflow:Early stopping conditioned on metric `val_loss` which is not available. Available metrics are: loss,accuracy\n",
            "377/377 [==============================] - 3s 9ms/step - loss: 0.9103 - accuracy: 0.7600\n",
            "Epoch 79/100\n",
            "375/377 [============================>.] - ETA: 0s - loss: 0.9195 - accuracy: 0.7597WARNING:tensorflow:Early stopping conditioned on metric `val_loss` which is not available. Available metrics are: loss,accuracy\n",
            "377/377 [==============================] - 4s 9ms/step - loss: 0.9218 - accuracy: 0.7593\n",
            "Epoch 80/100\n",
            "376/377 [============================>.] - ETA: 0s - loss: 0.8700 - accuracy: 0.7679WARNING:tensorflow:Early stopping conditioned on metric `val_loss` which is not available. Available metrics are: loss,accuracy\n",
            "377/377 [==============================] - 3s 9ms/step - loss: 0.8701 - accuracy: 0.7678\n",
            "Epoch 81/100\n",
            "377/377 [==============================] - ETA: 0s - loss: 0.8403 - accuracy: 0.7773WARNING:tensorflow:Early stopping conditioned on metric `val_loss` which is not available. Available metrics are: loss,accuracy\n",
            "377/377 [==============================] - 3s 9ms/step - loss: 0.8403 - accuracy: 0.7773\n",
            "Epoch 82/100\n",
            "377/377 [==============================] - ETA: 0s - loss: 0.8369 - accuracy: 0.7772WARNING:tensorflow:Early stopping conditioned on metric `val_loss` which is not available. Available metrics are: loss,accuracy\n",
            "377/377 [==============================] - 3s 9ms/step - loss: 0.8369 - accuracy: 0.7772\n",
            "Epoch 83/100\n",
            "375/377 [============================>.] - ETA: 0s - loss: 0.8434 - accuracy: 0.7797WARNING:tensorflow:Early stopping conditioned on metric `val_loss` which is not available. Available metrics are: loss,accuracy\n",
            "377/377 [==============================] - 3s 9ms/step - loss: 0.8433 - accuracy: 0.7797\n",
            "Epoch 84/100\n",
            "376/377 [============================>.] - ETA: 0s - loss: 0.8385 - accuracy: 0.7798WARNING:tensorflow:Early stopping conditioned on metric `val_loss` which is not available. Available metrics are: loss,accuracy\n",
            "377/377 [==============================] - 3s 9ms/step - loss: 0.8381 - accuracy: 0.7799\n",
            "Epoch 85/100\n",
            "372/377 [============================>.] - ETA: 0s - loss: 0.8357 - accuracy: 0.7786WARNING:tensorflow:Early stopping conditioned on metric `val_loss` which is not available. Available metrics are: loss,accuracy\n",
            "377/377 [==============================] - 3s 9ms/step - loss: 0.8403 - accuracy: 0.7777\n",
            "Epoch 86/100\n",
            "376/377 [============================>.] - ETA: 0s - loss: 0.8532 - accuracy: 0.7736WARNING:tensorflow:Early stopping conditioned on metric `val_loss` which is not available. Available metrics are: loss,accuracy\n",
            "377/377 [==============================] - 3s 9ms/step - loss: 0.8529 - accuracy: 0.7736\n",
            "Epoch 87/100\n",
            "374/377 [============================>.] - ETA: 0s - loss: 0.8718 - accuracy: 0.7710WARNING:tensorflow:Early stopping conditioned on metric `val_loss` which is not available. Available metrics are: loss,accuracy\n",
            "377/377 [==============================] - 3s 9ms/step - loss: 0.8717 - accuracy: 0.7708\n",
            "Epoch 88/100\n",
            "373/377 [============================>.] - ETA: 0s - loss: 0.8978 - accuracy: 0.7662WARNING:tensorflow:Early stopping conditioned on metric `val_loss` which is not available. Available metrics are: loss,accuracy\n",
            "377/377 [==============================] - 4s 9ms/step - loss: 0.8995 - accuracy: 0.7656\n",
            "Epoch 89/100\n",
            "377/377 [==============================] - ETA: 0s - loss: 0.9268 - accuracy: 0.7592WARNING:tensorflow:Early stopping conditioned on metric `val_loss` which is not available. Available metrics are: loss,accuracy\n",
            "377/377 [==============================] - 3s 9ms/step - loss: 0.9268 - accuracy: 0.7592\n",
            "Epoch 90/100\n",
            "377/377 [==============================] - ETA: 0s - loss: 0.9546 - accuracy: 0.7561WARNING:tensorflow:Early stopping conditioned on metric `val_loss` which is not available. Available metrics are: loss,accuracy\n",
            "377/377 [==============================] - 4s 11ms/step - loss: 0.9546 - accuracy: 0.7561\n",
            "Epoch 91/100\n",
            "376/377 [============================>.] - ETA: 0s - loss: 0.9460 - accuracy: 0.7543WARNING:tensorflow:Early stopping conditioned on metric `val_loss` which is not available. Available metrics are: loss,accuracy\n",
            "377/377 [==============================] - 5s 12ms/step - loss: 0.9456 - accuracy: 0.7544\n",
            "Epoch 92/100\n",
            "376/377 [============================>.] - ETA: 0s - loss: 0.9323 - accuracy: 0.7539WARNING:tensorflow:Early stopping conditioned on metric `val_loss` which is not available. Available metrics are: loss,accuracy\n",
            "377/377 [==============================] - 4s 12ms/step - loss: 0.9327 - accuracy: 0.7538\n",
            "Epoch 93/100\n",
            "377/377 [==============================] - ETA: 0s - loss: 0.8990 - accuracy: 0.7642WARNING:tensorflow:Early stopping conditioned on metric `val_loss` which is not available. Available metrics are: loss,accuracy\n",
            "377/377 [==============================] - 4s 11ms/step - loss: 0.8990 - accuracy: 0.7642\n",
            "Epoch 94/100\n",
            "374/377 [============================>.] - ETA: 0s - loss: 0.8665 - accuracy: 0.7696WARNING:tensorflow:Early stopping conditioned on metric `val_loss` which is not available. Available metrics are: loss,accuracy\n",
            "377/377 [==============================] - 4s 11ms/step - loss: 0.8683 - accuracy: 0.7694\n",
            "Epoch 95/100\n",
            "377/377 [==============================] - ETA: 0s - loss: 0.9251 - accuracy: 0.7598WARNING:tensorflow:Early stopping conditioned on metric `val_loss` which is not available. Available metrics are: loss,accuracy\n",
            "377/377 [==============================] - 4s 11ms/step - loss: 0.9251 - accuracy: 0.7598\n",
            "Epoch 96/100\n",
            "377/377 [==============================] - ETA: 0s - loss: 0.9171 - accuracy: 0.7615WARNING:tensorflow:Early stopping conditioned on metric `val_loss` which is not available. Available metrics are: loss,accuracy\n",
            "377/377 [==============================] - 4s 12ms/step - loss: 0.9171 - accuracy: 0.7615\n",
            "Epoch 97/100\n",
            " 49/377 [==>...........................] - ETA: 3s - loss: 0.6583 - accuracy: 0.8202"
          ]
        }
      ],
      "source": [
        "model = Sequential()\n",
        "model.add(Embedding(total_words, 100, input_length=max_sequence_len-1))\n",
        "model.add(Bidirectional(LSTM(150)))\n",
        "model.add(Dense(total_words, activation='softmax'))\n",
        "adam = Adam(lr=0.01)\n",
        "model.compile(loss='categorical_crossentropy', optimizer=adam, metrics=['accuracy'])\n",
        "earlystop = EarlyStopping(monitor='val_loss', min_delta=0, patience=5, verbose=0, mode='auto')\n",
        "history = model.fit(xs, ys, epochs=100, verbose=1, callbacks= [earlystop] )\n",
        "#print model.summary()\n",
        "print(model)\n"
      ]
    },
    {
      "cell_type": "code",
      "execution_count": null,
      "metadata": {
        "colab": {},
        "colab_type": "code",
        "id": "3YXGelKThoTT"
      },
      "outputs": [],
      "source": [
        "import matplotlib.pyplot as plt\n",
        "\n",
        "\n",
        "def plot_graphs(history, string):\n",
        "  plt.plot(history.history[string])\n",
        "  plt.xlabel(\"Epochs\")\n",
        "  plt.ylabel(string)\n",
        "  plt.show()"
      ]
    },
    {
      "cell_type": "code",
      "execution_count": null,
      "metadata": {
        "colab": {},
        "colab_type": "code",
        "id": "poeprYK8h-c7"
      },
      "outputs": [
        {
          "data": {
            "image/png": "[encoded data removed]",
            "text/plain": [
              "<Figure size 432x288 with 1 Axes>"
            ]
          },
          "metadata": {
            "needs_background": "light"
          },
          "output_type": "display_data"
        }
      ],
      "source": [
        "plot_graphs(history, 'accuracy')\n"
      ]
    },
    {
      "cell_type": "code",
      "execution_count": null,
      "metadata": {
        "colab": {},
        "colab_type": "code",
        "id": "6Vc6PHgxa6Hm"
      },
      "outputs": [
        {
          "name": "stdout",
          "output_type": "stream",
          "text": [
            "WARNING:tensorflow:From <ipython-input-18-622c613dd6ec>:7: Sequential.predict_classes (from tensorflow.python.keras.engine.sequential) is deprecated and will be removed after 2021-01-01.\n",
            "Instructions for updating:\n",
            "Please use instead:* `np.argmax(model.predict(x), axis=-1)`,   if your model does multi-class classification   (e.g. if it uses a `softmax` last-layer activation).* `(model.predict(x) > 0.5).astype(\"int32\")`,   if your model does binary classification   (e.g. if it uses a `sigmoid` last-layer activation).\n",
            "I've got a bad feeling about this proud old woman did say theres bread and moving away til your heart that then mother play somewhere nor time for someone now have none had make thee dead thou take delight in the eyes are peeled on drinking the same love till our wedding day when love easy as your hapless passed by and by the blood so grand day just that i met each one morning love light in fishin and solemn town gave and gone and mountain thyme my bonnie shall farewell to the tight shall mary when i am silver i would support her mary when\n"
          ]
        }
      ],
      "source": [
        "seed_text = \"I've got a bad feeling about this\"\n",
        "next_words = 100\n",
        "  \n",
        "for _ in range(next_words):\n",
        "\ttoken_list = tokenizer.texts_to_sequences([seed_text])[0]\n",
        "\ttoken_list = pad_sequences([token_list], maxlen=max_sequence_len-1, padding='pre')\n",
        "\tpredicted = model.predict_classes(token_list, verbose=0)\n",
        "\toutput_word = \"\"\n",
        "\tfor word, index in tokenizer.word_index.items():\n",
        "\t\tif index == predicted:\n",
        "\t\t\toutput_word = word\n",
        "\t\t\tbreak\n",
        "\tseed_text += \" \" + output_word\n",
        "print(seed_text)"
      ]
    }
  ],
  "metadata": {
    "accelerator": "GPU",
    "colab": {
      "include_colab_link": true,
      "name": "Course 3 - Week 4 - Lesson 2 - Notebook.ipynb",
      "provenance": [],
      "toc_visible": true
    },
    "kernelspec": {
      "display_name": "Python 3.8.10 64-bit",
      "language": "python",
      "name": "python3"
    },
    "language_info": {
      "codemirror_mode": {
        "name": "ipython",
        "version": 3
      },
      "file_extension": ".py",
      "mimetype": "text/x-python",
      "name": "python",
      "nbconvert_exporter": "python",
      "pygments_lexer": "ipython3",
      "version": "3.8.10"
    },
    "vscode": {
      "interpreter": {
        "hash": "c506d1f39c0ed203b21fe551da708c189199b4eb24b97c88a7b4d83b7442f034"
      }
    }
  },
  "nbformat": 4,
  "nbformat_minor": 0
}
