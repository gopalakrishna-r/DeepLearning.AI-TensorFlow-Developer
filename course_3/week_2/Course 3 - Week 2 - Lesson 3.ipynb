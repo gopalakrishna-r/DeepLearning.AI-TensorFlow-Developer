{
 "cells": [
  {
   "cell_type": "code",
<<<<<<< HEAD
<<<<<<< HEAD
   "execution_count": 1,
=======
   "execution_count": 0,
>>>>>>> 34e6b21abfc5b069204bb7f9f57f96b96d215fc6
=======
   "execution_count": 0,
>>>>>>> origin/main
   "metadata": {
    "colab": {},
    "colab_type": "code",
    "id": "zX4Kg8DUTKWO"
   },
   "outputs": [],
   "source": [
    "#@title Licensed under the Apache License, Version 2.0 (the \"License\");\n",
    "# you may not use this file except in compliance with the License.\n",
    "# You may obtain a copy of the License at\n",
    "#\n",
    "# https://www.apache.org/licenses/LICENSE-2.0\n",
    "#\n",
    "# Unless required by applicable law or agreed to in writing, software\n",
    "# distributed under the License is distributed on an \"AS IS\" BASIS,\n",
    "# WITHOUT WARRANTIES OR CONDITIONS OF ANY KIND, either express or implied.\n",
    "# See the License for the specific language governing permissions and\n",
    "# limitations under the License."
   ]
  },
  {
   "cell_type": "markdown",
   "metadata": {},
   "source": [
    "<a href=\"https://colab.research.google.com/github/lmoroney/dlaicourse/blob/master/TensorFlow%20In%20Practice/Course%203%20-%20NLP/Course%203%20-%20Week%202%20-%20Lesson%203.ipynb\" target=\"_parent\"><img src=\"https://colab.research.google.com/assets/colab-badge.svg\" alt=\"Open In Colab\"/></a>"
   ]
  },
  {
   "cell_type": "code",
<<<<<<< HEAD
<<<<<<< HEAD
   "execution_count": 2,
=======
   "execution_count": 0,
>>>>>>> 34e6b21abfc5b069204bb7f9f57f96b96d215fc6
=======
   "execution_count": 0,
>>>>>>> origin/main
   "metadata": {
    "colab": {},
    "colab_type": "code",
    "id": "P-AhVYeBWgQ3"
   },
<<<<<<< HEAD
<<<<<<< HEAD
   "outputs": [
    {
     "name": "stdout",
     "output_type": "stream",
     "text": [
      "2.7.0\n"
     ]
    }
   ],
=======
   "outputs": [],
>>>>>>> 34e6b21abfc5b069204bb7f9f57f96b96d215fc6
=======
   "outputs": [],
>>>>>>> origin/main
   "source": [
    "# NOTE: PLEASE MAKE SURE YOU ARE RUNNING THIS IN A PYTHON3 ENVIRONMENT\n",
    "\n",
    "import tensorflow as tf\n",
    "print(tf.__version__)\n"
   ]
  },
  {
   "cell_type": "code",
<<<<<<< HEAD
<<<<<<< HEAD
   "execution_count": 3,
=======
   "execution_count": 0,
>>>>>>> 34e6b21abfc5b069204bb7f9f57f96b96d215fc6
=======
   "execution_count": 0,
>>>>>>> origin/main
   "metadata": {
    "colab": {},
    "colab_type": "code",
    "id": "wm9S3T8-9H4q"
   },
<<<<<<< HEAD
<<<<<<< HEAD
   "outputs": [
    {
     "name": "stdout",
     "output_type": "stream",
     "text": [
      "2.7.0\n"
     ]
    }
   ],
=======
   "outputs": [],
>>>>>>> 34e6b21abfc5b069204bb7f9f57f96b96d215fc6
=======
   "outputs": [],
>>>>>>> origin/main
   "source": [
    "# Double check TF 2.0x is installed. If you ran the above block, there was a \n",
    "# 'reset all runtimes' button at the bottom that you needed to press\n",
    "import tensorflow as tf\n",
    "print(tf.__version__)"
   ]
  },
  {
   "cell_type": "code",
<<<<<<< HEAD
<<<<<<< HEAD
   "execution_count": 4,
=======
   "execution_count": 0,
>>>>>>> 34e6b21abfc5b069204bb7f9f57f96b96d215fc6
=======
   "execution_count": 0,
>>>>>>> origin/main
   "metadata": {
    "colab": {},
    "colab_type": "code",
    "id": "_IoM4VFxWpMR"
   },
<<<<<<< HEAD
<<<<<<< HEAD
   "outputs": [
    {
     "name": "stderr",
     "output_type": "stream",
     "text": [
      "WARNING:absl:TFDS datasets with text encoding are deprecated and will be removed in a future version. Instead, you should use the plain text version and tokenize the text using `tensorflow_text` (See: https://www.tensorflow.org/tutorials/tensorflow_text/intro#tfdata_example)\n"
     ]
    }
   ],
=======
   "outputs": [],
>>>>>>> 34e6b21abfc5b069204bb7f9f57f96b96d215fc6
=======
   "outputs": [],
>>>>>>> origin/main
   "source": [
    "# If the import fails, run this\n",
    "# !pip install -q tensorflow-datasets\n",
    "\n",
    "import tensorflow_datasets as tfds\n",
    "imdb, info = tfds.load(\"imdb_reviews/subwords8k\", with_info=True, as_supervised=True)\n"
   ]
  },
  {
   "cell_type": "code",
<<<<<<< HEAD
<<<<<<< HEAD
   "execution_count": 5,
=======
   "execution_count": 0,
>>>>>>> 34e6b21abfc5b069204bb7f9f57f96b96d215fc6
=======
   "execution_count": 0,
>>>>>>> origin/main
   "metadata": {
    "colab": {},
    "colab_type": "code",
    "id": "wHQ2Ko0zl7M4"
   },
   "outputs": [],
   "source": [
    "train_data, test_data = imdb['train'], imdb['test']"
   ]
  },
  {
   "cell_type": "code",
<<<<<<< HEAD
<<<<<<< HEAD
   "execution_count": 6,
=======
   "execution_count": 0,
>>>>>>> 34e6b21abfc5b069204bb7f9f57f96b96d215fc6
=======
   "execution_count": 0,
>>>>>>> origin/main
   "metadata": {
    "colab": {},
    "colab_type": "code",
    "id": "fqGRSe_eCdOz"
   },
   "outputs": [],
   "source": [
    "tokenizer = info.features['text'].encoder"
   ]
  },
  {
   "cell_type": "code",
<<<<<<< HEAD
<<<<<<< HEAD
   "execution_count": null,
=======
   "execution_count": 0,
>>>>>>> 34e6b21abfc5b069204bb7f9f57f96b96d215fc6
=======
   "execution_count": 0,
>>>>>>> origin/main
   "metadata": {
    "colab": {},
    "colab_type": "code",
    "id": "F6b_EraCDLOh"
   },
   "outputs": [],
   "source": [
    "print(tokenizer.subwords)"
   ]
  },
  {
   "cell_type": "code",
<<<<<<< HEAD
<<<<<<< HEAD
   "execution_count": 8,
=======
   "execution_count": 0,
>>>>>>> 34e6b21abfc5b069204bb7f9f57f96b96d215fc6
=======
   "execution_count": 0,
>>>>>>> origin/main
   "metadata": {
    "colab": {},
    "colab_type": "code",
    "id": "fPl2BXhYEHRP"
   },
<<<<<<< HEAD
<<<<<<< HEAD
   "outputs": [
    {
     "name": "stdout",
     "output_type": "stream",
     "text": [
      "Tokenized string is [6307, 2327, 4043, 2120, 2, 48, 4249, 4429, 7, 2652, 8050]\n",
      "The original string: TensorFlow, from basics to mastery\n"
     ]
    }
   ],
=======
   "outputs": [],
>>>>>>> 34e6b21abfc5b069204bb7f9f57f96b96d215fc6
=======
   "outputs": [],
>>>>>>> origin/main
   "source": [
    "sample_string = 'TensorFlow, from basics to mastery'\n",
    "\n",
    "tokenized_string = tokenizer.encode(sample_string)\n",
    "print ('Tokenized string is {}'.format(tokenized_string))\n",
    "\n",
    "original_string = tokenizer.decode(tokenized_string)\n",
    "print ('The original string: {}'.format(original_string))\n"
   ]
  },
  {
   "cell_type": "code",
<<<<<<< HEAD
<<<<<<< HEAD
   "execution_count": 9,
=======
   "execution_count": 0,
>>>>>>> 34e6b21abfc5b069204bb7f9f57f96b96d215fc6
=======
   "execution_count": 0,
>>>>>>> origin/main
   "metadata": {
    "colab": {},
    "colab_type": "code",
    "id": "_3t7vvNLEZml"
   },
<<<<<<< HEAD
<<<<<<< HEAD
   "outputs": [
    {
     "name": "stdout",
     "output_type": "stream",
     "text": [
      "6307 ----> Ten\n",
      "2327 ----> sor\n",
      "4043 ----> Fl\n",
      "2120 ----> ow\n",
      "2 ----> , \n",
      "48 ----> from \n",
      "4249 ----> basi\n",
      "4429 ----> cs \n",
      "7 ----> to \n",
      "2652 ----> master\n",
      "8050 ----> y\n"
     ]
    }
   ],
=======
   "outputs": [],
>>>>>>> 34e6b21abfc5b069204bb7f9f57f96b96d215fc6
=======
   "outputs": [],
>>>>>>> origin/main
   "source": [
    "for ts in tokenized_string:\n",
    "  print ('{} ----> {}'.format(ts, tokenizer.decode([ts])))"
   ]
  },
  {
   "cell_type": "code",
<<<<<<< HEAD
<<<<<<< HEAD
   "execution_count": 10,
=======
   "execution_count": null,
>>>>>>> 34e6b21abfc5b069204bb7f9f57f96b96d215fc6
=======
   "execution_count": null,
>>>>>>> origin/main
   "metadata": {},
   "outputs": [],
   "source": [
    "BUFFER_SIZE = 10000\n",
    "BATCH_SIZE = 64\n",
    "\n",
    "train_dataset = train_data.shuffle(BUFFER_SIZE)\n",
    "train_dataset = train_dataset.padded_batch(BATCH_SIZE, tf.compat.v1.data.get_output_shapes(train_dataset))\n",
    "test_dataset = test_data.padded_batch(BATCH_SIZE, tf.compat.v1.data.get_output_shapes(test_data))"
   ]
  },
  {
   "cell_type": "code",
<<<<<<< HEAD
<<<<<<< HEAD
   "execution_count": 11,
=======
   "execution_count": 0,
>>>>>>> 34e6b21abfc5b069204bb7f9f57f96b96d215fc6
=======
   "execution_count": 0,
>>>>>>> origin/main
   "metadata": {
    "colab": {},
    "colab_type": "code",
    "id": "5NEpdhb8AxID"
   },
<<<<<<< HEAD
<<<<<<< HEAD
   "outputs": [
    {
     "name": "stdout",
     "output_type": "stream",
     "text": [
      "Model: \"sequential\"\n",
      "_________________________________________________________________\n",
      " Layer (type)                Output Shape              Param #   \n",
      "=================================================================\n",
      " embedding (Embedding)       (None, None, 64)          523840    \n",
      "                                                                 \n",
      " global_average_pooling1d (G  (None, 64)               0         \n",
      " lobalAveragePooling1D)                                          \n",
      "                                                                 \n",
      " dense (Dense)               (None, 6)                 390       \n",
      "                                                                 \n",
      " dense_1 (Dense)             (None, 1)                 7         \n",
      "                                                                 \n",
      "=================================================================\n",
      "Total params: 524,237\n",
      "Trainable params: 524,237\n",
      "Non-trainable params: 0\n",
      "_________________________________________________________________\n"
     ]
    }
   ],
=======
   "outputs": [],
>>>>>>> 34e6b21abfc5b069204bb7f9f57f96b96d215fc6
=======
   "outputs": [],
>>>>>>> origin/main
   "source": [
    "embedding_dim = 64\n",
    "model = tf.keras.Sequential([\n",
    "    tf.keras.layers.Embedding(tokenizer.vocab_size, embedding_dim),\n",
    "    tf.keras.layers.GlobalAveragePooling1D(),\n",
    "    tf.keras.layers.Dense(6, activation='relu'),\n",
    "    tf.keras.layers.Dense(1, activation='sigmoid')\n",
    "])\n",
    "\n",
    "model.summary()"
   ]
  },
  {
   "cell_type": "code",
<<<<<<< HEAD
<<<<<<< HEAD
   "execution_count": 12,
=======
   "execution_count": 0,
>>>>>>> 34e6b21abfc5b069204bb7f9f57f96b96d215fc6
=======
   "execution_count": 0,
>>>>>>> origin/main
   "metadata": {
    "colab": {},
    "colab_type": "code",
    "id": "fkt8c5dNuUlT"
   },
<<<<<<< HEAD
<<<<<<< HEAD
   "outputs": [
    {
     "name": "stdout",
     "output_type": "stream",
     "text": [
      "Epoch 1/10\n",
      "391/391 [==============================] - 5s 9ms/step - loss: 0.6932 - accuracy: 0.4970 - val_loss: 0.6931 - val_accuracy: 0.5000\n",
      "Epoch 2/10\n",
      "391/391 [==============================] - 3s 9ms/step - loss: 0.6932 - accuracy: 0.4982 - val_loss: 0.6931 - val_accuracy: 0.5000\n",
      "Epoch 3/10\n",
      "391/391 [==============================] - 3s 9ms/step - loss: 0.6932 - accuracy: 0.4945 - val_loss: 0.6931 - val_accuracy: 0.5000\n",
      "Epoch 4/10\n",
      "391/391 [==============================] - 3s 9ms/step - loss: 0.6837 - accuracy: 0.5330 - val_loss: 0.6107 - val_accuracy: 0.7374\n",
      "Epoch 5/10\n",
      "391/391 [==============================] - 3s 9ms/step - loss: 0.4411 - accuracy: 0.8284 - val_loss: 0.3690 - val_accuracy: 0.8583\n",
      "Epoch 6/10\n",
      "391/391 [==============================] - 3s 9ms/step - loss: 0.3004 - accuracy: 0.8893 - val_loss: 0.3274 - val_accuracy: 0.8694\n",
      "Epoch 7/10\n",
      "391/391 [==============================] - 3s 9ms/step - loss: 0.2551 - accuracy: 0.9081 - val_loss: 0.3177 - val_accuracy: 0.8734\n",
      "Epoch 8/10\n",
      "391/391 [==============================] - 3s 9ms/step - loss: 0.2263 - accuracy: 0.9176 - val_loss: 0.3067 - val_accuracy: 0.8782\n",
      "Epoch 9/10\n",
      "391/391 [==============================] - 3s 9ms/step - loss: 0.2057 - accuracy: 0.9253 - val_loss: 0.3054 - val_accuracy: 0.8809\n",
      "Epoch 10/10\n",
      "391/391 [==============================] - 3s 9ms/step - loss: 0.1892 - accuracy: 0.9326 - val_loss: 0.3426 - val_accuracy: 0.8593\n"
     ]
    }
   ],
=======
   "outputs": [],
>>>>>>> 34e6b21abfc5b069204bb7f9f57f96b96d215fc6
=======
   "outputs": [],
>>>>>>> origin/main
   "source": [
    "num_epochs = 10\n",
    "\n",
    "model.compile(loss='binary_crossentropy',optimizer='adam',metrics=['accuracy'])\n",
    "\n",
    "history = model.fit(train_dataset, epochs=num_epochs, validation_data=test_dataset)"
   ]
  },
  {
   "cell_type": "code",
<<<<<<< HEAD
<<<<<<< HEAD
   "execution_count": 13,
=======
   "execution_count": 0,
>>>>>>> 34e6b21abfc5b069204bb7f9f57f96b96d215fc6
=======
   "execution_count": 0,
>>>>>>> origin/main
   "metadata": {
    "colab": {},
    "colab_type": "code",
    "id": "-_rMnm7WxQGT"
   },
<<<<<<< HEAD
<<<<<<< HEAD
   "outputs": [
    {
     "data": {
      "image/png": "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",
      "text/plain": [
       "<Figure size 432x288 with 1 Axes>"
      ]
     },
     "metadata": {
      "needs_background": "light"
     },
     "output_type": "display_data"
    },
    {
     "data": {
      "image/png": "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",
      "text/plain": [
       "<Figure size 432x288 with 1 Axes>"
      ]
     },
     "metadata": {
      "needs_background": "light"
     },
     "output_type": "display_data"
    }
   ],
=======
   "outputs": [],
>>>>>>> 34e6b21abfc5b069204bb7f9f57f96b96d215fc6
=======
   "outputs": [],
>>>>>>> origin/main
   "source": [
    "import matplotlib.pyplot as plt\n",
    "\n",
    "\n",
    "def plot_graphs(history, string):\n",
    "  plt.plot(history.history[string])\n",
    "  plt.plot(history.history['val_'+string])\n",
    "  plt.xlabel(\"Epochs\")\n",
    "  plt.ylabel(string)\n",
    "  plt.legend([string, 'val_'+string])\n",
    "  plt.show()\n",
    "  \n",
    "plot_graphs(history, \"accuracy\")\n",
    "plot_graphs(history, \"loss\")"
   ]
  },
  {
   "cell_type": "code",
<<<<<<< HEAD
<<<<<<< HEAD
   "execution_count": 14,
=======
   "execution_count": 0,
>>>>>>> 34e6b21abfc5b069204bb7f9f57f96b96d215fc6
=======
   "execution_count": 0,
>>>>>>> origin/main
   "metadata": {
    "colab": {},
    "colab_type": "code",
    "id": "qACq5FLzTW4A"
   },
<<<<<<< HEAD
<<<<<<< HEAD
   "outputs": [
    {
     "name": "stdout",
     "output_type": "stream",
     "text": [
      "(8185, 64)\n"
     ]
    }
   ],
=======
   "outputs": [],
>>>>>>> 34e6b21abfc5b069204bb7f9f57f96b96d215fc6
=======
   "outputs": [],
>>>>>>> origin/main
   "source": [
    "e = model.layers[0]\n",
    "weights = e.get_weights()[0]\n",
    "print(weights.shape) # shape: (vocab_size, embedding_dim)\n",
    "\n",
    "import io\n",
    "\n",
    "out_v = io.open('vecs.tsv', 'w', encoding='utf-8')\n",
    "out_m = io.open('meta.tsv', 'w', encoding='utf-8')\n",
    "for word_num in range(1, tokenizer.vocab_size):\n",
    "  word = tokenizer.decode([word_num])\n",
    "  embeddings = weights[word_num]\n",
    "  out_m.write(word + \"\\n\")\n",
    "  out_v.write('\\t'.join([str(x) for x in embeddings]) + \"\\n\")\n",
    "out_v.close()\n",
    "out_m.close()\n",
    "\n",
    "\n",
    "try:\n",
    "  from google.colab import files\n",
    "except ImportError:\n",
    "  pass\n",
    "else:\n",
    "  files.download('vecs.tsv')\n",
    "  files.download('meta.tsv')"
   ]
  }
 ],
 "metadata": {
  "accelerator": "GPU",
  "colab": {
   "collapsed_sections": [],
   "name": "Course 3 - Week 2 - Lesson 3.ipynb",
   "provenance": [],
   "toc_visible": true,
   "version": "0.3.2"
  },
  "kernelspec": {
<<<<<<< HEAD
<<<<<<< HEAD
   "display_name": "Python 3.8.10 64-bit",
=======
   "display_name": "Python 3",
>>>>>>> 34e6b21abfc5b069204bb7f9f57f96b96d215fc6
=======
   "display_name": "Python 3",
>>>>>>> origin/main
   "language": "python",
   "name": "python3"
  },
  "language_info": {
   "codemirror_mode": {
    "name": "ipython",
    "version": 3
   },
   "file_extension": ".py",
   "mimetype": "text/x-python",
   "name": "python",
   "nbconvert_exporter": "python",
   "pygments_lexer": "ipython3",
<<<<<<< HEAD
<<<<<<< HEAD
   "version": "3.8.10"
  },
  "vscode": {
   "interpreter": {
    "hash": "c506d1f39c0ed203b21fe551da708c189199b4eb24b97c88a7b4d83b7442f034"
   }
=======
   "version": "3.7.6"
>>>>>>> 34e6b21abfc5b069204bb7f9f57f96b96d215fc6
=======
   "version": "3.7.6"
>>>>>>> origin/main
  }
 },
 "nbformat": 4,
 "nbformat_minor": 1
}
