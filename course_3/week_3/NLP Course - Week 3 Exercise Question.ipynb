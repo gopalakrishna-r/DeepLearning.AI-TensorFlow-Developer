{
  "cells": [
    {
      "cell_type": "code",
      "execution_count": 14,
      "metadata": {
        "colab": {},
        "colab_type": "code",
        "id": "zX4Kg8DUTKWO"
      },
      "outputs": [],
      "source": [
        "#@title Licensed under the Apache License, Version 2.0 (the \"License\");\n",
        "# you may not use this file except in compliance with the License.\n",
        "# You may obtain a copy of the License at\n",
        "#\n",
        "# https://www.apache.org/licenses/LICENSE-2.0\n",
        "#\n",
        "# Unless required by applicable law or agreed to in writing, software\n",
        "# distributed under the License is distributed on an \"AS IS\" BASIS,\n",
        "# WITHOUT WARRANTIES OR CONDITIONS OF ANY KIND, either express or implied.\n",
        "# See the License for the specific language governing permissions and\n",
        "# limitations under the License."
      ]
    },
    {
      "cell_type": "code",
      "execution_count": 15,
      "metadata": {
        "colab": {},
        "colab_type": "code",
        "id": "hmA6EzkQJ5jt"
      },
      "outputs": [],
      "source": [
        "import json\r\n",
        "import tensorflow as tf\r\n",
        "import csv\r\n",
        "import requests\r\n",
        "import random\r\n",
        "import numpy as np\r\n",
        "\r\n",
        "from tensorflow.keras.preprocessing.text import Tokenizer\r\n",
        "from tensorflow.keras.preprocessing.sequence import pad_sequences\r\n",
        "from tensorflow.keras.utils import to_categorical\r\n",
        "from tensorflow.keras import regularizers\r\n",
        "from urllib.request import urlopen\r\n",
        "\r\n",
        "\r\n",
        "embedding_dim = 100\r\n",
        "max_length = 16\r\n",
        "trunc_type='post'\r\n",
        "padding_type='post'\r\n",
        "oov_tok = \"<OOV>\"\r\n",
        "training_size= 160000#Your dataset size here. Experiment using smaller values (i.e. 16000), but don't forget to train on at least 160000 to see the best effects\r\n",
        "test_portion=.1\r\n",
        "\r\n",
        "corpus = []\r\n"
      ]
    },
    {
      "cell_type": "code",
      "execution_count": 16,
      "metadata": {},
      "outputs": [],
      "source": [
        "num_sentences = 0\r\n",
        "\r\n",
        "with open(r\"D:\\codebase\\coursera\\dlaicourse\\TensorFlow In Practice\\Course 3 - NLP\\training_cleaned.csv\" , encoding=\"utf8\") as csvfile:\r\n",
        "    reader = csv.reader(csvfile, delimiter=',')\r\n",
        "    for row in reader:\r\n",
        "      # Your Code here. Create list items where the first item is the text, found in row[5], and the second is the label. Note that the label is a '0' or a '4' in the text. When it's the former, make\r\n",
        "      # your label to be 0, otherwise 1. Keep a count of the number of sentences in num_sentences\r\n",
        "        list_item = []\r\n",
        "        list_item.append(row[5])\r\n",
        "        this_label=row[0]\r\n",
        "        if this_label=='0':\r\n",
        "            list_item.append(0)\r\n",
        "        else:\r\n",
        "            list_item.append(1)\r\n",
        "        num_sentences = num_sentences + 1\r\n",
        "        corpus.append(list_item)"
      ]
    },
    {
      "cell_type": "code",
      "execution_count": 17,
      "metadata": {
        "colab": {
          "base_uri": "https://localhost:8080/",
          "height": 68
        },
        "colab_type": "code",
        "id": "3kxblBUjEUX-",
        "outputId": "3c0227a2-e74b-4d9b-cabb-f9ee150571b1"
      },
      "outputs": [
        {
          "name": "stdout",
          "output_type": "stream",
          "text": [
            "1600000\n",
            "1600000\n",
            "[\"is upset that he can't update his Facebook by texting it... and might cry as a result  School today also. Blah!\", 0]\n"
          ]
        }
      ],
      "source": [
        "print(num_sentences)\n",
        "print(len(corpus))\n",
        "print(corpus[1])\n",
        "\n",
        "# Expected Output:\n",
        "# 1600000\n",
        "# 1600000\n",
        "# [\"is upset that he can't update his Facebook by texting it... and might cry as a result  School today also. Blah!\", 0]"
      ]
    },
    {
      "cell_type": "code",
      "execution_count": 18,
      "metadata": {
        "colab": {},
        "colab_type": "code",
        "id": "ohOGz24lsNAD"
      },
      "outputs": [],
      "source": [
        "sentences=[]\r\n",
        "labels=[]\r\n",
        "random.shuffle(corpus)\r\n",
        "for x in range(training_size):\r\n",
        "    sentences.append(corpus[x][0])\r\n",
        "    labels.append(corpus[x][1])\r\n",
        "\r\n",
        "\r\n",
        "tokenizer = Tokenizer( )\r\n",
        "tokenizer.fit_on_texts(sentences)\r\n",
        "\r\n",
        "word_index = tokenizer.word_index\r\n",
        "vocab_size=len(word_index)\r\n",
        "\r\n",
        "sequences = tokenizer.texts_to_sequences(sentences)\r\n",
        "padded = pad_sequences(sequences, maxlen=max_length, padding=padding_type, truncating=trunc_type)\r\n",
        "\r\n",
        "split = int(test_portion * training_size)\r\n",
        "\r\n",
        "test_sequences = padded[:split]\r\n",
        "training_sequences = padded[split:training_size]\r\n",
        "test_labels = labels[:split]\r\n",
        "training_labels = labels[split:training_size]"
      ]
    },
    {
      "cell_type": "code",
      "execution_count": 19,
      "metadata": {
        "colab": {
          "base_uri": "https://localhost:8080/",
          "height": 51
        },
        "colab_type": "code",
        "id": "gIrtRem1En3N",
        "outputId": "4ad8401c-8dba-420d-8aee-38dac0b0839a"
      },
      "outputs": [
        {
          "name": "stdout",
          "output_type": "stream",
          "text": [
            "138626\n",
            "1\n"
          ]
        }
      ],
      "source": [
        "print(vocab_size)\n",
        "print(word_index['i'])\n",
        "# Expected Output\n",
        "# 138858\n",
        "# 1"
      ]
    },
    {
      "cell_type": "code",
      "execution_count": 20,
      "metadata": {
        "colab": {
          "base_uri": "https://localhost:8080/",
          "height": 204
        },
        "colab_type": "code",
        "id": "C1zdgJkusRh0",
        "outputId": "b6edd322-8191-45e7-cb12-08921685a72f"
      },
      "outputs": [],
      "source": [
        "# Note this is the 100 dimension version of GloVe from Stanford\r\n",
        "# I unzipped and hosted it on my site to make this notebook easier\r\n",
        "\r\n",
        "TXT_URL = 'https://storage.googleapis.com/laurencemoroney-blog.appspot.com/glove.6B.100d.txt'\r\n",
        "\r\n",
        "\r\n",
        "embeddings_index = {}\r\n",
        "with open(r'D:\\codebase\\coursera\\dlaicourse\\TensorFlow In Practice\\Course 3 - NLP\\glove.6B.100d.txt',encoding=\"utf8\") as f:\r\n",
        "    for line in f:\r\n",
        "        values = line.split()\r\n",
        "        word = values[0]\r\n",
        "        coefs = np.asarray(values[1:], dtype='float32')\r\n",
        "        embeddings_index[word] = coefs\r\n",
        "\r\n",
        "embeddings_matrix = np.zeros((vocab_size+1, embedding_dim))\r\n",
        "for word, i in word_index.items():\r\n",
        "    embedding_vector = embeddings_index.get(word)\r\n",
        "    if embedding_vector is not None:\r\n",
        "        embeddings_matrix[i] = embedding_vector"
      ]
    },
    {
      "cell_type": "code",
      "execution_count": null,
      "metadata": {},
      "outputs": [],
      "source": []
    },
    {
      "cell_type": "code",
      "execution_count": 21,
      "metadata": {
        "colab": {
          "base_uri": "https://localhost:8080/",
          "height": 34
        },
        "colab_type": "code",
        "id": "71NLk_lpFLNt",
        "outputId": "97cb88db-754f-4375-fdc3-876cd6b4fdce"
      },
      "outputs": [
        {
          "name": "stdout",
          "output_type": "stream",
          "text": [
            "138627\n"
          ]
        }
      ],
      "source": [
        "print(len(embeddings_matrix))\n",
        "# Expected Output\n",
        "# 138859"
      ]
    },
    {
      "cell_type": "code",
      "execution_count": 22,
      "metadata": {
        "colab": {},
        "colab_type": "code",
        "id": "iKKvbuEBOGFz"
      },
      "outputs": [
        {
          "name": "stdout",
          "output_type": "stream",
          "text": [
            "Model: \"sequential_2\"\n",
            "_________________________________________________________________\n",
            "Layer (type)                 Output Shape              Param #   \n",
            "=================================================================\n",
            "embedding_2 (Embedding)      (None, 16, 100)           13862700  \n",
            "_________________________________________________________________\n",
            "dropout_1 (Dropout)          (None, 16, 100)           0         \n",
            "_________________________________________________________________\n",
            "conv1d_2 (Conv1D)            (None, 12, 64)            32064     \n",
            "_________________________________________________________________\n",
            "max_pooling1d_2 (MaxPooling1 (None, 3, 64)             0         \n",
            "_________________________________________________________________\n",
            "lstm_2 (LSTM)                (None, 64)                33024     \n",
            "_________________________________________________________________\n",
            "dense_2 (Dense)              (None, 1)                 65        \n",
            "=================================================================\n",
            "Total params: 13,927,853\n",
            "Trainable params: 65,153\n",
            "Non-trainable params: 13,862,700\n",
            "_________________________________________________________________\n"
          ]
        }
      ],
      "source": [
        "model = tf.keras.Sequential([\r\n",
        "    tf.keras.layers.Embedding(vocab_size+1, embedding_dim, input_length=max_length, weights=[embeddings_matrix], trainable=False),\r\n",
        "    tf.keras.layers.Dropout(0.2),\r\n",
        "    tf.keras.layers.Conv1D(64, 5, activation = 'relu'),\r\n",
        "    tf.keras.layers.MaxPooling1D(pool_size=4),\r\n",
        "    tf.keras.layers.LSTM(64),\r\n",
        "    tf.keras.layers.Dense(1, activation='sigmoid')# YOUR CODE HERE - experiment with combining different types, such as convolutions and LSTMs\r\n",
        "])\r\n",
        "\r\n",
        "model.compile(loss = 'binary_crossentropy', optimizer='adam', metrics=['accuracy'])\r\n",
        "model.summary()\r\n",
        "\r\n"
      ]
    },
    {
      "cell_type": "code",
      "execution_count": 24,
      "metadata": {},
      "outputs": [
        {
          "name": "stdout",
          "output_type": "stream",
          "text": [
            "Epoch 1/50\n",
            "4500/4500 - 12s - loss: 0.5281 - accuracy: 0.7318 - val_loss: 0.5082 - val_accuracy: 0.7471\n",
            "Epoch 2/50\n",
            "4500/4500 - 12s - loss: 0.5104 - accuracy: 0.7441 - val_loss: 0.5009 - val_accuracy: 0.7554\n",
            "Epoch 3/50\n",
            "4500/4500 - 12s - loss: 0.5001 - accuracy: 0.7505 - val_loss: 0.5006 - val_accuracy: 0.7541\n",
            "Epoch 4/50\n",
            "4500/4500 - 12s - loss: 0.4911 - accuracy: 0.7571 - val_loss: 0.4979 - val_accuracy: 0.7541\n",
            "Epoch 5/50\n",
            "4500/4500 - 12s - loss: 0.4840 - accuracy: 0.7610 - val_loss: 0.5012 - val_accuracy: 0.7556\n",
            "Epoch 6/50\n",
            "4500/4500 - 12s - loss: 0.4779 - accuracy: 0.7652 - val_loss: 0.4960 - val_accuracy: 0.7544\n",
            "Epoch 7/50\n",
            "4500/4500 - 12s - loss: 0.4719 - accuracy: 0.7693 - val_loss: 0.5043 - val_accuracy: 0.7550\n",
            "Epoch 8/50\n",
            "4500/4500 - 12s - loss: 0.4679 - accuracy: 0.7709 - val_loss: 0.4927 - val_accuracy: 0.7581\n",
            "Epoch 9/50\n",
            "4500/4500 - 12s - loss: 0.4634 - accuracy: 0.7742 - val_loss: 0.4989 - val_accuracy: 0.7582\n",
            "Epoch 10/50\n",
            "4500/4500 - 12s - loss: 0.4612 - accuracy: 0.7758 - val_loss: 0.4940 - val_accuracy: 0.7569\n",
            "Epoch 11/50\n",
            "4500/4500 - 12s - loss: 0.4582 - accuracy: 0.7772 - val_loss: 0.4971 - val_accuracy: 0.7526\n",
            "Epoch 12/50\n",
            "4500/4500 - 13s - loss: 0.4554 - accuracy: 0.7801 - val_loss: 0.4988 - val_accuracy: 0.7542\n",
            "Epoch 13/50\n",
            "4500/4500 - 12s - loss: 0.4520 - accuracy: 0.7814 - val_loss: 0.5070 - val_accuracy: 0.7581\n",
            "Epoch 14/50\n",
            "4500/4500 - 12s - loss: 0.4503 - accuracy: 0.7830 - val_loss: 0.5050 - val_accuracy: 0.7523\n",
            "Epoch 15/50\n",
            "4500/4500 - 12s - loss: 0.4487 - accuracy: 0.7835 - val_loss: 0.5026 - val_accuracy: 0.7558\n",
            "Epoch 16/50\n",
            "4500/4500 - 12s - loss: 0.4483 - accuracy: 0.7844 - val_loss: 0.5021 - val_accuracy: 0.7558\n",
            "Epoch 17/50\n",
            "4500/4500 - 12s - loss: 0.4456 - accuracy: 0.7862 - val_loss: 0.5005 - val_accuracy: 0.7531\n",
            "Epoch 18/50\n",
            "4500/4500 - 12s - loss: 0.4442 - accuracy: 0.7855 - val_loss: 0.5116 - val_accuracy: 0.7498\n",
            "Epoch 19/50\n",
            "4500/4500 - 12s - loss: 0.4419 - accuracy: 0.7884 - val_loss: 0.5071 - val_accuracy: 0.7556\n",
            "Epoch 20/50\n",
            "4500/4500 - 12s - loss: 0.4413 - accuracy: 0.7897 - val_loss: 0.5025 - val_accuracy: 0.7531\n",
            "Epoch 21/50\n",
            "4500/4500 - 12s - loss: 0.4404 - accuracy: 0.7881 - val_loss: 0.5048 - val_accuracy: 0.7541\n",
            "Epoch 22/50\n",
            "4500/4500 - 12s - loss: 0.4394 - accuracy: 0.7893 - val_loss: 0.5082 - val_accuracy: 0.7536\n",
            "Epoch 23/50\n",
            "4500/4500 - 12s - loss: 0.4378 - accuracy: 0.7905 - val_loss: 0.5078 - val_accuracy: 0.7541\n",
            "Epoch 24/50\n",
            "4500/4500 - 12s - loss: 0.4369 - accuracy: 0.7908 - val_loss: 0.5054 - val_accuracy: 0.7528\n",
            "Epoch 25/50\n",
            "4500/4500 - 12s - loss: 0.4372 - accuracy: 0.7909 - val_loss: 0.5053 - val_accuracy: 0.7559\n",
            "Epoch 26/50\n",
            "4500/4500 - 12s - loss: 0.4368 - accuracy: 0.7911 - val_loss: 0.5039 - val_accuracy: 0.7554\n",
            "Epoch 27/50\n",
            "4500/4500 - 12s - loss: 0.4345 - accuracy: 0.7925 - val_loss: 0.5067 - val_accuracy: 0.7548\n",
            "Epoch 28/50\n",
            "4500/4500 - 12s - loss: 0.4335 - accuracy: 0.7933 - val_loss: 0.5088 - val_accuracy: 0.7487\n",
            "Epoch 29/50\n",
            "4500/4500 - 12s - loss: 0.4341 - accuracy: 0.7915 - val_loss: 0.5116 - val_accuracy: 0.7557\n",
            "Epoch 30/50\n",
            "4500/4500 - 12s - loss: 0.4320 - accuracy: 0.7925 - val_loss: 0.5085 - val_accuracy: 0.7525\n",
            "Epoch 31/50\n",
            "4500/4500 - 12s - loss: 0.4336 - accuracy: 0.7930 - val_loss: 0.5070 - val_accuracy: 0.7521\n",
            "Epoch 32/50\n",
            "4500/4500 - 12s - loss: 0.4322 - accuracy: 0.7928 - val_loss: 0.5133 - val_accuracy: 0.7552\n",
            "Epoch 33/50\n",
            "4500/4500 - 12s - loss: 0.4318 - accuracy: 0.7954 - val_loss: 0.5144 - val_accuracy: 0.7522\n",
            "Epoch 34/50\n",
            "4500/4500 - 12s - loss: 0.4310 - accuracy: 0.7955 - val_loss: 0.5045 - val_accuracy: 0.7547\n",
            "Epoch 35/50\n",
            "4500/4500 - 12s - loss: 0.4319 - accuracy: 0.7930 - val_loss: 0.5107 - val_accuracy: 0.7505\n",
            "Epoch 36/50\n",
            "4500/4500 - 12s - loss: 0.4305 - accuracy: 0.7941 - val_loss: 0.5097 - val_accuracy: 0.7517\n",
            "Epoch 37/50\n",
            "4500/4500 - 12s - loss: 0.4302 - accuracy: 0.7948 - val_loss: 0.5119 - val_accuracy: 0.7526\n",
            "Epoch 38/50\n",
            "4500/4500 - 12s - loss: 0.4286 - accuracy: 0.7971 - val_loss: 0.5156 - val_accuracy: 0.7547\n",
            "Epoch 39/50\n",
            "4500/4500 - 12s - loss: 0.4281 - accuracy: 0.7971 - val_loss: 0.5172 - val_accuracy: 0.7506\n",
            "Epoch 40/50\n",
            "4500/4500 - 11s - loss: 0.4289 - accuracy: 0.7971 - val_loss: 0.5099 - val_accuracy: 0.7546\n",
            "Epoch 41/50\n",
            "4500/4500 - 11s - loss: 0.4287 - accuracy: 0.7956 - val_loss: 0.5208 - val_accuracy: 0.7567\n",
            "Epoch 42/50\n",
            "4500/4500 - 12s - loss: 0.4281 - accuracy: 0.7959 - val_loss: 0.5119 - val_accuracy: 0.7514\n",
            "Epoch 43/50\n",
            "4500/4500 - 11s - loss: 0.4296 - accuracy: 0.7949 - val_loss: 0.5179 - val_accuracy: 0.7527\n",
            "Epoch 44/50\n",
            "4500/4500 - 12s - loss: 0.4272 - accuracy: 0.7975 - val_loss: 0.5125 - val_accuracy: 0.7529\n",
            "Epoch 45/50\n",
            "4500/4500 - 12s - loss: 0.4277 - accuracy: 0.7965 - val_loss: 0.5175 - val_accuracy: 0.7552\n",
            "Epoch 46/50\n",
            "4500/4500 - 11s - loss: 0.4271 - accuracy: 0.7962 - val_loss: 0.5142 - val_accuracy: 0.7559\n",
            "Epoch 47/50\n",
            "4500/4500 - 11s - loss: 0.4267 - accuracy: 0.7963 - val_loss: 0.5209 - val_accuracy: 0.7482\n",
            "Epoch 48/50\n",
            "4500/4500 - 12s - loss: 0.4269 - accuracy: 0.7968 - val_loss: 0.5178 - val_accuracy: 0.7500\n",
            "Epoch 49/50\n",
            "4500/4500 - 11s - loss: 0.4267 - accuracy: 0.7983 - val_loss: 0.5138 - val_accuracy: 0.7507\n",
            "Epoch 50/50\n",
            "4500/4500 - 12s - loss: 0.4265 - accuracy: 0.7974 - val_loss: 0.5160 - val_accuracy: 0.7556\n",
            "Training Complete\n"
          ]
        }
      ],
      "source": [
        "num_epochs = 50\r\n",
        "\r\n",
        "training_padded = np.array(training_sequences)\r\n",
        "training_labels = np.array(training_labels)\r\n",
        "testing_padded = np.array(test_sequences)\r\n",
        "testing_labels = np.array(test_labels)\r\n",
        "\r\n",
        "history = model.fit(training_padded, training_labels, epochs=num_epochs, validation_data=(testing_padded, testing_labels), verbose=2)\r\n",
        "\r\n",
        "print(\"Training Complete\")\r\n"
      ]
    },
    {
      "cell_type": "code",
      "execution_count": 25,
      "metadata": {
        "colab": {},
        "colab_type": "code",
        "id": "qxju4ItJKO8F"
      },
      "outputs": [
        {
          "data": {
            "text/plain": [
              "<Figure size 432x288 with 0 Axes>"
            ]
          },
          "execution_count": 25,
          "metadata": {},
          "output_type": "execute_result"
        },
        {
          "data": {
            "image/png": "[encoded data removed]",
            "text/plain": [
              "<Figure size 432x288 with 1 Axes>"
            ]
          },
          "metadata": {
            "needs_background": "light"
          },
          "output_type": "display_data"
        },
        {
          "data": {
            "image/png": "[encoded data removed]",
            "text/plain": [
              "<Figure size 432x288 with 1 Axes>"
            ]
          },
          "metadata": {
            "needs_background": "light"
          },
          "output_type": "display_data"
        },
        {
          "data": {
            "text/plain": [
              "<Figure size 432x288 with 0 Axes>"
            ]
          },
          "metadata": {},
          "output_type": "display_data"
        }
      ],
      "source": [
        "import matplotlib.image  as mpimg\n",
        "import matplotlib.pyplot as plt\n",
        "\n",
        "#-----------------------------------------------------------\n",
        "# Retrieve a list of list results on training and test data\n",
        "# sets for each training epoch\n",
        "#-----------------------------------------------------------\n",
        "acc=history.history['accuracy']\n",
        "val_acc=history.history['val_accuracy']\n",
        "loss=history.history['loss']\n",
        "val_loss=history.history['val_loss']\n",
        "\n",
        "epochs=range(len(acc)) # Get number of epochs\n",
        "\n",
        "#------------------------------------------------\n",
        "# Plot training and validation accuracy per epoch\n",
        "#------------------------------------------------\n",
        "plt.plot(epochs, acc, 'r')\n",
        "plt.plot(epochs, val_acc, 'b')\n",
        "plt.title('Training and validation accuracy')\n",
        "plt.xlabel(\"Epochs\")\n",
        "plt.ylabel(\"Accuracy\")\n",
        "plt.legend([\"Accuracy\", \"Validation Accuracy\"])\n",
        "\n",
        "plt.figure()\n",
        "\n",
        "#------------------------------------------------\n",
        "# Plot training and validation loss per epoch\n",
        "#------------------------------------------------\n",
        "plt.plot(epochs, loss, 'r')\n",
        "plt.plot(epochs, val_loss, 'b')\n",
        "plt.title('Training and validation loss')\n",
        "plt.xlabel(\"Epochs\")\n",
        "plt.ylabel(\"Loss\")\n",
        "plt.legend([\"Loss\", \"Validation Loss\"])\n",
        "\n",
        "plt.figure()\n",
        "\n",
        "\n",
        "# Expected Output\n",
        "# A chart where the validation loss does not increase sharply!"
      ]
    }
  ],
  "metadata": {
    "accelerator": "GPU",
    "colab": {
      "name": "NLP Course - Week 3 Exercise Question.ipynb",
      "provenance": [],
      "toc_visible": true,
      "version": "0.3.2"
    },
    "kernelspec": {
      "display_name": "Python 3",
      "language": "python",
      "name": "python3"
    },
    "language_info": {
      "codemirror_mode": {
        "name": "ipython",
        "version": 3
      },
      "file_extension": ".py",
      "mimetype": "text/x-python",
      "name": "python",
      "nbconvert_exporter": "python",
      "pygments_lexer": "ipython3",
      "version": "3.7.9"
    }
  },
  "nbformat": 4,
  "nbformat_minor": 0
}