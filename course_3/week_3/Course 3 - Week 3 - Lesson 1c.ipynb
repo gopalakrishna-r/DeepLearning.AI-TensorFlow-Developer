{
  "cells": [
    {
      "cell_type": "code",
      "execution_count": 15,
      "metadata": {
        "colab": {},
        "colab_type": "code",
        "id": "zX4Kg8DUTKWO"
      },
      "outputs": [],
      "source": [
        "#@title Licensed under the Apache License, Version 2.0 (the \"License\");\n",
        "# you may not use this file except in compliance with the License.\n",
        "# You may obtain a copy of the License at\n",
        "#\n",
        "# https://www.apache.org/licenses/LICENSE-2.0\n",
        "#\n",
        "# Unless required by applicable law or agreed to in writing, software\n",
        "# distributed under the License is distributed on an \"AS IS\" BASIS,\n",
        "# WITHOUT WARRANTIES OR CONDITIONS OF ANY KIND, either express or implied.\n",
        "# See the License for the specific language governing permissions and\n",
        "# limitations under the License."
      ]
    },
    {
      "cell_type": "markdown",
      "metadata": {
        "colab_type": "text",
        "id": "rFiCyWQ-NC5D"
      },
      "source": [
        "# Multiple Layer GRU"
      ]
    },
    {
      "cell_type": "code",
      "execution_count": 16,
      "metadata": {
        "colab": {},
        "colab_type": "code",
        "id": "Y20Lud2ZMBhW"
      },
      "outputs": [
        {
          "name": "stdout",
          "output_type": "stream",
          "text": [
            "2.2.0\n"
          ]
        }
      ],
      "source": [
        "from __future__ import absolute_import, division, print_function, unicode_literals\n",
        "\n",
        "\n",
        "import tensorflow_datasets as tfds\n",
        "import tensorflow as tf\n",
        "print(tf.__version__)"
      ]
    },
    {
      "cell_type": "code",
      "execution_count": 17,
      "metadata": {
        "colab": {},
        "colab_type": "code",
        "id": "uAU8g7C0MPZE"
      },
      "outputs": [
        {
          "name": "stdout",
          "output_type": "stream",
          "text": [
            "2.2.0\n"
          ]
        }
      ],
      "source": [
        "import tensorflow_datasets as tfds\n",
        "import tensorflow as tf\n",
        "print(tf.__version__)"
      ]
    },
    {
      "cell_type": "code",
      "execution_count": 18,
      "metadata": {
        "colab": {},
        "colab_type": "code",
        "id": "AW-4Vo4TMUHb"
      },
      "outputs": [
        {
          "name": "stderr",
          "output_type": "stream",
          "text": [
            "WARNING:absl:TFDS datasets with text encoding are deprecated and will be removed in a future version. Instead, you should use the plain text version and tokenize the text using `tensorflow_text` (See: https://www.tensorflow.org/tutorials/tensorflow_text/intro#tfdata_example)\n"
          ]
        }
      ],
      "source": [
        "# Get the data\n",
        "dataset, info = tfds.load('imdb_reviews/subwords8k', with_info=True, as_supervised=True)\n",
        "train_dataset, test_dataset = dataset['train'], dataset['test']\n"
      ]
    },
    {
      "cell_type": "code",
      "execution_count": 19,
      "metadata": {
        "colab": {},
        "colab_type": "code",
        "id": "L11bIR6-PKvs"
      },
      "outputs": [],
      "source": [
        "tokenizer = info.features['text'].encoder"
      ]
    },
    {
      "cell_type": "code",
      "execution_count": 21,
      "metadata": {
        "colab": {},
        "colab_type": "code",
        "id": "ffvRUI0_McDS"
      },
      "outputs": [],
      "source": [
<<<<<<< HEAD
        "BUFFER_SIZE = 10000\n",
        "BATCH_SIZE = 64\n",
        "\n",
        "train_dataset = train_dataset.shuffle(BUFFER_SIZE)\n",
        "train_dataset = train_dataset.padded_batch(BATCH_SIZE, tf.compat.v1.data.get_output_shapes(train_dataset))\n",
=======
        "BUFFER_SIZE = 10000\r\n",
        "BATCH_SIZE = 64\r\n",
        "\r\n",
        "train_dataset = train_dataset.shuffle(BUFFER_SIZE)\r\n",
        "train_dataset = train_dataset.padded_batch(BATCH_SIZE, tf.compat.v1.data.get_output_shapes(train_dataset))\r\n",
>>>>>>> 34e6b21abfc5b069204bb7f9f57f96b96d215fc6
        "test_dataset = test_dataset.padded_batch(BATCH_SIZE, tf.compat.v1.data.get_output_shapes(test_dataset))"
      ]
    },
    {
      "cell_type": "code",
      "execution_count": 22,
      "metadata": {
        "colab": {},
        "colab_type": "code",
        "id": "jo1jjO3vn0jo"
      },
      "outputs": [],
      "source": [
        "model = tf.keras.Sequential([\n",
        "    tf.keras.layers.Embedding(tokenizer.vocab_size, 64),\n",
        "    tf.keras.layers.Conv1D(128, 5, activation='relu'),\n",
        "    tf.keras.layers.GlobalAveragePooling1D(),\n",
        "    tf.keras.layers.Dense(64, activation='relu'),\n",
        "    tf.keras.layers.Dense(1, activation='sigmoid')\n",
        "])"
      ]
    },
    {
      "cell_type": "code",
      "execution_count": 23,
      "metadata": {
        "colab": {},
        "colab_type": "code",
        "id": "QKI5dfPgMioL"
      },
      "outputs": [
        {
          "name": "stdout",
          "output_type": "stream",
          "text": [
            "Model: \"sequential_1\"\n",
            "_________________________________________________________________\n",
            "Layer (type)                 Output Shape              Param #   \n",
            "=================================================================\n",
            "embedding_1 (Embedding)      (None, None, 64)          523840    \n",
            "_________________________________________________________________\n",
            "conv1d (Conv1D)              (None, None, 128)         41088     \n",
            "_________________________________________________________________\n",
            "global_average_pooling1d (Gl (None, 128)               0         \n",
            "_________________________________________________________________\n",
            "dense_2 (Dense)              (None, 64)                8256      \n",
            "_________________________________________________________________\n",
            "dense_3 (Dense)              (None, 1)                 65        \n",
            "=================================================================\n",
            "Total params: 573,249\n",
            "Trainable params: 573,249\n",
            "Non-trainable params: 0\n",
            "_________________________________________________________________\n"
          ]
        }
      ],
      "source": [
        "model.summary()"
      ]
    },
    {
      "cell_type": "code",
      "execution_count": 24,
      "metadata": {
        "colab": {},
        "colab_type": "code",
        "id": "Uip7QOVzMoMq"
      },
      "outputs": [],
      "source": [
        "model.compile(loss='binary_crossentropy', optimizer='adam', metrics=['accuracy'])"
      ]
    },
    {
      "cell_type": "code",
      "execution_count": 25,
      "metadata": {
        "colab": {},
        "colab_type": "code",
        "id": "7mlgzaRDMtF6"
      },
      "outputs": [
        {
          "name": "stdout",
          "output_type": "stream",
          "text": [
            "Epoch 1/10\n",
            "391/391 [==============================] - 19s 48ms/step - loss: 0.4603 - accuracy: 0.7770 - val_loss: 0.3153 - val_accuracy: 0.8790\n",
            "Epoch 2/10\n",
            "391/391 [==============================] - 12s 30ms/step - loss: 0.2296 - accuracy: 0.9148 - val_loss: 0.3367 - val_accuracy: 0.8727\n",
            "Epoch 3/10\n",
            "391/391 [==============================] - 11s 27ms/step - loss: 0.1730 - accuracy: 0.9359 - val_loss: 0.3352 - val_accuracy: 0.8771\n",
            "Epoch 4/10\n",
            "391/391 [==============================] - 10s 26ms/step - loss: 0.1370 - accuracy: 0.9513 - val_loss: 0.3768 - val_accuracy: 0.8693\n",
            "Epoch 5/10\n",
            "391/391 [==============================] - 10s 26ms/step - loss: 0.1124 - accuracy: 0.9604 - val_loss: 0.4089 - val_accuracy: 0.8678\n",
            "Epoch 6/10\n",
            "391/391 [==============================] - 10s 25ms/step - loss: 0.0878 - accuracy: 0.9687 - val_loss: 0.4713 - val_accuracy: 0.8619\n",
            "Epoch 7/10\n",
            "391/391 [==============================] - 10s 26ms/step - loss: 0.0752 - accuracy: 0.9744 - val_loss: 0.5907 - val_accuracy: 0.8579\n",
            "Epoch 8/10\n",
            "391/391 [==============================] - 10s 25ms/step - loss: 0.0555 - accuracy: 0.9818 - val_loss: 0.6311 - val_accuracy: 0.8556\n",
            "Epoch 9/10\n",
            "391/391 [==============================] - 10s 25ms/step - loss: 0.0440 - accuracy: 0.9867 - val_loss: 0.7846 - val_accuracy: 0.8503\n",
            "Epoch 10/10\n",
            "391/391 [==============================] - 10s 24ms/step - loss: 0.0330 - accuracy: 0.9912 - val_loss: 0.8350 - val_accuracy: 0.8554\n"
          ]
        }
      ],
      "source": [
        "NUM_EPOCHS = 10\n",
        "history = model.fit(train_dataset, epochs=NUM_EPOCHS, validation_data=test_dataset)"
      ]
    },
    {
      "cell_type": "code",
      "execution_count": 26,
      "metadata": {
        "colab": {},
        "colab_type": "code",
        "id": "Mp1Z7P9pYRSK"
      },
      "outputs": [],
      "source": [
        "import matplotlib.pyplot as plt\n",
        "\n",
        "\n",
        "def plot_graphs(history, string):\n",
        "  plt.plot(history.history[string])\n",
        "  plt.plot(history.history['val_'+string])\n",
        "  plt.xlabel(\"Epochs\")\n",
        "  plt.ylabel(string)\n",
        "  plt.legend([string, 'val_'+string])\n",
        "  plt.show()"
      ]
    },
    {
      "cell_type": "code",
      "execution_count": 27,
      "metadata": {
        "colab": {},
        "colab_type": "code",
        "id": "R_sX6ilIM515"
      },
      "outputs": [
        {
          "data": {
            "image/png": "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",
            "text/plain": [
              "<Figure size 432x288 with 1 Axes>"
            ]
          },
          "metadata": {
            "needs_background": "light"
          },
          "output_type": "display_data"
        }
      ],
      "source": [
        "plot_graphs(history, 'accuracy')"
      ]
    },
    {
      "cell_type": "code",
      "execution_count": 28,
      "metadata": {
        "colab": {},
        "colab_type": "code",
        "id": "RFEXtKtqNARB"
      },
      "outputs": [
        {
          "data": {
            "image/png": "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",
            "text/plain": [
              "<Figure size 432x288 with 1 Axes>"
            ]
          },
          "metadata": {
            "needs_background": "light"
          },
          "output_type": "display_data"
        }
      ],
      "source": [
        "plot_graphs(history, 'loss')"
      ]
    }
  ],
  "metadata": {
    "accelerator": "GPU",
    "colab": {
      "collapsed_sections": [],
      "name": "Course 3 - Week 3 - Lesson 1c.ipynb",
      "provenance": [],
      "toc_visible": true,
      "version": "0.3.2"
    },
    "kernelspec": {
<<<<<<< HEAD
      "display_name": "Python 3.8.10 64-bit",
=======
      "display_name": "Python 3",
>>>>>>> 34e6b21abfc5b069204bb7f9f57f96b96d215fc6
      "language": "python",
      "name": "python3"
    },
    "language_info": {
      "codemirror_mode": {
        "name": "ipython",
        "version": 3
      },
      "file_extension": ".py",
      "mimetype": "text/x-python",
      "name": "python",
      "nbconvert_exporter": "python",
      "pygments_lexer": "ipython3",
<<<<<<< HEAD
      "version": "3.8.10"
    },
    "vscode": {
      "interpreter": {
        "hash": "c506d1f39c0ed203b21fe551da708c189199b4eb24b97c88a7b4d83b7442f034"
      }
=======
      "version": "3.7.9"
>>>>>>> 34e6b21abfc5b069204bb7f9f57f96b96d215fc6
    }
  },
  "nbformat": 4,
  "nbformat_minor": 0
<<<<<<< HEAD
}
=======
}
>>>>>>> 34e6b21abfc5b069204bb7f9f57f96b96d215fc6
