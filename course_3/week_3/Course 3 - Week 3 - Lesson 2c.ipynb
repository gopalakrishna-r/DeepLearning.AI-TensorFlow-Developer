{
 "cells": [
  {
   "cell_type": "code",
   "execution_count": 14,
   "metadata": {
    "colab": {},
    "colab_type": "code",
    "id": "zX4Kg8DUTKWO"
   },
   "outputs": [],
   "source": [
    "#@title Licensed under the Apache License, Version 2.0 (the \"License\");\n",
    "# you may not use this file except in compliance with the License.\n",
    "# You may obtain a copy of the License at\n",
    "#\n",
    "# https://www.apache.org/licenses/LICENSE-2.0\n",
    "#\n",
    "# Unless required by applicable law or agreed to in writing, software\n",
    "# distributed under the License is distributed on an \"AS IS\" BASIS,\n",
    "# WITHOUT WARRANTIES OR CONDITIONS OF ANY KIND, either express or implied.\n",
    "# See the License for the specific language governing permissions and\n",
    "# limitations under the License."
   ]
  },
  {
   "cell_type": "markdown",
   "metadata": {},
   "source": [
    "<a href=\"https://colab.research.google.com/github/lmoroney/dlaicourse/blob/master/TensorFlow%20In%20Practice/Course%203%20-%20NLP/Course%203%20-%20Week%203%20-%20Lesson%202c.ipynb\" target=\"_parent\"><img src=\"https://colab.research.google.com/assets/colab-badge.svg\" alt=\"Open In Colab\"/></a>"
   ]
  },
  {
   "cell_type": "code",
   "execution_count": 16,
   "metadata": {
    "colab": {},
    "colab_type": "code",
    "id": "jGwXGIXvFhXW"
   },
   "outputs": [
    {
     "name": "stdout",
     "output_type": "stream",
     "text": [
      "Model: \"sequential_2\"\n",
      "_________________________________________________________________\n",
      "Layer (type)                 Output Shape              Param #   \n",
      "=================================================================\n",
      "embedding_2 (Embedding)      (None, 120, 16)           16000     \n",
      "_________________________________________________________________\n",
      "conv1d (Conv1D)              (None, 116, 128)          10368     \n",
      "_________________________________________________________________\n",
      "global_max_pooling1d (Global (None, 128)               0         \n",
      "_________________________________________________________________\n",
      "dense_4 (Dense)              (None, 24)                3096      \n",
      "_________________________________________________________________\n",
      "dense_5 (Dense)              (None, 1)                 25        \n",
      "=================================================================\n",
      "Total params: 29,489\n",
      "Trainable params: 29,489\n",
      "Non-trainable params: 0\n",
      "_________________________________________________________________\n",
      "Epoch 1/50\n",
      "625/625 [==============================] - 2s 3ms/step - loss: 0.4732 - accuracy: 0.7553 - val_loss: 0.4049 - val_accuracy: 0.8192\n",
      "Epoch 2/50\n",
      "625/625 [==============================] - 2s 3ms/step - loss: 0.3578 - accuracy: 0.8388 - val_loss: 0.4081 - val_accuracy: 0.8168\n",
      "Epoch 3/50\n",
      "625/625 [==============================] - 2s 3ms/step - loss: 0.3221 - accuracy: 0.8594 - val_loss: 0.3948 - val_accuracy: 0.8241\n",
      "Epoch 4/50\n",
      "625/625 [==============================] - 2s 3ms/step - loss: 0.2873 - accuracy: 0.8755 - val_loss: 0.3988 - val_accuracy: 0.8231\n",
      "Epoch 5/50\n",
      "625/625 [==============================] - 2s 3ms/step - loss: 0.2537 - accuracy: 0.8921 - val_loss: 0.4178 - val_accuracy: 0.8186\n",
      "Epoch 6/50\n",
      "625/625 [==============================] - 2s 3ms/step - loss: 0.2230 - accuracy: 0.9108 - val_loss: 0.4480 - val_accuracy: 0.8183\n",
      "Epoch 7/50\n",
      "625/625 [==============================] - 2s 3ms/step - loss: 0.1900 - accuracy: 0.9240 - val_loss: 0.5053 - val_accuracy: 0.8111\n",
      "Epoch 8/50\n",
      "625/625 [==============================] - 2s 3ms/step - loss: 0.1595 - accuracy: 0.9380 - val_loss: 0.5507 - val_accuracy: 0.8082\n",
      "Epoch 9/50\n",
      "625/625 [==============================] - 2s 3ms/step - loss: 0.1338 - accuracy: 0.9513 - val_loss: 0.5934 - val_accuracy: 0.8101\n",
      "Epoch 10/50\n",
      "625/625 [==============================] - 2s 3ms/step - loss: 0.1111 - accuracy: 0.9593 - val_loss: 0.6633 - val_accuracy: 0.8077\n",
      "Epoch 11/50\n",
      "625/625 [==============================] - 2s 3ms/step - loss: 0.0904 - accuracy: 0.9682 - val_loss: 0.7415 - val_accuracy: 0.8068\n",
      "Epoch 12/50\n",
      "625/625 [==============================] - 2s 3ms/step - loss: 0.0721 - accuracy: 0.9761 - val_loss: 0.8207 - val_accuracy: 0.8004\n",
      "Epoch 13/50\n",
      "625/625 [==============================] - 2s 3ms/step - loss: 0.0632 - accuracy: 0.9779 - val_loss: 0.9428 - val_accuracy: 0.7991\n",
      "Epoch 14/50\n",
      "625/625 [==============================] - 2s 3ms/step - loss: 0.0560 - accuracy: 0.9804 - val_loss: 0.9676 - val_accuracy: 0.7971\n",
      "Epoch 15/50\n",
      "625/625 [==============================] - 2s 3ms/step - loss: 0.0501 - accuracy: 0.9826 - val_loss: 1.0508 - val_accuracy: 0.7959\n",
      "Epoch 16/50\n",
      "625/625 [==============================] - 2s 3ms/step - loss: 0.0455 - accuracy: 0.9840 - val_loss: 1.1691 - val_accuracy: 0.7997\n",
      "Epoch 17/50\n",
      "625/625 [==============================] - 2s 3ms/step - loss: 0.0441 - accuracy: 0.9839 - val_loss: 1.1827 - val_accuracy: 0.7998\n",
      "Epoch 18/50\n",
      "625/625 [==============================] - 2s 3ms/step - loss: 0.0380 - accuracy: 0.9859 - val_loss: 1.2444 - val_accuracy: 0.8027\n",
      "Epoch 19/50\n",
      "625/625 [==============================] - 2s 3ms/step - loss: 0.0374 - accuracy: 0.9863 - val_loss: 1.3389 - val_accuracy: 0.7971\n",
      "Epoch 20/50\n",
      "625/625 [==============================] - 2s 3ms/step - loss: 0.0351 - accuracy: 0.9858 - val_loss: 1.3941 - val_accuracy: 0.7994\n",
      "Epoch 21/50\n",
      "625/625 [==============================] - 2s 3ms/step - loss: 0.0377 - accuracy: 0.9854 - val_loss: 1.4706 - val_accuracy: 0.7986\n",
      "Epoch 22/50\n",
      "625/625 [==============================] - 2s 3ms/step - loss: 0.0362 - accuracy: 0.9860 - val_loss: 1.5009 - val_accuracy: 0.7948\n",
      "Epoch 23/50\n",
      "625/625 [==============================] - 2s 3ms/step - loss: 0.0276 - accuracy: 0.9890 - val_loss: 1.5474 - val_accuracy: 0.7886\n",
      "Epoch 24/50\n",
      "625/625 [==============================] - 2s 3ms/step - loss: 0.0261 - accuracy: 0.9894 - val_loss: 1.6557 - val_accuracy: 0.7903\n",
      "Epoch 25/50\n",
      "625/625 [==============================] - 2s 3ms/step - loss: 0.0281 - accuracy: 0.9884 - val_loss: 1.6857 - val_accuracy: 0.8004\n",
      "Epoch 26/50\n",
      "625/625 [==============================] - 2s 3ms/step - loss: 0.0288 - accuracy: 0.9883 - val_loss: 1.6768 - val_accuracy: 0.7980\n",
      "Epoch 27/50\n",
      "625/625 [==============================] - 2s 3ms/step - loss: 0.0265 - accuracy: 0.9894 - val_loss: 1.7574 - val_accuracy: 0.7977\n",
      "Epoch 28/50\n",
      "625/625 [==============================] - 2s 3ms/step - loss: 0.0275 - accuracy: 0.9885 - val_loss: 1.7909 - val_accuracy: 0.7930\n",
      "Epoch 29/50\n",
      "625/625 [==============================] - 2s 3ms/step - loss: 0.0262 - accuracy: 0.9886 - val_loss: 1.8024 - val_accuracy: 0.7925\n",
      "Epoch 30/50\n",
      "625/625 [==============================] - 2s 3ms/step - loss: 0.0288 - accuracy: 0.9882 - val_loss: 1.8640 - val_accuracy: 0.7918\n",
      "Epoch 31/50\n",
      "625/625 [==============================] - 2s 3ms/step - loss: 0.0283 - accuracy: 0.9882 - val_loss: 1.8665 - val_accuracy: 0.7922\n",
      "Epoch 32/50\n",
      "625/625 [==============================] - 2s 3ms/step - loss: 0.0219 - accuracy: 0.9913 - val_loss: 1.9425 - val_accuracy: 0.7912\n",
      "Epoch 33/50\n",
      "625/625 [==============================] - 2s 3ms/step - loss: 0.0220 - accuracy: 0.9905 - val_loss: 1.9269 - val_accuracy: 0.7907\n",
      "Epoch 34/50\n",
      "625/625 [==============================] - 2s 3ms/step - loss: 0.0230 - accuracy: 0.9904 - val_loss: 2.0503 - val_accuracy: 0.7913\n",
      "Epoch 35/50\n",
      "625/625 [==============================] - 2s 3ms/step - loss: 0.0269 - accuracy: 0.9887 - val_loss: 2.0339 - val_accuracy: 0.7946\n",
      "Epoch 36/50\n",
      "625/625 [==============================] - 2s 3ms/step - loss: 0.0239 - accuracy: 0.9898 - val_loss: 2.1620 - val_accuracy: 0.7915\n",
      "Epoch 37/50\n",
      "625/625 [==============================] - 2s 3ms/step - loss: 0.0247 - accuracy: 0.9892 - val_loss: 2.1454 - val_accuracy: 0.7942\n",
      "Epoch 38/50\n",
      "625/625 [==============================] - 2s 3ms/step - loss: 0.0297 - accuracy: 0.9878 - val_loss: 2.1038 - val_accuracy: 0.7988\n",
      "Epoch 39/50\n",
      "625/625 [==============================] - 2s 3ms/step - loss: 0.0207 - accuracy: 0.9911 - val_loss: 2.1008 - val_accuracy: 0.7971\n",
      "Epoch 40/50\n",
      "625/625 [==============================] - 2s 3ms/step - loss: 0.0184 - accuracy: 0.9921 - val_loss: 2.2016 - val_accuracy: 0.7958\n",
      "Epoch 41/50\n",
      "625/625 [==============================] - 2s 3ms/step - loss: 0.0160 - accuracy: 0.9927 - val_loss: 2.2136 - val_accuracy: 0.7949\n",
      "Epoch 42/50\n",
      "625/625 [==============================] - 2s 3ms/step - loss: 0.0186 - accuracy: 0.9920 - val_loss: 2.2358 - val_accuracy: 0.7909\n",
      "Epoch 43/50\n",
      "625/625 [==============================] - 2s 3ms/step - loss: 0.0264 - accuracy: 0.9888 - val_loss: 2.2481 - val_accuracy: 0.7952\n",
      "Epoch 44/50\n",
      "625/625 [==============================] - 2s 3ms/step - loss: 0.0247 - accuracy: 0.9901 - val_loss: 2.3910 - val_accuracy: 0.7949\n",
      "Epoch 45/50\n",
      "625/625 [==============================] - 2s 3ms/step - loss: 0.0223 - accuracy: 0.9900 - val_loss: 2.3740 - val_accuracy: 0.7973\n",
      "Epoch 46/50\n",
      "625/625 [==============================] - 2s 3ms/step - loss: 0.0201 - accuracy: 0.9908 - val_loss: 2.4104 - val_accuracy: 0.7936\n",
      "Epoch 47/50\n",
      "625/625 [==============================] - 2s 3ms/step - loss: 0.0169 - accuracy: 0.9923 - val_loss: 2.4527 - val_accuracy: 0.7918\n",
      "Epoch 48/50\n",
      "625/625 [==============================] - 2s 3ms/step - loss: 0.0175 - accuracy: 0.9922 - val_loss: 2.6010 - val_accuracy: 0.7982\n",
      "Epoch 49/50\n",
      "625/625 [==============================] - 2s 3ms/step - loss: 0.0217 - accuracy: 0.9901 - val_loss: 2.4559 - val_accuracy: 0.7852\n",
      "Epoch 50/50\n",
      "625/625 [==============================] - 2s 3ms/step - loss: 0.0209 - accuracy: 0.9909 - val_loss: 2.4988 - val_accuracy: 0.7921\n"
     ]
    }
   ],
   "source": [
    "import numpy as np\r\n",
    "\r\n",
    "import json\r\n",
    "import tensorflow as tf\r\n",
    "\r\n",
    "from tensorflow.keras.preprocessing.text import Tokenizer\r\n",
    "from tensorflow.keras.preprocessing.sequence import pad_sequences\r\n",
    "\r\n",
    "\r\n",
    "\r\n",
    "vocab_size = 1000\r\n",
    "embedding_dim = 16\r\n",
    "max_length = 120\r\n",
    "trunc_type='post'\r\n",
    "padding_type='post'\r\n",
    "oov_tok = \"<OOV>\"\r\n",
    "training_size = 20000\r\n",
    "\r\n",
    "\r\n",
    "with open(\"D:\\codebase\\coursera\\dlaicourse\\TensorFlow In Practice\\Course 3 - NLP\\sarcasm.json\", 'r') as f:\r\n",
    "    datastore = json.load(f)\r\n",
    "\r\n",
    "\r\n",
    "sentences = []\r\n",
    "labels = []\r\n",
    "urls = []\r\n",
    "for item in datastore:\r\n",
    "    sentences.append(item['headline'])\r\n",
    "    labels.append(item['is_sarcastic'])\r\n",
    "\r\n",
    "training_sentences = sentences[0:training_size]\r\n",
    "testing_sentences = sentences[training_size:]\r\n",
    "training_labels = labels[0:training_size]\r\n",
    "testing_labels = labels[training_size:]\r\n",
    "\r\n",
    "tokenizer = Tokenizer(num_words=vocab_size, oov_token=oov_tok)\r\n",
    "tokenizer.fit_on_texts(training_sentences)\r\n",
    "\r\n",
    "word_index = tokenizer.word_index\r\n",
    "\r\n",
    "training_sequences = tokenizer.texts_to_sequences(training_sentences)\r\n",
    "training_padded = pad_sequences(training_sequences, maxlen=max_length, padding=padding_type, truncating=trunc_type)\r\n",
    "\r\n",
    "testing_sequences = tokenizer.texts_to_sequences(testing_sentences)\r\n",
    "testing_padded = pad_sequences(testing_sequences, maxlen=max_length, padding=padding_type, truncating=trunc_type)\r\n",
    "\r\n",
    "model = tf.keras.Sequential([\r\n",
    "    tf.keras.layers.Embedding(vocab_size, embedding_dim, input_length=max_length),\r\n",
    "    tf.keras.layers.Conv1D(128, 5, activation='relu'),\r\n",
    "    tf.keras.layers.GlobalMaxPooling1D(),\r\n",
    "    tf.keras.layers.Dense(24, activation='relu'),\r\n",
    "    tf.keras.layers.Dense(1, activation='sigmoid')\r\n",
    "])\r\n",
    "model.compile(loss='binary_crossentropy',optimizer='adam',metrics=['accuracy'])\r\n",
    "model.summary()\r\n",
    "\r\n",
    "num_epochs = 50\r\n",
    "\r\n",
    "training_padded = np.array(training_padded)\r\n",
    "training_labels = np.array(training_labels)\r\n",
    "testing_padded = np.array(testing_padded)\r\n",
    "testing_labels = np.array(testing_labels)\r\n",
    "\r\n",
    "history = model.fit(training_padded, training_labels, epochs=num_epochs, validation_data=(testing_padded, testing_labels), verbose=1)\r\n"
   ]
  },
  {
   "cell_type": "code",
   "execution_count": 17,
   "metadata": {
    "colab": {},
    "colab_type": "code",
    "id": "g9DC6dmLF8DC"
   },
   "outputs": [
    {
     "data": {
      "image/png": "[encoded data removed]",
      "text/plain": [
       "<Figure size 432x288 with 1 Axes>"
      ]
     },
     "metadata": {
      "needs_background": "light"
     },
     "output_type": "display_data"
    },
    {
     "data": {
      "image/png": "[encoded data removed]",
      "text/plain": [
       "<Figure size 432x288 with 1 Axes>"
      ]
     },
     "metadata": {
      "needs_background": "light"
     },
     "output_type": "display_data"
    }
   ],
   "source": [
    "import matplotlib.pyplot as plt\n",
    "\n",
    "\n",
    "def plot_graphs(history, string):\n",
    "  plt.plot(history.history[string])\n",
    "  plt.plot(history.history['val_'+string])\n",
    "  plt.xlabel(\"Epochs\")\n",
    "  plt.ylabel(string)\n",
    "  plt.legend([string, 'val_'+string])\n",
    "  plt.show()\n",
    "\n",
    "plot_graphs(history, 'accuracy')\n",
    "plot_graphs(history, 'loss')"
   ]
  },
  {
   "cell_type": "code",
   "execution_count": null,
   "metadata": {
    "colab": {},
    "colab_type": "code",
    "id": "7ZEZIUppGhdi"
   },
   "outputs": [],
   "source": [
    "model.save(\"test.h5\")"
   ]
  }
 ],
 "metadata": {
  "accelerator": "GPU",
  "colab": {
   "collapsed_sections": [],
   "name": "Course 3 - Week 3 - Lesson 2c.ipynb",
   "provenance": [],
   "toc_visible": true,
   "version": "0.3.2"
  },
  "kernelspec": {
   "display_name": "Python 3",
   "language": "python",
   "name": "python3"
  },
  "language_info": {
   "codemirror_mode": {
    "name": "ipython",
    "version": 3
   },
   "file_extension": ".py",
   "mimetype": "text/x-python",
   "name": "python",
   "nbconvert_exporter": "python",
   "pygments_lexer": "ipython3",
   "version": "3.7.9"
  }
 },
 "nbformat": 4,
 "nbformat_minor": 1
}